{
  "cells": [
    {
      "cell_type": "code",
      "execution_count": 1,
      "metadata": {
        "_cell_guid": "b1076dfc-b9ad-4769-8c92-a6c4dae69d19",
        "_uuid": "8f2839f25d086af736a60e9eeb907d3b93b6e0e5",
        "execution": {
          "iopub.execute_input": "2024-03-20T17:48:30.694401Z",
          "iopub.status.busy": "2024-03-20T17:48:30.6936Z",
          "iopub.status.idle": "2024-03-20T17:48:30.699712Z",
          "shell.execute_reply": "2024-03-20T17:48:30.69876Z",
          "shell.execute_reply.started": "2024-03-20T17:48:30.694373Z"
        },
        "id": "UlBceUjUOCbp",
        "trusted": true
      },
      "outputs": [],
      "source": [
        "import pandas as pd #pip install pandas\n",
        "import matplotlib.pyplot as plt #pip install matplotlib\n",
        "import seaborn as sns #pip install searborn\n",
        "from sklearn.model_selection #pip install sklearn import train_test_split\n",
        "from sklearn.linear_model import LinearRegression\n",
        "from sklearn.metrics import r2_score"
      ]
    },
    {
      "cell_type": "markdown",
      "metadata": {
        "id": "cmpeuf_mOCbr"
      },
      "source": [
        "**Read the dataset.**"
      ]
    },
    {
      "cell_type": "code",
      "execution_count": null,
      "metadata": {
        "execution": {
          "iopub.execute_input": "2024-03-20T17:48:35.409654Z",
          "iopub.status.busy": "2024-03-20T17:48:35.409177Z",
          "iopub.status.idle": "2024-03-20T17:48:35.449591Z",
          "shell.execute_reply": "2024-03-20T17:48:35.448706Z",
          "shell.execute_reply.started": "2024-03-20T17:48:35.409632Z"
        },
        "id": "Sz5avBFgOCbr",
        "trusted": true
      },
      "outputs": [],
      "source": [
        "data = pd.read_csv(r\"abalone.csv\")"
      ]
    },
    {
      "cell_type": "markdown",
      "metadata": {
        "id": "512iNtUHOCbs"
      },
      "source": [
        "**DATA ANALYSIS**"
      ]
    },
    {
      "cell_type": "code",
      "execution_count": null,
      "metadata": {
        "colab": {
          "base_uri": "https://localhost:8080/"
        },
        "execution": {
          "iopub.execute_input": "2024-03-20T17:48:40.773284Z",
          "iopub.status.busy": "2024-03-20T17:48:40.772853Z",
          "iopub.status.idle": "2024-03-20T17:48:40.786343Z",
          "shell.execute_reply": "2024-03-20T17:48:40.78557Z",
          "shell.execute_reply.started": "2024-03-20T17:48:40.773261Z"
        },
        "id": "NnDCJK-YOCbs",
        "outputId": "e85ef24d-ab9d-4bb8-9e67-c3467a9fc0e4",
        "trusted": true
      },
      "outputs": [],
      "source": [
        "print(data.head)"
      ]
    },
    {
      "cell_type": "markdown",
      "metadata": {
        "id": "1XspB-CqOCbs"
      },
      "source": [
        "**Learning columns.**"
      ]
    },
    {
      "cell_type": "code",
      "execution_count": null,
      "metadata": {
        "colab": {
          "base_uri": "https://localhost:8080/"
        },
        "execution": {
          "iopub.execute_input": "2024-03-20T17:48:45.531675Z",
          "iopub.status.busy": "2024-03-20T17:48:45.531345Z",
          "iopub.status.idle": "2024-03-20T17:48:45.537879Z",
          "shell.execute_reply": "2024-03-20T17:48:45.536835Z",
          "shell.execute_reply.started": "2024-03-20T17:48:45.531652Z"
        },
        "id": "DkqSKXkSOCbs",
        "outputId": "907c0107-2313-4091-f69c-8325d18d929b",
        "trusted": true
      },
      "outputs": [],
      "source": [
        "print(data.columns)"
      ]
    },
    {
      "cell_type": "markdown",
      "metadata": {
        "id": "jFwKKKgDOCbs"
      },
      "source": [
        "**Data types of columns.**"
      ]
    },
    {
      "cell_type": "code",
      "execution_count": null,
      "metadata": {
        "colab": {
          "base_uri": "https://localhost:8080/"
        },
        "execution": {
          "iopub.execute_input": "2024-03-20T17:48:50.035542Z",
          "iopub.status.busy": "2024-03-20T17:48:50.035241Z",
          "iopub.status.idle": "2024-03-20T17:48:50.041702Z",
          "shell.execute_reply": "2024-03-20T17:48:50.040716Z",
          "shell.execute_reply.started": "2024-03-20T17:48:50.035521Z"
        },
        "id": "z0fOfs0IOCbs",
        "outputId": "03f8a9b6-21b5-4b14-800c-a24c1e407f66",
        "trusted": true
      },
      "outputs": [],
      "source": [
        "print(data.dtypes)"
      ]
    },
    {
      "cell_type": "markdown",
      "metadata": {
        "id": "3JtfhC_vOCbt"
      },
      "source": [
        "**Learning the size of the dataset.**"
      ]
    },
    {
      "cell_type": "code",
      "execution_count": null,
      "metadata": {
        "colab": {
          "base_uri": "https://localhost:8080/"
        },
        "execution": {
          "iopub.execute_input": "2024-03-20T17:48:54.185815Z",
          "iopub.status.busy": "2024-03-20T17:48:54.184868Z",
          "iopub.status.idle": "2024-03-20T17:48:54.190294Z",
          "shell.execute_reply": "2024-03-20T17:48:54.189363Z",
          "shell.execute_reply.started": "2024-03-20T17:48:54.185787Z"
        },
        "id": "8qMVMM7XOCbt",
        "outputId": "cd2d96d8-b712-48fa-98bb-1ae4b712e485",
        "trusted": true
      },
      "outputs": [],
      "source": [
        "print(data.shape)"
      ]
    },
    {
      "cell_type": "markdown",
      "metadata": {
        "id": "fTIScbrKOCbt"
      },
      "source": [
        "**Check for missing values.**"
      ]
    },
    {
      "cell_type": "code",
      "execution_count": null,
      "metadata": {
        "colab": {
          "base_uri": "https://localhost:8080/"
        },
        "execution": {
          "iopub.execute_input": "2024-03-20T17:48:57.612356Z",
          "iopub.status.busy": "2024-03-20T17:48:57.612042Z",
          "iopub.status.idle": "2024-03-20T17:48:57.621489Z",
          "shell.execute_reply": "2024-03-20T17:48:57.620105Z",
          "shell.execute_reply.started": "2024-03-20T17:48:57.612332Z"
        },
        "id": "0kMtFH2vOCbu",
        "outputId": "72622aa4-5377-471e-f68c-1b0978327841",
        "trusted": true
      },
      "outputs": [],
      "source": [
        "print(data.isnull().sum())"
      ]
    },
    {
      "cell_type": "markdown",
      "metadata": {
        "id": "KZCI5ssROCbu"
      },
      "source": [
        "**Summary statistics.**"
      ]
    },
    {
      "cell_type": "code",
      "execution_count": null,
      "metadata": {
        "colab": {
          "base_uri": "https://localhost:8080/"
        },
        "execution": {
          "iopub.execute_input": "2024-03-20T17:49:02.983787Z",
          "iopub.status.busy": "2024-03-20T17:49:02.983489Z",
          "iopub.status.idle": "2024-03-20T17:49:02.995134Z",
          "shell.execute_reply": "2024-03-20T17:49:02.994279Z",
          "shell.execute_reply.started": "2024-03-20T17:49:02.983767Z"
        },
        "id": "sMOqFhX6OCbv",
        "outputId": "d4687b8f-1d63-4e27-efc8-1dbceb56c5ab",
        "trusted": true
      },
      "outputs": [],
      "source": [
        "print(data.describe)"
      ]
    },
    {
      "cell_type": "code",
      "execution_count": null,
      "metadata": {
        "colab": {
          "base_uri": "https://localhost:8080/"
        },
        "execution": {
          "iopub.execute_input": "2024-03-20T17:49:11.101387Z",
          "iopub.status.busy": "2024-03-20T17:49:11.101058Z",
          "iopub.status.idle": "2024-03-20T17:49:11.109521Z",
          "shell.execute_reply": "2024-03-20T17:49:11.108612Z",
          "shell.execute_reply.started": "2024-03-20T17:49:11.101365Z"
        },
        "id": "Fq1tWnUNOCbv",
        "outputId": "f3a01bcc-0201-4624-d544-327502ad6d6a",
        "trusted": true
      },
      "outputs": [],
      "source": [
        "from sklearn.preprocessing import LabelEncoder\n",
        "\n",
        "# Assuming your dataframe is named 'data' and the column containing \"M\" and \"F\" is named 'gender'\n",
        "label_encoder = LabelEncoder()\n",
        "data['Sex'] = label_encoder.fit_transform(data['Sex'])"
      ]
    },
    {
      "cell_type": "code",
      "execution_count": null,
      "metadata": {},
      "outputs": [],
      "source": [
        "data.head(5)"
      ]
    },
    {
      "cell_type": "code",
      "execution_count": null,
      "metadata": {},
      "outputs": [],
      "source": [
        "print(data.dtypes)"
      ]
    },
    {
      "cell_type": "markdown",
      "metadata": {
        "id": "PN86t6mzOCbv"
      },
      "source": [
        "*DATA VISUALIZATION*"
      ]
    },
    {
      "cell_type": "code",
      "execution_count": null,
      "metadata": {
        "colab": {
          "base_uri": "https://localhost:8080/",
          "height": 645
        },
        "execution": {
          "iopub.execute_input": "2024-03-20T17:49:16.217814Z",
          "iopub.status.busy": "2024-03-20T17:49:16.217534Z",
          "iopub.status.idle": "2024-03-20T17:49:18.445034Z",
          "shell.execute_reply": "2024-03-20T17:49:18.444161Z",
          "shell.execute_reply.started": "2024-03-20T17:49:16.217793Z"
        },
        "id": "WyDiY1zdOCbw",
        "outputId": "53312bf1-172f-4567-fd75-738f030c79c1",
        "trusted": true
      },
      "outputs": [],
      "source": [
        "data.hist(figsize=(15, 8),bins = 50)"
      ]
    },
    {
      "cell_type": "code",
      "execution_count": null,
      "metadata": {},
      "outputs": [],
      "source": [
        "import seaborn as sns\n",
        "\n",
        "# Calculate the correlation matrix\n",
        "corr = data.corr()\n",
        "\n",
        "# Create a heatmap\n",
        "plt.figure(figsize=(10, 8))\n",
        "sns.heatmap(corr, annot=True, cmap='coolwarm', fmt=\".2f\", linewidths=0.5)\n",
        "plt.title('Correlation Heatmap of Abalone Dataset')\n",
        "plt.show()\n"
      ]
    },
    {
      "cell_type": "code",
      "execution_count": null,
      "metadata": {
        "colab": {
          "base_uri": "https://localhost:8080/",
          "height": 692
        },
        "execution": {
          "iopub.execute_input": "2024-03-20T17:51:20.209919Z",
          "iopub.status.busy": "2024-03-20T17:51:20.20947Z",
          "iopub.status.idle": "2024-03-20T17:51:20.354074Z",
          "shell.execute_reply": "2024-03-20T17:51:20.353389Z",
          "shell.execute_reply.started": "2024-03-20T17:51:20.209896Z"
        },
        "id": "dtM4J6_cOCbw",
        "outputId": "7c4e7368-c085-4701-a2ce-1c005c073cd7",
        "trusted": true
      },
      "outputs": [],
      "source": [
        "sex_distribution = data[\"Sex\"].value_counts()\n",
        "sex_distribution.plot(kind=\"pie\", figsize=(8, 8), title=\"Distribution of Abalone Sex\", autopct=\"%.1f%%\")\n"
      ]
    },
    {
      "cell_type": "markdown",
      "metadata": {
        "id": "EpLaV-asOCby"
      },
      "source": [
        "**SIMPLE LINEAR REGRESSION**"
      ]
    },
    {
      "cell_type": "code",
      "execution_count": null,
      "metadata": {
        "execution": {
          "iopub.execute_input": "2024-03-20T17:56:51.502297Z",
          "iopub.status.busy": "2024-03-20T17:56:51.501382Z",
          "iopub.status.idle": "2024-03-20T17:56:51.513767Z",
          "shell.execute_reply": "2024-03-20T17:56:51.512743Z",
          "shell.execute_reply.started": "2024-03-20T17:56:51.502257Z"
        },
        "id": "OkjIAka7OCby",
        "trusted": true
      },
      "outputs": [],
      "source": [
        "# Assuming X and y are correctly loaded from the Abalone dataset\n",
        "# X should contain the single feature, and y should contain the target variable\n",
        "\n",
        "X = data[['Length','Diameter','Height','Whole weight','Shucked weight','Shell weight', 'Viscera weight','Sex']]  # Using 'Length' as the independent variable\n",
        "y = data['Rings']     # Assuming 'Rings' is the column containing the number of rings\n",
        "\n",
        "# Splitting the data into training and testing sets\n",
        "X_train, X_test, y_train, y_test = train_test_split(X, y, test_size=0.2, random_state=42)\n",
        "\n",
        "# Fitting the linear regression model\n",
        "model = LinearRegression()\n",
        "model.fit(X_train, y_train)\n",
        "\n",
        "# Making predictions\n",
        "y_pred = model.predict(X_test)\n"
      ]
    },
    {
      "cell_type": "markdown",
      "metadata": {
        "id": "l4m4RxqwOCby"
      },
      "source": [
        "**SUCCESS RATE OF THE SIMPLE LINEAR REGRESSION MODEL**"
      ]
    },
    {
      "cell_type": "code",
      "execution_count": null,
      "metadata": {
        "colab": {
          "base_uri": "https://localhost:8080/"
        },
        "execution": {
          "iopub.execute_input": "2024-03-20T17:56:55.169064Z",
          "iopub.status.busy": "2024-03-20T17:56:55.168737Z",
          "iopub.status.idle": "2024-03-20T17:56:55.175763Z",
          "shell.execute_reply": "2024-03-20T17:56:55.174873Z",
          "shell.execute_reply.started": "2024-03-20T17:56:55.169039Z"
        },
        "id": "3wG3vwooOCby",
        "outputId": "b9a99c11-c273-46fe-bd2e-f438231dbb04",
        "trusted": true
      },
      "outputs": [],
      "source": [
        "print(\"R2 Score: \", r2_score(y_test, y_pred)*100)\n",
        "\n"
      ]
    },
    {
      "cell_type": "code",
      "execution_count": null,
      "metadata": {},
      "outputs": [],
      "source": [
        "from sklearn.metrics import mean_squared_error, r2_score\n",
        "import numpy as np\n",
        "from sklearn.metrics import accuracy_score\n",
        "# Calculate Mean Squared Error (MSE)\n",
        "mse = mean_squared_error(y_test, y_pred)\n",
        "accuracy = accuracy_score(y_test, y_pred)\n",
        "print(\"Accuracy:\", accuracy)\n",
        "\n",
        "# Calculate Root Mean Squared Error (RMSE)\n",
        "rmse = np.sqrt(mse)\n",
        "\n",
        "# Calculate R-squared (R2)\n",
        "r2 = r2_score(y_test, y_pred)\n",
        "\n",
        "print(\"Mean Squared Error (MSE):\", mse)\n",
        "print(\"Root Mean Squared Error (RMSE):\", rmse)\n",
        "print(\"R-squared (R2):\", r2)\n"
      ]
    }
  ],
  "metadata": {
    "colab": {
      "provenance": []
    },
    "kaggle": {
      "accelerator": "none",
      "dataSources": [
        {
          "datasetId": 5227,
          "sourceId": 7876,
          "sourceType": "datasetVersion"
        }
      ],
      "dockerImageVersionId": 30664,
      "isGpuEnabled": false,
      "isInternetEnabled": true,
      "language": "python",
      "sourceType": "notebook"
    },
    "kernelspec": {
      "display_name": "Python 3",
      "language": "python",
      "name": "python3"
    },
    "language_info": {
      "codemirror_mode": {
        "name": "ipython",
        "version": 3
      },
      "file_extension": ".py",
      "mimetype": "text/x-python",
      "name": "python",
      "nbconvert_exporter": "python",
      "pygments_lexer": "ipython3",
      "version": "3.11.2"
    }
  },
  "nbformat": 4,
  "nbformat_minor": 0
}
