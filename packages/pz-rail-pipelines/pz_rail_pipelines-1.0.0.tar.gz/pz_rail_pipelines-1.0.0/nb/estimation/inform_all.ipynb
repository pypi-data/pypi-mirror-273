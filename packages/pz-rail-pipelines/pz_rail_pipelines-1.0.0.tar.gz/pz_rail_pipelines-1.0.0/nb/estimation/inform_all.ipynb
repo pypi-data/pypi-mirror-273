{
 "cells": [
  {
   "cell_type": "code",
   "execution_count": null,
   "id": "f9463120",
   "metadata": {
    "tags": []
   },
   "outputs": [],
   "source": [
    "# usual imports\n",
    "import os\n",
    "import numpy as np\n",
    "from rail.utils.path_utils import RAILDIR\n",
    "from rail.bpz.utils import RAIL_BPZ_DIR\n",
    "from rail.pipelines.estimation.inform_all import InformPipeline\n",
    "from rail.core import common_params"
   ]
  },
  {
   "cell_type": "code",
   "execution_count": null,
   "id": "af068b1e-a1a7-4268-af32-4d1d9a0627a2",
   "metadata": {
    "tags": []
   },
   "outputs": [],
   "source": [
    "data_origin = 'dc2'"
   ]
  },
  {
   "cell_type": "markdown",
   "id": "2c496dfb-a0c7-4fa6-b492-e391c5a52d0a",
   "metadata": {
    "tags": []
   },
   "source": [
    "### Define the bands, magnitude limits, and put them into a dictionary"
   ]
  },
  {
   "cell_type": "code",
   "execution_count": null,
   "id": "849018d3-1424-45f4-b39a-80cf63780463",
   "metadata": {
    "tags": []
   },
   "outputs": [],
   "source": [
    "if data_origin == 'hsc':\n",
    "    bands = 'grizy'\n",
    "    maglims = [27.66, 27.25, 26.6, 26.24, 25.35]\n",
    "    maglim_dict={}\n",
    "    for band,limx in zip(bands, maglims):\n",
    "        maglim_dict[f\"HSC{band}_cmodel_dered\"] = limx\n",
    "if data_origin == 'dc2':\n",
    "    bands = 'ugrizy'\n",
    "    maglims = [24., 27.66, 27.25, 26.6, 26.24, 25.35]\n",
    "    maglim_dict={}\n",
    "    for band,limx in zip(bands, maglims):\n",
    "        maglim_dict[f\"mag_{band}_lsst\"] = limx"
   ]
  },
  {
   "cell_type": "markdown",
   "id": "d825d608-b14a-49a3-b371-9c453a15f662",
   "metadata": {},
   "source": [
    "### Setting common parameters to all the stages in the estimation"
   ]
  },
  {
   "cell_type": "code",
   "execution_count": null,
   "id": "d1af8233-f2eb-4f71-83f9-f009d8dbde2a",
   "metadata": {
    "tags": []
   },
   "outputs": [],
   "source": [
    "if data_origin == 'hsc':\n",
    "    common_params.set_param_defaults(\n",
    "        bands=[f'HSC{band}_cmodel_dered' for band in bands], # specify HSC bands\n",
    "        err_bands=[f'{band}_cmodel_magerr' for band in bands], # specify HSC uncertainty bands\n",
    "        nondetect_val=np.nan,\n",
    "        ref_band='HSCi_cmodel_dered',\n",
    "        redshift_col='specz_redshift',\n",
    "        mag_limits=maglim_dict,\n",
    "        zmax=6.0, # set zmax to 6 for HSC\n",
    "    )\n",
    "if data_origin == 'dc2':\n",
    "    common_params.set_param_defaults(\n",
    "        bands=[f'mag_{band}_lsst' for band in bands],\n",
    "        err_bands=[f'mag_err_{band}_lsst' for band in bands],\n",
    "        nondetect_val=np.nan,\n",
    "        ref_band='mag_i_lsst',\n",
    "        redshift_col='true_redshift',\n",
    "        mag_limits=maglim_dict,\n",
    "    )"
   ]
  },
  {
   "cell_type": "markdown",
   "id": "090457b4-392c-440d-9d73-323d7445669e",
   "metadata": {},
   "source": [
    "### Set up the estimate pipeline"
   ]
  },
  {
   "cell_type": "code",
   "execution_count": null,
   "id": "36ab51b1",
   "metadata": {
    "tags": []
   },
   "outputs": [],
   "source": [
    "pipe = InformPipeline()"
   ]
  },
  {
   "cell_type": "code",
   "execution_count": null,
   "id": "013132ee",
   "metadata": {
    "tags": []
   },
   "outputs": [],
   "source": [
    "dir(pipe)"
   ]
  },
  {
   "cell_type": "code",
   "execution_count": null,
   "id": "5db54bb4-8f17-4d90-b1ac-319156f2f396",
   "metadata": {},
   "outputs": [],
   "source": [
    "pipe.inform_knn.config.update(leaf_size=14)"
   ]
  },
  {
   "cell_type": "code",
   "execution_count": null,
   "id": "4b072ac6-bf56-44fe-8846-8acf2862afa2",
   "metadata": {},
   "outputs": [],
   "source": [
    "pipe.inform_knn.config"
   ]
  },
  {
   "cell_type": "markdown",
   "id": "30c24a96-01d9-4552-986b-b1bc4e8e15d7",
   "metadata": {},
   "source": [
    "### Specify input model for each stages, and the spec_input file (same as the input_file)"
   ]
  },
  {
   "cell_type": "code",
   "execution_count": null,
   "id": "430426d8-36ab-460f-a56c-0a8603bb0d32",
   "metadata": {},
   "outputs": [],
   "source": [
    "if data_origin == 'hsc':\n",
    "    data_dir = '/global/cfs/cdirs/lsst/groups/PZ/HSCDATA/SPECTROSCOPY'\n",
    "if data_origin == 'dc2':\n",
    "    data_dir = '/global/cfs/cdirs/lsst/groups/PZ/PhotoZDC2/run2.2i_dr6_v2/'"
   ]
  },
  {
   "cell_type": "code",
   "execution_count": null,
   "id": "7d6dbb46-6e74-4854-b2a4-61e168ef05eb",
   "metadata": {
    "tags": []
   },
   "outputs": [],
   "source": [
    "if data_origin == 'hsc':\n",
    "    photo_input_file = os.path.join(data_dir,'dered_223501_sz_match_pdr3_dud_NONDET.hdf5')\n",
    "    spec_input_file = photo_input_file\n",
    "if data_origin == 'dc2':\n",
    "    photo_input_file = so.path.join(data_dir,\"Run2.2i_dr6_dereddened_tract_4852.hdf5\")\n",
    "    spec_input_file = os.path.join(data_dir,\"Run2.2i_dr6_dereddened_tract_4437_test_bright.hdf5\")\n",
    "\n",
    "input_dict = dict(\n",
    "    input=spec_input_file,\n",
    ")"
   ]
  },
  {
   "cell_type": "code",
   "execution_count": null,
   "id": "a739d86b-e795-4cf7-885a-02b06c52bb95",
   "metadata": {
    "tags": []
   },
   "outputs": [],
   "source": [
    "input_dict"
   ]
  },
  {
   "cell_type": "code",
   "execution_count": null,
   "id": "088b42d7",
   "metadata": {},
   "outputs": [],
   "source": [
    "pipe_info = pipe.initialize(input_dict, dict(output_dir=data_origin, log_dir='.', resume=True), None)"
   ]
  },
  {
   "cell_type": "code",
   "execution_count": null,
   "id": "97ef5502-f44b-48bc-b78c-65832ca0e1f3",
   "metadata": {
    "tags": []
   },
   "outputs": [],
   "source": [
    "pipe.print_stages()"
   ]
  },
  {
   "cell_type": "code",
   "execution_count": null,
   "id": "0d53f594-047f-4cf9-aa7d-32f5494c95d2",
   "metadata": {
    "tags": []
   },
   "outputs": [],
   "source": [
    "if data_origin == 'dc2':\n",
    "    for stage in pipe.stages:\n",
    "        stage.config.update(hdf5_groupname = \"photometry\")"
   ]
  },
  {
   "cell_type": "code",
   "execution_count": null,
   "id": "298e80fa",
   "metadata": {},
   "outputs": [],
   "source": [
    "pipe.save('inform_all.yml')"
   ]
  },
  {
   "cell_type": "markdown",
   "id": "d6013957-1ece-47c0-a93e-b397d40f7b50",
   "metadata": {},
   "source": [
    "[For NERSC users!]\n",
    "\n",
    "This won't work on jupyter.nersc.gov, for a test run, you need to\n",
    "\n",
    "Add \"name: local\" to the \"site\" section in the 'inform_all.yml'\n",
    "ssh into perlmutter.nersc.gov, set up the rail environment, and run \"ceci estimate_all.yml\""
   ]
  },
  {
   "cell_type": "code",
   "execution_count": null,
   "id": "97dd95f0",
   "metadata": {},
   "outputs": [],
   "source": [
    "import ceci\n",
    "pr = ceci.Pipeline.read('inform_all.yml')"
   ]
  },
  {
   "cell_type": "code",
   "execution_count": null,
   "id": "d8a21466",
   "metadata": {},
   "outputs": [],
   "source": [
    "pr.run()"
   ]
  },
  {
   "cell_type": "code",
   "execution_count": null,
   "id": "e4dab658",
   "metadata": {},
   "outputs": [],
   "source": [
    "# curl -O https://portal.nersc.gov/cfs/lsst/PZ/dered_223501_sz_match_pdr3_dud_NONDET.hdf5"
   ]
  },
  {
   "cell_type": "code",
   "execution_count": null,
   "id": "8f65a4fb",
   "metadata": {
    "tags": []
   },
   "outputs": [],
   "source": [
    "# OMP_NUM_THREADS=1   python3 -m ceci rail.estimation.algos.flexzboost.FlexZBoostInformer   --input=dered_223501_sz_match_pdr3_dud_NONDET.hdf5   --name=inform_fzboost   --config=tmp_inform_all_config.yml   --model=./model/estimator/model_FZBoost.hdf5\n",
    "\n",
    "\n",
    "\n"
   ]
  }
 ],
 "metadata": {
  "kernelspec": {
   "display_name": "rail",
   "language": "python",
   "name": "rail"
  },
  "language_info": {
   "codemirror_mode": {
    "name": "ipython",
    "version": 3
   },
   "file_extension": ".py",
   "mimetype": "text/x-python",
   "name": "python",
   "nbconvert_exporter": "python",
   "pygments_lexer": "ipython3",
   "version": "3.11.4"
  }
 },
 "nbformat": 4,
 "nbformat_minor": 5
}
