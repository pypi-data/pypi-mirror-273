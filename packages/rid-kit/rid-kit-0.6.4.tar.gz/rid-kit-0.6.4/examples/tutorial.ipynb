{
 "cells": [
  {
   "cell_type": "markdown",
   "metadata": {},
   "source": [
    "# Tutorial\n",
    "\n",
    "In this tutorial, we will learn how to deploy `RiD-kit` with `dflow` and `kubenete` and run a simple case of alanine dipeptide.\n"
   ]
  },
  {
   "cell_type": "markdown",
   "metadata": {},
   "source": [
    "## Installation of `dflow` and `rid-kit`\n",
    "With the power of `dflow`, users can easily minitor the whole workflow of RiD tasks and dispatch their tasks to various computational resources. Before you use it, you should have `dflow` installed on your host computer (your PC or a remote server). \n",
    "\n",
    "It it necessary to emphasize that, the computational nodes and monitor nodes are seperated. With `dflow`, you can deploy `dflow` and `rid` on your PC and achieve expensive computation on other resources (like `Slurm` and Cloud Platform) without any further effort.\n",
    "\n",
    "Instructions of `dflow` installation are peovided in detail on its [Github page](https://github.com/deepmodeling/dflow#Installdflow). Prerequisites of `dflow` usage are `Docker` and `Kubenete`, where their main pages ([Docker](https://docs.docker.com/engine/install/) & [Kubenete](https://kubernetes.io/docs/tasks/tools/)) include how you can install them. Besides, `dflow` repo also provides with easy-install shell scripts on [dflow/scripts](https://github.com/deepmodeling/dflow/tree/master/scripts) to install `Docker` & `Kubenete` & `dflow` and make port-forwarding."
   ]
  },
  {
   "cell_type": "markdown",
   "metadata": {},
   "source": [
    "Here, we try to use the easy scripts provided by `dflow` to install these dependencies. Download scripts at [dflow/scripts](https://github.com/deepmodeling/dflow/tree/master/scripts) and run  **with the privileges of the User**:\n",
    "\n",
    "\n",
    "> **Note:**\n",
    "> \n",
    "> Don't try to run `minikube` with root privileges, otherwise an error may occur:\n",
    "> \n",
    "> `Exiting due to DRV_AS_ROOT: The \"docker\" driver should not be used with root privileges.`"
   ]
  },
  {
   "cell_type": "code",
   "execution_count": 1,
   "metadata": {},
   "outputs": [
    {
     "name": "stdout",
     "output_type": "stream",
     "text": [
      "[INFO] Found docker executable at /usr/bin/docker\n",
      "[INFO] Found minikube binary at /usr/local/bin/minikube\n",
      "[INFO] Minikube has been started\n",
      "--2022-08-05 21:05:16--  https://raw.githubusercontent.com/deepmodeling/dflow/master/manifests/quick-start-postgres-stable-cn.yaml\n",
      "Resolving raw.githubusercontent.com (raw.githubusercontent.com)... 185.199.111.133, 185.199.110.133, 185.199.108.133, ...\n",
      "Connecting to raw.githubusercontent.com (raw.githubusercontent.com)|185.199.111.133|:443... ^C\n"
     ]
    }
   ],
   "source": [
    "# for users in China, please use `-cn.sh` version to accelerate the installation process.\n",
    "! chmod 755 install-linux-cn.sh\n",
    "! ./install-linux-cn.sh"
   ]
  },
  {
   "cell_type": "markdown",
   "metadata": {},
   "source": [
    "Otherwise, you can run `pip install pydflow` and follow its instructions manually.\n",
    "\n",
    "A further step to  configure `argo` service is to run:"
   ]
  },
  {
   "cell_type": "code",
   "execution_count": null,
   "metadata": {},
   "outputs": [],
   "source": [
    "! kubectl create ns argo\n",
    "! kubectl apply -n argo -f https://raw.githubusercontent.com/deepmodeling/dflow/master/manifests/quick-start-postgres.yaml"
   ]
  },
  {
   "cell_type": "markdown",
   "metadata": {},
   "source": [
    "Now you should have installed `Docker` and `minikube` properly. Run commands to check their status. For `minikube`, you should wait util all servers keep `running`. This may take a couple of minutes."
   ]
  },
  {
   "cell_type": "code",
   "execution_count": 1,
   "metadata": {},
   "outputs": [
    {
     "name": "stdout",
     "output_type": "stream",
     "text": [
      "minikube\n",
      "type: Control Plane\n",
      "host: Running\n",
      "kubelet: Running\n",
      "apiserver: Running\n",
      "kubeconfig: Configured\n",
      "\n"
     ]
    }
   ],
   "source": [
    "! minikube status"
   ]
  },
  {
   "cell_type": "markdown",
   "metadata": {},
   "source": [
    "### Installation of RiD-kit\n",
    "\n",
    "Now we install `rid-kit` on the host machine. To meet the minimum requirments, the prerequisites of third-party python package should be installed:\n",
    "\n",
    "* tensorflow-cpu or gpu\n",
    "* mdtraj\n",
    "* numpy \n",
    "* scikit-learn\n",
    "\n",
    "which are also listed in `rid-kit/requirements.txt`. Then change directory to `rid-kit` repo and run:"
   ]
  },
  {
   "cell_type": "code",
   "execution_count": 9,
   "metadata": {},
   "outputs": [
    {
     "name": "stdout",
     "output_type": "stream",
     "text": [
      "Looking in indexes: https://pypi.tuna.tsinghua.edu.cn/simple\n",
      "Processing /mnt/vepfs/yanze/dflow_project/rid-kit\n",
      "  Preparing metadata (setup.py) ... \u001b[?25ldone\n",
      "\u001b[?25hRequirement already satisfied: numpy in /home/yanze/miniconda3/lib/python3.9/site-packages (from rid==1.1.dev195+gb743cd0) (1.19.5)\n",
      "Requirement already satisfied: scikit-learn in /home/yanze/miniconda3/lib/python3.9/site-packages (from rid==1.1.dev195+gb743cd0) (1.1.1)\n",
      "Requirement already satisfied: pydflow in /home/yanze/miniconda3/lib/python3.9/site-packages (from rid==1.1.dev195+gb743cd0) (1.2.1)\n",
      "Requirement already satisfied: tensorflow in /home/yanze/miniconda3/lib/python3.9/site-packages (from rid==1.1.dev195+gb743cd0) (2.4.1)\n",
      "Requirement already satisfied: google in /home/yanze/miniconda3/lib/python3.9/site-packages/google-3.0.0-py3.9.egg (from rid==1.1.dev195+gb743cd0) (3.0.0)\n",
      "Requirement already satisfied: mdtraj in /home/yanze/miniconda3/lib/python3.9/site-packages (from rid==1.1.dev195+gb743cd0) (1.9.7)\n",
      "Requirement already satisfied: beautifulsoup4 in /home/yanze/miniconda3/lib/python3.9/site-packages (from google->rid==1.1.dev195+gb743cd0) (4.11.1)\n",
      "Requirement already satisfied: astunparse in /home/yanze/miniconda3/lib/python3.9/site-packages (from mdtraj->rid==1.1.dev195+gb743cd0) (1.6.3)\n",
      "Requirement already satisfied: scipy in /home/yanze/miniconda3/lib/python3.9/site-packages (from mdtraj->rid==1.1.dev195+gb743cd0) (1.8.1)\n",
      "Requirement already satisfied: pyparsing in /home/yanze/miniconda3/lib/python3.9/site-packages (from mdtraj->rid==1.1.dev195+gb743cd0) (3.0.9)\n",
      "Requirement already satisfied: pyyaml in /home/yanze/miniconda3/lib/python3.9/site-packages (from pydflow->rid==1.1.dev195+gb743cd0) (6.0)\n",
      "Requirement already satisfied: python-dateutil in /home/yanze/miniconda3/lib/python3.9/site-packages (from pydflow->rid==1.1.dev195+gb743cd0) (2.8.2)\n",
      "Requirement already satisfied: certifi in /home/yanze/miniconda3/lib/python3.9/site-packages (from pydflow->rid==1.1.dev195+gb743cd0) (2022.6.15)\n",
      "Requirement already satisfied: argo-workflows==5.0.0 in /home/yanze/miniconda3/lib/python3.9/site-packages (from pydflow->rid==1.1.dev195+gb743cd0) (5.0.0)\n",
      "Requirement already satisfied: six in /home/yanze/miniconda3/lib/python3.9/site-packages (from pydflow->rid==1.1.dev195+gb743cd0) (1.15.0)\n",
      "Requirement already satisfied: typeguard in /home/yanze/miniconda3/lib/python3.9/site-packages (from pydflow->rid==1.1.dev195+gb743cd0) (2.13.3)\n",
      "Requirement already satisfied: urllib3 in /home/yanze/miniconda3/lib/python3.9/site-packages (from pydflow->rid==1.1.dev195+gb743cd0) (1.26.7)\n",
      "Requirement already satisfied: kubernetes in /home/yanze/miniconda3/lib/python3.9/site-packages (from pydflow->rid==1.1.dev195+gb743cd0) (24.2.0)\n",
      "Requirement already satisfied: cloudpickle in /home/yanze/miniconda3/lib/python3.9/site-packages (from pydflow->rid==1.1.dev195+gb743cd0) (2.1.0)\n",
      "Requirement already satisfied: jsonpickle in /home/yanze/miniconda3/lib/python3.9/site-packages (from pydflow->rid==1.1.dev195+gb743cd0) (2.2.0)\n",
      "Requirement already satisfied: minio in /home/yanze/miniconda3/lib/python3.9/site-packages (from pydflow->rid==1.1.dev195+gb743cd0) (7.1.9)\n",
      "Requirement already satisfied: threadpoolctl>=2.0.0 in /home/yanze/miniconda3/lib/python3.9/site-packages (from scikit-learn->rid==1.1.dev195+gb743cd0) (3.1.0)\n",
      "Requirement already satisfied: joblib>=1.0.0 in /home/yanze/miniconda3/lib/python3.9/site-packages (from scikit-learn->rid==1.1.dev195+gb743cd0) (1.1.0)\n",
      "Requirement already satisfied: termcolor~=1.1.0 in /home/yanze/miniconda3/lib/python3.9/site-packages (from tensorflow->rid==1.1.dev195+gb743cd0) (1.1.0)\n",
      "Requirement already satisfied: h5py~=2.10.0 in /home/yanze/miniconda3/lib/python3.9/site-packages (from tensorflow->rid==1.1.dev195+gb743cd0) (2.10.0)\n",
      "Requirement already satisfied: grpcio~=1.32.0 in /home/yanze/miniconda3/lib/python3.9/site-packages (from tensorflow->rid==1.1.dev195+gb743cd0) (1.32.0)\n",
      "Requirement already satisfied: protobuf>=3.9.2 in /home/yanze/miniconda3/lib/python3.9/site-packages (from tensorflow->rid==1.1.dev195+gb743cd0) (3.19.4)\n",
      "Requirement already satisfied: tensorflow-estimator<2.5.0,>=2.4.0 in /home/yanze/miniconda3/lib/python3.9/site-packages (from tensorflow->rid==1.1.dev195+gb743cd0) (2.4.0)\n",
      "Requirement already satisfied: opt-einsum~=3.3.0 in /home/yanze/miniconda3/lib/python3.9/site-packages (from tensorflow->rid==1.1.dev195+gb743cd0) (3.3.0)\n",
      "Requirement already satisfied: wrapt~=1.12.1 in /home/yanze/miniconda3/lib/python3.9/site-packages (from tensorflow->rid==1.1.dev195+gb743cd0) (1.12.1)\n",
      "Requirement already satisfied: typing-extensions~=3.7.4 in /home/yanze/miniconda3/lib/python3.9/site-packages (from tensorflow->rid==1.1.dev195+gb743cd0) (3.7.4.3)\n",
      "Requirement already satisfied: wheel~=0.35 in /home/yanze/miniconda3/lib/python3.9/site-packages (from tensorflow->rid==1.1.dev195+gb743cd0) (0.37.1)\n",
      "Requirement already satisfied: keras-preprocessing~=1.1.2 in /home/yanze/miniconda3/lib/python3.9/site-packages (from tensorflow->rid==1.1.dev195+gb743cd0) (1.1.2)\n",
      "Requirement already satisfied: absl-py~=0.10 in /home/yanze/miniconda3/lib/python3.9/site-packages (from tensorflow->rid==1.1.dev195+gb743cd0) (0.15.0)\n",
      "Requirement already satisfied: gast==0.3.3 in /home/yanze/miniconda3/lib/python3.9/site-packages (from tensorflow->rid==1.1.dev195+gb743cd0) (0.3.3)\n",
      "Requirement already satisfied: tensorboard~=2.4 in /home/yanze/miniconda3/lib/python3.9/site-packages (from tensorflow->rid==1.1.dev195+gb743cd0) (2.6.0)\n",
      "Requirement already satisfied: google-pasta~=0.2 in /home/yanze/miniconda3/lib/python3.9/site-packages (from tensorflow->rid==1.1.dev195+gb743cd0) (0.2.0)\n",
      "Requirement already satisfied: flatbuffers~=1.12.0 in /home/yanze/miniconda3/lib/python3.9/site-packages (from tensorflow->rid==1.1.dev195+gb743cd0) (1.12)\n",
      "Requirement already satisfied: markdown>=2.6.8 in /home/yanze/miniconda3/lib/python3.9/site-packages (from tensorboard~=2.4->tensorflow->rid==1.1.dev195+gb743cd0) (3.3.7)\n",
      "Requirement already satisfied: werkzeug>=0.11.15 in /home/yanze/miniconda3/lib/python3.9/site-packages (from tensorboard~=2.4->tensorflow->rid==1.1.dev195+gb743cd0) (2.1.2)\n",
      "Requirement already satisfied: tensorboard-plugin-wit>=1.6.0 in /home/yanze/miniconda3/lib/python3.9/site-packages (from tensorboard~=2.4->tensorflow->rid==1.1.dev195+gb743cd0) (1.8.1)\n",
      "Requirement already satisfied: requests<3,>=2.21.0 in /home/yanze/miniconda3/lib/python3.9/site-packages (from tensorboard~=2.4->tensorflow->rid==1.1.dev195+gb743cd0) (2.27.1)\n",
      "Requirement already satisfied: tensorboard-data-server<0.7.0,>=0.6.0 in /home/yanze/miniconda3/lib/python3.9/site-packages (from tensorboard~=2.4->tensorflow->rid==1.1.dev195+gb743cd0) (0.6.0)\n",
      "Requirement already satisfied: google-auth<2,>=1.6.3 in /home/yanze/miniconda3/lib/python3.9/site-packages (from tensorboard~=2.4->tensorflow->rid==1.1.dev195+gb743cd0) (1.35.0)\n",
      "Requirement already satisfied: google-auth-oauthlib<0.5,>=0.4.1 in /home/yanze/miniconda3/lib/python3.9/site-packages (from tensorboard~=2.4->tensorflow->rid==1.1.dev195+gb743cd0) (0.4.6)\n",
      "Requirement already satisfied: setuptools>=41.0.0 in /home/yanze/miniconda3/lib/python3.9/site-packages (from tensorboard~=2.4->tensorflow->rid==1.1.dev195+gb743cd0) (61.2.0)\n",
      "Requirement already satisfied: soupsieve>1.2 in /home/yanze/miniconda3/lib/python3.9/site-packages (from beautifulsoup4->google->rid==1.1.dev195+gb743cd0) (2.3.1)\n",
      "Requirement already satisfied: requests-oauthlib in /home/yanze/miniconda3/lib/python3.9/site-packages (from kubernetes->pydflow->rid==1.1.dev195+gb743cd0) (1.3.1)\n",
      "Requirement already satisfied: websocket-client!=0.40.0,!=0.41.*,!=0.42.*,>=0.32.0 in /home/yanze/miniconda3/lib/python3.9/site-packages (from kubernetes->pydflow->rid==1.1.dev195+gb743cd0) (1.3.3)\n",
      "Requirement already satisfied: cachetools<5.0,>=2.0.0 in /home/yanze/miniconda3/lib/python3.9/site-packages (from google-auth<2,>=1.6.3->tensorboard~=2.4->tensorflow->rid==1.1.dev195+gb743cd0) (4.2.4)\n",
      "Requirement already satisfied: rsa<5,>=3.1.4 in /home/yanze/miniconda3/lib/python3.9/site-packages (from google-auth<2,>=1.6.3->tensorboard~=2.4->tensorflow->rid==1.1.dev195+gb743cd0) (4.8)\n",
      "Requirement already satisfied: pyasn1-modules>=0.2.1 in /home/yanze/miniconda3/lib/python3.9/site-packages (from google-auth<2,>=1.6.3->tensorboard~=2.4->tensorflow->rid==1.1.dev195+gb743cd0) (0.2.8)\n",
      "Requirement already satisfied: importlib-metadata>=4.4 in /home/yanze/miniconda3/lib/python3.9/site-packages (from markdown>=2.6.8->tensorboard~=2.4->tensorflow->rid==1.1.dev195+gb743cd0) (4.11.4)\n",
      "Requirement already satisfied: idna<4,>=2.5 in /home/yanze/miniconda3/lib/python3.9/site-packages (from requests<3,>=2.21.0->tensorboard~=2.4->tensorflow->rid==1.1.dev195+gb743cd0) (3.3)\n",
      "Requirement already satisfied: charset-normalizer~=2.0.0 in /home/yanze/miniconda3/lib/python3.9/site-packages (from requests<3,>=2.21.0->tensorboard~=2.4->tensorflow->rid==1.1.dev195+gb743cd0) (2.0.4)\n",
      "Requirement already satisfied: oauthlib>=3.0.0 in /home/yanze/miniconda3/lib/python3.9/site-packages (from requests-oauthlib->kubernetes->pydflow->rid==1.1.dev195+gb743cd0) (3.2.0)\n",
      "Requirement already satisfied: zipp>=0.5 in /home/yanze/miniconda3/lib/python3.9/site-packages (from importlib-metadata>=4.4->markdown>=2.6.8->tensorboard~=2.4->tensorflow->rid==1.1.dev195+gb743cd0) (3.8.0)\n",
      "Requirement already satisfied: pyasn1<0.5.0,>=0.4.6 in /home/yanze/miniconda3/lib/python3.9/site-packages (from pyasn1-modules>=0.2.1->google-auth<2,>=1.6.3->tensorboard~=2.4->tensorflow->rid==1.1.dev195+gb743cd0) (0.4.8)\n",
      "Building wheels for collected packages: rid\n",
      "  Building wheel for rid (setup.py) ... \u001b[?25ldone\n",
      "\u001b[?25h  Created wheel for rid: filename=rid-1.1.dev195+gb743cd0-py3-none-any.whl size=77609 sha256=9f325b928e7c8f74cab0bda043a026949c5a427e0a7db1832043b42667f31707\n",
      "  Stored in directory: /home/yanze/.cache/pip/wheels/ec/59/93/934a1323bb160c606bf1000cac32eae183a198305cb06cb1b0\n",
      "Successfully built rid\n",
      "Installing collected packages: rid\n",
      "  Attempting uninstall: rid\n",
      "    Found existing installation: rid 1.1.dev195+gb743cd0\n",
      "    Uninstalling rid-1.1.dev195+gb743cd0:\n",
      "      Successfully uninstalled rid-1.1.dev195+gb743cd0\n",
      "Successfully installed rid-1.1.dev195+gb743cd0\n"
     ]
    }
   ],
   "source": [
    "# the rid-kit repo path\n",
    "! cd .. && pip install ."
   ]
  },
  {
   "cell_type": "markdown",
   "metadata": {},
   "source": [
    "## Configuration of Computational Environment\n",
    "\n",
    "In RiD workflow, `dflow` helps send computation tasks to resources with peoper environment configured. \n",
    "\n",
    "There are four main modules and several workflow steps in RiD procedures and each module or step needs different environments:\n",
    "\n",
    "* `Exploration/Sampling`:  `Gromacs`, `PLUMED2` modified by `DeepFE.cpp`, `Tensorflow` C++ interface. (prefer GPU)\n",
    "* `Selection`:  `Tensroflow` Python interface.\n",
    "* `Labeling`:  `Gromacs`, `PLUMED2`. (prefer GPU)\n",
    "* `Training`:  `Tensroflow` Python interface. (prefer GPU).\n",
    "* `Workflow steps`:  `Python`.\n",
    "\n",
    "`dflow` supports different resources including `Slurm` clusters, `K8S` local machines and `Cloud Server`."
   ]
  },
  {
   "cell_type": "markdown",
   "metadata": {},
   "source": [
    "* For `Slurm`, configure computational environments on your `Slurm` following the instructions of installation. With `dflow`, `rid-kit` send tasks to `Slurm` nodes from the host machines remotely without manually logging in the cluster.\n",
    "* For local resources, just use the docker images we have built. No further manual configuration needed. We also provide `Dockerfile` of our images to enable flexible modification.\n",
    "* For `Cloud Server`, like `Lebesgue`, use public images and no further manual configuration needed."
   ]
  },
  {
   "cell_type": "markdown",
   "metadata": {},
   "source": [
    "## Prepare machine configuration JSON.\n",
    "\n",
    "`rid-kit` uses `JSON` file to manage resources. In `machine.json`, define your own `resources` and dispatch `tasks` to them. \n",
    "\n",
    "Generally, we would like to run low-cost tasks on cpu nodes or locally and submit high-cost tasks to `Slurm` or `Clouds`. So a `machine.json` may look like:\n",
    "\n",
    "```JSON\n",
    "{\n",
    "    \"resources\": {\n",
    "        \"local_k8s\": {\n",
    "            \"template_config\" : {\n",
    "                \"image\": \"dp-rid-dflow:tf262-pytorch1.11.0-cuda11.3\", \n",
    "                \"image_pull_policy\" : \"IfNotPresent\"\n",
    "            }\n",
    "        },\n",
    "        \"remote_slurm\": {\n",
    "            \"executor\": {\n",
    "                \"type\": \"slurm\",\n",
    "                \"host\": \"\",\n",
    "                \"port\": 22,\n",
    "                \"username\": \"\",\n",
    "                \"password\": \"\",\n",
    "                \"header\": [\n",
    "                    \"#!/bin/bash\",\n",
    "                    \"#SBATCH --partition GPU_2080Ti\",\n",
    "                    \"#SBATCH -N 1\",\n",
    "                    \"#SBATCH --ntasks-per-node 8\",\n",
    "                    \"#SBATCH -t 120:0:0\",\n",
    "                    \"#SBATCH --gres=gpu:1\",\n",
    "                    \"source your_rid_env\"\n",
    "                ]\n",
    "            }\n",
    "        }\n",
    "    },\n",
    "\n",
    "    \"tasks\": {\n",
    "        \"prep_exploration_config\": \"local_k8s\",\n",
    "        \"run_exploration_config\": \"remote_slurm\",\n",
    "        \"prep_label_config\": \"local_k8s\",\n",
    "        \"run_label_config\": \"remote_slurm\",\n",
    "        \"prep_select_config\": \"local_k8s\",\n",
    "        \"run_select_config\": \"local_k8s\",\n",
    "        \"prep_data_config\": \"local_k8s\",\n",
    "        \"run_train_config\": \"remote_slurm\",\n",
    "        \"workflow_steps_config\": \"local_k8s\"\n",
    "    }\n",
    "}\n",
    "```\n",
    "\n",
    "* In key `resources`, you define your own resources types. Resource names and their numbers are custom.\n",
    "* In key `tasks`, you distribute resources you have defined to tasks of RiD. Do not change task names in `tasks` as they are fixed in codes."
   ]
  },
  {
   "cell_type": "markdown",
   "metadata": {},
   "source": [
    "## Get Started!\n",
    "\n",
    "Assume you have learn the basic knowledge of reinforced dynamics which we won't describe again here. \n",
    "\n",
    "Users can monitor workflows from browser UI. To enable that, you should forward ports of `argo` and `minio`. These could be achieved by `rid port-forward`."
   ]
  },
  {
   "cell_type": "code",
   "execution_count": 14,
   "metadata": {},
   "outputs": [
    {
     "name": "stdout",
     "output_type": "stream",
     "text": [
      "2022-08-06 19:34:09 | INFO | rid.entrypoint.server | Port \"agro-server\" has been launched and running.\n",
      "2022-08-06 19:34:09 | INFO | rid.entrypoint.server | Port \"minio-server\" has been launched and running.\n",
      "2022-08-06 19:34:09 | INFO | rid.entrypoint.server | Port \"minio-ui\" has been launched and running.\n"
     ]
    }
   ],
   "source": [
    "! rid port-forward"
   ]
  },
  {
   "cell_type": "markdown",
   "metadata": {},
   "source": [
    "In this case, we try to explore the phase space of alanine dipeptide. Prepare your initial conformation files in `.gro` format, topology file in `.top` format and configuration file `rid.json`. For convenience, we have prepared on at `rid/template/rid.json`. \n",
    "Remember also provide your own forcefield files. Collect all these files into a directory and feed its path to `rid-kit` by flag `-i`.\n",
    "\n",
    "A minimum case was prepared in `rid-kit/tests/data/000`. Then run `rid submit`:"
   ]
  },
  {
   "cell_type": "code",
   "execution_count": 13,
   "metadata": {},
   "outputs": [
    {
     "name": "stdout",
     "output_type": "stream",
     "text": [
      "2022-08-06 19:29:53 | INFO | rid.entrypoint.main | Preparing RiD ...\n",
      "Workflow has been submitted (ID: reinforced-dynamics-cx4rd)\n",
      "2022-08-06 19:30:17 | INFO | rid.entrypoint.main | The task is displayed on \"https://127.0.0.1:2746\".\n",
      "2022-08-06 19:30:17 | INFO | rid.entrypoint.main | Artifacts (Files) are listed on \"https://127.0.0.1:9001\".\n"
     ]
    }
   ],
   "source": [
    "! rid submit -i ../tests/data/000 -c ../rid/template/rid.json -m /mnt/vepfs/yanze/dflow_project/test_dflow/template/machine.json"
   ]
  },
  {
   "cell_type": "markdown",
   "metadata": {},
   "source": [
    "INFO indicates that this task has been submitted succussfully. Record this workflow ID as we may use it later.\n",
    "\n",
    "Visit the `url` given by the last two lines, all workflows and corresponding files are listed on UI."
   ]
  },
  {
   "cell_type": "markdown",
   "metadata": {},
   "source": [
    "Command lines are also supported. Run `rid ls` to list your workflows and their status."
   ]
  },
  {
   "cell_type": "code",
   "execution_count": 15,
   "metadata": {},
   "outputs": [
    {
     "name": "stdout",
     "output_type": "stream",
     "text": [
      "2022-08-06 19:35:45 | INFO | rid.entrypoint.cli | \n",
      "\n",
      "\tReinforced Dynamics Workflow\n",
      "\n",
      "NAME                        STATUS    AGE   DURATION   PRIORITY\n",
      "reinforced-dynamics-cx4rd   Running   5m    5m         0\n",
      "reinforced-dynamics-pi65n   Running   8h    8h         0\n",
      "reinforced-dynamics-yk3wl   Failed    8h    2m         0\n",
      "reinforced-dynamics-bsc7j   Failed    9h    31m        0\n",
      "\n"
     ]
    }
   ],
   "source": [
    "! rid ls"
   ]
  },
  {
   "cell_type": "markdown",
   "metadata": {},
   "source": [
    "`rid-kit` is based on `dflow`, `argo` and `minikube`. So further complex and flexible managements of workflows can be achieved by their command lines. like `kubectl get pods -n argo` and `argo show`."
   ]
  },
  {
   "cell_type": "markdown",
   "metadata": {},
   "source": [
    "For failed tasks, you may want to remove them or resubmit them from the failure steps.\n",
    "\n",
    "For `remove`:"
   ]
  },
  {
   "cell_type": "code",
   "execution_count": null,
   "metadata": {},
   "outputs": [],
   "source": [
    "# rid rm task-ID\n",
    "! rid rm reinforced-dynamics-bsc7j "
   ]
  },
  {
   "cell_type": "markdown",
   "metadata": {},
   "source": [
    "For `resubmit` to modify and continue workflow:"
   ]
  },
  {
   "cell_type": "code",
   "execution_count": null,
   "metadata": {},
   "outputs": [],
   "source": [
    "! rid resubmit -i your_dir -c path_to_rid.json -m path_to_machine.json Workflow-ID"
   ]
  }
 ],
 "metadata": {
  "kernelspec": {
   "display_name": "Python 3.9.7 ('base')",
   "language": "python",
   "name": "python3"
  },
  "language_info": {
   "codemirror_mode": {
    "name": "ipython",
    "version": 3
   },
   "file_extension": ".py",
   "mimetype": "text/x-python",
   "name": "python",
   "nbconvert_exporter": "python",
   "pygments_lexer": "ipython3",
   "version": "3.9.7"
  },
  "orig_nbformat": 4,
  "vscode": {
   "interpreter": {
    "hash": "756c52790f8e5882129aad9694b42ed16f03b52c1b174c5fc0cf3de0242c9f19"
   }
  }
 },
 "nbformat": 4,
 "nbformat_minor": 2
}
