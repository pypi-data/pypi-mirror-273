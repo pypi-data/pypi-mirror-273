{
 "cells": [
  {
   "cell_type": "markdown",
   "metadata": {},
   "source": [
    "## Define a Latent Space and create a search index from it"
   ]
  },
  {
   "cell_type": "code",
   "execution_count": null,
   "metadata": {},
   "outputs": [],
   "source": [
    "from latentis.space.search import SearchMetric\n",
    "from latentis.utils import seed_everything\n",
    "from latentis.space import LatentSpace\n",
    "\n",
    "import torch\n",
    "import numpy as np"
   ]
  },
  {
   "cell_type": "code",
   "execution_count": null,
   "metadata": {},
   "outputs": [],
   "source": [
    "N_SAMPLES = 100\n",
    "SPACE_DIM = 256\n",
    "SEARCH_METRIC = SearchMetric.COSINE"
   ]
  },
  {
   "cell_type": "code",
   "execution_count": null,
   "metadata": {},
   "outputs": [],
   "source": [
    "# Setting seed for reproducibility\n",
    "seed_everything(42)"
   ]
  },
  {
   "cell_type": "code",
   "execution_count": null,
   "metadata": {},
   "outputs": [],
   "source": [
    "# create random vectors to be added to the index\n",
    "vectors = torch.randn(N_SAMPLES, SPACE_DIM)\n",
    "# create keys for the vectors\n",
    "keys = [str(i) for i in range(N_SAMPLES)]"
   ]
  },
  {
   "cell_type": "code",
   "execution_count": null,
   "metadata": {},
   "outputs": [],
   "source": [
    "# Create a LatentSpace object\n",
    "space = LatentSpace(\n",
    "    vector_source=(vectors, keys),\n",
    ")\n",
    "\n",
    "# Converting the LatentSpace to a SearchIndex using the given metric\n",
    "index = space.to_index(metric_fn=SEARCH_METRIC)"
   ]
  },
  {
   "cell_type": "markdown",
   "metadata": {},
   "source": [
    "Equivalent code, without resorting to the `LatentSpace` class, would be:\n",
    "\n",
    "```python\n",
    "from latentis.search import SearchIndex\n",
    "\n",
    "\n",
    "index = SearchIndex.create(\n",
    "    num_dimensions=SPACE_DIM,\n",
    "    metric_fn=SEARCH_METRIC,\n",
    "    name=\"demo_space\",\n",
    ")\n",
    "index.add_vectors(vectors=vectors, keys=keys)\n",
    "```"
   ]
  },
  {
   "cell_type": "markdown",
   "metadata": {},
   "source": [
    "## Search kNN"
   ]
  },
  {
   "cell_type": "markdown",
   "metadata": {},
   "source": [
    "By single vector"
   ]
  },
  {
   "cell_type": "code",
   "execution_count": null,
   "metadata": {},
   "outputs": [],
   "source": [
    "query_vectors = index.get_vector(query_offset=0)\n",
    "\n",
    "neighbor_ids, distances = index.search_knn(query_vectors=query_vectors, k=5)\n",
    "\n",
    "f\"Neighbors: {neighbor_ids.tolist()} | Distances {[f'{d:.3f}' for d in distances.tolist()]}\""
   ]
  },
  {
   "cell_type": "markdown",
   "metadata": {},
   "source": [
    "By multiple vectors, already present in the index, identified by their corresponding index offset "
   ]
  },
  {
   "cell_type": "code",
   "execution_count": null,
   "metadata": {},
   "outputs": [],
   "source": [
    "neighbor_ids, distances = index.search_knn(query_offsets=[0, 1], k=5)\n",
    "# the result is a tuple of two numpy arrays, one for the neighbor ids and one for their distances.\n",
    "# The first dimension is the number of queries (index offsets), the second dimension is the number of neighbors (k)\n",
    "neighbor_ids.shape, distances.shape"
   ]
  },
  {
   "cell_type": "markdown",
   "metadata": {},
   "source": [
    "By multiple vectors, not already present in the index:"
   ]
  },
  {
   "cell_type": "code",
   "execution_count": null,
   "metadata": {},
   "outputs": [],
   "source": [
    "neighbor_ids, distances = index.search_knn(query_vectors=torch.randn(2, SPACE_DIM), k=7)\n",
    "# the result is a tuple of two numpy arrays, one for the neighbor ids and one for their distances.\n",
    "# The first dimension is the number of queries (query vectors), the second dimension is the number of neighbors (k)\n",
    "neighbor_ids.shape, distances.shape"
   ]
  },
  {
   "cell_type": "markdown",
   "metadata": {},
   "source": [
    "By a vector not already present in the index"
   ]
  },
  {
   "cell_type": "code",
   "execution_count": null,
   "metadata": {},
   "outputs": [],
   "source": [
    "new = torch.randn(256)\n",
    "\n",
    "neighbor_ids, distances = index.search_knn(query_vectors=new, k=5)\n",
    "f\"Neighbors: {neighbor_ids.tolist()} | Distances {[f'{d:.3f}' for d in distances.tolist()]}\""
   ]
  },
  {
   "cell_type": "markdown",
   "metadata": {},
   "source": [
    "Add the vector to the index with a custom key and retrieve the most similars"
   ]
  },
  {
   "cell_type": "code",
   "execution_count": null,
   "metadata": {},
   "outputs": [],
   "source": [
    "new_offset = index.add_vector(vector=new, key=\"custom\")\n",
    "\n",
    "print(f\"Index offset for the custom vector: {new_offset}\")"
   ]
  },
  {
   "cell_type": "markdown",
   "metadata": {},
   "source": [
    "Now there are two ways to retrieve the custom vector (up to the index transformations/precision/approximations):"
   ]
  },
  {
   "cell_type": "code",
   "execution_count": null,
   "metadata": {},
   "outputs": [],
   "source": [
    "custom_vector1 = index.get_vector(query_key=\"custom\")\n",
    "custom_vector2 = index.get_vector(query_offset=new_offset)\n",
    "\n",
    "np.allclose(custom_vector1, custom_vector2)"
   ]
  },
  {
   "cell_type": "markdown",
   "metadata": {},
   "source": [
    "## Add multiple vectors"
   ]
  },
  {
   "cell_type": "code",
   "execution_count": null,
   "metadata": {},
   "outputs": [],
   "source": [
    "new_vectors = torch.randn(N_SAMPLES, SPACE_DIM)\n",
    "\n",
    "new_vector_offsets = index.add_vectors(vectors=new_vectors)"
   ]
  },
  {
   "cell_type": "markdown",
   "metadata": {},
   "source": [
    "## Search by range"
   ]
  },
  {
   "cell_type": "code",
   "execution_count": null,
   "metadata": {},
   "outputs": [],
   "source": [
    "query_vectors = index.get_vector(query_offset=10)\n",
    "\n",
    "index.search_range(query_vectors=query_vectors, radius=0.99)"
   ]
  },
  {
   "cell_type": "markdown",
   "metadata": {},
   "source": [
    "Change the metric and search by range"
   ]
  },
  {
   "cell_type": "code",
   "execution_count": null,
   "metadata": {},
   "outputs": [],
   "source": [
    "eu_index = space.to_index(metric_fn=SearchMetric.EUCLIDEAN, keys=[str(i) for i in range(N_SAMPLES)])\n",
    "query_vectors = eu_index.get_vector(query_offset=10)\n",
    "\n",
    "index.search_range(query_vectors=query_vectors, radius=0.99)"
   ]
  }
 ],
 "metadata": {
  "kernelspec": {
   "display_name": "latentis",
   "language": "python",
   "name": "python3"
  },
  "language_info": {
   "codemirror_mode": {
    "name": "ipython",
    "version": 3
   },
   "file_extension": ".py",
   "mimetype": "text/x-python",
   "name": "python",
   "nbconvert_exporter": "python",
   "pygments_lexer": "ipython3",
   "version": "3.9.19"
  }
 },
 "nbformat": 4,
 "nbformat_minor": 2
}
