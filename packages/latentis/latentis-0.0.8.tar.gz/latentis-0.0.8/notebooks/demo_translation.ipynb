{
 "cells": [
  {
   "cell_type": "markdown",
   "metadata": {},
   "source": [
    "# Define spaces"
   ]
  },
  {
   "cell_type": "code",
   "execution_count": null,
   "metadata": {},
   "outputs": [],
   "source": [
    "import torch\n",
    "from latentis import LatentSpace\n",
    "\n",
    "N_SAMPLES = 100\n",
    "SPACE1_DIM = 50\n",
    "SPACE2_DIM = 550\n",
    "\n",
    "space1 = LatentSpace(vectors=torch.randn(N_SAMPLES, SPACE1_DIM), name=\"space1\")\n",
    "space2 = LatentSpace(vectors=torch.randn(N_SAMPLES, SPACE2_DIM), name=\"space2\")"
   ]
  },
  {
   "cell_type": "markdown",
   "metadata": {},
   "source": [
    "# Define Translator"
   ]
  },
  {
   "cell_type": "code",
   "execution_count": null,
   "metadata": {},
   "outputs": [],
   "source": [
    "from latentis import transform\n",
    "from latentis.estimate.dim_matcher import ZeroPadding\n",
    "from latentis.estimate.orthogonal import SVDEstimator\n",
    "from latentis.translate.translator import LatentTranslator\n",
    "\n",
    "\n",
    "translator = LatentTranslator(\n",
    "    random_seed=0,\n",
    "    estimator=SVDEstimator(dim_matcher=ZeroPadding()),\n",
    "    source_transforms=[transform.StandardScaling()],\n",
    "    target_transforms=[transform.StandardScaling()],\n",
    ")"
   ]
  },
  {
   "cell_type": "markdown",
   "metadata": {},
   "source": [
    "# Fit Translator"
   ]
  },
  {
   "cell_type": "code",
   "execution_count": null,
   "metadata": {},
   "outputs": [],
   "source": [
    "translator.fit(source_data=space1, target_data=space2)"
   ]
  },
  {
   "cell_type": "markdown",
   "metadata": {},
   "source": [
    "# Latent Translation"
   ]
  },
  {
   "cell_type": "code",
   "execution_count": null,
   "metadata": {},
   "outputs": [],
   "source": [
    "translator(space1).shape"
   ]
  },
  {
   "cell_type": "code",
   "execution_count": null,
   "metadata": {},
   "outputs": [],
   "source": [
    "space1.shape, space2.shape"
   ]
  },
  {
   "cell_type": "code",
   "execution_count": null,
   "metadata": {},
   "outputs": [],
   "source": []
  }
 ],
 "metadata": {
  "kernelspec": {
   "display_name": "latentis",
   "language": "python",
   "name": "python3"
  },
  "language_info": {
   "codemirror_mode": {
    "name": "ipython",
    "version": 3
   },
   "file_extension": ".py",
   "mimetype": "text/x-python",
   "name": "python",
   "nbconvert_exporter": "python",
   "pygments_lexer": "ipython3",
   "version": "3.9.18"
  }
 },
 "nbformat": 4,
 "nbformat_minor": 2
}
