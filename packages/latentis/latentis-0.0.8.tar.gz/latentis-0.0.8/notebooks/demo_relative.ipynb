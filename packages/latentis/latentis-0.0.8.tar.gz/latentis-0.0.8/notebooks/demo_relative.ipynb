{
 "cells": [
  {
   "cell_type": "code",
   "execution_count": null,
   "metadata": {
    "id": "PULWYp1mZIdl"
   },
   "outputs": [],
   "source": [
    "from latentis.project import RelativeProjector\n",
    "from latentis.project import relative\n",
    "from latentis.space import LatentSpace\n",
    "from latentis.sample import Uniform\n",
    "\n",
    "import torch"
   ]
  },
  {
   "cell_type": "code",
   "execution_count": null,
   "metadata": {},
   "outputs": [],
   "source": [
    "space = LatentSpace(name=\"x\", vectors=torch.randn(5, 10))\n",
    "anchors = space.sample(sampler=Uniform(), n=3)\n",
    "space.shape, anchors.shape"
   ]
  },
  {
   "cell_type": "code",
   "execution_count": null,
   "metadata": {
    "colab": {
     "base_uri": "https://localhost:8080/"
    },
    "id": "h6ZyakpmcKCa",
    "outputId": "b0e32f91-97a9-4451-b25c-2445339a2787"
   },
   "outputs": [],
   "source": [
    "projector = RelativeProjector(\n",
    "    projection_fn=relative.cosine_proj,\n",
    ")\n",
    "\n",
    "projector(x=space, anchors=anchors).vectors"
   ]
  },
  {
   "cell_type": "code",
   "execution_count": null,
   "metadata": {
    "id": "2NZKpscRcZRi"
   },
   "outputs": [],
   "source": [
    "rel_space = space.to_relative(anchors=anchors, projector=projector)\n",
    "rel_space, rel_space.vectors"
   ]
  },
  {
   "cell_type": "code",
   "execution_count": null,
   "metadata": {},
   "outputs": [],
   "source": [
    "relative.cosine_proj(\n",
    "    x=space.vectors,\n",
    "    anchors=rel_space.anchors.vectors,\n",
    ")"
   ]
  },
  {
   "cell_type": "code",
   "execution_count": null,
   "metadata": {},
   "outputs": [],
   "source": []
  }
 ],
 "metadata": {
  "colab": {
   "provenance": []
  },
  "kernelspec": {
   "display_name": "Python 3",
   "name": "python3"
  },
  "language_info": {
   "codemirror_mode": {
    "name": "ipython",
    "version": 3
   },
   "file_extension": ".py",
   "mimetype": "text/x-python",
   "name": "python",
   "nbconvert_exporter": "python",
   "pygments_lexer": "ipython3",
   "version": "3.9.18"
  }
 },
 "nbformat": 4,
 "nbformat_minor": 0
}
