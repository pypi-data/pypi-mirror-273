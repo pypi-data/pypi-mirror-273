{
 "cells": [
  {
   "cell_type": "markdown",
   "id": "687747a6-47b1-4d11-9d4c-64c071d735b3",
   "metadata": {},
   "source": [
    "## Demonstrate **hklpy2**'s API"
   ]
  },
  {
   "cell_type": "code",
   "execution_count": 1,
   "id": "61d5927e-d2d3-4fae-9b47-eb5fdb6117c1",
   "metadata": {},
   "outputs": [
    {
     "name": "stdout",
     "output_type": "stream",
     "text": [
      "2024-05-10 01:01:23.356334\n",
      "hklpy2.__version__='0.0.8.dev3+g7bbfe41.d20240510'\n",
      "hklpy2.solvers()={'hkl_soleil': 'hklpy2.backends.hkl_soleil:HklSolver', 'no_op': 'hklpy2.backends.no_op:NoOpSolver', 'th_tth': 'hklpy2.backends.th_tth_q:ThTthSolver'}\n"
     ]
    }
   ],
   "source": [
    "import datetime\n",
    "import hklpy2\n",
    "print(f\"{datetime.datetime.now()}\")\n",
    "print(f\"{hklpy2.__version__=}\")\n",
    "print(f\"{hklpy2.solvers()=}\")"
   ]
  },
  {
   "cell_type": "code",
   "execution_count": 2,
   "id": "4233356b-1d43-4b37-bafe-89678e3a1dde",
   "metadata": {},
   "outputs": [],
   "source": [
    "# solver_name = \"no_op\"\n",
    "# gname = \"anything\"\n",
    "\n",
    "solver_name = \"hkl_soleil\"\n",
    "gname = \"E4CV, hkl\""
   ]
  },
  {
   "cell_type": "code",
   "execution_count": 3,
   "id": "3efedd0c-f9db-46f9-9dfa-960607960e9c",
   "metadata": {},
   "outputs": [
    {
     "name": "stdout",
     "output_type": "stream",
     "text": [
      "solver=HklSolver(name='hkl_soleil', version='v5.0.0.3434')\n"
     ]
    }
   ],
   "source": [
    "SolverClass = hklpy2.get_solver(solver_name)\n",
    "solver = SolverClass()\n",
    "print(f\"{solver=!r}\")"
   ]
  },
  {
   "cell_type": "code",
   "execution_count": 4,
   "id": "c3e63a54-b9ad-4a3b-abfe-ea1c0aaedc22",
   "metadata": {},
   "outputs": [
    {
     "name": "stdout",
     "output_type": "stream",
     "text": [
      "solver=HklSolver(name='hkl_soleil', version='v5.0.0.3434')\n",
      "solver.pseudo_axis_names=['h', 'k', 'l']\n",
      "solver.real_axis_names=['omega', 'chi', 'phi', 'tth']\n"
     ]
    }
   ],
   "source": [
    "solver.geometry = gname\n",
    "print(f\"{solver=}\")\n",
    "print(f\"{solver.pseudo_axis_names=!r}\")\n",
    "print(f\"{solver.real_axis_names=}\")"
   ]
  },
  {
   "cell_type": "code",
   "execution_count": 5,
   "id": "71b53164-cd05-460e-aeee-34709d54afa4",
   "metadata": {},
   "outputs": [
    {
     "name": "stdout",
     "output_type": "stream",
     "text": [
      "vibranium_lattice=Lattice(a=6.2832, b=6.2832, c=6.2832, alpha=90.0, beta=90.0, gamma=90.0)\n"
     ]
    }
   ],
   "source": [
    "import math\n",
    "vibranium_lattice = hklpy2.Lattice(2*math.pi)\n",
    "print(f\"{vibranium_lattice=}\")"
   ]
  },
  {
   "cell_type": "code",
   "execution_count": 6,
   "id": "15c41d66-c141-4fd4-bff7-ab731fefe8b7",
   "metadata": {},
   "outputs": [
    {
     "name": "stdout",
     "output_type": "stream",
     "text": [
      "vibranium=Sample(name='vibranium', lattice=Lattice(a=6.28, b=6.28, c=6.28, alpha=90.0, beta=90.0, gamma=90.0))\n"
     ]
    }
   ],
   "source": [
    "vibranium = hklpy2.Sample(solver, vibranium_lattice, name=\"vibranium\")\n",
    "vibranium_lattice.digits = 2\n",
    "print(f\"{vibranium=}\")"
   ]
  },
  {
   "cell_type": "code",
   "execution_count": 7,
   "id": "b1f545e2-ec28-4468-a6ac-43a807a586ad",
   "metadata": {},
   "outputs": [],
   "source": [
    "vibranium.reflections.ordering = []"
   ]
  },
  {
   "cell_type": "code",
   "execution_count": 8,
   "id": "d93281fe-ec11-4e6d-aad4-fc62987a6de5",
   "metadata": {},
   "outputs": [
    {
     "name": "stdout",
     "output_type": "stream",
     "text": [
      "Reflection(name='r1', geometry='E4CV, hkl', pseudos={'h': 1, 'k': 0, 'l': 0}, angles={'omega': 10, 'chi': 0, 'phi': 0, 'tth': 20}, wavelength=1.0)\n",
      "Reflection(name='r2', geometry='E4CV, hkl', pseudos={'h': 0, 'k': 1, 'l': 0}, angles={'omega': 10, 'chi': -90, 'phi': 0, 'tth': 20}, wavelength=1.0)\n"
     ]
    }
   ],
   "source": [
    "vibranium.reflections.add(\n",
    "    hklpy2.Reflection(\n",
    "        solver, \n",
    "        dict(h=1, k=0, l=0), \n",
    "        dict(omega=10, chi=0, phi=0, tth=20), \n",
    "        wavelength=1.00, \n",
    "        name=\"r1\"\n",
    "    )\n",
    ")\n",
    "vibranium.reflections.add(\n",
    "    hklpy2.Reflection(\n",
    "        solver, \n",
    "        dict(h=0, k=1, l=0), \n",
    "        dict(omega=10, chi=-90, phi=0, tth=20), \n",
    "        wavelength=1.00, \n",
    "        name=\"r2\"\n",
    "    )\n",
    ")\n",
    "for r in vibranium.reflections.ordering:\n",
    "    print(f\"{vibranium.reflections[r]}\")"
   ]
  },
  {
   "cell_type": "code",
   "execution_count": 9,
   "id": "eb3391b0-1560-486d-b1d9-005e766063dd",
   "metadata": {},
   "outputs": [
    {
     "name": "stdout",
     "output_type": "stream",
     "text": [
      "vibranium.reflections.ordering=['r2', 'r1']\n",
      "Reflection(name='r2', geometry='E4CV, hkl', pseudos={'h': 0, 'k': 1, 'l': 0}, angles={'omega': 10, 'chi': -90, 'phi': 0, 'tth': 20}, wavelength=1.0)\n",
      "Reflection(name='r1', geometry='E4CV, hkl', pseudos={'h': 1, 'k': 0, 'l': 0}, angles={'omega': 10, 'chi': 0, 'phi': 0, 'tth': 20}, wavelength=1.0)\n"
     ]
    }
   ],
   "source": [
    "vibranium.reflections.swap()\n",
    "print(f\"{vibranium.reflections.ordering=}\")\n",
    "for r in vibranium.reflections.ordering:\n",
    "    print(f\"{vibranium.reflections[r]}\")"
   ]
  },
  {
   "cell_type": "code",
   "execution_count": 10,
   "id": "8f36ade3-dcb2-4f37-b566-11b88a3f6f92",
   "metadata": {},
   "outputs": [
    {
     "data": {
      "text/plain": [
       "['E4CH, emergence',\n",
       " 'E4CH, hkl',\n",
       " 'E4CH, incidence',\n",
       " 'E4CH, psi',\n",
       " 'E4CH, q',\n",
       " 'E4CV, emergence',\n",
       " 'E4CV, hkl',\n",
       " 'E4CV, incidence',\n",
       " 'E4CV, psi',\n",
       " 'E4CV, q',\n",
       " 'E6C, emergence',\n",
       " 'E6C, hkl',\n",
       " 'E6C, incidence',\n",
       " 'E6C, psi',\n",
       " 'E6C, q2',\n",
       " 'E6C, qper_qpar',\n",
       " 'E6C, tth2',\n",
       " 'ESRF ID01 PSIC, hkl',\n",
       " 'K4CV, emergence',\n",
       " 'K4CV, eulerians',\n",
       " 'K4CV, hkl',\n",
       " 'K4CV, incidence',\n",
       " 'K4CV, psi',\n",
       " 'K4CV, q',\n",
       " 'K6C, emergence',\n",
       " 'K6C, eulerians',\n",
       " 'K6C, hkl',\n",
       " 'K6C, incidence',\n",
       " 'K6C, psi',\n",
       " 'K6C, q2',\n",
       " 'K6C, qper_qpar',\n",
       " 'K6C, tth2',\n",
       " 'PETRA3 P09 EH2, hkl',\n",
       " 'PETRA3 P23 4C, emergence',\n",
       " 'PETRA3 P23 4C, hkl',\n",
       " 'PETRA3 P23 4C, incidence',\n",
       " 'PETRA3 P23 4C, q2',\n",
       " 'PETRA3 P23 4C, qper_qpar',\n",
       " 'PETRA3 P23 4C, tth2',\n",
       " 'PETRA3 P23 6C, emergence',\n",
       " 'PETRA3 P23 6C, hkl',\n",
       " 'PETRA3 P23 6C, incidence',\n",
       " 'PETRA3 P23 6C, psi',\n",
       " 'PETRA3 P23 6C, q2',\n",
       " 'PETRA3 P23 6C, qper_qpar',\n",
       " 'PETRA3 P23 6C, tth2',\n",
       " 'SOLEIL MARS, emergence',\n",
       " 'SOLEIL MARS, hkl',\n",
       " 'SOLEIL MARS, incidence',\n",
       " 'SOLEIL MARS, psi',\n",
       " 'SOLEIL MARS, q',\n",
       " 'SOLEIL NANOSCOPIUM ROBOT, hkl',\n",
       " 'SOLEIL SIRIUS KAPPA, emergence',\n",
       " 'SOLEIL SIRIUS KAPPA, eulerians',\n",
       " 'SOLEIL SIRIUS KAPPA, hkl',\n",
       " 'SOLEIL SIRIUS KAPPA, incidence',\n",
       " 'SOLEIL SIRIUS KAPPA, psi',\n",
       " 'SOLEIL SIRIUS KAPPA, q2',\n",
       " 'SOLEIL SIRIUS KAPPA, qper_qpar',\n",
       " 'SOLEIL SIRIUS KAPPA, tth2',\n",
       " 'SOLEIL SIRIUS TURRET, emergence',\n",
       " 'SOLEIL SIRIUS TURRET, hkl',\n",
       " 'SOLEIL SIRIUS TURRET, incidence',\n",
       " 'SOLEIL SIRIUS TURRET, q2',\n",
       " 'SOLEIL SIRIUS TURRET, qper_qpar',\n",
       " 'SOLEIL SIRIUS TURRET, tth2',\n",
       " 'SOLEIL SIXS MED1+2, emergence',\n",
       " 'SOLEIL SIXS MED1+2, hkl',\n",
       " 'SOLEIL SIXS MED1+2, incidence',\n",
       " 'SOLEIL SIXS MED1+2, q2',\n",
       " 'SOLEIL SIXS MED1+2, qper_qpar',\n",
       " 'SOLEIL SIXS MED1+2, tth2',\n",
       " 'SOLEIL SIXS MED2+2, emergence',\n",
       " 'SOLEIL SIXS MED2+2, hkl',\n",
       " 'SOLEIL SIXS MED2+2, incidence',\n",
       " 'SOLEIL SIXS MED2+2, q2',\n",
       " 'SOLEIL SIXS MED2+2, qper_qpar',\n",
       " 'SOLEIL SIXS MED2+2, tth2',\n",
       " 'SOLEIL SIXS MED2+3 v2, emergence',\n",
       " 'SOLEIL SIXS MED2+3 v2, hkl',\n",
       " 'SOLEIL SIXS MED2+3 v2, incidence',\n",
       " 'SOLEIL SIXS MED2+3 v2, q2',\n",
       " 'SOLEIL SIXS MED2+3 v2, qper_qpar',\n",
       " 'SOLEIL SIXS MED2+3 v2, tth2',\n",
       " 'SOLEIL SIXS MED2+3, emergence',\n",
       " 'SOLEIL SIXS MED2+3, hkl',\n",
       " 'SOLEIL SIXS MED2+3, incidence',\n",
       " 'SOLEIL SIXS MED2+3, q2',\n",
       " 'SOLEIL SIXS MED2+3, qper_qpar',\n",
       " 'SOLEIL SIXS MED2+3, tth2',\n",
       " 'ZAXIS, emergence',\n",
       " 'ZAXIS, hkl',\n",
       " 'ZAXIS, incidence',\n",
       " 'ZAXIS, q2',\n",
       " 'ZAXIS, qper_qpar',\n",
       " 'ZAXIS, tth2']"
      ]
     },
     "execution_count": 10,
     "metadata": {},
     "output_type": "execute_result"
    }
   ],
   "source": [
    "solver.geometries"
   ]
  }
 ],
 "metadata": {
  "kernelspec": {
   "display_name": "bluesky_2024_2",
   "language": "python",
   "name": "bluesky_2024_2"
  },
  "language_info": {
   "codemirror_mode": {
    "name": "ipython",
    "version": 3
   },
   "file_extension": ".py",
   "mimetype": "text/x-python",
   "name": "python",
   "nbconvert_exporter": "python",
   "pygments_lexer": "ipython3",
   "version": "3.11.8"
  }
 },
 "nbformat": 4,
 "nbformat_minor": 5
}
