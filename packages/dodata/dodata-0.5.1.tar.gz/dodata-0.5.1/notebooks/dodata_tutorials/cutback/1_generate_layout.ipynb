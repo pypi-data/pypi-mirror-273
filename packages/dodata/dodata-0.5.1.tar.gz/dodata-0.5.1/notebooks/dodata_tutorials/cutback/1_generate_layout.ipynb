{
 "cells": [
  {
   "cell_type": "markdown",
   "id": "bde8d3e9",
   "metadata": {},
   "source": [
    "# Generate Layout \n",
    "\n",
    "The first step is to create a layout and test manifest for your project, so that you can relate measurements and analyses back to your source layout.\n",
    "\n",
    "You can generate the layout with any layout tool. In this notebook you can use kfactory.\n",
    "\n",
    "## Generate layout\n",
    "\n",
    "Kfactory allows you to write metadata directly into the cell\n",
    "\n",
    "You can download this [generate_layout.py](./generate_layout.py) file"
   ]
  },
  {
   "cell_type": "code",
   "execution_count": null,
   "id": "5af56f8e",
   "metadata": {},
   "outputs": [],
   "source": [
    "import kfactory as kf\n",
    "from generate_layout import top\n",
    "import csv\n",
    "\n",
    "c = top()\n",
    "c.write_gds(\"test_chip.gds\")\n",
    "c.plot()"
   ]
  },
  {
   "cell_type": "markdown",
   "id": "3c06f0f8",
   "metadata": {},
   "source": [
    "## Generate cell table\n",
    "\n",
    "In your sample GDS, you have the device settings annotated on the GDS.\n",
    "Here you can read them from the GDS and write a cell table, which we can use to associate measurement data with the devices on the GDS.\n",
    "However, you can use any method you prefer to generate your table."
   ]
  },
  {
   "cell_type": "code",
   "execution_count": null,
   "id": "4ce4caf5",
   "metadata": {},
   "outputs": [],
   "source": [
    "from gdsfactory.labels import get_test_manifest\n",
    "\n",
    "ct = get_test_manifest(c, one_setting_per_column=True)\n",
    "ct.to_csv(\"cell_table.csv\", index=False)\n",
    "print(ct)"
   ]
  },
  {
   "cell_type": "markdown",
   "id": "d4c6723b",
   "metadata": {},
   "source": [
    "## Generate device table\n",
    "\n",
    "For generating the device table you need to use Kfactory.\n",
    "\n",
    "A device needs the X, Y position on the layout.\n",
    "Note that you can instantiate a Cell many times into a die."
   ]
  },
  {
   "cell_type": "code",
   "execution_count": null,
   "id": "38bd46d3",
   "metadata": {},
   "outputs": [],
   "source": [
    "import kfactory as kf\n",
    "import csv\n",
    "\n",
    "kf.kcl.read(\"test_chip.gds\")\n",
    "c = kf.kcl[\"top\"]\n",
    "sweep = c.kcl[\"cutback\"]\n",
    "csvpath = \"device_table.csv\"\n",
    "\n",
    "analysis = \"[cutback]\"\n",
    "analysis_parameters = \"[{}]\"\n",
    "length = 20\n",
    "\n",
    "with open(csvpath, \"w\") as f:\n",
    "    writer = csv.writer(f)\n",
    "    writer.writerow(\n",
    "        [\n",
    "            \"cell\",\n",
    "            \"x\",\n",
    "            \"y\",\n",
    "            # \"analysis\",\n",
    "            # \"analysis_parameters\",\n",
    "        ]\n",
    "    )\n",
    "    iterator = sweep._kdb_cell.begin_instances_rec()\n",
    "    iterator.targets = \"cutback_component_add_fiber_array*\"\n",
    "    while not iterator.at_end():\n",
    "        _c = c.kcl[iterator.inst_cell().cell_index()]\n",
    "        name = _c.name\n",
    "        _disp = (iterator.trans() * iterator.inst_trans()).disp\n",
    "        params = name.split(\"-\")  # we extract the width from the device name\n",
    "        writer.writerow(\n",
    "            [\n",
    "                name,\n",
    "                _disp.x,\n",
    "                _disp.y,\n",
    "                # analysis,\n",
    "                # analysis_parameters,\n",
    "            ]\n",
    "        )\n",
    "        iterator.next()"
   ]
  },
  {
   "cell_type": "markdown",
   "id": "1f8b4947",
   "metadata": {},
   "source": [
    "You can take a look a the contents of the device manifest you created."
   ]
  },
  {
   "cell_type": "code",
   "execution_count": null,
   "id": "6261b36a",
   "metadata": {},
   "outputs": [],
   "source": [
    "import pandas as pd\n",
    "\n",
    "dt = pd.read_csv(csvpath)\n",
    "dt"
   ]
  },
  {
   "cell_type": "markdown",
   "id": "2368e7f5",
   "metadata": {},
   "source": [
    "## Merge device and cell table"
   ]
  },
  {
   "cell_type": "code",
   "execution_count": null,
   "id": "078855f2",
   "metadata": {},
   "outputs": [],
   "source": [
    "ct.set_index(\"cell\", inplace=True)\n",
    "dt.set_index(\"cell\", inplace=True)\n",
    "df = pd.merge(dt, ct, left_on=\"cell\", right_index=True)\n",
    "df"
   ]
  },
  {
   "cell_type": "code",
   "execution_count": null,
   "id": "d2dae327",
   "metadata": {},
   "outputs": [],
   "source": [
    "df.columns"
   ]
  },
  {
   "cell_type": "code",
   "execution_count": null,
   "id": "578632fc",
   "metadata": {},
   "outputs": [],
   "source": [
    "df.to_csv(\"device_table.csv\")"
   ]
  },
  {
   "cell_type": "code",
   "execution_count": null,
   "id": "7263661c",
   "metadata": {},
   "outputs": [],
   "source": []
  }
 ],
 "metadata": {
  "jupytext": {
   "custom_cell_magics": "kql"
  },
  "kernelspec": {
   "display_name": "Python 3 (ipykernel)",
   "language": "python",
   "name": "python3"
  },
  "language_info": {
   "codemirror_mode": {
    "name": "ipython",
    "version": 3
   },
   "file_extension": ".py",
   "mimetype": "text/x-python",
   "name": "python",
   "nbconvert_exporter": "python",
   "pygments_lexer": "ipython3",
   "version": "3.12.1"
  }
 },
 "nbformat": 4,
 "nbformat_minor": 5
}
