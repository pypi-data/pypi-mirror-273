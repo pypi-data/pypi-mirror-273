{
 "cells": [
  {
   "cell_type": "markdown",
   "id": "d6dbf987",
   "metadata": {},
   "source": [
    "# Small tutorial on iRODS paths"
   ]
  },
  {
   "cell_type": "markdown",
   "id": "dfb329bc",
   "metadata": {},
   "source": [
    "* iRODS deals with POSIX-like paths, i.e. paths use the `/` as delimiter and all absolute paths start with `/`.\n",
    "* In default iRODS instances users have a personal home collection `/<zonename>/home/<username>`\n",
    "* In some iRODS instances like in Yoda instances, users are part of a group and only have access to group collections `/<yodazone>/home/<groupname>`\n",
    "\n",
    "In *iBridges* we allow all paths by default to be strings, which have the to be formatted as described above, i.e. for up and downloads all source and destination paths can be offered as `str`.\n",
    "However, we also offer a small class `IrodsPath` with which some formatting is done automatically."
   ]
  },
  {
   "cell_type": "markdown",
   "id": "f1d4a113",
   "metadata": {},
   "source": [
    "## The iRODS home"
   ]
  },
  {
   "cell_type": "markdown",
   "id": "139a2c8b",
   "metadata": {},
   "source": [
    "In your configuration file `irods_environment.json` you can set a default working directory on the iRODS instance with:\n",
    "```\n",
    "\"irods_home\": \"/<zone>/home/<user or groupname>\"\n",
    "```\n",
    "This information is stored in the iBridges session object and employed by the iBridges IrodsPath object."
   ]
  },
  {
   "cell_type": "markdown",
   "id": "2bd887f2",
   "metadata": {},
   "source": [
    "### Create a session"
   ]
  },
  {
   "cell_type": "code",
   "execution_count": null,
   "id": "de207d54",
   "metadata": {},
   "outputs": [],
   "source": [
    "from ibridges import Session\n",
    "import json\n",
    "from pathlib import Path\n",
    "from getpass import getpass"
   ]
  },
  {
   "cell_type": "code",
   "execution_count": null,
   "id": "648f8c49",
   "metadata": {},
   "outputs": [],
   "source": [
    "env_file = Path(os.path.expanduser(\"~\")).joinpath(\".irods\", \"irods_environment.json\")\n",
    "with open(env_file, \"r\") as f:\n",
    "    ienv = json.load(f)\n",
    "password = getpass(\"Your iRODS password\")\n",
    "session = Session(irods_env=ienv, password=password, irods_home=None)"
   ]
  },
  {
   "cell_type": "code",
   "execution_count": null,
   "id": "d7bd4841",
   "metadata": {},
   "outputs": [],
   "source": [
    "session.home"
   ]
  },
  {
   "cell_type": "markdown",
   "id": "c3c6f8a9",
   "metadata": {},
   "source": [
    "There are three ways to set the `irods_home`:\n",
    "\n",
    "1. You can set the \"irods_home\" in the configuration file `irods_environment.json`\n",
    "2. You can pass it as a parameter when creating the session\n",
    "3. You can set it later by `session.home = <YOUR_IRODS_PATH>`\n",
    "\n",
    "If none of the options are used, the `session` will set it automatically to `/<zonename>/home/<username>`."
   ]
  },
  {
   "cell_type": "markdown",
   "id": "e27d67b7",
   "metadata": {},
   "source": [
    "**Note**, that it is not verified that this path really exists on the iRODS server. It is merely a configuration item."
   ]
  },
  {
   "cell_type": "markdown",
   "id": "d20dd782",
   "metadata": {},
   "source": [
    "### Verify that your current working directory exists"
   ]
  },
  {
   "cell_type": "code",
   "execution_count": null,
   "id": "edc53ead",
   "metadata": {},
   "outputs": [],
   "source": [
    "from ibridges import IrodsPath\n",
    "home_path = IrodsPath(session, session.home)\n",
    "print(home_path)\n",
    "print(home_path.exists())\n",
    "print(home_path.collection_exists())"
   ]
  },
  {
   "cell_type": "markdown",
   "id": "0ca7ff5e",
   "metadata": {},
   "source": [
    "###  Create an IrodsPath"
   ]
  },
  {
   "cell_type": "code",
   "execution_count": null,
   "id": "33ea8da2",
   "metadata": {},
   "outputs": [],
   "source": [
    "ipath = IrodsPath(session, 'blabla', 'blibli')"
   ]
  },
  {
   "cell_type": "markdown",
   "id": "8b99d65b",
   "metadata": {},
   "source": [
    "Let's expect the properties and functions of the empty iRODS path."
   ]
  },
  {
   "cell_type": "code",
   "execution_count": null,
   "id": "f770f351",
   "metadata": {},
   "outputs": [],
   "source": [
    "print(ipath)\n",
    "print(ipath.absolute_path())\n",
    "print(ipath.parts)\n",
    "print(ipath.exists())"
   ]
  },
  {
   "cell_type": "markdown",
   "id": "d97efb0f",
   "metadata": {},
   "source": [
    "When we create a new iRODS path which does not start with `/` the `IrodsPath` will automatically expand the path with the current working directory, i.e the iRODS home."
   ]
  },
  {
   "cell_type": "markdown",
   "id": "0b6dccc6",
   "metadata": {},
   "source": [
    "### Extending an iRODS path"
   ]
  },
  {
   "cell_type": "markdown",
   "id": "c374a6ae",
   "metadata": {},
   "source": [
    "Asssume we would like to create a new path in iRODS e.g. to upload data to or to create a new collection. We want to extend our `home_path` with `testdata/experiment1`."
   ]
  },
  {
   "cell_type": "code",
   "execution_count": null,
   "id": "04c0e7d9",
   "metadata": {},
   "outputs": [],
   "source": [
    "new_loc = home_path.joinpath('testdata', 'experiment1')\n",
    "print(new_loc)"
   ]
  },
  {
   "cell_type": "markdown",
   "id": "453129ab",
   "metadata": {},
   "source": [
    "### Joining iRODS and Windows paths\n",
    "Assume you are working on windows and would like to create a copy of a local working folder on iRODS. Windows uses a different parts separator `\\`. In such a case we advise you to work with the `pathlib.Path` or the `pathlib.WindowsPath`."
   ]
  },
  {
   "cell_type": "code",
   "execution_count": null,
   "id": "8d0dab96",
   "metadata": {},
   "outputs": [],
   "source": [
    "from pathlib import PureWindowsPath\n",
    "win_path = PureWindowsPath('winodws','path','to', 'study', 'experiment2')\n",
    "print(win_path)"
   ]
  },
  {
   "cell_type": "markdown",
   "id": "7671dd16",
   "metadata": {},
   "source": [
    "We can assemble the new iRODS path `study/experiment2` like this:"
   ]
  },
  {
   "cell_type": "code",
   "execution_count": null,
   "id": "f3a4e653",
   "metadata": {},
   "outputs": [],
   "source": [
    "print(win_path.parts[-2:])\n",
    "new_loc = home_path.joinpath(win_path.parts[-2], win_path.parts[-1])\n",
    "print(new_loc)"
   ]
  },
  {
   "cell_type": "markdown",
   "id": "0a4c6f2f",
   "metadata": {},
   "source": [
    "Similarly we can extend a Windows path with a relative iRODS path: "
   ]
  },
  {
   "cell_type": "code",
   "execution_count": null,
   "id": "c547ef14",
   "metadata": {},
   "outputs": [],
   "source": [
    "print(ipath)\n",
    "new_loc = win_path.joinpath(ipath.parts[0], ipath.parts[1])\n",
    "print(new_loc)"
   ]
  },
  {
   "cell_type": "code",
   "execution_count": null,
   "id": "b6be82b4",
   "metadata": {},
   "outputs": [],
   "source": []
  }
 ],
 "metadata": {
  "kernelspec": {
   "display_name": "Python 3 (ipykernel)",
   "language": "python",
   "name": "python3"
  },
  "language_info": {
   "codemirror_mode": {
    "name": "ipython",
    "version": 3
   },
   "file_extension": ".py",
   "mimetype": "text/x-python",
   "name": "python",
   "nbconvert_exporter": "python",
   "pygments_lexer": "ipython3",
   "version": "3.10.13"
  }
 },
 "nbformat": 4,
 "nbformat_minor": 5
}
