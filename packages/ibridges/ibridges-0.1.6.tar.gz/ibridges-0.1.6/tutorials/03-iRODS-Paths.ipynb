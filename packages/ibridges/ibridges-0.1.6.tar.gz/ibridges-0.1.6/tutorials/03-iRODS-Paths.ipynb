{
 "cells": [
  {
   "cell_type": "markdown",
   "id": "b814e80d",
   "metadata": {},
   "source": [
    "# A word on local paths and iRODS paths"
   ]
  },
  {
   "cell_type": "markdown",
   "id": "18b446f3",
   "metadata": {},
   "source": [
    "## Local paths on your computer and `pathlib`"
   ]
  },
  {
   "cell_type": "markdown",
   "id": "2fdd6100",
   "metadata": {},
   "source": [
    "You might have wondered in the previous tutorials why we do not simply note down the location of data like a string `/home/user/folder/datafile.txt`.\n",
    "\n",
    "- Operating systems use different standard locations. For example your user folder lies in different locations for Linux, MacOS and Windows\n",
    "- The separator between parts of the path differs, Linux and MacOS use `/` while Windows uses `\\`.\n",
    "\n",
    "To be sure we are in your home directory independent from the operating system, we use:"
   ]
  },
  {
   "cell_type": "code",
   "execution_count": null,
   "id": "dd8f03ec",
   "metadata": {},
   "outputs": [],
   "source": [
    "from pathlib import Path\n",
    "Path.expanduser(Path('~'))"
   ]
  },
  {
   "cell_type": "markdown",
   "id": "96578ae7",
   "metadata": {},
   "source": [
    "Another way to retrieve this location is:"
   ]
  },
  {
   "cell_type": "code",
   "execution_count": null,
   "id": "8b91ca62",
   "metadata": {},
   "outputs": [],
   "source": [
    "Path.home()"
   ]
  },
  {
   "cell_type": "markdown",
   "id": "d05ac550",
   "metadata": {},
   "source": [
    "Moreover, when we want to extend a path with a new subdirectory, we can conveniently use:"
   ]
  },
  {
   "cell_type": "code",
   "execution_count": null,
   "id": "6cdf6780",
   "metadata": {},
   "outputs": [],
   "source": [
    "Path.home().joinpath('new_dir')"
   ]
  },
  {
   "cell_type": "markdown",
   "id": "7f3afd10",
   "metadata": {},
   "source": [
    "The command will take care that the correct separator is used and it provides you with functions to test whether the location already exist, to create the location etc:"
   ]
  },
  {
   "cell_type": "code",
   "execution_count": null,
   "id": "3f8f2645",
   "metadata": {},
   "outputs": [],
   "source": [
    "path = Path.home().joinpath('new_dir')\n",
    "print(f'{path} exists: {path.exists()}')\n",
    "print(f'{path} has parts: {path.parts}')"
   ]
  },
  {
   "cell_type": "markdown",
   "id": "014692ed",
   "metadata": {},
   "source": [
    "## iRODS paths and `IrodsPath`"
   ]
  },
  {
   "cell_type": "markdown",
   "id": "d77ce9cc",
   "metadata": {},
   "source": [
    "iRODS also uses `/` as the separator.\n",
    "\n",
    "To determine the default home location in iRODS is dependent on how the iRODS instance is setup. In a default iRODS instance you have a personal home collection:\n",
    "`/<zonename>/home/<username>`\n",
    "\n",
    "On Yoda instances you have a group collection:\n",
    "`/<yodazone>/home/research-<groupname>`\n",
    "\n",
    "You can set this home collection in your `irods_environment.json`.\n",
    "\n",
    "iBridges offers the `IrodsPath` which has similar functions as the `pathlib.Path`. We will always need a valis iRODS session to create those paths:"
   ]
  },
  {
   "cell_type": "code",
   "execution_count": null,
   "id": "06846322",
   "metadata": {},
   "outputs": [],
   "source": [
    "from ibridges.interactive import interactive_auth\n",
    "session = interactive_auth()"
   ]
  },
  {
   "cell_type": "markdown",
   "id": "808df0e1",
   "metadata": {},
   "source": [
    "Now we can retrieve our configured home collection:"
   ]
  },
  {
   "cell_type": "code",
   "execution_count": null,
   "id": "e1557bf6",
   "metadata": {},
   "outputs": [],
   "source": [
    "from ibridges.path import IrodsPath\n",
    "print(IrodsPath(session, '~'))\n",
    "# or \n",
    "print(IrodsPath(session, session.home))"
   ]
  },
  {
   "cell_type": "markdown",
   "id": "19a4bf31",
   "metadata": {},
   "source": [
    "Here a list of some functionality:"
   ]
  },
  {
   "cell_type": "code",
   "execution_count": null,
   "id": "2b7df9dc",
   "metadata": {},
   "outputs": [],
   "source": [
    "irods_path = IrodsPath(session, session.home)\n",
    "print(f'Extend {irods_path}:', irods_path.joinpath('new_collection'))\n",
    "print(f'{irods_path} exists:', irods_path.exists())\n",
    "print(f'{irods_path} is collection:', irods_path.collection_exists())\n",
    "print(f'{irods_path} is data object:', irods_path.dataobject_exists())\n",
    "print(f'{irods_path} has parts: {irods_path.parts}')"
   ]
  },
  {
   "cell_type": "markdown",
   "id": "82ea884f",
   "metadata": {},
   "source": [
    "## Concatenating iRODS paths  and local paths"
   ]
  },
  {
   "cell_type": "markdown",
   "id": "fe0e20ed",
   "metadata": {},
   "source": [
    "Assume we would like to create a counter part collection to our local path:"
   ]
  },
  {
   "cell_type": "code",
   "execution_count": null,
   "id": "a1dd79a2",
   "metadata": {},
   "outputs": [],
   "source": [
    "path"
   ]
  },
  {
   "cell_type": "markdown",
   "id": "5d89637e",
   "metadata": {},
   "source": [
    "We know that we would have to create `new_dir` in our iRODS home collection:"
   ]
  },
  {
   "cell_type": "code",
   "execution_count": null,
   "id": "4aee24f6",
   "metadata": {},
   "outputs": [],
   "source": [
    "name = path.name\n",
    "new_irods_coll_path = irods_path.joinpath(name)\n",
    "print(new_irods_coll_path)"
   ]
  },
  {
   "cell_type": "markdown",
   "id": "c0482bab",
   "metadata": {},
   "source": [
    "You see, that `path.name` gives us the name of the last part of the path. We join that name to the iRODS path and now we can create the new collection:"
   ]
  },
  {
   "cell_type": "code",
   "execution_count": null,
   "id": "e590f4d7",
   "metadata": {},
   "outputs": [],
   "source": [
    "coll = IrodsPath.create_collection(session, new_irods_coll_path)"
   ]
  },
  {
   "cell_type": "markdown",
   "id": "1da30ba5",
   "metadata": {},
   "source": [
    "## Summary"
   ]
  },
  {
   "cell_type": "markdown",
   "id": "e7dc79ec",
   "metadata": {},
   "source": [
    "To work with `pathlib` and `IrodsPath` is safer since it takes care of the correct concatenation of parts of the path according to the operating system and their specific setup."
   ]
  },
  {
   "cell_type": "code",
   "execution_count": null,
   "id": "20f547d9",
   "metadata": {},
   "outputs": [],
   "source": []
  }
 ],
 "metadata": {
  "kernelspec": {
   "display_name": "Python 3 (ipykernel)",
   "language": "python",
   "name": "python3"
  },
  "language_info": {
   "codemirror_mode": {
    "name": "ipython",
    "version": 3
   },
   "file_extension": ".py",
   "mimetype": "text/x-python",
   "name": "python",
   "nbconvert_exporter": "python",
   "pygments_lexer": "ipython3",
   "version": "3.10.13"
  }
 },
 "nbformat": 4,
 "nbformat_minor": 5
}
