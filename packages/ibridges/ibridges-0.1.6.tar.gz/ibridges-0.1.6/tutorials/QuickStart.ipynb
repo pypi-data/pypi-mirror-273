{
 "cells": [
  {
   "cell_type": "markdown",
   "id": "939d9be3",
   "metadata": {},
   "source": [
    "# irodsConnector "
   ]
  },
  {
   "cell_type": "markdown",
   "id": "e02a7976",
   "metadata": {},
   "source": [
    "## Create an iRODS session (connection to iRODS server)"
   ]
  },
  {
   "cell_type": "code",
   "execution_count": null,
   "id": "b6fd51d6",
   "metadata": {},
   "outputs": [],
   "source": [
    "import json\n",
    "from getpass import getpass\n",
    "from pathlib import Path\n",
    "\n",
    "from ibridges import Session\n",
    "from ibridges.path import IrodsPath\n"
   ]
  },
  {
   "cell_type": "markdown",
   "id": "cf584f48",
   "metadata": {},
   "source": [
    "#### Define your irods_environment.json\n",
    "iRODS clients expect the environment specifications to be placed in a folder `~/.irods`. this can look differently for linux/Mac and Windows. \n",
    "\n",
    "Please make sure you place the environment file as a plain json in the location below:"
   ]
  },
  {
   "cell_type": "code",
   "execution_count": null,
   "id": "e8602139",
   "metadata": {},
   "outputs": [],
   "source": [
    "env_file = Path.expanduser(Path(\"~\")).joinpath(\".irods\", \"irods_environment.json\")\n",
    "env_file.exists()"
   ]
  },
  {
   "cell_type": "markdown",
   "id": "2cc48382",
   "metadata": {},
   "source": [
    "### Password authentication"
   ]
  },
  {
   "cell_type": "code",
   "execution_count": null,
   "id": "cf36ab7b",
   "metadata": {},
   "outputs": [],
   "source": [
    "with open(env_file, \"r\") as f:\n",
    "    ienv = json.load(f)\n",
    "password = getpass(\"Your iRODS password\")\n",
    "session = Session(irods_env=ienv, password=password)"
   ]
  },
  {
   "cell_type": "markdown",
   "id": "53c83f1f",
   "metadata": {},
   "source": [
    "### Cache your password"
   ]
  },
  {
   "cell_type": "code",
   "execution_count": null,
   "id": "f43cd792",
   "metadata": {},
   "outputs": [],
   "source": [
    "session.write_pam_password()"
   ]
  },
  {
   "cell_type": "code",
   "execution_count": null,
   "id": "241622a0",
   "metadata": {},
   "outputs": [],
   "source": [
    "# Close the irods session when you do not need it any longer.\n",
    "session.close()"
   ]
  },
  {
   "cell_type": "markdown",
   "id": "33824686",
   "metadata": {},
   "source": [
    "Now you can use the next cell to login without providing your password. \n",
    "**Note** the cached password will expire."
   ]
  },
  {
   "cell_type": "markdown",
   "id": "71f001b3",
   "metadata": {},
   "source": [
    "### Authenticate using the cached password ~/.irods/.rodsA"
   ]
  },
  {
   "cell_type": "code",
   "execution_count": null,
   "id": "8e5a005a",
   "metadata": {},
   "outputs": [],
   "source": [
    "session = Session(irods_env=env_file)"
   ]
  },
  {
   "cell_type": "markdown",
   "id": "0fb9577d",
   "metadata": {},
   "source": [
    "### Checking some session parameters"
   ]
  },
  {
   "cell_type": "code",
   "execution_count": null,
   "id": "fe178d2c",
   "metadata": {},
   "outputs": [],
   "source": [
    "print(session.username)\n",
    "print(session.default_resc) # the resource to which data will be uploaded\n",
    "print(session.zone) # default home for iRODS /zone/home/username\n",
    "print(session.server_version)"
   ]
  },
  {
   "cell_type": "markdown",
   "id": "a3328263",
   "metadata": {},
   "source": [
    "## Working with data"
   ]
  },
  {
   "cell_type": "code",
   "execution_count": null,
   "id": "f56d4204",
   "metadata": {},
   "outputs": [],
   "source": [
    "from ibridges.data_operations import create_collection, get_size, obj_replicas\n",
    "from ibridges.data_operations import upload, download, get_dataobject, get_collection"
   ]
  },
  {
   "cell_type": "markdown",
   "id": "0b049405",
   "metadata": {},
   "source": [
    "### Create a collection"
   ]
  },
  {
   "cell_type": "markdown",
   "id": "93d67e1c",
   "metadata": {},
   "source": [
    "On a local file name we have folders/directories and files. In iRODS we call them collections and data objects. In contrast to files, data objects carry system metadata and user defined metadata. Likewise for collections."
   ]
  },
  {
   "cell_type": "code",
   "execution_count": null,
   "id": "6f8cb84d",
   "metadata": {},
   "outputs": [],
   "source": [
    "# build the path to your home collection on the iRODS server\n",
    "print(IrodsPath(session, \"~\"))"
   ]
  },
  {
   "cell_type": "code",
   "execution_count": null,
   "id": "55798670",
   "metadata": {},
   "outputs": [],
   "source": [
    "# extend the home path with a new sub collection\n",
    "irods_path = IrodsPath(session, \"~\", \"new_coll\")\n",
    "\n",
    "# assure that the collection does not already exist\n",
    "print(irods_path.collection_exists())\n",
    "\n",
    "# create the collection or simply retrieve the collection if it already existed \n",
    "coll = create_collection(session, irods_path)"
   ]
  },
  {
   "cell_type": "markdown",
   "id": "a7ba4aa9",
   "metadata": {},
   "source": [
    "Some information about the collection like name, path and data objects in the collection, cumulative size:"
   ]
  },
  {
   "cell_type": "code",
   "execution_count": null,
   "id": "d26b2fb6",
   "metadata": {},
   "outputs": [],
   "source": [
    "print('collection name\\t', coll.name)\n",
    "print('collection path\\t', coll.path)\n",
    "print('data objects\\t', coll.data_objects)\n",
    "print('cumulative size\\t', get_size(session, coll))"
   ]
  },
  {
   "cell_type": "markdown",
   "id": "6cd1bd28",
   "metadata": {},
   "source": [
    "### Upload a file or folder"
   ]
  },
  {
   "cell_type": "markdown",
   "id": "ec66ec0c",
   "metadata": {},
   "source": [
    "Create a lodal file:"
   ]
  },
  {
   "cell_type": "code",
   "execution_count": null,
   "id": "08d96d6c",
   "metadata": {},
   "outputs": [],
   "source": [
    "# create a local file\n",
    "local_path = Path.expanduser(Path('~')).joinpath(\"demofile.txt\")\n",
    "f = open(local_path, \"a\")\n",
    "f.write(\"My content! Super important\")\n",
    "f.close()"
   ]
  },
  {
   "cell_type": "markdown",
   "id": "9d9dee41",
   "metadata": {},
   "source": [
    "Determine the iRODS path the file should be uploaded to."
   ]
  },
  {
   "cell_type": "code",
   "execution_count": null,
   "id": "043536c3",
   "metadata": {},
   "outputs": [],
   "source": [
    "irods_path = IrodsPath(session, \"~\", \"new_coll\")\n",
    "if not irods_path.collection_exists():\n",
    "    coll = create_collection(session, irods_path)"
   ]
  },
  {
   "cell_type": "markdown",
   "id": "d0de939a",
   "metadata": {},
   "source": [
    "Upload data and get information:"
   ]
  },
  {
   "cell_type": "code",
   "execution_count": null,
   "id": "45991a0a",
   "metadata": {},
   "outputs": [],
   "source": [
    "# upload the file to our collection\n",
    "upload(session, local_path, irods_path, overwrite = True)\n",
    "\n",
    "# list again the data object in te collection\n",
    "coll = get_collection(session, irods_path)\n",
    "print('data objects\\t', coll.data_objects)\n",
    "print('cumulative size\\t', get_size(session, coll))"
   ]
  },
  {
   "cell_type": "markdown",
   "id": "a0893c4b",
   "metadata": {},
   "source": [
    "### Retrieve a  data object from iRODS and checking their status"
   ]
  },
  {
   "cell_type": "code",
   "execution_count": null,
   "id": "f6673452",
   "metadata": {},
   "outputs": [],
   "source": [
    "obj_path = IrodsPath(session, coll.path, 'demofile.txt')\n",
    "obj = get_dataobject(session, obj_path)"
   ]
  },
  {
   "cell_type": "markdown",
   "id": "b8f0d6e4",
   "metadata": {},
   "source": [
    "Some system metadata of the object:"
   ]
  },
  {
   "cell_type": "code",
   "execution_count": null,
   "id": "c8da0670",
   "metadata": {},
   "outputs": [],
   "source": [
    "print('data object name\\t', obj.name)\n",
    "print('data object path\\t', obj.path)\n",
    "print('data object size\\t', obj.size)\n",
    "print('data object checksum\\t', obj.checksum)\n",
    "print('data replicas\\t', obj_replicas(obj))"
   ]
  },
  {
   "cell_type": "markdown",
   "id": "6ed47426",
   "metadata": {},
   "source": [
    "### Open a data object in read or write mode"
   ]
  },
  {
   "cell_type": "code",
   "execution_count": null,
   "id": "93288ef0",
   "metadata": {},
   "outputs": [],
   "source": [
    "stream = obj.open('r')\n",
    "text = stream.read().decode()\n",
    "stream.close()\n",
    "print(text)"
   ]
  },
  {
   "cell_type": "code",
   "execution_count": null,
   "id": "1dec1c67",
   "metadata": {},
   "outputs": [],
   "source": [
    "# overwrite the content of the data object\n",
    "stream = obj.open('w')\n",
    "stream.write('My new text'.encode())\n",
    "stream.close()"
   ]
  },
  {
   "cell_type": "code",
   "execution_count": null,
   "id": "7aabdccf",
   "metadata": {},
   "outputs": [],
   "source": [
    "# check the changes\n",
    "with obj.open('r') as objRead:\n",
    "    print(objRead.read().decode())"
   ]
  },
  {
   "cell_type": "markdown",
   "id": "26bb46ff",
   "metadata": {},
   "source": [
    "### Download a data object or collection"
   ]
  },
  {
   "cell_type": "code",
   "execution_count": null,
   "id": "e734843b",
   "metadata": {},
   "outputs": [],
   "source": [
    "ipath = IrodsPath(session, coll.path)\n",
    "ipath.parts"
   ]
  },
  {
   "cell_type": "code",
   "execution_count": null,
   "id": "a54a1dd1",
   "metadata": {},
   "outputs": [],
   "source": [
    "from pathlib import Path\n",
    "local_path = Path(\"~/Downloads\").expanduser()\n",
    "print(\"Download folder exists\", local_path.is_dir())\n",
    "download(session, ipath, local_path, overwrite=True)"
   ]
  },
  {
   "cell_type": "markdown",
   "id": "4d4cff1c",
   "metadata": {},
   "source": [
    "### Delete a data object or collection"
   ]
  },
  {
   "cell_type": "code",
   "execution_count": null,
   "id": "efbef178",
   "metadata": {},
   "outputs": [],
   "source": [
    "obj.unlink()\n",
    "coll.remove()\n",
    "ipath.remove()"
   ]
  },
  {
   "cell_type": "markdown",
   "id": "5c1637df",
   "metadata": {},
   "source": [
    "## User defined metadata of data objects and collections"
   ]
  },
  {
   "cell_type": "code",
   "execution_count": null,
   "id": "928bf82c",
   "metadata": {},
   "outputs": [],
   "source": [
    "# upload a file\n",
    "local_path = Path(\"~\").expanduser().joinpath(\"demofile.txt\")\n",
    "irods_path = IrodsPath(session, \"~\", \"new_coll\")\n",
    "if not irods_path.collection_exists():\n",
    "    coll = create_collection(session, irods_path)\n",
    "upload(session, local_path, irods_path, overwrite = True)"
   ]
  },
  {
   "cell_type": "markdown",
   "id": "510e390a",
   "metadata": {},
   "source": [
    "### Retrieve an iRODS object or collection and list its metadata"
   ]
  },
  {
   "cell_type": "code",
   "execution_count": null,
   "id": "9ae7d602",
   "metadata": {},
   "outputs": [],
   "source": [
    "obj = get_dataobject(session, irods_path.joinpath(\"demofile.txt\")) "
   ]
  },
  {
   "cell_type": "code",
   "execution_count": null,
   "id": "2e8f3c90",
   "metadata": {},
   "outputs": [],
   "source": [
    "from ibridges.meta import MetaData\n",
    "obj_meta = MetaData(obj)\n",
    "print(obj_meta)"
   ]
  },
  {
   "cell_type": "markdown",
   "id": "42007e1e",
   "metadata": {},
   "source": [
    "### View, add, set and delete metadata"
   ]
  },
  {
   "cell_type": "code",
   "execution_count": null,
   "id": "cfa7f559",
   "metadata": {},
   "outputs": [],
   "source": [
    "obj_meta.add('NewKey', 'NewValue')\n",
    "obj_meta.add('NewKey', 'AnotherValue')\n",
    "print(obj_meta)"
   ]
  },
  {
   "cell_type": "code",
   "execution_count": null,
   "id": "d8aa144a",
   "metadata": {},
   "outputs": [],
   "source": [
    "obj_meta.delete('NewKey', 'NewValue')\n",
    "print(obj_meta)"
   ]
  },
  {
   "cell_type": "markdown",
   "id": "f7b5cafa",
   "metadata": {},
   "source": [
    "We can also set the meta data to a single key, value, units pair. This will remove any other entries with the same key."
   ]
  },
  {
   "cell_type": "code",
   "execution_count": null,
   "id": "770cbec2",
   "metadata": {},
   "outputs": [],
   "source": [
    "obj_meta.set(\"NewKey\", \"YetAnotherValue\")\n",
    "print(obj_meta)"
   ]
  },
  {
   "cell_type": "markdown",
   "id": "8c4ced48",
   "metadata": {},
   "source": [
    "### Accessing metadata \n",
    "With the orint function you can quickly inspect the metadata of an iRODS collection or object. If you want to extract and do something with the metadata, use the `__iter__` function. We give a small example below where we assume that the metadata contains a key/name *AUTHOR*:"
   ]
  },
  {
   "cell_type": "code",
   "execution_count": null,
   "id": "8debeb07",
   "metadata": {},
   "outputs": [],
   "source": [
    "for md in obj_meta.__iter__():\n",
    "    print(md.name, \"has value\", md.value)"
   ]
  },
  {
   "cell_type": "markdown",
   "id": "215251fc",
   "metadata": {},
   "source": [
    "## Search for data"
   ]
  },
  {
   "cell_type": "markdown",
   "id": "89009c88",
   "metadata": {},
   "source": [
    "How can you retrieve the location of an iRODS collection or data object by its metadata or partial part? To this end we provide the function `search`"
   ]
  },
  {
   "cell_type": "code",
   "execution_count": null,
   "id": "52cb2500",
   "metadata": {},
   "outputs": [],
   "source": [
    "from ibridges.search import search_data\n",
    "\n",
    "#all collections and objects with \n",
    "key_vals = {\"NEWKEY\": \"YetAnotherValue\"}\n",
    "result = search_data(session, key_vals=key_vals)\n",
    "print(result)"
   ]
  },
  {
   "cell_type": "markdown",
   "id": "9aca8830",
   "metadata": {},
   "source": [
    "The result gives us the collection, the object name, and its checksum.\n",
    "\n",
    "The wildcard in iRODS searches is the `%`."
   ]
  },
  {
   "cell_type": "code",
   "execution_count": null,
   "id": "6e750edb",
   "metadata": {},
   "outputs": [],
   "source": [
    "result = search_data(session, path=session.home+\"/new_coll/%\")\n",
    "print(result)"
   ]
  },
  {
   "cell_type": "markdown",
   "id": "82fb48cc",
   "metadata": {
    "heading_collapsed": true
   },
   "source": [
    "## Resources and handling resources"
   ]
  },
  {
   "cell_type": "code",
   "execution_count": null,
   "id": "7361e841",
   "metadata": {
    "hidden": true
   },
   "outputs": [],
   "source": [
    "from ibridges.resources import Resources\n",
    "resources = Resources(session)"
   ]
  },
  {
   "cell_type": "markdown",
   "id": "3ed14f46",
   "metadata": {
    "hidden": true
   },
   "source": [
    "### Check if default resource exists"
   ]
  },
  {
   "cell_type": "code",
   "execution_count": null,
   "id": "26c6e657",
   "metadata": {
    "hidden": true
   },
   "outputs": [],
   "source": [
    "default_resc = resources.get_resource(session._irods_env.get(\"irods_default_resource\", \"\"))\n",
    "print(default_resc.name)\n",
    "print(default_resc.free_space) # Metadata how much bytes are left on resource, None if not set\n",
    "print(default_resc.type) # Storage policy"
   ]
  },
  {
   "cell_type": "markdown",
   "id": "f2fa5b6e",
   "metadata": {
    "hidden": true
   },
   "source": [
    "### Listing resources"
   ]
  },
  {
   "cell_type": "code",
   "execution_count": null,
   "id": "e309d749",
   "metadata": {
    "hidden": true
   },
   "outputs": [],
   "source": [
    "print(resources.resources()) # all resources\n",
    "print()\n",
    "print(resources.root_resources) # all writeable resources (name, status, free space, context)"
   ]
  },
  {
   "cell_type": "markdown",
   "id": "7fbfa57b",
   "metadata": {
    "hidden": true
   },
   "source": [
    "### Retrieve current free space\n",
    "In contrast to `resc.free_space` the function `get_free_space` accumulates all free space in the subtree starting with the resource as parent."
   ]
  },
  {
   "cell_type": "code",
   "execution_count": null,
   "id": "f1dc3412",
   "metadata": {
    "hidden": true
   },
   "outputs": [],
   "source": [
    "resources.get_free_space(session._irods_env.get(\"irods_default_resource\", \"\")) # default resource name"
   ]
  },
  {
   "cell_type": "markdown",
   "id": "377409c4",
   "metadata": {},
   "source": [
    "## Tickets (access string to collection or data object)"
   ]
  },
  {
   "cell_type": "markdown",
   "id": "ecc98bb6",
   "metadata": {},
   "source": [
    "### List all tickets which you issued"
   ]
  },
  {
   "cell_type": "code",
   "execution_count": null,
   "id": "06b5a060",
   "metadata": {},
   "outputs": [],
   "source": [
    "from ibridges.tickets import Tickets\n",
    "tickets = Tickets(session)\n",
    "print(tickets.all_ticket_strings)\n",
    "print(list(tickets)) # (ticket string, access mode, object or collection id, expiry date in epoche)"
   ]
  },
  {
   "cell_type": "markdown",
   "id": "11360619",
   "metadata": {},
   "source": [
    "### Issue a ticket"
   ]
  },
  {
   "cell_type": "code",
   "execution_count": null,
   "id": "f1911d89",
   "metadata": {},
   "outputs": [],
   "source": [
    "from datetime import datetime, timedelta\n",
    "\n",
    "objPath = IrodsPath(session, \"~\", \"new_coll\", \"demofile.txt\")\n",
    "objPath.dataobject_exists()\n",
    "ticket = tickets.create_ticket(obj_path=objPath, ticket_type=\"write\", \n",
    "                               expiry_date=datetime.today() + timedelta(days=1))  # allow write access"
   ]
  },
  {
   "cell_type": "code",
   "execution_count": null,
   "id": "b04270a7-d839-4c0d-950f-a529ea8b27bf",
   "metadata": {},
   "outputs": [],
   "source": [
    "print(\"Ticket strings:\\t\", tickets.all_ticket_strings)\n",
    "for ticket in tickets:\n",
    "    print(ticket)"
   ]
  },
  {
   "cell_type": "markdown",
   "id": "0306bac1",
   "metadata": {},
   "source": [
    "### Fetch and delete a ticket"
   ]
  },
  {
   "cell_type": "code",
   "execution_count": null,
   "id": "b1579c56",
   "metadata": {},
   "outputs": [],
   "source": [
    "ticket = tickets.get_ticket(tickets.all_ticket_strings[0])\n",
    "tickets.delete_ticket(ticket)"
   ]
  },
  {
   "cell_type": "markdown",
   "id": "e99c08e5",
   "metadata": {},
   "source": [
    "## Rules\n",
    "### Execute an iRODS rule from a rule file:"
   ]
  },
  {
   "cell_type": "code",
   "execution_count": null,
   "id": "3913b742",
   "metadata": {},
   "outputs": [],
   "source": [
    "from ibridges.rules import execute_rule\n",
    "rule_file = \"example_rules/example.r\"\n",
    "params = {}\n",
    "stdout, stderr = execute_rule(session, rule_file, params)"
   ]
  },
  {
   "cell_type": "code",
   "execution_count": null,
   "id": "900f8ab2",
   "metadata": {},
   "outputs": [],
   "source": [
    "print(stdout)\n",
    "print(stderr)"
   ]
  },
  {
   "cell_type": "markdown",
   "id": "0a64b6b1",
   "metadata": {},
   "source": [
    "### Executing a rule or a microservice on the server.\n",
    "The variable `instance_name` denotes which rule engine to use. Here we take the standard irods rule engine. Another possibility is the python rule engine. Please consult the [iRODS manual](https://docs.irods.org/4.3.2). The rule `printHello` is a standard microservice on all iRODS servers in the core rule engine."
   ]
  },
  {
   "cell_type": "code",
   "execution_count": null,
   "id": "6001026c",
   "metadata": {},
   "outputs": [],
   "source": [
    "rule_file  = None\n",
    "params = None\n",
    "std_out, std_err = execute_rule(session, rule_file, params, body = 'printHello',\n",
    "                                instance_name = 'irods_rule_engine_plugin-irods_rule_language-instance')\n",
    "print(stdout)"
   ]
  },
  {
   "cell_type": "markdown",
   "id": "97970ce3",
   "metadata": {},
   "source": [
    "### Overwrite parameters in iRODS rules\n",
    "iRODS rule files end with a line like `input *in=\"This is a string or a path or etc\"`. In this example there is an input parameter called `'*in'` and it takes the value `\"This is a string or a path or etc\"`. We can overwrite these values by passing a python dictionary:"
   ]
  },
  {
   "cell_type": "code",
   "execution_count": null,
   "id": "5a6ce87a",
   "metadata": {},
   "outputs": [],
   "source": [
    "params = {'*in': '\"Another input\"'}\n",
    "stdout, stderr = execute_rule(session, rule_file, params)\n",
    "print(stdout)"
   ]
  },
  {
   "cell_type": "markdown",
   "id": "afb54c03",
   "metadata": {},
   "source": [
    "Changing the type of the parameter from str to int, you can also see that keys in the dictionary which do not correspond to an input parameter, are simply ignored."
   ]
  },
  {
   "cell_type": "code",
   "execution_count": null,
   "id": "d06d1f54",
   "metadata": {},
   "outputs": [],
   "source": [
    "params = {'*in': 4, '*another_val': '\"Value\"'}\n",
    "stdout, stderr = execute_rule(session, rule_file, params)\n",
    "print(stdout)"
   ]
  },
  {
   "cell_type": "markdown",
   "id": "30a2d4a6",
   "metadata": {},
   "source": [
    "## Permissions"
   ]
  },
  {
   "cell_type": "markdown",
   "id": "0abc7c82",
   "metadata": {},
   "source": [
    "### Accessing the permissions of a data object or collection in iRODS\n",
    "\n",
    "Objects and collections have permissions attached to them. Permissions, which work like access levels, must be specified per user or group. The basic permissions are `own` (implies reading and writing), `modify object` (editing and reading), and `read object`."
   ]
  },
  {
   "cell_type": "code",
   "execution_count": null,
   "id": "1eb3a627",
   "metadata": {},
   "outputs": [],
   "source": [
    "from ibridges.permissions import Permissions\n",
    "\n",
    "# select a file to inspect and set permissions on\n",
    "item_path = session.home # Path to collection or data object\n",
    "item = get_collection(session, item_path) # TODO: exchange once data_ops is done\n",
    "\n",
    "# instantiate permissions with that object\n",
    "perm = Permissions(session, item)\n",
    "print(f'Permissions for {item_path}:\\n')\n",
    "print(perm)"
   ]
  },
  {
   "cell_type": "markdown",
   "id": "f2d1c093",
   "metadata": {},
   "source": [
    "### Available permissions on your iRODS server"
   ]
  },
  {
   "cell_type": "code",
   "execution_count": null,
   "id": "691dbaa1",
   "metadata": {},
   "outputs": [],
   "source": [
    "perm.available_permissions"
   ]
  },
  {
   "cell_type": "markdown",
   "id": "b84f75ba",
   "metadata": {},
   "source": [
    "### Adding permissions to a collection or data object"
   ]
  },
  {
   "cell_type": "code",
   "execution_count": null,
   "id": "4e2e1737",
   "metadata": {},
   "outputs": [],
   "source": [
    "perm.set('modify object', '<username or group name>')\n",
    "print(perm)"
   ]
  },
  {
   "cell_type": "markdown",
   "id": "e5779c58",
   "metadata": {},
   "source": [
    "Note that some permission-types have synonyms:\n",
    "\n",
    "+ read object: 'read', 'read object', 'read_object'\n",
    "+ modify object: 'write', 'modify object', 'modify_object'"
   ]
  },
  {
   "cell_type": "markdown",
   "id": "8c2ba10d",
   "metadata": {},
   "source": [
    "### Removing permissions"
   ]
  },
  {
   "cell_type": "code",
   "execution_count": null,
   "id": "21bda746",
   "metadata": {},
   "outputs": [],
   "source": [
    "perm.set('null', '<username or group name>')\n",
    "print(perm)"
   ]
  },
  {
   "cell_type": "markdown",
   "id": "4d52f16b",
   "metadata": {},
   "source": [
    "### Inheritance"
   ]
  },
  {
   "cell_type": "markdown",
   "id": "76942f18",
   "metadata": {},
   "source": [
    "Collections have two special permissions level `inherit` and `noinherit`. From the point in time where inheritance in switched on, all newly added subcollections and data objects will inherit their initial permissions from the collection."
   ]
  },
  {
   "cell_type": "code",
   "execution_count": null,
   "id": "60251c8a",
   "metadata": {},
   "outputs": [],
   "source": [
    "# Retrieve a collection from iRODS\n",
    "coll_path = session.home\n",
    "coll = session.irods_session.collections.get(item_path)\n",
    "coll_perm = Permissions(session, coll)\n",
    "\n",
    "#Switch inheritance on\n",
    "coll_perm.set('inherit')\n",
    "print(coll_perm)"
   ]
  },
  {
   "cell_type": "code",
   "execution_count": null,
   "id": "ec9bd025",
   "metadata": {},
   "outputs": [],
   "source": [
    "# Switch inheritance off\n",
    "coll_perm.set('noinherit')\n",
    "print(coll_perm)"
   ]
  },
  {
   "cell_type": "code",
   "execution_count": null,
   "id": "79a02f14",
   "metadata": {},
   "outputs": [],
   "source": []
  }
 ],
 "metadata": {
  "kernelspec": {
   "display_name": "Python 3 (ipykernel)",
   "language": "python",
   "name": "python3"
  },
  "language_info": {
   "codemirror_mode": {
    "name": "ipython",
    "version": 3
   },
   "file_extension": ".py",
   "mimetype": "text/x-python",
   "name": "python",
   "nbconvert_exporter": "python",
   "pygments_lexer": "ipython3",
   "version": "3.9.18"
  }
 },
 "nbformat": 4,
 "nbformat_minor": 5
}
