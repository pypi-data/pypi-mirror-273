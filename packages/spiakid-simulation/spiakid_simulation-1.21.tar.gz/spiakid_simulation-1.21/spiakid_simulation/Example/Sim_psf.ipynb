{
 "cells": [
  {
   "attachments": {},
   "cell_type": "markdown",
   "metadata": {},
   "source": [
    "PSF Simulation\n",
    "==============\n",
    "\n",
    "The goal of this simulation is to create a PSF (Point Source Function) to place photons according their wavelength and the parameters of the telescope and the atmosphere.\n",
    "\n",
    "Careful: if you look at the input file, you can see that the processor number is equal to 5. If your computer/servor can't use all those processors, change it !"
   ]
  },
  {
   "attachments": {},
   "cell_type": "markdown",
   "metadata": {},
   "source": [
    "First, let's import the packages we need:"
   ]
  },
  {
   "cell_type": "code",
   "execution_count": null,
   "metadata": {},
   "outputs": [],
   "source": [
    "import numpy as np\n",
    "import matplotlib.pyplot as plt\n",
    "import spiakid_simulation.PhotonSimulator as PS"
   ]
  },
  {
   "attachments": {},
   "cell_type": "markdown",
   "metadata": {},
   "source": [
    "Then, let's run the simulator:"
   ]
  },
  {
   "cell_type": "code",
   "execution_count": null,
   "metadata": {},
   "outputs": [],
   "source": [
    "sim = PS.PhotonSimulator('Template_psf.yaml')"
   ]
  },
  {
   "attachments": {},
   "cell_type": "markdown",
   "metadata": {},
   "source": [
    "Now, all the results are available, let's look all what does the PSF looks like at diffrent wavelength:"
   ]
  },
  {
   "cell_type": "code",
   "execution_count": null,
   "metadata": {},
   "outputs": [],
   "source": [
    "wavelength = np.linspace(0.4,0.8,40)\n",
    "plt.figure(figsize=(10,10))\n",
    "plt.subplot(2,2,1)\n",
    "plt.imshow(sim.psf_visu[:,:,0],origin='lower')\n",
    "plt.title('PSF at '+str(wavelength[0])+'µm')\n",
    "plt.colorbar()\n",
    "plt.subplot(2,2,2)\n",
    "plt.imshow(sim.psf_visu[:,:,10],origin='lower')\n",
    "plt.title('PSF at '+str(wavelength[10])+'µm')\n",
    "plt.colorbar()\n",
    "plt.subplot(2,2,3)\n",
    "plt.imshow(sim.psf_visu[:,:,20],origin='lower')\n",
    "plt.title('PSF at '+str(wavelength[20])+'µm')\n",
    "plt.colorbar()\n",
    "plt.subplot(2,2,4)\n",
    "plt.imshow(sim.psf_visu[:,:,39],origin='lower')\n",
    "plt.title('PSF at '+str(wavelength[39])+'µm')\n",
    "plt.colorbar()"
   ]
  },
  {
   "attachments": {},
   "cell_type": "markdown",
   "metadata": {},
   "source": [
    "Those PSF are respected when all the photons are placed on the result, if we look at photons, we can see that the low wavelength are more distributed on the picture than the high wavelength which are more centered:"
   ]
  },
  {
   "cell_type": "code",
   "execution_count": null,
   "metadata": {},
   "outputs": [],
   "source": [
    "x = []\n",
    "y = []\n",
    "lbd = []\n",
    "size = np.shape(sim.psf_visu)\n",
    "for i in range(len(sim.photon_dict_on_PSF[0])):\n",
    "    x.append(sim.photon_dict_on_PSF[0][i][0])\n",
    "    y.append(sim.photon_dict_on_PSF[0][i][1])\n",
    "    lbd.append(sim.photon_dict_on_PSF[0][i][2])\n",
    "plt.scatter(x,y,c=lbd)\n",
    "plt.colorbar()\n",
    "plt.xlim([0-size[0]/2,0+size[0]/2])\n",
    "plt.ylim([0-size[0]/2,0+size[0]/2])"
   ]
  },
  {
   "attachments": {},
   "cell_type": "markdown",
   "metadata": {},
   "source": [
    "Maybe you can see that some photons with a high wavelength are still far from the center. It is because the probability is not 0 and it can have luck."
   ]
  },
  {
   "attachments": {},
   "cell_type": "markdown",
   "metadata": {},
   "source": [
    "If you look in your folder, you can see the fits file. This is the save file of the PSF we just generated, let's look at it:"
   ]
  },
  {
   "cell_type": "code",
   "execution_count": null,
   "metadata": {},
   "outputs": [],
   "source": [
    "from astropy.io import fits\n",
    "from astropy.wcs import WCS\n"
   ]
  },
  {
   "cell_type": "code",
   "execution_count": null,
   "metadata": {},
   "outputs": [],
   "source": [
    "file = fits.open('PSF.fits')[0]\n",
    "wcs = WCS(file.header)"
   ]
  },
  {
   "cell_type": "code",
   "execution_count": null,
   "metadata": {},
   "outputs": [],
   "source": [
    "fig = plt.figure()\n",
    "fig.add_subplot(111, projection=wcs,slices=(0,'y','x'))\n",
    "plt.imshow(file.data[:,:,0], origin='lower')\n",
    "plt.title('PSF at 0.4µm')"
   ]
  }
 ],
 "metadata": {
  "kernelspec": {
   "display_name": "sim_env",
   "language": "python",
   "name": "python3"
  },
  "language_info": {
   "codemirror_mode": {
    "name": "ipython",
    "version": 3
   },
   "file_extension": ".py",
   "mimetype": "text/x-python",
   "name": "python",
   "nbconvert_exporter": "python",
   "pygments_lexer": "ipython3",
   "version": "3.10.12"
  },
  "orig_nbformat": 4,
  "vscode": {
   "interpreter": {
    "hash": "8670868e01929712f50dd97a406782e899e5f5ce47feda352077786530c2f839"
   }
  }
 },
 "nbformat": 4,
 "nbformat_minor": 2
}
