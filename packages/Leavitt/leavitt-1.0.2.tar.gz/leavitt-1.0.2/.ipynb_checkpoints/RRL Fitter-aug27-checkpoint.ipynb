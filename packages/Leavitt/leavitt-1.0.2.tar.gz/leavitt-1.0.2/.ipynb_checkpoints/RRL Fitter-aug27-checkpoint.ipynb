{
 "cells": [
  {
   "cell_type": "code",
   "execution_count": 1,
   "metadata": {
    "ExecuteTime": {
     "end_time": "2021-08-26T23:23:41.973177Z",
     "start_time": "2021-08-26T23:23:39.222258Z"
    },
    "scrolled": true
   },
   "outputs": [
    {
     "name": "stderr",
     "output_type": "stream",
     "text": [
      "C:\\Users\\kylem\\Anaconda3\\lib\\site-packages\\numpy\\_distributor_init.py:32: UserWarning: loaded more than 1 DLL from .libs:\n",
      "C:\\Users\\kylem\\Anaconda3\\lib\\site-packages\\numpy\\.libs\\libopenblas.GK7GX5KEQ4F6UYO3P26ULGBQYHGQO7J4.gfortran-win_amd64.dll\n",
      "C:\\Users\\kylem\\Anaconda3\\lib\\site-packages\\numpy\\.libs\\libopenblas.IPBC74C7KURV7CB2PKT5Z5FNR3SIBV4J.gfortran-win_amd64.dll\n",
      "  stacklevel=1)\n"
     ]
    }
   ],
   "source": [
    "import numpy as np\n",
    "import matplotlib.pyplot as plt\n",
    "%matplotlib inline\n",
    "from scipy.optimize import curve_fit\n",
    "from scipy.interpolate import interp1d\n",
    "import os\n",
    "from dl import queryClient as qc\n",
    "from astropy.table import Table, vstack\n",
    "import utils\n",
    "from collections import Counter"
   ]
  },
  {
   "cell_type": "code",
   "execution_count": 2,
   "metadata": {
    "ExecuteTime": {
     "end_time": "2021-08-26T23:23:42.003317Z",
     "start_time": "2021-08-26T23:23:41.973177Z"
    }
   },
   "outputs": [],
   "source": [
    "import pdb"
   ]
  },
  {
   "cell_type": "code",
   "execution_count": null,
   "metadata": {
    "ExecuteTime": {
     "end_time": "2021-08-25T19:20:08.674863Z",
     "start_time": "2021-08-25T19:20:08.666849Z"
    }
   },
   "outputs": [],
   "source": []
  },
  {
   "cell_type": "code",
   "execution_count": 3,
   "metadata": {
    "ExecuteTime": {
     "end_time": "2021-08-26T23:23:42.019275Z",
     "start_time": "2021-08-26T23:23:42.007306Z"
    }
   },
   "outputs": [],
   "source": [
    "pltdir = 'results/plots'\n",
    "if not os.path.exists(pltdir):\n",
    "    os.makedirs(pltdir)"
   ]
  },
  {
   "cell_type": "code",
   "execution_count": 4,
   "metadata": {
    "ExecuteTime": {
     "end_time": "2021-08-26T23:23:42.067147Z",
     "start_time": "2021-08-26T23:23:42.022266Z"
    }
   },
   "outputs": [
    {
     "data": {
      "text/plain": [
       "'D:\\\\msu\\\\DavidNidever\\\\TempletFit'"
      ]
     },
     "execution_count": 4,
     "metadata": {},
     "output_type": "execute_result"
    }
   ],
   "source": [
    "os.getcwd()"
   ]
  },
  {
   "cell_type": "code",
   "execution_count": 5,
   "metadata": {
    "ExecuteTime": {
     "end_time": "2021-08-26T23:23:42.128981Z",
     "start_time": "2021-08-26T23:23:42.070139Z"
    }
   },
   "outputs": [],
   "source": [
    "gldrrab = np.loadtxt('goldsample/golden_RRab.txt',delimiter=',',dtype=str)\n",
    "gldall  = np.loadtxt('goldsample/all_gold_sample.txt',dtype=str)\n",
    "gldelse = np.array(list(set(gldall) - set(gldrrab)))"
   ]
  },
  {
   "cell_type": "code",
   "execution_count": null,
   "metadata": {},
   "outputs": [],
   "source": []
  },
  {
   "cell_type": "code",
   "execution_count": null,
   "metadata": {},
   "outputs": [],
   "source": []
  },
  {
   "cell_type": "code",
   "execution_count": 6,
   "metadata": {
    "ExecuteTime": {
     "end_time": "2021-08-26T23:23:42.638249Z",
     "start_time": "2021-08-26T23:23:42.132973Z"
    },
    "code_folding": [
     57
    ]
   },
   "outputs": [],
   "source": [
    "import psearch_py3\n",
    "from scipy.signal import find_peaks, peak_prominences\n",
    "\n",
    "def get_data(objname, bands = ['u','g','r','i','z','Y','VR']):\n",
    "    \"\"\"Query the object by name, extract light curves, \n",
    "       error, filters and top N estimated periods.\"\"\"\n",
    "    df=qc.query(sql=\"\"\"SELECT meas.* FROM nsc_dr2.meas\n",
    "                     WHERE objectid='{:s}'\"\"\".format(objname),\n",
    "              fmt='pandas')\n",
    "    \n",
    "    selbnds = [i for i, val in enumerate(df['filter']) if val in bands]\n",
    "#     selfwhm = np.where(df['fwhm'] <= 4.0)[0]\n",
    "#     sel = [x for x in selbnds if x in selfwhm]\n",
    "    sel = selbnds\n",
    "\n",
    "    crvdat           = Table([df['mjd'][sel]],names=['mjd'])\n",
    "    crvdat['mag']    = df['mag_auto'][sel]\n",
    "    crvdat['err']    = df['magerr_auto'][sel]\n",
    "    crvdat['fltr']   = -1\n",
    "    for i in range(len(crvdat)):\n",
    "        crvdat['fltr'][i] = bands.index(df['filter'][sel[i]])\n",
    "    crvdat.sort(['fltr','mjd'])\n",
    "    print(Counter(df['filter']))\n",
    "    return crvdat\n",
    "\n",
    "def get_periods(mjd,mag,err,fltr,objname='',N = 5,pmin=.2,bands=['u','g','r','i','z','Y','VR']):\n",
    "    \n",
    "    # The filter information here uses indices determined from the order they\n",
    "    # appear in bands. To run psearch we want to reassign these indices to remove\n",
    "    # any unused bands. For example, if only 'g', 'r' and 'z' are used, indices\n",
    "    # should be 0,1,2 and not 1,2,4.\n",
    "    \n",
    "    cnt  = Counter(fltr)\n",
    "    \n",
    "    mult = np.where(np.array(list(cnt.values()))>1)[0]\n",
    "    sel  = np.in1d(fltr, mult)\n",
    "    \n",
    "    fltinds = list(set(fltr))\n",
    "    replace = {fltinds[i]:i for i in range(len(fltinds))}\n",
    "    newinds = np.array([replace.get(n,n) for n in fltr],dtype=np.float64)\n",
    "    fltrnms = (np.array(bands))[list(set(fltr[sel]))]\n",
    "    \n",
    "    dphi = 0.02\n",
    "    plist, psiarray, thresh = \\\n",
    "            psearch_py3.psearch_py( mjd[sel], mag[sel], err[sel], \n",
    "                                   newinds[sel], fltrnms, pmin, dphi )\n",
    "    \n",
    "    psi = psiarray.sum(0)\n",
    "    \n",
    "    pkinds = find_peaks(psi,distance=len(plist)/2000)[0]\n",
    "    prom   = peak_prominences(psi,pkinds)[0]\n",
    "    inds0  = pkinds[np.argsort(-prom)[:10*N]]\n",
    "    inds   = inds0[np.argsort(-psi[inds0])[:N]]\n",
    "    plot_periodogram(plist,psi,inds,objname)\n",
    "    \n",
    "    return plist[inds]\n",
    "\n",
    "def plot_periodogram(prds,psi,inds,objname='',outdir='results/plots'):\n",
    "   \n",
    "    fig, ax = plt.subplots(figsize=(10,7))\n",
    "        \n",
    "    ax.plot(prds,psi,lw=0.1)\n",
    "    ax.scatter(prds[inds[1:]],psi[inds[1:]],c='k',s=10)\n",
    "    ax.scatter(prds[inds[0]],psi[inds[0]],c='r',s=12)\n",
    "    \n",
    "    ax.set_xlabel('log period (days)',fontsize=18)\n",
    "    ax.set_ylabel('psi',fontsize=18)\n",
    "    ax.set_title('{} Periodogram'.format(objname),fontsize=20)\n",
    "    ax.set_xscale('log')\n",
    "    ax.text(0.7,0.9,'best period = {:.3f} days'.format(prds[inds[0]]),transform=ax.transAxes,color='r')\n",
    "    \n",
    "#     fig.savefig(outdir+'\\\\{}_periodogram.png'.format(objname))\n",
    "    \n",
    "    # create zoomed in copy\n",
    "    ax.set_title('{} Periodogram Zoomed In'.format(objname),fontsize=20)\n",
    "    minp = min(prds[inds])\n",
    "    maxp = max(prds[inds])\n",
    "    ax.set_xlim(minp*.67,maxp*1.33)\n",
    "    fig.savefig(outdir+'\\\\{}_periodogram_zoomedin.png'.format(objname))\n",
    "    \n",
    "    plt.close(fig)\n",
    "    return"
   ]
  },
  {
   "cell_type": "code",
   "execution_count": 7,
   "metadata": {
    "ExecuteTime": {
     "end_time": "2021-08-26T23:23:42.653587Z",
     "start_time": "2021-08-26T23:23:42.638249Z"
    }
   },
   "outputs": [],
   "source": [
    "# res0=qc.query(sql=\"\"\"SELECT id\n",
    "#                 FROM nsc_dr2.object\n",
    "#                 WHERE variable10sig=1 and ndet>=30\"\"\",\n",
    "#              fmt='table')\n",
    "# res0"
   ]
  },
  {
   "cell_type": "code",
   "execution_count": 8,
   "metadata": {
    "ExecuteTime": {
     "end_time": "2021-08-26T23:23:42.685501Z",
     "start_time": "2021-08-26T23:23:42.657578Z"
    },
    "code_folding": []
   },
   "outputs": [],
   "source": [
    "def get_data_pix(pix, bands=['u','g','r','i','z','Y','VR']):\n",
    "    res=qc.query(sql=\"\"\"SELECT meas.mjd,mag_auto,magerr_auto,objectid,filter,meas.fwhm\n",
    "                    FROM nsc_dr2.meas JOIN nsc_dr2.object ON meas.objectid=object.id \n",
    "                    WHERE pix={:d} and variable10sig=1 and ndet>=30\"\"\".format(pix),\n",
    "                 fmt='table')\n",
    "    \n",
    "    selbnds = [i for i, val in enumerate(res['filter']) if val in bands]\n",
    "    selfwhm = np.where(res['fwhm'] <= 8.0)[0]\n",
    "    sel = [x for x in selbnds if x in selfwhm]\n",
    "    \n",
    "    res['fltr']   = -1\n",
    "    for i in sel:\n",
    "        res['fltr'][i] = bands.index(res['filter'][i])\n",
    "    \n",
    "    res.rename_column('mag_auto', 'mag')\n",
    "    res.rename_column('magerr_auto', 'err')\n",
    "    res.sort(['objectid','fltr','mjd'])\n",
    "    \n",
    "    return res[res['fltr']>=0]"
   ]
  },
  {
   "cell_type": "code",
   "execution_count": 9,
   "metadata": {
    "ExecuteTime": {
     "end_time": "2021-08-26T23:23:42.761300Z",
     "start_time": "2021-08-26T23:23:42.688500Z"
    },
    "code_folding": [
     1,
     12,
     26,
     83
    ]
   },
   "outputs": [],
   "source": [
    "class RRLfitter:\n",
    "    def __init__ (self, tmps, fltnames= ['u','g','r','i','z','Y','VR'], ampratio=[1.81480451,1.46104910,1.0,0.79662171,0.74671563,0.718746,1.050782]):\n",
    "        # constants\n",
    "        self.tmps     = tmps # Table containing templates\n",
    "        self.fltnames = fltnames # list of names of usable filters\n",
    "        self.Nflts    = len(fltnames) # number of usable filters\n",
    "        self.ampratio = np.array(ampratio)\n",
    "        # model variables\n",
    "        self.fltinds  = [] # list of filter index values (0:'u', 1:'g', etc.)\n",
    "        self.tmpind   = 1 # index of template currently being used 1,2,...,N\n",
    "        self.period   = 1\n",
    "        \n",
    "    def model(self, t, *args):\n",
    "        \"\"\"modify the template using peak-to-peak amplitude and yoffset\n",
    "        input times t should be epoch folded, phase shift to match template\"\"\"\n",
    "        t0 = args[0]\n",
    "        amplist = (args[1] * self.ampratio)[self.fltinds]\n",
    "        yofflist = np.array(args[2:])[self.fltinds]\n",
    "        \n",
    "        ph = (t - t0) / self.period %1\n",
    "        template = interp1d(self.tmps.columns[0],self.tmps.columns[self.tmpind])(ph)\n",
    "        \n",
    "        mag = template * amplist + yofflist\n",
    "        \n",
    "        return mag\n",
    "\n",
    "    def tmpfit(self,mjd,mag,err,fltinds,plist,initpars=None):\n",
    "        self.fltinds = fltinds\n",
    "        if isinstance(plist, (int,float)):\n",
    "            plist = [plist]\n",
    "        \n",
    "        \n",
    "        if initpars is None:\n",
    "            initpars = np.zeros( 2 + self.Nflts )\n",
    "            initpars[0]  = min(mjd)\n",
    "            ampest = []\n",
    "            for f in set(fltinds):\n",
    "                initpars[f+2] = np.median(mag[fltinds==f])\n",
    "                ampest.append( (max(mag[fltinds==f])-min(mag[fltinds==f]))/self.ampratio[f] )\n",
    "            initpars[1]  = np.mean(ampest)\n",
    "        bounds = ( np.zeros(2+self.Nflts), np.zeros(2+self.Nflts))\n",
    "        bounds[0][0] =  0.0\n",
    "        bounds[1][0] = np.inf\n",
    "        bounds[0][1] =  0.0\n",
    "        bounds[1][1] = 50.0\n",
    "        bounds[0][2:]=-50.0\n",
    "        bounds[1][2:]= 50.0\n",
    "\n",
    "        for i in set(range(self.Nflts))-set(self.fltinds):\n",
    "            initpars[2+i]  =   0\n",
    "            bounds[0][2+i] = -10**-6\n",
    "            bounds[1][2+i] =  10**-6\n",
    "        \n",
    "        minx2    = 2**99\n",
    "        bestpars = np.zeros( 2 + self.Nflts )\n",
    "        besttmp  =-1\n",
    "        besterr  = 0\n",
    "        bestprd  = 0\n",
    "        for p in plist:\n",
    "            self.period = p\n",
    "            \n",
    "            for n in range(1,len(self.tmps.columns)):\n",
    "                self.tmpind = n\n",
    "                \n",
    "                try:\n",
    "                    pars, cov = curve_fit(self.model, mjd, mag, \n",
    "                                          bounds=bounds, sigma=err,\n",
    "                                          p0=initpars, maxfev=5000)\n",
    "                except RuntimeError:\n",
    "                    continue\n",
    "                x2 = sum((self.model(mjd,*pars)-mag)**2/err**2)\n",
    "                if x2 < minx2:\n",
    "                    minx2 = x2\n",
    "                    bestpars = pars\n",
    "                    besterr = np.sqrt(np.diag(cov))\n",
    "                    bestprd = p\n",
    "                    besttmp = n\n",
    "                    \n",
    "        self.period = bestprd\n",
    "        self.tmpind = besttmp\n",
    "        \n",
    "        return bestpars, bestprd, besterr, besttmp, minx2\n",
    "\n",
    "    def fit_plot(self,objname,N=10):\n",
    "        crvdat = get_data(objname,bands=self.fltnames)\n",
    "        \n",
    "        plist  = get_periods(crvdat['mjd'],crvdat['mag'],crvdat['err'],crvdat['fltr'],\n",
    "                             objname=objname,bands=self.fltnames,N=10)\n",
    "\n",
    "        # Fit curve\n",
    "        pars,p,err,tmpind,chi2 = self.tmpfit(crvdat['mjd'],crvdat['mag'],crvdat['err'],crvdat['fltr'],plist)\n",
    "        \n",
    "        # Reject outliers, select inliers\n",
    "        resid   = np.array(crvdat['mag']-self.model(crvdat['mjd'],*pars))\n",
    "        crvdat['inlier'] = abs(resid)<utils.mad(resid)*5\n",
    "        \n",
    "#         pdb.set_trace()\n",
    "        \n",
    "        # Fit with inliers only\n",
    "        pars,p,err,tmpind,chi2 = self.tmpfit(crvdat['mjd'][crvdat['inlier']],crvdat['mag'][crvdat['inlier']],\n",
    "                                             crvdat['err'][crvdat['inlier']],crvdat['fltr'][crvdat['inlier']],plist,pars)\n",
    "        \n",
    "#         pdb.set_trace()\n",
    "        redchi2 = chi2/(sum(crvdat['inlier'])-len(set(crvdat['fltr'][crvdat['inlier']]))-2)\n",
    "        \n",
    "        # get the filters with inlier data (incase it's different from all data)\n",
    "        inlierflts = set(crvdat['fltr'][crvdat['inlier']])\n",
    "        # Add phase to crvdat and sort\n",
    "        crvdat['ph'] = ph = (crvdat['mjd'] - pars[0]) / p %1\n",
    "        crvdat.sort(['fltr','ph'])\n",
    "        self.fltinds = crvdat['fltr']\n",
    "        \n",
    "        # Plot\n",
    "        colors  = ['#1f77b4','#2ca02c','#d62728','#9467bd','#8c564b','y','k']\n",
    "        nf      = len(inlierflts) # Number of filters with inliers\n",
    "        fig, ax = plt.subplots(nf, figsize=(12,4*(nf**.75+1)), sharex=True)\n",
    "        if nf == 1:\n",
    "            ax  = [ax]\n",
    "        \n",
    "        for i,f in enumerate(inlierflts):\n",
    "            sel = crvdat['fltr'] == f\n",
    "            ax[i].scatter(crvdat['ph'][sel],crvdat['mag'][sel],c=colors[f])\n",
    "            ax[i].scatter(crvdat['ph'][sel]+1,crvdat['mag'][sel],c=colors[f])\n",
    "            tmpmag = np.tile(self.tmps.columns[tmpind]*pars[1]*self.ampratio[f]+pars[2:][f],2)\n",
    "            tmpph  = np.tile(self.tmps['PH'],2)+([0]*len(self.tmps['PH'])+[1]*len(self.tmps['PH']))\n",
    "            ax[i].plot(tmpph,tmpmag,c='k')\n",
    "            ax[i].invert_yaxis()\n",
    "            ax[i].set_ylabel(self.fltnames[f], fontsize=20)\n",
    "        \n",
    "        ax[-1].set_xlabel('Phase', fontsize=20)\n",
    "        ax[0].set_title(\"Object: {}    Period: {:.3f} d    Type: {}\".format(\n",
    "                                            objname,p,self.tmps.colnames[tmpind]), fontsize=22)\n",
    "        fig.savefig('results/plots/{}_plot.png'.format(objname))\n",
    "        plt.close(fig)\n",
    "        \n",
    "        # save parameters and results\n",
    "        res = Table([[objname]],names=['name'])\n",
    "        res['period'] = p\n",
    "        res['t0']     = pars[0]\n",
    "        res['r amp']  = pars[1]\n",
    "        for i in range(2,len(pars)):\n",
    "            f = self.fltnames[i-2]\n",
    "            res['{} mag'.format(f)] = pars[i]\n",
    "        res['chi2']   = chi2\n",
    "        res['redchi2']= redchi2\n",
    "        res['template']= self.tmps.colnames[tmpind]\n",
    "        res['t0 err']     = err[0]\n",
    "        res['amp err']  = err[1]\n",
    "        for i in range(2,len(err)):\n",
    "            f = self.fltnames[i-2]\n",
    "            res['{} mag err'.format(f)] = err[i]\n",
    "        res['Ndat']      = len(crvdat)\n",
    "        res['N inliers'] = sum(crvdat['inlier'])\n",
    "        for i in range(len(self.fltnames)):\n",
    "            f = self.fltnames[i]\n",
    "            res['N {}'.format(f)] = sum(crvdat['fltr'][crvdat['inlier']]==i)\n",
    "        res.write('results/{}_res.fits'.format(objname),format='fits',overwrite=True)\n",
    "        \n",
    "        return\n",
    "        \n",
    "tmps = Table.read('templates/layden_templates.fits',format='fits')['PH','RRA1','RRA2','RRA3','RRB1','RRB2','RRB3','RRC']\n",
    "fitter  = RRLfitter(tmps,['u','g','r','i','z','Y','VR'],[1.8148,1.4610,1.0,0.7966,0.7467,0.7187,1.0507])"
   ]
  },
  {
   "cell_type": "code",
   "execution_count": 11,
   "metadata": {
    "ExecuteTime": {
     "end_time": "2021-08-26T23:23:42.838462Z",
     "start_time": "2021-08-26T23:23:42.826128Z"
    }
   },
   "outputs": [],
   "source": [
    "# fitter.fit_plot('93142_19513')"
   ]
  },
  {
   "cell_type": "code",
   "execution_count": null,
   "metadata": {},
   "outputs": [],
   "source": []
  },
  {
   "cell_type": "code",
   "execution_count": 12,
   "metadata": {
    "ExecuteTime": {
     "end_time": "2021-08-26T23:23:44.200319Z",
     "start_time": "2021-08-26T23:23:42.841405Z"
    },
    "scrolled": true
   },
   "outputs": [
    {
     "name": "stdout",
     "output_type": "stream",
     "text": [
      "Counter({'g': 290, 'r': 79, 'z': 63, 'i': 62, 'Y': 29, 'u': 12})\n"
     ]
    },
    {
     "data": {
      "text/html": [
       "<i>Table length=535</i>\n",
       "<table id=\"table2047949642568\" class=\"table-striped table-bordered table-condensed\">\n",
       "<thead><tr><th>mjd</th><th>mag</th><th>err</th><th>fltr</th></tr></thead>\n",
       "<thead><tr><th>float64</th><th>float64</th><th>float64</th><th>int32</th></tr></thead>\n",
       "<tr><td>56334.19526092103</td><td>17.42736</td><td>0.017268</td><td>0</td></tr>\n",
       "<tr><td>56334.22976698587</td><td>17.410707</td><td>0.027501</td><td>0</td></tr>\n",
       "<tr><td>56334.27989741601</td><td>17.352345</td><td>0.016589</td><td>0</td></tr>\n",
       "<tr><td>56335.16262369463</td><td>17.101646</td><td>0.017363</td><td>0</td></tr>\n",
       "<tr><td>56335.17847384699</td><td>17.116926</td><td>0.009703</td><td>0</td></tr>\n",
       "<tr><td>56335.20693657221</td><td>17.230808</td><td>0.009371</td><td>0</td></tr>\n",
       "<tr><td>56335.27806130424</td><td>17.313482</td><td>0.017699</td><td>0</td></tr>\n",
       "<tr><td>56336.291757553816</td><td>16.908064</td><td>0.01413</td><td>0</td></tr>\n",
       "<tr><td>56445.99277376616</td><td>17.272001</td><td>0.010492</td><td>0</td></tr>\n",
       "<tr><td>56446.00538721168</td><td>17.267464</td><td>0.009153</td><td>0</td></tr>\n",
       "<tr><td>...</td><td>...</td><td>...</td><td>...</td></tr>\n",
       "<tr><td>56345.20983221568</td><td>16.001152</td><td>0.00274</td><td>5</td></tr>\n",
       "<tr><td>56345.21307363082</td><td>15.983674</td><td>0.002771</td><td>5</td></tr>\n",
       "<tr><td>56345.21628144989</td><td>15.959062</td><td>0.00286</td><td>5</td></tr>\n",
       "<tr><td>57423.27293308126</td><td>15.724058</td><td>0.004857</td><td>5</td></tr>\n",
       "<tr><td>57423.37040039431</td><td>15.799369</td><td>0.005057</td><td>5</td></tr>\n",
       "<tr><td>57790.18365140678</td><td>15.816866</td><td>0.005778</td><td>5</td></tr>\n",
       "<tr><td>57790.18815670908</td><td>15.843768</td><td>0.005752</td><td>5</td></tr>\n",
       "<tr><td>57790.1925863754</td><td>15.828862</td><td>0.005453</td><td>5</td></tr>\n",
       "<tr><td>57790.19482452981</td><td>15.839632</td><td>0.005816</td><td>5</td></tr>\n",
       "<tr><td>57790.19704652531</td><td>15.839128</td><td>0.005768</td><td>5</td></tr>\n",
       "</table>"
      ],
      "text/plain": [
       "<Table length=535>\n",
       "       mjd            mag      err     fltr\n",
       "     float64        float64  float64  int32\n",
       "------------------ --------- -------- -----\n",
       " 56334.19526092103  17.42736 0.017268     0\n",
       " 56334.22976698587 17.410707 0.027501     0\n",
       " 56334.27989741601 17.352345 0.016589     0\n",
       " 56335.16262369463 17.101646 0.017363     0\n",
       " 56335.17847384699 17.116926 0.009703     0\n",
       " 56335.20693657221 17.230808 0.009371     0\n",
       " 56335.27806130424 17.313482 0.017699     0\n",
       "56336.291757553816 16.908064  0.01413     0\n",
       " 56445.99277376616 17.272001 0.010492     0\n",
       " 56446.00538721168 17.267464 0.009153     0\n",
       "               ...       ...      ...   ...\n",
       " 56345.20983221568 16.001152  0.00274     5\n",
       " 56345.21307363082 15.983674 0.002771     5\n",
       " 56345.21628144989 15.959062  0.00286     5\n",
       " 57423.27293308126 15.724058 0.004857     5\n",
       " 57423.37040039431 15.799369 0.005057     5\n",
       " 57790.18365140678 15.816866 0.005778     5\n",
       " 57790.18815670908 15.843768 0.005752     5\n",
       "  57790.1925863754 15.828862 0.005453     5\n",
       " 57790.19482452981 15.839632 0.005816     5\n",
       " 57790.19704652531 15.839128 0.005768     5"
      ]
     },
     "execution_count": 12,
     "metadata": {},
     "output_type": "execute_result"
    }
   ],
   "source": [
    "crvdat = get_data('93142_19513')\n",
    "crvdat"
   ]
  },
  {
   "cell_type": "code",
   "execution_count": null,
   "metadata": {},
   "outputs": [],
   "source": [
    "\n"
   ]
  },
  {
   "cell_type": "code",
   "execution_count": 13,
   "metadata": {
    "ExecuteTime": {
     "end_time": "2021-08-26T23:23:44.639058Z",
     "start_time": "2021-08-26T23:23:44.203311Z"
    }
   },
   "outputs": [
    {
     "name": "stderr",
     "output_type": "stream",
     "text": [
      "C:\\Users\\kylem\\Anaconda3\\lib\\site-packages\\statsmodels\\tools\\_testing.py:19: FutureWarning: pandas.util.testing is deprecated. Use the functions in the public API at pandas.testing instead.\n",
      "  import pandas.util.testing as tm\n"
     ]
    }
   ],
   "source": [
    "import selftemplate"
   ]
  },
  {
   "cell_type": "code",
   "execution_count": 18,
   "metadata": {
    "ExecuteTime": {
     "end_time": "2021-08-26T23:34:59.059516Z",
     "start_time": "2021-08-26T23:34:58.070544Z"
    },
    "scrolled": true
   },
   "outputs": [
    {
     "name": "stdout",
     "output_type": "stream",
     "text": [
      "Niter =  0\n",
      "Bands =  [0 1 2 3 4 5]\n",
      "Amps =  [0.21760467 0.28423923 0.20672133 0.15855298 0.132752   0.12251858]\n",
      "Mnmag =  [17.20101375 16.23752875 16.029173   16.01011125 16.0260335  15.971368  ]\n",
      "phase min =  0.9200000000000002\n",
      "shifting phase minimum by  -0.0800\n",
      "RMS =  999999.0\n",
      "Niter =  1\n",
      "Bands =  [0 1 2 3 4 5]\n",
      "Amps =  [ 0.8268805   0.76535001  0.09367143 -0.05822246 -0.17844374 -0.2184914 ]\n",
      "Mnmag =  [16.62916824 15.61397223 15.92544751 16.0947337  16.16613984 16.0761901 ]\n",
      "chisq =  2624516.410041648\n",
      "phase min =  0.75\n",
      "shifting phase minimum by  -0.2500\n",
      "RMS =  0.3600524417046836\n",
      "Niter =  2\n",
      "Bands =  [0 1 2 3 4 5]\n",
      "Amps =  [-0.52551689 -0.38879277 -0.1805888  -0.1423915  -0.08617462 -1.00222983]\n",
      "Mnmag =  [17.42400267 16.34415338 16.06870002 16.0849976  16.07074256 16.69288604]\n",
      "chisq =  3887066.3575232294\n",
      "phase min =  0.99\n",
      "shifting phase minimum by  -0.0100\n",
      "RMS =  0.30246087105094516\n",
      "Niter =  3\n",
      "Bands =  [0 1 2 3 4 5]\n",
      "Amps =  [-1.15159611 -1.03635009 -0.70652776 -0.5230354  -0.47659748 -0.55016135]\n",
      "Mnmag =  [17.74911317 16.65693555 16.40046961 16.27801928 16.20974686 16.20401687]\n",
      "chisq =  261374.42716451955\n",
      "phase min =  0.009999999999999981\n",
      "RMS =  0.1339814732666265\n",
      "Niter =  4\n",
      "Bands =  [0 1 2 3 4 5]\n",
      "Amps =  [-0.91830843 -0.91219452 -0.6213209  -0.47808306 -0.47796957 -0.42200857]\n",
      "Mnmag =  [17.5811426  16.52702306 16.318446   16.22898516 16.19045705 16.11155405]\n",
      "chisq =  76998.42634837111\n",
      "phase min =  0.03\n",
      "shifting phase minimum by   0.0300\n",
      "RMS =  0.0993706604274817\n",
      "Niter =  5\n",
      "Bands =  [0 1 2 3 4 5]\n",
      "Amps =  [-0.85194715 -0.84879929 -0.60842914 -0.45021994 -0.44803412 -0.29073866]\n",
      "Mnmag =  [17.6188604  16.56121906 16.34482792 16.24465195 16.20464662 16.06651255]\n",
      "chisq =  901671.5787174839\n",
      "phase min =  0.01999999999999999\n",
      "shifting phase minimum by   0.0200\n",
      "RMS =  0.13654949216441756\n",
      "Niter =  6\n",
      "Bands =  [0 1 2 3 4 5]\n",
      "Amps =  [-0.88245653 -0.93715246 -0.6634229  -0.49048562 -0.491591   -0.30440587]\n",
      "Mnmag =  [17.63932261 16.60630347 16.36860171 16.26619308 16.24593798 16.0768041 ]\n",
      "chisq =  393061.26845146366\n",
      "phase min =  0.009999999999999981\n",
      "RMS =  0.11976030632289372\n",
      "Final parameters =  [ 6.05271090e-01  5.63161313e+04 -8.82456534e-01 -9.37152455e-01\n",
      " -6.63422897e-01 -4.90485618e-01 -4.91591004e-01 -3.04405870e-01\n",
      "  1.76393226e+01  1.66063035e+01  1.63686017e+01  1.62661931e+01\n",
      "  1.62459380e+01  1.60768041e+01]\n"
     ]
    }
   ],
   "source": [
    "bands,pars,template,chisq = selftemplate.selftemplate(crvdat,0.60527109,verbose=True)"
   ]
  },
  {
   "cell_type": "code",
   "execution_count": 27,
   "metadata": {
    "ExecuteTime": {
     "end_time": "2021-08-26T23:38:19.762991Z",
     "start_time": "2021-08-26T23:38:19.750027Z"
    }
   },
   "outputs": [
    {
     "data": {
      "text/plain": [
       "array([ 6.05271090e-01,  5.63161313e+04, -8.82456534e-01, -9.37152455e-01,\n",
       "       -6.63422897e-01, -4.90485618e-01, -4.91591004e-01, -3.04405870e-01,\n",
       "        1.76393226e+01,  1.66063035e+01,  1.63686017e+01,  1.62661931e+01,\n",
       "        1.62459380e+01,  1.60768041e+01])"
      ]
     },
     "execution_count": 27,
     "metadata": {},
     "output_type": "execute_result"
    }
   ],
   "source": [
    "pars"
   ]
  },
  {
   "cell_type": "code",
   "execution_count": 28,
   "metadata": {
    "ExecuteTime": {
     "end_time": "2021-08-27T00:47:02.454835Z",
     "start_time": "2021-08-27T00:47:02.195371Z"
    }
   },
   "outputs": [
    {
     "data": {
      "text/plain": [
       "<matplotlib.collections.PathCollection at 0x1dcd69d7e08>"
      ]
     },
     "execution_count": 28,
     "metadata": {},
     "output_type": "execute_result"
    },
    {
     "data": {
      "image/png": "[encoded data removed]",
      "text/plain": [
       "<Figure size 432x288 with 1 Axes>"
      ]
     },
     "metadata": {
      "needs_background": "light"
     },
     "output_type": "display_data"
    }
   ],
   "source": [
    "plt.scatter(template['phase'],template['flux'])\n",
    "plt.scatter(crvdat['mjd']/0.60527109%1,crvdat['mag']-15.5)"
   ]
  },
  {
   "cell_type": "code",
   "execution_count": null,
   "metadata": {},
   "outputs": [],
   "source": []
  },
  {
   "cell_type": "code",
   "execution_count": null,
   "metadata": {
    "ExecuteTime": {
     "end_time": "2021-08-26T23:23:45.982751Z",
     "start_time": "2021-08-26T23:23:39.284Z"
    },
    "code_folding": []
   },
   "outputs": [],
   "source": [
    "def fit_plot_pix(pix):\n",
    "    alldat = get_data_pix(pix,bands=fitter.fltnames)\n",
    "    \n",
    "    objs = set(alldat['objectid'])\n",
    "    \n",
    "    for objname in objs:\n",
    "        print(objname)\n",
    "        selobj = alldat['objectid'] == objname\n",
    "        crvdat = alldat[selobj]\n",
    "        \n",
    "        plist  = get_periods(crvdat['mjd'],crvdat['mag'],crvdat['err'],crvdat['fltr'],\n",
    "                             objname=objname,bands=fitter.fltnames,N=10)\n",
    "\n",
    "        # Fit curve\n",
    "        pars,p,err,tmpind,chi2 = fitter.tmpfit(crvdat['mjd'],crvdat['mag'],crvdat['err'],crvdat['fltr'],plist)\n",
    "\n",
    "        # Reject outliers, select inliers\n",
    "        resid   = np.array(abs(crvdat['mag']-fitter.model(crvdat['mjd'],*pars)))\n",
    "        crvdat['inlier'] = resid<utils.mad(resid)*5\n",
    "\n",
    "        # Fit with inliers only\n",
    "        pars,p,err,tmpind,chi2 = fitter.tmpfit(crvdat['mjd'][crvdat['inlier']],crvdat['mag'][crvdat['inlier']],\n",
    "                                             crvdat['err'][crvdat['inlier']],crvdat['fltr'][crvdat['inlier']],plist,pars)\n",
    "\n",
    "        redchi2 = chi2/(sum(crvdat['inlier'])-len(set(crvdat['fltr'][crvdat['inlier']]))-2)\n",
    "\n",
    "        # get the filters with inlier data (incase it's different from all data)\n",
    "        inlierflts = set(crvdat['fltr'][crvdat['inlier']])\n",
    "        # Add phase to crvdat and sort\n",
    "        crvdat['ph'] = ph = (crvdat['mjd'] - pars[0]) / p %1\n",
    "        crvdat.sort(['fltr','ph'])\n",
    "        fitter.fltinds = crvdat['fltr']\n",
    "\n",
    "        # Plot\n",
    "        colors  = ['#1f77b4','#2ca02c','#d62728','#9467bd','#8c564b','y','k']\n",
    "        nf      = len(inlierflts) # Number of filters with inliers\n",
    "        fig, ax = plt.subplots(nf, figsize=(12,4*(nf**.75+1)), sharex=True)\n",
    "        if nf == 1:\n",
    "            ax  = [ax]\n",
    "\n",
    "        for i,f in enumerate(inlierflts):\n",
    "            sel = crvdat['fltr'] == f\n",
    "            ax[i].scatter(crvdat['ph'][sel],crvdat['mag'][sel],c=colors[f])\n",
    "            ax[i].scatter(crvdat['ph'][sel]+1,crvdat['mag'][sel],c=colors[f])\n",
    "            tmpmag = np.tile(fitter.tmps.columns[tmpind]*pars[1]*fitter.ampratio[f]+pars[2:][f],2)\n",
    "            tmpph  = np.tile(fitter.tmps['PH'],2)+([0]*len(fitter.tmps['PH'])+[1]*len(fitter.tmps['PH']))\n",
    "            ax[i].plot(tmpph,tmpmag,c='k')\n",
    "            ax[i].invert_yaxis()\n",
    "            ax[i].set_ylabel(fitter.fltnames[f], fontsize=20)\n",
    "\n",
    "        ax[-1].set_xlabel('Phase', fontsize=20)\n",
    "        ax[0].set_title(\"Object: {}    Period: {:.3f} d    Type: {}\".format(\n",
    "                                            objname,p,fitter.tmps.colnames[tmpind]), fontsize=22)\n",
    "        fig.savefig('results/plots/{}_plot.png'.format(objname))\n",
    "        plt.close(fig)\n",
    "\n",
    "        # save parameters and results\n",
    "        res = Table([[objname]],names=['name'])\n",
    "        res['period']    = p\n",
    "        res['t0']        = pars[0]\n",
    "        res['r amp']     = pars[1]\n",
    "        for i in range(2,len(pars)):\n",
    "            f = fitter.fltnames[i-2]\n",
    "            res['{} mag'.format(f)] = pars[i]\n",
    "        res['chi2']      = chi2\n",
    "        res['redchi2']   = redchi2\n",
    "        res['template']  = fitter.tmps.colnames[tmpind]\n",
    "        res['t0 err']    = err[0]\n",
    "        res['amp err']   = err[1]\n",
    "        for i in range(2,len(err)):\n",
    "            f = fitter.fltnames[i-2]\n",
    "            res['{} mag err'.format(f)] = err[i]\n",
    "        res['Ndat']      = len(crvdat)\n",
    "        res['N inliers'] = sum(crvdat['inlier'])\n",
    "        for i in range(len(fitter.fltnames)):\n",
    "            f = fitter.fltnames[i]\n",
    "            res['N {}'.format(f)] = sum(crvdat['fltr'][crvdat['inlier']]==i)\n",
    "        res.write('results/{}_res.fits'.format(objname),format='fits',overwrite=True)\n",
    "\n",
    "    return"
   ]
  },
  {
   "cell_type": "code",
   "execution_count": null,
   "metadata": {},
   "outputs": [],
   "source": []
  },
  {
   "cell_type": "code",
   "execution_count": null,
   "metadata": {
    "ExecuteTime": {
     "end_time": "2021-08-26T23:23:45.985742Z",
     "start_time": "2021-08-26T23:23:39.287Z"
    }
   },
   "outputs": [],
   "source": [
    "fit_plot_pix(196000)"
   ]
  },
  {
   "cell_type": "code",
   "execution_count": null,
   "metadata": {},
   "outputs": [],
   "source": []
  },
  {
   "cell_type": "code",
   "execution_count": null,
   "metadata": {},
   "outputs": [],
   "source": []
  },
  {
   "cell_type": "code",
   "execution_count": null,
   "metadata": {
    "ExecuteTime": {
     "end_time": "2021-08-26T23:23:45.988733Z",
     "start_time": "2021-08-26T23:23:39.290Z"
    },
    "scrolled": true
   },
   "outputs": [],
   "source": [
    "fails = []\n",
    "# for nm in gldrrab[:0]:\n",
    "#     try:\n",
    "#         print(nm)\n",
    "#         print('* * * * * * * * * * *')\n",
    "#         fitter.fit_plot(nm)\n",
    "#     except:\n",
    "#         print('failed on {}'.format(nm))\n",
    "#         print('+ + + + + + + + + + +')\n",
    "#         fails.append(nm)\n",
    "#         continue"
   ]
  },
  {
   "cell_type": "code",
   "execution_count": null,
   "metadata": {
    "ExecuteTime": {
     "end_time": "2021-08-26T23:23:45.990729Z",
     "start_time": "2021-08-26T23:23:39.296Z"
    }
   },
   "outputs": [],
   "source": [
    "fails"
   ]
  },
  {
   "cell_type": "markdown",
   "metadata": {},
   "source": [
    "['107453_1174',\n",
    " '124971_10347',\n",
    " '147091_47354',\n",
    " '148119_78165',\n",
    " '148623_30790',\n",
    " '148630_76049',\n",
    " '148631_115031',\n",
    " '148631_24329',\n",
    " '148631_95231',\n",
    " '149142_91743',\n",
    " '149144_103050',\n",
    " '149144_46718',\n",
    " '149144_94834',\n",
    " '150167_1560',\n",
    " '150167_9176',\n",
    " '150168_1381',\n",
    " '150168_18639',\n",
    " '188977_12448',\n",
    " '188977_16385',\n",
    " '188977_3062',\n",
    " '188978_7752']"
   ]
  },
  {
   "cell_type": "code",
   "execution_count": null,
   "metadata": {},
   "outputs": [],
   "source": []
  },
  {
   "cell_type": "code",
   "execution_count": null,
   "metadata": {},
   "outputs": [],
   "source": []
  },
  {
   "cell_type": "markdown",
   "metadata": {
    "ExecuteTime": {
     "end_time": "2021-08-03T14:34:51.712016Z",
     "start_time": "2021-08-03T14:34:51.698617Z"
    }
   },
   "source": [
    "- - -"
   ]
  },
  {
   "cell_type": "code",
   "execution_count": null,
   "metadata": {},
   "outputs": [],
   "source": []
  },
  {
   "cell_type": "code",
   "execution_count": null,
   "metadata": {},
   "outputs": [],
   "source": []
  },
  {
   "cell_type": "code",
   "execution_count": null,
   "metadata": {},
   "outputs": [],
   "source": []
  },
  {
   "cell_type": "code",
   "execution_count": null,
   "metadata": {
    "ExecuteTime": {
     "end_time": "2021-08-26T23:23:45.992722Z",
     "start_time": "2021-08-26T23:23:39.308Z"
    }
   },
   "outputs": [],
   "source": [
    "objs = []\n",
    "# for nm in gldrrab:\n",
    "#     df=qc.query(sql=\"\"\"SELECT meas.* \n",
    "#                  FROM nsc_dr2.meas\n",
    "#                  WHERE objectid='{:s}'\"\"\".format(nm),\n",
    "#           fmt='pandas')\n",
    "#     ct = collections.Counter(df['filter'])\n",
    "#     if ct['Y'] < 40:\n",
    "#         continue\n",
    "#     if ct['VR'] < 40:\n",
    "#         continue\n",
    "#     print('')\n",
    "#     print(nm)\n",
    "#     objs.append(nm)\n",
    "#     print(ct)"
   ]
  },
  {
   "cell_type": "code",
   "execution_count": null,
   "metadata": {},
   "outputs": [],
   "source": []
  },
  {
   "cell_type": "code",
   "execution_count": null,
   "metadata": {
    "ExecuteTime": {
     "end_time": "2021-08-26T23:23:45.994717Z",
     "start_time": "2021-08-26T23:23:39.311Z"
    },
    "scrolled": true
   },
   "outputs": [],
   "source": [
    "from scipy.optimize import minimize\n",
    "ratiolist = []\n",
    "for nm in objs:\n",
    "    print(nm)\n",
    "    crvdat,plist = get_data(nm,N=3,bands=['u','g','r','i','z','Y','VR'])\n",
    "    print(plist)\n",
    "    def ratios(*pars):\n",
    "        pars = pars[0]\n",
    "        fittY.ampratio = np.array([1.81480451,1.46104910,1.0,0.79662171,0.74671563,pars[0],pars[1]])\n",
    "        pars, p0, err, tmpind, x2 = fittY.tmpfit(crvdat['mjd'],crvdat['mag'],crvdat['err'],crvdat['fltr'],plist[0])\n",
    "        return x2\n",
    "    \n",
    "    minres = minimize(ratios,[[1.,1.]],bounds = [(.1,2),(.1,2)]).x\n",
    "    \n",
    "    fittY.ampratio = np.array([1.81480451,1.46104910,1.0,0.79662171,0.74671563,minres[0],minres[1]])\n",
    "    print(fittY.ampratio)\n",
    "    ratiolist.append(fittY.ampratio)\n",
    "    fittY.fit_plot(nm,crvdat,plist)"
   ]
  },
  {
   "cell_type": "code",
   "execution_count": null,
   "metadata": {
    "ExecuteTime": {
     "end_time": "2021-08-26T23:23:45.996711Z",
     "start_time": "2021-08-26T23:23:39.314Z"
    }
   },
   "outputs": [],
   "source": [
    "ratioarray = np.array(ratiolist)"
   ]
  },
  {
   "cell_type": "code",
   "execution_count": null,
   "metadata": {
    "ExecuteTime": {
     "end_time": "2021-08-26T23:23:45.997708Z",
     "start_time": "2021-08-26T23:23:39.316Z"
    }
   },
   "outputs": [],
   "source": [
    "objs"
   ]
  },
  {
   "cell_type": "code",
   "execution_count": null,
   "metadata": {},
   "outputs": [],
   "source": []
  },
  {
   "cell_type": "code",
   "execution_count": null,
   "metadata": {},
   "outputs": [],
   "source": []
  },
  {
   "cell_type": "code",
   "execution_count": null,
   "metadata": {},
   "outputs": [],
   "source": []
  },
  {
   "cell_type": "code",
   "execution_count": null,
   "metadata": {},
   "outputs": [],
   "source": []
  },
  {
   "cell_type": "code",
   "execution_count": null,
   "metadata": {
    "ExecuteTime": {
     "end_time": "2021-08-26T23:23:45.999703Z",
     "start_time": "2021-08-26T23:23:39.325Z"
    }
   },
   "outputs": [],
   "source": [
    "from astropy.table import Table, Column, vstack\n",
    "from glob import glob\n",
    "# rows = []\n",
    "# nms  = []\n",
    "# for path in glob('results/res7/*.fits'):\n",
    "#     rows.append(Table.read(path))\n",
    "#     nms.append(path[13:-9])\n",
    "# rrlres = vstack(rows)\n",
    "# rrlres['name'] = Column(nms)\n",
    "# rrlres.write('rrlres.fits',format='fits',overwrite=True)\n",
    "# rrlres.sort('redchi2')"
   ]
  },
  {
   "cell_type": "code",
   "execution_count": null,
   "metadata": {
    "ExecuteTime": {
     "end_time": "2021-08-26T23:23:46.000701Z",
     "start_time": "2021-08-26T23:23:39.327Z"
    },
    "scrolled": true
   },
   "outputs": [],
   "source": [
    "rrlres = Table.read('rrlres7.fits')\n",
    "rrlres"
   ]
  },
  {
   "cell_type": "code",
   "execution_count": null,
   "metadata": {
    "ExecuteTime": {
     "end_time": "2021-08-24T21:28:11.129402Z",
     "start_time": "2021-08-24T21:28:11.118430Z"
    }
   },
   "outputs": [],
   "source": []
  },
  {
   "cell_type": "code",
   "execution_count": null,
   "metadata": {
    "ExecuteTime": {
     "end_time": "2021-08-26T23:23:46.002695Z",
     "start_time": "2021-08-26T23:23:39.329Z"
    }
   },
   "outputs": [],
   "source": [
    "plt.scatter(rrlres['period'],rrlres['r amp'])\n",
    "plt.xlim(0,1)\n",
    "plt.ylim(0,1.5)"
   ]
  },
  {
   "cell_type": "code",
   "execution_count": null,
   "metadata": {},
   "outputs": [],
   "source": []
  },
  {
   "cell_type": "code",
   "execution_count": null,
   "metadata": {},
   "outputs": [],
   "source": []
  },
  {
   "cell_type": "code",
   "execution_count": null,
   "metadata": {},
   "outputs": [],
   "source": []
  },
  {
   "cell_type": "code",
   "execution_count": null,
   "metadata": {},
   "outputs": [],
   "source": []
  },
  {
   "cell_type": "code",
   "execution_count": null,
   "metadata": {
    "ExecuteTime": {
     "end_time": "2021-08-26T23:23:46.003693Z",
     "start_time": "2021-08-26T23:23:39.335Z"
    }
   },
   "outputs": [],
   "source": [
    "selVR = rrlres['N VR'] > 30\n",
    "rrlres[selVR]"
   ]
  },
  {
   "cell_type": "code",
   "execution_count": null,
   "metadata": {
    "ExecuteTime": {
     "end_time": "2021-08-26T23:23:46.005688Z",
     "start_time": "2021-08-26T23:23:39.337Z"
    }
   },
   "outputs": [],
   "source": [
    "selVR = rrlres['N Y'] > 30\n",
    "rrlres[selVR]"
   ]
  },
  {
   "cell_type": "code",
   "execution_count": 37,
   "metadata": {
    "ExecuteTime": {
     "end_time": "2021-08-27T20:18:26.279994Z",
     "start_time": "2021-08-27T20:18:26.265074Z"
    }
   },
   "outputs": [],
   "source": [
    "import RRLfit"
   ]
  },
  {
   "cell_type": "code",
   "execution_count": 38,
   "metadata": {
    "ExecuteTime": {
     "end_time": "2021-08-27T20:18:28.569175Z",
     "start_time": "2021-08-27T20:18:28.558193Z"
    }
   },
   "outputs": [],
   "source": [
    "rrlfitter = RRLfit.RRLfitter(tmps,['u','g','r','i','z','Y','VR'],[1.8148,1.4610,1.0,0.7966,0.7467,0.7187,1.0507])"
   ]
  },
  {
   "cell_type": "code",
   "execution_count": null,
   "metadata": {},
   "outputs": [],
   "source": [
    "crvdat = get_data('')"
   ]
  },
  {
   "cell_type": "code",
   "execution_count": 36,
   "metadata": {
    "ExecuteTime": {
     "end_time": "2021-08-27T20:18:15.205848Z",
     "start_time": "2021-08-27T20:18:15.184460Z"
    }
   },
   "outputs": [
    {
     "ename": "AttributeError",
     "evalue": "'RRLfitter' object has no attribute 'get_periods'",
     "output_type": "error",
     "traceback": [
      "\u001b[1;31m---------------------------------------------------------------------------\u001b[0m",
      "\u001b[1;31mAttributeError\u001b[0m                            Traceback (most recent call last)",
      "\u001b[1;32m<ipython-input-36-54324e51290d>\u001b[0m in \u001b[0;36m<module>\u001b[1;34m\u001b[0m\n\u001b[1;32m----> 1\u001b[1;33m \u001b[0mplist\u001b[0m \u001b[1;33m=\u001b[0m \u001b[0mrrlfitter\u001b[0m\u001b[1;33m.\u001b[0m\u001b[0mget_periods\u001b[0m\u001b[1;33m(\u001b[0m\u001b[0mcrvdat\u001b[0m\u001b[1;33m[\u001b[0m\u001b[1;34m'mjd'\u001b[0m\u001b[1;33m]\u001b[0m\u001b[1;33m,\u001b[0m\u001b[0mcrvdat\u001b[0m\u001b[1;33m[\u001b[0m\u001b[1;34m'mag'\u001b[0m\u001b[1;33m]\u001b[0m\u001b[1;33m,\u001b[0m\u001b[0mcrvdat\u001b[0m\u001b[1;33m[\u001b[0m\u001b[1;34m'err'\u001b[0m\u001b[1;33m]\u001b[0m\u001b[1;33m,\u001b[0m\u001b[0mcrvdat\u001b[0m\u001b[1;33m[\u001b[0m\u001b[1;34m'fltr'\u001b[0m\u001b[1;33m]\u001b[0m\u001b[1;33m)\u001b[0m\u001b[1;33m\u001b[0m\u001b[1;33m\u001b[0m\u001b[0m\n\u001b[0m",
      "\u001b[1;31mAttributeError\u001b[0m: 'RRLfitter' object has no attribute 'get_periods'"
     ]
    }
   ],
   "source": [
    "plist = rrlfitter.get_periods(crvdat['mjd'],crvdat['mag'],crvdat['err'],crvdat['fltr'])"
   ]
  },
  {
   "cell_type": "code",
   "execution_count": 32,
   "metadata": {
    "ExecuteTime": {
     "end_time": "2021-08-27T20:17:09.609901Z",
     "start_time": "2021-08-27T20:17:09.577930Z"
    }
   },
   "outputs": [
    {
     "ename": "NameError",
     "evalue": "name 'plist' is not defined",
     "output_type": "error",
     "traceback": [
      "\u001b[1;31m---------------------------------------------------------------------------\u001b[0m",
      "\u001b[1;31mNameError\u001b[0m                                 Traceback (most recent call last)",
      "\u001b[1;32m<ipython-input-32-7cd50ef3fc1a>\u001b[0m in \u001b[0;36m<module>\u001b[1;34m\u001b[0m\n\u001b[1;32m----> 1\u001b[1;33m \u001b[0mrrlfitter\u001b[0m\u001b[1;33m.\u001b[0m\u001b[0mtmpfit\u001b[0m\u001b[1;33m(\u001b[0m\u001b[0mcrvdat\u001b[0m\u001b[1;33m[\u001b[0m\u001b[1;34m'mjd'\u001b[0m\u001b[1;33m]\u001b[0m\u001b[1;33m,\u001b[0m\u001b[0mcrvdat\u001b[0m\u001b[1;33m[\u001b[0m\u001b[1;34m'mag'\u001b[0m\u001b[1;33m]\u001b[0m\u001b[1;33m,\u001b[0m\u001b[0mcrvdat\u001b[0m\u001b[1;33m[\u001b[0m\u001b[1;34m'err'\u001b[0m\u001b[1;33m]\u001b[0m\u001b[1;33m,\u001b[0m\u001b[0mcrvdat\u001b[0m\u001b[1;33m[\u001b[0m\u001b[1;34m'fltr'\u001b[0m\u001b[1;33m]\u001b[0m\u001b[1;33m,\u001b[0m\u001b[0mplist\u001b[0m\u001b[1;33m)\u001b[0m\u001b[1;33m\u001b[0m\u001b[1;33m\u001b[0m\u001b[0m\n\u001b[0m",
      "\u001b[1;31mNameError\u001b[0m: name 'plist' is not defined"
     ]
    }
   ],
   "source": [
    "rrlfitter.tmpfit(crvdat['mjd'],crvdat['mag'],crvdat['err'],crvdat['fltr'],plist)"
   ]
  },
  {
   "cell_type": "code",
   "execution_count": null,
   "metadata": {},
   "outputs": [],
   "source": []
  }
 ],
 "metadata": {
  "kernelspec": {
   "display_name": "Python 3",
   "language": "python",
   "name": "python3"
  },
  "language_info": {
   "codemirror_mode": {
    "name": "ipython",
    "version": 3
   },
   "file_extension": ".py",
   "mimetype": "text/x-python",
   "name": "python",
   "nbconvert_exporter": "python",
   "pygments_lexer": "ipython3",
   "version": "3.7.4"
  }
 },
 "nbformat": 4,
 "nbformat_minor": 2
}
