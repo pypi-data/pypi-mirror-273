{
 "cells": [
  {
   "cell_type": "code",
   "execution_count": 58,
   "metadata": {
    "ExecuteTime": {
     "end_time": "2021-07-07T16:14:00.155730Z",
     "start_time": "2021-07-07T16:14:00.141770Z"
    }
   },
   "outputs": [],
   "source": [
    "import warnings\n",
    "warnings.filterwarnings('ignore')"
   ]
  },
  {
   "cell_type": "code",
   "execution_count": 5,
   "metadata": {
    "ExecuteTime": {
     "end_time": "2021-07-07T15:45:54.889214Z",
     "start_time": "2021-07-07T15:45:54.870263Z"
    }
   },
   "outputs": [],
   "source": [
    "import numpy as np\n",
    "from glob import glob\n",
    "import upsilon\n",
    "import matplotlib.pyplot as plt\n",
    "from scipy.interpolate import interp1d\n",
    "import scipy.interpolate as interpolate\n",
    "from scipy.optimize import curve_fit, least_squares\n",
    "from statistics import mean, median\n",
    "import pandas as pd\n",
    "from dl import queryClient as qc\n",
    "import collections\n",
    "from astropy import stats\n",
    "from astropy.table import Table\n",
    "import os\n",
    "import utils"
   ]
  },
  {
   "cell_type": "code",
   "execution_count": 3,
   "metadata": {
    "ExecuteTime": {
     "end_time": "2021-06-02T20:33:42.678262Z",
     "start_time": "2021-06-02T20:33:42.632384Z"
    }
   },
   "outputs": [],
   "source": [
    "if not os.path.exists('results2/plots'):\n",
    "    os.makedirs('results2/plots')"
   ]
  },
  {
   "cell_type": "code",
   "execution_count": null,
   "metadata": {},
   "outputs": [],
   "source": []
  },
  {
   "cell_type": "code",
   "execution_count": 6,
   "metadata": {
    "ExecuteTime": {
     "end_time": "2021-07-07T15:46:01.606160Z",
     "start_time": "2021-07-07T15:46:01.584217Z"
    },
    "code_folding": [
     0,
     29
    ]
   },
   "outputs": [],
   "source": [
    "def get_data(objname):\n",
    "    df=qc.query(sql=\"\"\"SELECT meas.* \n",
    "                     FROM nsc_dr2.meas\n",
    "                     WHERE objectid='{:s}'\"\"\".format(objname),\n",
    "              fmt='pandas',\n",
    "              profile='db01')\n",
    "    order = ['u','g','r','i','z']\n",
    "    best_periods = []\n",
    "    crv=[]\n",
    "    fltrs=[]\n",
    "    for f in order:\n",
    "        selfltr = (df['filter'] == f)\n",
    "        selfwhm = (df['fwhm'] <= 4.0)\n",
    "        sel = selfltr & selfwhm\n",
    "        t = df['mjd'][sel].values\n",
    "        y = df['mag_auto'][sel].values\n",
    "        dy = df['magerr_auto'][sel].values\n",
    "        if len(t) < 25:\n",
    "            continue\n",
    "\n",
    "        best_periods.append(get_ls_period(t,y,objname=objname,f=f))\n",
    "        crvi = np.vstack((t,y,dy)).T\n",
    "        crv.append(crvi[np.argsort(crvi[:,0])])\n",
    "        fltrs.append(f)\n",
    "    period = 0\n",
    "    for p in best_periods:\n",
    "        period += p/len(best_periods)\n",
    "    return crv, period, fltrs\n",
    "        \n",
    "def get_ls_period(t,y,min_freq=1./1.,max_freq=1./0.1,objname='_',f=''):\n",
    "    \"\"\"Use Lomb-Scargle periodogram to get an estimate on period\"\"\"\n",
    "    \n",
    "    ls = stats.LombScargle(t, y)\n",
    "    frequency, power = ls.autopower(minimum_frequency=min_freq,maximum_frequency=max_freq)\n",
    "    period = 1./frequency # period is the inverse of frequency\n",
    "    \n",
    "    best_period = period[np.argmax(power)]\n",
    "    \n",
    "#     plot_periodogram(period,power,best_period,objname=objname,f=f)\n",
    "    return best_period"
   ]
  },
  {
   "cell_type": "code",
   "execution_count": 8,
   "metadata": {
    "ExecuteTime": {
     "end_time": "2021-07-07T15:47:11.443360Z",
     "start_time": "2021-07-07T15:47:11.397446Z"
    }
   },
   "outputs": [],
   "source": [
    "gldorig = np.loadtxt('goldsample\\golden_original.txt',delimiter=',',dtype=str)\n",
    "gldrrab = np.loadtxt('goldsample\\golden_RRab.txt',delimiter=',',dtype=str)\n",
    "gldall  = np.union1d(gldorig,gldrrab)\n",
    "gldelse = list(set(gldall) - set(gldrrab))"
   ]
  },
  {
   "cell_type": "code",
   "execution_count": 54,
   "metadata": {
    "ExecuteTime": {
     "end_time": "2021-07-07T16:09:09.875502Z",
     "start_time": "2021-07-07T16:09:09.836605Z"
    },
    "scrolled": true
   },
   "outputs": [],
   "source": [
    "t = Table.read('p_amp.fits')\n",
    "# t['period'] = -99.99\n",
    "t['type']   = '          '\n",
    "t['utyp']   = '          '\n",
    "t['uprob']  = -99.99\n",
    "t['uflag']  = -1\n",
    "t['undat']  = 0\n",
    "t['gtyp']   = '          '\n",
    "t['gprob']  = -99.99\n",
    "t['gflag']  = -1\n",
    "t['gndat']  = 0\n",
    "t['rtyp']   = '          '\n",
    "t['rprob']  = -99.99\n",
    "t['rflag']  = -1\n",
    "t['rndat']  = 0\n",
    "t['ityp']   = '          '\n",
    "t['iprob']  = -99.99\n",
    "t['iflag']  = -1\n",
    "t['indat']  = 0\n",
    "t['ztyp']   = '          '\n",
    "t['zprob']  = -99.99\n",
    "t['zflag']  = -1\n",
    "t['zndat']  = 0"
   ]
  },
  {
   "cell_type": "code",
   "execution_count": null,
   "metadata": {},
   "outputs": [],
   "source": []
  },
  {
   "cell_type": "code",
   "execution_count": 59,
   "metadata": {
    "ExecuteTime": {
     "end_time": "2021-07-07T23:45:38.467526Z",
     "start_time": "2021-07-07T16:14:18.826758Z"
    },
    "code_folding": [
     1,
     36
    ],
    "scrolled": true
   },
   "outputs": [],
   "source": [
    "# t = Table.read(\"rrl_res_raw.fits\",format='fits')\n",
    "# newones = set(gldall)-set(gldrrab)\n",
    "# for n,name in enumerate(gldall):\n",
    "#     crv,p_est,fltrs = get_data(name)\n",
    "#     periods = []\n",
    "#     for i,f in enumerate(fltrs):\n",
    "    \n",
    "#         rf_model = upsilon.load_rf_model()\n",
    "#         efeat = upsilon.ExtractFeatures(crv[i][:,0],crv[i][:,1],crv[i][:,2])\n",
    "#         efeat.run()\n",
    "#         feats = efeat.get_features()\n",
    "#         rf_model = upsilon.load_rf_model()\n",
    "#         label, probability, flag = upsilon.predict(rf_model, feats)\n",
    "                \n",
    "#         x = fdict[fltrs[i]]\n",
    "#         t[n]['{}typ'.format(f)] = label\n",
    "#         t[n]['{}prob'.format(f)] = probability\n",
    "#         t[n]['{}flag'.format(f)] = flag\n",
    "#         t[n]['{}ndat'.format(f)] = len(crv[i])\n",
    "#         periods.append(feats['period'])\n",
    "\n",
    "#     t[n]['period'] = np.mean(periods)\n",
    "#     uprob = t[n]['uprob']\n",
    "#     utyp  = t[n]['utyp']\n",
    "#     gprob = t[n]['gprob']\n",
    "#     gtyp  = t[n]['gtyp']\n",
    "#     rprob = t[n]['rprob']\n",
    "#     rtyp  = t[n]['rtyp']\n",
    "#     iprob = t[n]['iprob']\n",
    "#     ityp  = t[n]['ityp']\n",
    "#     zprob = t[n]['zprob']\n",
    "#     ztyp  = t[n]['ztyp']\n",
    "    \n",
    "#     m = np.argmax(np.array([[uprob,gprob,rprob,iprob,zprob]]))\n",
    "#     maxtyp = [utyp,gtyp,rtyp,ityp,ztyp][m]\n",
    "    \n",
    "#     t[n]['type'] = maxtyp\n",
    "\n",
    "# import os\n",
    "\n",
    "# if os.path.exists(\"rrl_res.fits\"):\n",
    "#     os.remove(\"rrl_res.fits\")\n",
    "# t.write(\"rrl_res.fits\",format='fits')"
   ]
  },
  {
   "cell_type": "code",
   "execution_count": 60,
   "metadata": {
    "ExecuteTime": {
     "end_time": "2021-07-07T23:45:38.487593Z",
     "start_time": "2021-07-07T23:45:38.469540Z"
    }
   },
   "outputs": [
    {
     "data": {
      "text/html": [
       "<i>Table length=1367</i>\n",
       "<table id=\"table1340023648008\" class=\"table-striped table-bordered table-condensed\">\n",
       "<thead><tr><th>id</th><th>period</th><th>uamp</th><th>gamp</th><th>ramp</th><th>iamp</th><th>zamp</th><th>type</th><th>utyp</th><th>uprob</th><th>uflag</th><th>undat</th><th>gtyp</th><th>gprob</th><th>gflag</th><th>gndat</th><th>rtyp</th><th>rprob</th><th>rflag</th><th>rndat</th><th>ityp</th><th>iprob</th><th>iflag</th><th>indat</th><th>ztyp</th><th>zprob</th><th>zflag</th><th>zndat</th></tr></thead>\n",
       "<thead><tr><th>bytes13</th><th>float64</th><th>float64</th><th>float64</th><th>float64</th><th>float64</th><th>float64</th><th>bytes10</th><th>str10</th><th>float64</th><th>int32</th><th>int32</th><th>str10</th><th>float64</th><th>int32</th><th>int32</th><th>str10</th><th>float64</th><th>int32</th><th>int32</th><th>str10</th><th>float64</th><th>int32</th><th>int32</th><th>str10</th><th>float64</th><th>int32</th><th>int32</th></tr></thead>\n",
       "<tr><td>100047_2267</td><td>0.622</td><td>0.392</td><td>0.33</td><td>0.219</td><td>0.174</td><td>0.155</td><td>RRL_ab</td><td>RRL_ab</td><td>0.86</td><td>1</td><td>70</td><td>RRL_ab</td><td>0.95</td><td>0</td><td>258</td><td>RRL_ab</td><td>0.96</td><td>0</td><td>256</td><td>RRL_ab</td><td>0.97</td><td>0</td><td>267</td><td>RRL_ab</td><td>1.0</td><td>0</td><td>235</td></tr>\n",
       "<tr><td>100413_6560</td><td>0.102</td><td>0.186</td><td>0.213</td><td>0.085</td><td>-99.99</td><td>-99.99</td><td>EB_ED</td><td>DSCT</td><td>0.3</td><td>1</td><td>48</td><td>EB_ED</td><td>0.48</td><td>1</td><td>31</td><td>EB_ED</td><td>0.47</td><td>1</td><td>35</td><td></td><td>-99.99</td><td>-1</td><td>0</td><td></td><td>-99.99</td><td>-1</td><td>0</td></tr>\n",
       "<tr><td>100555_10583</td><td>0.546</td><td>0.133</td><td>0.134</td><td>0.13</td><td>0.129</td><td>0.14</td><td>EB_ED</td><td>EB_ED</td><td>0.84</td><td>1</td><td>32</td><td>EB_ED</td><td>0.6</td><td>1</td><td>43</td><td>EB_ED</td><td>0.65</td><td>1</td><td>46</td><td>EB_ED</td><td>0.6</td><td>1</td><td>56</td><td>EB_ED</td><td>0.4</td><td>1</td><td>60</td></tr>\n",
       "<tr><td>100826_1474</td><td>0.692</td><td>-99.99</td><td>0.427</td><td>-99.99</td><td>-99.99</td><td>-99.99</td><td>CEPH_Other</td><td></td><td>-99.99</td><td>-1</td><td>0</td><td>CEPH_Other</td><td>0.42</td><td>1</td><td>83</td><td></td><td>-99.99</td><td>-1</td><td>0</td><td></td><td>-99.99</td><td>-1</td><td>0</td><td></td><td>-99.99</td><td>-1</td><td>0</td></tr>\n",
       "<tr><td>100828_28520</td><td>0.628</td><td>-99.99</td><td>0.283</td><td>-99.99</td><td>-99.99</td><td>-99.99</td><td>RRL_ab</td><td></td><td>-99.99</td><td>-1</td><td>0</td><td>RRL_ab</td><td>0.8</td><td>1</td><td>91</td><td></td><td>-99.99</td><td>-1</td><td>0</td><td></td><td>-99.99</td><td>-1</td><td>0</td><td></td><td>-99.99</td><td>-1</td><td>0</td></tr>\n",
       "<tr><td>101068_6327</td><td>0.198</td><td>0.198</td><td>0.19</td><td>0.171</td><td>0.172</td><td>0.181</td><td>EB_EC</td><td>EB_EC</td><td>0.69</td><td>1</td><td>32</td><td>EB_EC</td><td>0.64</td><td>1</td><td>40</td><td>EB_EC</td><td>0.63</td><td>1</td><td>49</td><td>EB_EC</td><td>0.43</td><td>1</td><td>54</td><td>EB_EC</td><td>0.58</td><td>1</td><td>57</td></tr>\n",
       "<tr><td>101313_10442</td><td>0.132</td><td>-99.99</td><td>0.143</td><td>-99.99</td><td>-99.99</td><td>-99.99</td><td>EB_EC</td><td></td><td>-99.99</td><td>-1</td><td>0</td><td>EB_EC</td><td>0.85</td><td>1</td><td>1137</td><td></td><td>-99.99</td><td>-1</td><td>0</td><td></td><td>-99.99</td><td>-1</td><td>0</td><td></td><td>-99.99</td><td>-1</td><td>0</td></tr>\n",
       "<tr><td>101825_934</td><td>0.645</td><td>-99.99</td><td>0.157</td><td>-99.99</td><td>-99.99</td><td>-99.99</td><td>RRL_ab</td><td></td><td>-99.99</td><td>-1</td><td>0</td><td>RRL_ab</td><td>0.52</td><td>1</td><td>1130</td><td></td><td>-99.99</td><td>-1</td><td>0</td><td></td><td>-99.99</td><td>-1</td><td>0</td><td></td><td>-99.99</td><td>-1</td><td>0</td></tr>\n",
       "<tr><td>102337_12820</td><td>0.167</td><td>-99.99</td><td>0.256</td><td>-99.99</td><td>-99.99</td><td>-99.99</td><td>EB_EC</td><td></td><td>-99.99</td><td>-1</td><td>0</td><td>EB_EC</td><td>0.86</td><td>1</td><td>1141</td><td></td><td>-99.99</td><td>-1</td><td>0</td><td></td><td>-99.99</td><td>-1</td><td>0</td><td></td><td>-99.99</td><td>-1</td><td>0</td></tr>\n",
       "<tr><td>102338_5844</td><td>0.154</td><td>-99.99</td><td>0.098</td><td>-99.99</td><td>-99.99</td><td>-99.99</td><td>DSCT</td><td></td><td>-99.99</td><td>-1</td><td>0</td><td>DSCT</td><td>0.35</td><td>1</td><td>378</td><td></td><td>-99.99</td><td>-1</td><td>0</td><td></td><td>-99.99</td><td>-1</td><td>0</td><td></td><td>-99.99</td><td>-1</td><td>0</td></tr>\n",
       "<tr><td>...</td><td>...</td><td>...</td><td>...</td><td>...</td><td>...</td><td>...</td><td>...</td><td>...</td><td>...</td><td>...</td><td>...</td><td>...</td><td>...</td><td>...</td><td>...</td><td>...</td><td>...</td><td>...</td><td>...</td><td>...</td><td>...</td><td>...</td><td>...</td><td>...</td><td>...</td><td>...</td><td>...</td></tr>\n",
       "<tr><td>98387_1666</td><td>0.104</td><td>-99.99</td><td>0.221</td><td>0.23</td><td>-99.99</td><td>-99.99</td><td>DSCT</td><td></td><td>-99.99</td><td>-1</td><td>0</td><td>DSCT</td><td>0.54</td><td>1</td><td>42</td><td>EB_EC</td><td>0.24</td><td>1</td><td>38</td><td></td><td>-99.99</td><td>-1</td><td>0</td><td></td><td>-99.99</td><td>-1</td><td>0</td></tr>\n",
       "<tr><td>98403_9102</td><td>0.194</td><td>0.22</td><td>0.235</td><td>0.22</td><td>-99.99</td><td>0.21</td><td>DSCT</td><td>DSCT</td><td>0.37</td><td>1</td><td>25</td><td>DSCT</td><td>0.38</td><td>1</td><td>32</td><td>EB_EC</td><td>0.38</td><td>1</td><td>35</td><td></td><td>-99.99</td><td>-1</td><td>0</td><td>DSCT</td><td>0.51</td><td>1</td><td>27</td></tr>\n",
       "<tr><td>98585_1192</td><td>0.14</td><td>-99.99</td><td>-99.99</td><td>-99.99</td><td>0.185</td><td>0.258</td><td>EB_EC</td><td></td><td>-99.99</td><td>-1</td><td>0</td><td></td><td>-99.99</td><td>-1</td><td>0</td><td></td><td>-99.99</td><td>-1</td><td>0</td><td>DSCT</td><td>0.37</td><td>1</td><td>27</td><td>EB_EC</td><td>0.56</td><td>1</td><td>28</td></tr>\n",
       "<tr><td>98622_14081</td><td>0.337</td><td>-99.99</td><td>0.251</td><td>-99.99</td><td>-99.99</td><td>-99.99</td><td>RRL_c</td><td></td><td>-99.99</td><td>-1</td><td>0</td><td>RRL_c</td><td>0.58</td><td>0</td><td>117</td><td></td><td>-99.99</td><td>-1</td><td>0</td><td></td><td>-99.99</td><td>-1</td><td>0</td><td></td><td>-99.99</td><td>-1</td><td>0</td></tr>\n",
       "<tr><td>98836_661</td><td>0.447</td><td>-99.99</td><td>0.136</td><td>-99.99</td><td>-99.99</td><td>-99.99</td><td>RRL_ab</td><td></td><td>-99.99</td><td>-1</td><td>0</td><td>RRL_ab</td><td>0.94</td><td>1</td><td>182</td><td></td><td>-99.99</td><td>-1</td><td>0</td><td></td><td>-99.99</td><td>-1</td><td>0</td><td></td><td>-99.99</td><td>-1</td><td>0</td></tr>\n",
       "<tr><td>99385_29495</td><td>0.191</td><td>0.122</td><td>0.12</td><td>0.111</td><td>0.114</td><td>0.12</td><td>EB_EC</td><td>EB_ESD</td><td>0.31</td><td>0</td><td>80</td><td>DSCT</td><td>0.37</td><td>0</td><td>168</td><td>EB_ESD</td><td>0.37</td><td>0</td><td>170</td><td>DSCT</td><td>0.24</td><td>0</td><td>169</td><td>EB_EC</td><td>0.43</td><td>0</td><td>146</td></tr>\n",
       "<tr><td>99530_929</td><td>0.663</td><td>0.174</td><td>0.152</td><td>0.08</td><td>0.071</td><td>0.07</td><td>RRL_ab</td><td>RRL_d</td><td>0.33</td><td>1</td><td>30</td><td>RRL_ab</td><td>0.66</td><td>1</td><td>44</td><td>RRL_ab</td><td>0.67</td><td>1</td><td>48</td><td>RRL_ab</td><td>0.46</td><td>1</td><td>56</td><td>RRL_ab</td><td>0.59</td><td>1</td><td>64</td></tr>\n",
       "<tr><td>99770_15284</td><td>0.161</td><td>0.143</td><td>0.125</td><td>0.124</td><td>0.119</td><td>0.122</td><td>EB_EC</td><td>EB_EC</td><td>0.51</td><td>1</td><td>67</td><td>EB_EC</td><td>0.52</td><td>0</td><td>234</td><td>EB_EC</td><td>0.52</td><td>0</td><td>224</td><td>EB_EC</td><td>0.52</td><td>0</td><td>212</td><td>EB_EC</td><td>0.57</td><td>0</td><td>210</td></tr>\n",
       "<tr><td>99796_35</td><td>0.561</td><td>0.568</td><td>0.499</td><td>0.347</td><td>0.265</td><td>0.253</td><td>RRL_ab</td><td>RRL_ab</td><td>0.68</td><td>1</td><td>38</td><td>RRL_ab</td><td>0.71</td><td>0</td><td>124</td><td>RRL_ab</td><td>0.72</td><td>0</td><td>127</td><td>RRL_ab</td><td>0.91</td><td>0</td><td>127</td><td>RRL_ab</td><td>0.89</td><td>0</td><td>120</td></tr>\n",
       "<tr><td>99850_3275</td><td>0.153</td><td>0.135</td><td>0.143</td><td>0.135</td><td>0.127</td><td>0.13</td><td>EB_EC</td><td>DSCT</td><td>0.3</td><td>1</td><td>66</td><td>DSCT</td><td>0.33</td><td>0</td><td>240</td><td>EB_EC</td><td>0.48</td><td>0</td><td>258</td><td>EB_EC</td><td>0.57</td><td>0</td><td>217</td><td>EB_EC</td><td>0.61</td><td>0</td><td>190</td></tr>\n",
       "</table>"
      ],
      "text/plain": [
       "<Table length=1367>\n",
       "     id       period   uamp    gamp    ramp  ...    ztyp     zprob  zflag zndat\n",
       "  bytes13    float64 float64 float64 float64 ...   str10    float64 int32 int32\n",
       "------------ ------- ------- ------- ------- ... ---------- ------- ----- -----\n",
       " 100047_2267   0.622   0.392    0.33   0.219 ...     RRL_ab     1.0     0   235\n",
       " 100413_6560   0.102   0.186   0.213   0.085 ...             -99.99    -1     0\n",
       "100555_10583   0.546   0.133   0.134    0.13 ...      EB_ED     0.4     1    60\n",
       " 100826_1474   0.692  -99.99   0.427  -99.99 ...             -99.99    -1     0\n",
       "100828_28520   0.628  -99.99   0.283  -99.99 ...             -99.99    -1     0\n",
       " 101068_6327   0.198   0.198    0.19   0.171 ...      EB_EC    0.58     1    57\n",
       "101313_10442   0.132  -99.99   0.143  -99.99 ...             -99.99    -1     0\n",
       "  101825_934   0.645  -99.99   0.157  -99.99 ...             -99.99    -1     0\n",
       "102337_12820   0.167  -99.99   0.256  -99.99 ...             -99.99    -1     0\n",
       " 102338_5844   0.154  -99.99   0.098  -99.99 ...             -99.99    -1     0\n",
       "         ...     ...     ...     ...     ... ...        ...     ...   ...   ...\n",
       "  98387_1666   0.104  -99.99   0.221    0.23 ...             -99.99    -1     0\n",
       "  98403_9102   0.194    0.22   0.235    0.22 ...       DSCT    0.51     1    27\n",
       "  98585_1192    0.14  -99.99  -99.99  -99.99 ...      EB_EC    0.56     1    28\n",
       " 98622_14081   0.337  -99.99   0.251  -99.99 ...             -99.99    -1     0\n",
       "   98836_661   0.447  -99.99   0.136  -99.99 ...             -99.99    -1     0\n",
       " 99385_29495   0.191   0.122    0.12   0.111 ...      EB_EC    0.43     0   146\n",
       "   99530_929   0.663   0.174   0.152    0.08 ...     RRL_ab    0.59     1    64\n",
       " 99770_15284   0.161   0.143   0.125   0.124 ...      EB_EC    0.57     0   210\n",
       "    99796_35   0.561   0.568   0.499   0.347 ...     RRL_ab    0.89     0   120\n",
       "  99850_3275   0.153   0.135   0.143   0.135 ...      EB_EC    0.61     0   190"
      ]
     },
     "execution_count": 60,
     "metadata": {},
     "output_type": "execute_result"
    }
   ],
   "source": [
    "t"
   ]
  },
  {
   "cell_type": "code",
   "execution_count": 69,
   "metadata": {
    "ExecuteTime": {
     "end_time": "2021-07-08T05:26:33.460551Z",
     "start_time": "2021-07-08T05:26:33.442601Z"
    }
   },
   "outputs": [
    {
     "data": {
      "text/plain": [
       "Counter({'RRL_ab': 650,\n",
       "         'EB_ED': 21,\n",
       "         'CEPH_Other': 46,\n",
       "         'EB_EC': 234,\n",
       "         'DSCT': 90,\n",
       "         'RRL_c': 122,\n",
       "         'T2CEPH': 55,\n",
       "         'NonVar': 4,\n",
       "         'EB_ESD': 61,\n",
       "         'CEPH_F': 40,\n",
       "         'LPV_Mira_A': 1,\n",
       "         'CEPH_1O': 36,\n",
       "         'RRL_d': 2,\n",
       "         'RRL_e': 4,\n",
       "         'LPV_SRV_AG': 1})"
      ]
     },
     "execution_count": 69,
     "metadata": {},
     "output_type": "execute_result"
    }
   ],
   "source": [
    "collections.Counter(t['type'])"
   ]
  },
  {
   "cell_type": "code",
   "execution_count": null,
   "metadata": {},
   "outputs": [],
   "source": []
  },
  {
   "cell_type": "code",
   "execution_count": 15,
   "metadata": {
    "ExecuteTime": {
     "end_time": "2021-06-02T20:35:29.290733Z",
     "start_time": "2021-06-02T20:35:12.513844Z"
    },
    "code_folding": []
   },
   "outputs": [],
   "source": [
    "# import csv\n",
    "# parampaths = glob('results2/*param.csv')\n",
    "# nms     = []\n",
    "# params  = []\n",
    "# pars    = []\n",
    "# periods = []\n",
    "# for path in parampaths:\n",
    "#     param = []\n",
    "#     fpars = []\n",
    "#     with open(path, newline='') as csvfile:\n",
    "#         csvreader = csv.reader(csvfile, delimiter=',')\n",
    "#         b     = True\n",
    "#         first = True\n",
    "#         for row in csvreader:\n",
    "#             if row[0] == '---':break\n",
    "#             if first:\n",
    "#                 periods.append(float(row[2][2:]))\n",
    "#                 first = False\n",
    "#                 continue\n",
    "#             if b:\n",
    "#                 param.append(row)\n",
    "#             else:\n",
    "#                 fpars.append(row)\n",
    "#             b = not b\n",
    "#     param = np.array(param)\n",
    "#     fpars = np.array(fpars)\n",
    "#     nms.append(path[9:-10])\n",
    "#     params.append(param)\n",
    "#     pars.append(fpars)\n",
    "# nms = np.array(nms)\n",
    "# pdict = {nms[i]:periods[i] for i in range(len(nms))}"
   ]
  },
  {
   "cell_type": "code",
   "execution_count": 16,
   "metadata": {
    "ExecuteTime": {
     "end_time": "2021-06-02T20:35:29.338564Z",
     "start_time": "2021-06-02T20:35:29.292688Z"
    }
   },
   "outputs": [],
   "source": [
    "amps  = []\n",
    "namps = []\n",
    "for i in range(len(pars)):\n",
    "    famps = []\n",
    "    for j in range(len(pars[i])):\n",
    "        famps.append(float(pars[i][j,1][4:]))\n",
    "    amps.append(np.array(famps))\n",
    "    \n",
    "    namps.append(amps[-1]/np.mean(amps[-1]))"
   ]
  },
  {
   "cell_type": "code",
   "execution_count": null,
   "metadata": {},
   "outputs": [],
   "source": []
  },
  {
   "cell_type": "code",
   "execution_count": 21,
   "metadata": {
    "ExecuteTime": {
     "end_time": "2021-06-02T20:45:09.124103Z",
     "start_time": "2021-06-02T20:45:09.109055Z"
    }
   },
   "outputs": [
    {
     "ename": "SyntaxError",
     "evalue": "invalid syntax (<ipython-input-21-7b18d017f89f>, line 1)",
     "output_type": "error",
     "traceback": [
      "\u001b[1;36m  File \u001b[1;32m\"<ipython-input-21-7b18d017f89f>\"\u001b[1;36m, line \u001b[1;32m1\u001b[0m\n\u001b[1;33m    def\u001b[0m\n\u001b[1;37m       ^\u001b[0m\n\u001b[1;31mSyntaxError\u001b[0m\u001b[1;31m:\u001b[0m invalid syntax\n"
     ]
    }
   ],
   "source": [
    "def"
   ]
  },
  {
   "cell_type": "code",
   "execution_count": 86,
   "metadata": {
    "ExecuteTime": {
     "end_time": "2021-06-22T23:01:01.918514Z",
     "start_time": "2021-06-22T23:01:01.674264Z"
    }
   },
   "outputs": [],
   "source": []
  },
  {
   "cell_type": "code",
   "execution_count": null,
   "metadata": {},
   "outputs": [],
   "source": []
  },
  {
   "cell_type": "code",
   "execution_count": null,
   "metadata": {},
   "outputs": [],
   "source": []
  },
  {
   "cell_type": "code",
   "execution_count": null,
   "metadata": {
    "ExecuteTime": {
     "end_time": "2021-06-02T20:45:09.129087Z",
     "start_time": "2021-06-02T20:33:36.620Z"
    },
    "code_folding": [],
    "scrolled": true
   },
   "outputs": [],
   "source": [
    "figall, axall = plt.subplots()\n",
    "figu, axu = plt.subplots()\n",
    "figg, axg = plt.subplots()\n",
    "figr, axr = plt.subplots()\n",
    "figi, axi = plt.subplots()\n",
    "figz, axz = plt.subplots()\n",
    "for i in range(len(ceph_names)):\n",
    "    p = pdict[ceph_names[i]]\n",
    "    for fltr, crv in crvd[ceph_names[i]].items():\n",
    "        axall.scatter(crv[:,0]/p,crv[:,1]/max(crv[:,1]),s=1)\n",
    "        if fltr == 'u':\n",
    "            axu.scatter(crv[:,0]/p,crv[:,1]/max(crv[:,1]),s=1)\n",
    "        if fltr == 'g':\n",
    "            axg.scatter(crv[:,0]/p,crv[:,1]/max(crv[:,1]),s=1)\n",
    "        if fltr == 'r':\n",
    "            axr.scatter(crv[:,0]/p,crv[:,1]/max(crv[:,1]),s=1)\n",
    "        if fltr == 'i':\n",
    "            axi.scatter(crv[:,0]/p,crv[:,1]/max(crv[:,1]),s=1)\n",
    "        if fltr == 'z':\n",
    "            axz.scatter(crv[:,0]/p,crv[:,1]/max(crv[:,1]),s=1)"
   ]
  },
  {
   "cell_type": "code",
   "execution_count": null,
   "metadata": {
    "ExecuteTime": {
     "end_time": "2021-06-02T20:45:09.144046Z",
     "start_time": "2021-06-02T20:33:36.626Z"
    }
   },
   "outputs": [],
   "source": [
    "coeffs = np.polyfit(crv[:,0],crv[:,1],1)\n",
    "coeffs"
   ]
  },
  {
   "cell_type": "code",
   "execution_count": null,
   "metadata": {
    "ExecuteTime": {
     "end_time": "2021-06-02T20:45:09.147040Z",
     "start_time": "2021-06-02T20:33:36.629Z"
    }
   },
   "outputs": [],
   "source": [
    "x = np.arange(len(coeffs))\n",
    "y = np.array([np.sum(np.array([coeffs[i]*(j**i) for i in range(len(coeffs))])) for j in x])"
   ]
  },
  {
   "cell_type": "code",
   "execution_count": null,
   "metadata": {
    "ExecuteTime": {
     "end_time": "2021-06-02T20:45:09.156016Z",
     "start_time": "2021-06-02T20:33:36.632Z"
    }
   },
   "outputs": [],
   "source": [
    "ceph_inds = []\n",
    "for i,name in enumerate(t['id']):\n",
    "    if name in ceph_names:\n",
    "        ceph_inds.append(i)"
   ]
  },
  {
   "cell_type": "code",
   "execution_count": null,
   "metadata": {
    "ExecuteTime": {
     "end_time": "2021-06-02T20:45:09.158010Z",
     "start_time": "2021-06-02T20:33:36.634Z"
    }
   },
   "outputs": [],
   "source": [
    "t[ceph_inds]"
   ]
  },
  {
   "cell_type": "code",
   "execution_count": null,
   "metadata": {},
   "outputs": [],
   "source": []
  },
  {
   "cell_type": "code",
   "execution_count": null,
   "metadata": {
    "ExecuteTime": {
     "end_time": "2021-06-02T20:45:09.160005Z",
     "start_time": "2021-06-02T20:33:36.643Z"
    }
   },
   "outputs": [],
   "source": [
    "for i in range(len(ceph_names)):\n",
    "    if ceph_names[i] in ['189344_10414','190269_170897','191137_70691','191515_128100','151560_15723','192287_129783']:\n",
    "        print(i)"
   ]
  },
  {
   "cell_type": "code",
   "execution_count": null,
   "metadata": {
    "ExecuteTime": {
     "end_time": "2021-06-02T20:45:09.161002Z",
     "start_time": "2021-06-02T20:33:36.646Z"
    }
   },
   "outputs": [],
   "source": [
    "phshft = np.zeros(36)\n",
    "phshft[0]  += .02\n",
    "phshft[11] += .025\n",
    "phshft[23] += .025\n",
    "phshft[25] += .035\n",
    "phshft[28] += .02\n",
    "phshft[32] -= .02\n",
    "\n",
    "amp = np.ones(36)\n",
    "amp[0]  = 1.05\n",
    "amp[9]  = 0.95\n",
    "amp[19] = 1.08\n",
    "amp[20] = 1.05\n",
    "amp[12] = 1.25\n",
    "amp[22] = 1.7\n",
    "\n",
    "yoffset = np.zeros(36)\n",
    "yoffset[14] = -.175"
   ]
  },
  {
   "cell_type": "code",
   "execution_count": null,
   "metadata": {
    "ExecuteTime": {
     "end_time": "2021-06-02T20:45:09.162996Z",
     "start_time": "2021-06-02T20:33:36.649Z"
    },
    "scrolled": true
   },
   "outputs": [],
   "source": [
    "fig, ax = plt.subplots(36,figsize=(15,150))\n",
    "count = 0\n",
    "tt = []\n",
    "yy = []\n",
    "plist = []\n",
    "for i in range(36):\n",
    "    p = pdict[ceph_names[i]]\n",
    "    plist.append(p)\n",
    "    \n",
    "    if 'g' in crvd[ceph_names[i]].keys():\n",
    "        crv = crvd[ceph_names[i]]['g']\n",
    "        tt.append((crv[:,0]/p+phshft[i])%1)\n",
    "        yy.append(crv[:,1]/max(crv[:,1]))\n",
    "        count = count + 1\n",
    "        ax[i].scatter((crv[:,0]/p+phshft[i])%1,amp[i]*crv[:,1]/max(crv[:,1]),label=i,s=20)\n",
    "        ax[i].set_ylim(-.1,1.1)\n",
    "    \n",
    "    \n",
    "    for j in [25,26,28,29,32]:\n",
    "        pj = pdict[ceph_names[j]]\n",
    "        crvj = crvd[ceph_names[j]]['g']\n",
    "        ax[i].scatter((crvj[:,0]/pj+phshft[j])%1,amp[j]*crvj[:,1]/max(crvj[:,1]),label=j,s=2)\n",
    "\n",
    "    ax[i].legend()"
   ]
  },
  {
   "cell_type": "markdown",
   "metadata": {},
   "source": [
    "[35] no g<br>\n",
    "[34,15,26,28,31],[9?,18?,23?,25?,29?]<br>\n",
    "[33,9,10,11,19,27,28],[2?,4?,23?,29?]<br>\n",
    "[32,29],[13?,17?,18?,28?,30?],[~5,~6,~7]<br>\n",
    "[31,9,,10,26,34],[28?]<br>\n",
    "[30,15,25,26,32],[2?,7?,17?,18?]<br>\n",
    "[29,0,15,25,26,28],[6?,7?,17?,18?,32?,34?,30?]<br>\n",
    "[28,19,26,29,31],[7?,15?,25?,34?]<br>\n",
    "[27,19],[1?,4?,11?]<br>\n",
    "[26,18,28,29,32],[13?,17?,25?]\n",
    "[25,15],[0?,14?,17?,18?,26?,28?,29?]<br>\n",
    "[24] no g<br>\n",
    "[23] Left side is off<br>\n",
    "[22,5,20],[1?,6?,7?,13?]<br>\n",
    "[21] Bad<br>\n",
    "[20,5,22],[13?]<br>\n",
    "[19,2,9,10],[11?,33?]<br>\n",
    "[18,9,13,17,26,29],[6?,7?,15?,22,25?,28?]<br>\n",
    "[17,13,18,22,26,32],[5?,6?,20?,25?,28?,29?,30?]<br>\n",
    "[16,4,11,12],[27?]<br>\n",
    "[15,0,7,25,26,28,29,30,32],[14?,18?,31?,34?]<br>\n",
    "[14,0],[25?,28?,29?]<br>\n",
    "[13,1,5,6,17,18,20,22,25,26,29,32],[7?,28?,30?,31?]<br>\n",
    "[12,2,16,9,19,33],[4?,8?,10?,11?]<br>\n",
    "[11,9,10,19,33],[2?,4?,16?,23?,27?]<br>\n",
    "[10,2,9,11,19,22,31],[13?]<br>\n",
    "[9,2,11,19,22,23,26,28,29,33,34]<br>\n",
    "[8] Bad<br>\n",
    "[7,0,6,15,22,29]<br>\n",
    "[6,0,7,13,28],[20?,22?]<br>\n",
    "[5,1,6,13,20,27],[22?]<br>\n",
    "[4,9,10,11,12,16,19,27,33]<br>\n",
    "[3]<br>\n",
    "[2,4,9,10,11,19],[23?]<br>\n",
    "[1,5,20,27]<br>\n",
    "[0,6,7,14,25,28,29,32]<br>\n",
    "RRLab?   t [17,18]<br>\n",
    "irr [3,21,8]<br>"
   ]
  },
  {
   "cell_type": "markdown",
   "metadata": {},
   "source": [
    "[17,13,18,22,26,32]<br>\n",
    "13: good on right side, bad in middle, maybe RRL ab?<br>\n",
    "17: Looks like RRL ab<br>\n",
    "22: Messy, hard to tell amplitude due to outlier"
   ]
  },
  {
   "cell_type": "code",
   "execution_count": null,
   "metadata": {
    "ExecuteTime": {
     "end_time": "2021-05-11T21:32:45.181127Z",
     "start_time": "2021-05-11T21:32:44.931747Z"
    }
   },
   "outputs": [],
   "source": []
  },
  {
   "cell_type": "code",
   "execution_count": null,
   "metadata": {},
   "outputs": [],
   "source": []
  },
  {
   "cell_type": "code",
   "execution_count": null,
   "metadata": {
    "ExecuteTime": {
     "end_time": "2021-06-02T20:45:09.164990Z",
     "start_time": "2021-06-02T20:33:36.658Z"
    },
    "scrolled": false
   },
   "outputs": [],
   "source": [
    "fig, ax = plt.subplots(2,figsize=(10,7))\n",
    "for i in [25,26,28,29,32]:\n",
    "    if 'g' in crvd[ceph_names[i]].keys():\n",
    "        crv = crvd[ceph_names[i]]['g']\n",
    "        p = pdict[ceph_names[i]]\n",
    "        tt.append((crv[:,0]/p+phshft[i])%1)\n",
    "        yy.append(crv[:,1]/max(crv[:,1]))\n",
    "        size=5\n",
    "        ax[0].scatter((crv[:,0]/p+phshft[i])%1,amp[i]*crv[:,1]/max(crv[:,1])+yoffset[i],label=i,s=size)\n",
    "        ax[1].scatter((crv[:,0]/p+phshft[i])%1,amp[i]*crv[:,1]/max(crv[:,1])+yoffset[i],label=i,s=2,c='black')\n",
    "\n",
    "for j in []:\n",
    "    if 'g' in crvd[ceph_names[j]].keys():\n",
    "        crv = crvd[ceph_names[j]]['g']\n",
    "        p = pdict[ceph_names[j]]\n",
    "        tt.append((crv[:,0]/p+phshft[j])%1)\n",
    "        yy.append(crv[:,1]/max(crv[:,1]))\n",
    "        ax[1].scatter((crv[:,0]/p+phshft[j])%1,amp[j]*crv[:,1]/max(crv[:,1])+yoffset[j],label=j,s=30)\n",
    "\n",
    "ax[0].set_ylim(-.1,1.1)\n",
    "ax[0].legend()\n",
    "ax[1].set_ylim(-.1,1.1)\n",
    "ax[1].legend()"
   ]
  },
  {
   "cell_type": "code",
   "execution_count": null,
   "metadata": {
    "ExecuteTime": {
     "end_time": "2021-06-02T20:45:09.166988Z",
     "start_time": "2021-06-02T20:33:36.661Z"
    },
    "scrolled": false
   },
   "outputs": [],
   "source": [
    "fig, ax = plt.subplots(2,figsize=(10,7))\n",
    "for i in [2,9,10,19]:#[2,9,10,11,19]:\n",
    "    if 'g' in crvd[ceph_names[i]].keys():\n",
    "        crv = crvd[ceph_names[i]]['g']\n",
    "        p = pdict[ceph_names[i]]\n",
    "        tt.append((crv[:,0]/p+phshft[i])%1)\n",
    "        yy.append(crv[:,1]/max(crv[:,1]))\n",
    "        size=5\n",
    "        ax[0].scatter((crv[:,0]/p+phshft[i])%1,amp[i]*crv[:,1]/max(crv[:,1])+yoffset[i],label=i,s=size)\n",
    "        ax[1].scatter((crv[:,0]/p+phshft[i])%1,amp[i]*crv[:,1]/max(crv[:,1])+yoffset[i],label=i,s=2,c='black')\n",
    "\n",
    "for j in [11]:\n",
    "    if 'g' in crvd[ceph_names[j]].keys():\n",
    "        crv = crvd[ceph_names[j]]['g']\n",
    "        p = pdict[ceph_names[j]]\n",
    "        tt.append((crv[:,0]/p+phshft[j])%1)\n",
    "        yy.append(crv[:,1]/max(crv[:,1]))\n",
    "        ax[1].scatter((crv[:,0]/p+phshft[j])%1,amp[j]*crv[:,1]/max(crv[:,1])+yoffset[j],label=j,s=5)\n",
    "\n",
    "ax[0].set_ylim(-.1,1.1)\n",
    "ax[0].legend()\n",
    "ax[1].set_ylim(-.1,1.1)\n",
    "ax[1].legend()"
   ]
  },
  {
   "cell_type": "code",
   "execution_count": null,
   "metadata": {
    "ExecuteTime": {
     "end_time": "2021-06-02T20:45:09.168982Z",
     "start_time": "2021-06-02T20:33:36.664Z"
    }
   },
   "outputs": [],
   "source": [
    "for i in [25,26,28,29,32]:\n",
    "    crv = crvd[ceph_names[i]]['g']\n",
    "    print(\"{:2}: {:.3f}, {:.4f}\".format(i,plist[i],max(crv[:,1])-min(crv[:,1])))"
   ]
  },
  {
   "cell_type": "code",
   "execution_count": null,
   "metadata": {
    "ExecuteTime": {
     "end_time": "2021-06-02T20:45:09.170975Z",
     "start_time": "2021-06-02T20:33:36.666Z"
    }
   },
   "outputs": [],
   "source": [
    "for j in [0,15,31,34]:\n",
    "    crv = crvd[ceph_names[j]]['g']\n",
    "    print(\"{:2}: {:.3f}, {:.4f}\".format(j,plist[j],max(crv[:,1])-min(crv[:,1])))"
   ]
  },
  {
   "cell_type": "code",
   "execution_count": null,
   "metadata": {
    "ExecuteTime": {
     "end_time": "2021-06-02T20:45:09.172970Z",
     "start_time": "2021-06-02T20:33:36.669Z"
    }
   },
   "outputs": [],
   "source": [
    "ceph_names[34]"
   ]
  },
  {
   "cell_type": "code",
   "execution_count": null,
   "metadata": {},
   "outputs": [],
   "source": []
  },
  {
   "cell_type": "code",
   "execution_count": null,
   "metadata": {
    "ExecuteTime": {
     "end_time": "2021-06-02T20:45:09.174964Z",
     "start_time": "2021-06-02T20:33:36.674Z"
    }
   },
   "outputs": [],
   "source": [
    "crv = crvd[ceph_names[15]]['g']\n",
    "plt.scatter(crv[:,0],crv[:,1])"
   ]
  },
  {
   "cell_type": "code",
   "execution_count": null,
   "metadata": {},
   "outputs": [],
   "source": []
  },
  {
   "cell_type": "code",
   "execution_count": null,
   "metadata": {
    "ExecuteTime": {
     "end_time": "2021-06-02T20:45:09.176958Z",
     "start_time": "2021-06-02T20:33:36.681Z"
    }
   },
   "outputs": [],
   "source": [
    "mcrv = np.vstack((tt,yy)).T\n",
    "crv1 = mcrv[mcrv[:,0].argsort()]\n",
    "#bspline fit\n",
    "t,c,k = interpolate.splrep(crv1[:,0],crv1[:,1],s=5,k=5)\n",
    "spline = interpolate.BSpline(t,c,k)\n",
    "plt.scatter(crv1[:,0],crv1[:,1],s=3)\n",
    "plt.plot(crv1[:,0],spline(crv1[:,0]),c='k')"
   ]
  },
  {
   "cell_type": "markdown",
   "metadata": {},
   "source": [
    "scipy.interpolate.LSQUnivariateSpline"
   ]
  },
  {
   "cell_type": "markdown",
   "metadata": {},
   "source": [
    "#10 has good coverage but too wide\n",
    "#12 and #13 #14 #15 #5 #17\n",
    "\n",
    "short:\n",
    "#3, #16\n",
    "\n",
    "bad period?\n",
    "#18 #6"
   ]
  },
  {
   "cell_type": "code",
   "execution_count": null,
   "metadata": {
    "ExecuteTime": {
     "end_time": "2021-06-02T20:45:09.177956Z",
     "start_time": "2021-06-02T20:33:36.687Z"
    }
   },
   "outputs": [],
   "source": [
    "# figall, axall = plt.subplots()\n",
    "figg, axg = plt.subplots()\n",
    "# figr, axr = plt.subplots()\n",
    "# figi, axi = plt.subplots()\n",
    "# figz, axz = plt.subplots()\n",
    "count = 0\n",
    "phshft = np.zeros(20)\n",
    "for i in [4,9,10,11,12,16,19,27,33]:\n",
    "    p = pdict[ceph_names2[i]]\n",
    "    print((i,p))\n",
    "    for fltr, crv in crvd[ceph_names2[i]].items():\n",
    "        m = int(len(crv)*0)\n",
    "        n = int(len(crv)*1)\n",
    "#         axall.scatter(crv[m:n,0]/p,crv[m:n,1]/max(crv[:,1]))\n",
    "        if fltr == 'g':\n",
    "            count = count + 1\n",
    "            axg.scatter(crv[m:n,0]/p+phshft[i],crv[m:n,1]/max(crv[:,1]),label=i,s=5)\n",
    "axg.legend()\n",
    "#         if fltr == 'r':\n",
    "#             axr.scatter(crv[m:n,0]/p,crv[m:n,1]/max(crv[:,1]))\n",
    "#         if fltr == 'i':\n",
    "#             axi.scatter(crv[m:n,0]/p,crv[m:n,1]/max(crv[:,1]))\n",
    "#         if fltr == 'z':\n",
    "#             axz.scatter(crv[m:n,0]/p,crv[m:n,1]/max(crv[:,1]))\n",
    "#             coeffs = np.polyfit(crv[m:n,0],crv[m:n,1],2)\n",
    "#             y = np.array([np.sum(np.array([coeffs[i]*(j**i) for i in range(len(coeffs))])) for j in crv[m:n,0]])\n",
    "#             #axz.plot(y,crv[m:n,0])"
   ]
  },
  {
   "cell_type": "code",
   "execution_count": null,
   "metadata": {
    "ExecuteTime": {
     "end_time": "2021-06-02T20:45:09.180948Z",
     "start_time": "2021-06-02T20:33:36.689Z"
    }
   },
   "outputs": [],
   "source": [
    "mcrv = np.vstack((t2,y2)).T\n",
    "crv1 = mcrv[mcrv[:,0].argsort()]\n",
    "#bspline fit\n",
    "t,c,k = interpolate.splrep(crv1[:,0],crv1[:,1],s=1.1,k=5)\n",
    "spline = interpolate.BSpline(t,c,k)\n",
    "plt.scatter(crv1[:,0],crv1[:,1],s=3)\n",
    "plt.plot(crv1[:,0],spline(crv1[:,0]),c='k')"
   ]
  },
  {
   "cell_type": "code",
   "execution_count": null,
   "metadata": {},
   "outputs": [],
   "source": []
  },
  {
   "cell_type": "code",
   "execution_count": null,
   "metadata": {},
   "outputs": [],
   "source": []
  },
  {
   "cell_type": "code",
   "execution_count": null,
   "metadata": {},
   "outputs": [],
   "source": []
  },
  {
   "cell_type": "code",
   "execution_count": null,
   "metadata": {
    "ExecuteTime": {
     "end_time": "2021-06-02T20:45:09.183946Z",
     "start_time": "2021-06-02T20:33:36.699Z"
    }
   },
   "outputs": [],
   "source": [
    "figall, axall = plt.subplots()\n",
    "figu, axu = plt.subplots()\n",
    "figg, axg = plt.subplots()\n",
    "figr, axr = plt.subplots()\n",
    "figi, axi = plt.subplots()\n",
    "figz, axz = plt.subplots()\n",
    "for i in range(len(ceph_names)):\n",
    "    p = pdict[ceph_names[i]]\n",
    "    fig1, ax1 = plt.subplots()\n",
    "    for fltr, crv in crvd[ceph_names[i]].items():\n",
    "        axall.scatter(crv[:,0]/p,crv[:,1]/max(crv[:,1]))\n",
    "        ax1.scatter(crv[:,0]/p,crv[:,1]/max(crv[:,1]),c=cf[fltr],label=fltr)\n",
    "        if fltr == 'u':\n",
    "            axu.scatter(crv[:,0]/p,crv[:,1]/max(crv[:,1]))\n",
    "        if fltr == 'g':\n",
    "            axg.scatter(crv[:,0]/p,crv[:,1]/max(crv[:,1]))\n",
    "        if fltr == 'r':\n",
    "            axr.scatter(crv[:,0]/p,crv[:,1]/max(crv[:,1]))\n",
    "        if fltr == 'i':\n",
    "            axi.scatter(crv[:,0]/p,crv[:,1]/max(crv[:,1]))\n",
    "        if fltr == 'z':\n",
    "            axz.scatter(crv[:,0]/p,crv[:,1]/max(crv[:,1]))\n",
    "    ax1.set_title('{} - Phased Normalized'.format(ceph_names[i]))\n",
    "    ax1.legend()\n",
    "    fig1.savefig('overplot/{}_phased_norm.pdf'.format(ceph_names[i]))\n",
    "    plt.close(fig1)\n",
    "axu.set_title('u - Phased Normalized')\n",
    "figu.savefig('overplot/u_phased_norm.pdf')\n",
    "plt.close(figu)\n",
    "axg.set_title('g - Phased Normalized')\n",
    "figg.savefig('overplot/g_phased_norm.pdf')\n",
    "plt.close(figg)\n",
    "axr.set_title('r - Phased Normalized')\n",
    "figr.savefig('overplot/r_phased_norm.pdf')\n",
    "plt.close(figr)\n",
    "axi.set_title('i - Phased Normalized')\n",
    "figi.savefig('overplot/i_phased_norm.pdf')\n",
    "plt.close(figi)\n",
    "axz.set_title('z - Phased Normalized')\n",
    "figz.savefig('overplot/z_phased_norm.pdf')\n",
    "plt.close(figz)\n",
    "axall.set_title('All - Phased Normalized')\n",
    "figall.savefig('overplot/all_phased_norm.pdf')\n",
    "plt.close(figall)"
   ]
  },
  {
   "cell_type": "code",
   "execution_count": null,
   "metadata": {},
   "outputs": [],
   "source": []
  },
  {
   "cell_type": "code",
   "execution_count": null,
   "metadata": {},
   "outputs": [],
   "source": []
  },
  {
   "cell_type": "code",
   "execution_count": null,
   "metadata": {},
   "outputs": [],
   "source": []
  }
 ],
 "metadata": {
  "kernelspec": {
   "display_name": "Python 3",
   "language": "python",
   "name": "python3"
  },
  "language_info": {
   "codemirror_mode": {
    "name": "ipython",
    "version": 3
   },
   "file_extension": ".py",
   "mimetype": "text/x-python",
   "name": "python",
   "nbconvert_exporter": "python",
   "pygments_lexer": "ipython3",
   "version": "3.7.4"
  }
 },
 "nbformat": 4,
 "nbformat_minor": 2
}
