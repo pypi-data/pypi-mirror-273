{
 "cells": [
  {
   "cell_type": "code",
   "execution_count": 1,
   "metadata": {
    "ExecuteTime": {
     "end_time": "2021-07-03T02:24:35.052666Z",
     "start_time": "2021-07-03T02:24:32.043288Z"
    }
   },
   "outputs": [
    {
     "name": "stderr",
     "output_type": "stream",
     "text": [
      "C:\\Users\\kylem\\Anaconda3\\lib\\site-packages\\numpy\\_distributor_init.py:32: UserWarning: loaded more than 1 DLL from .libs:\n",
      "C:\\Users\\kylem\\Anaconda3\\lib\\site-packages\\numpy\\.libs\\libopenblas.JPIJNSWNNAN3CE6LLI5FWSPHUT2VXMTH.gfortran-win_amd64.dll\n",
      "C:\\Users\\kylem\\Anaconda3\\lib\\site-packages\\numpy\\.libs\\libopenblas.WCDJNK7YVMPZQ2ME2ZZHJJRJ3JIKNDB7.gfortran-win_amd64.dll\n",
      "  stacklevel=1)\n"
     ]
    }
   ],
   "source": [
    "from glob import glob\n",
    "import numpy as np\n",
    "import matplotlib.pyplot as plt\n",
    "%matplotlib inline\n",
    "from astropy import stats\n",
    "from scipy.optimize import curve_fit, least_squares\n",
    "from scipy.interpolate import interp1d\n",
    "import pandas as pd\n",
    "import csv\n",
    "import os\n",
    "from dl import queryClient as qc\n",
    "from astropy.table import Table\n",
    "import utils"
   ]
  },
  {
   "cell_type": "code",
   "execution_count": null,
   "metadata": {
    "ExecuteTime": {
     "end_time": "2021-07-03T02:24:35.075611Z",
     "start_time": "2021-07-03T02:24:32.044Z"
    }
   },
   "outputs": [],
   "source": [
    "pltdir = 'results/plots'\n",
    "if not os.path.exists(pltdir):\n",
    "    os.makedirs(pltdir)"
   ]
  },
  {
   "cell_type": "code",
   "execution_count": null,
   "metadata": {
    "ExecuteTime": {
     "end_time": "2021-07-03T02:24:35.080597Z",
     "start_time": "2021-07-03T02:24:32.047Z"
    }
   },
   "outputs": [],
   "source": [
    "os.getcwd()"
   ]
  },
  {
   "cell_type": "code",
   "execution_count": null,
   "metadata": {
    "ExecuteTime": {
     "end_time": "2021-07-03T02:24:35.084586Z",
     "start_time": "2021-07-03T02:24:32.050Z"
    }
   },
   "outputs": [],
   "source": [
    "interesting = np.loadtxt('goldsample\\golden_original.txt',dtype=str)"
   ]
  },
  {
   "cell_type": "code",
   "execution_count": null,
   "metadata": {},
   "outputs": [],
   "source": []
  },
  {
   "cell_type": "code",
   "execution_count": null,
   "metadata": {},
   "outputs": [],
   "source": []
  },
  {
   "cell_type": "code",
   "execution_count": null,
   "metadata": {
    "ExecuteTime": {
     "end_time": "2021-07-03T02:24:35.086581Z",
     "start_time": "2021-07-03T02:24:32.058Z"
    },
    "code_folding": [
     37,
     49
    ]
   },
   "outputs": [],
   "source": [
    "def get_data(objname):\n",
    "    \"\"\"Query the object by name, extract light curves, estimated period and filters.\"\"\"\n",
    "    df=qc.query(sql=\"\"\"SELECT meas.* \n",
    "                     FROM nsc_dr2.meas\n",
    "                     WHERE objectid='{:s}'\"\"\".format(objname),\n",
    "              fmt='pandas',\n",
    "              profile='db01')\n",
    "    # Always orders by filter in this order\n",
    "    forder = ['u','g','r','i','z']\n",
    "    crv=[]\n",
    "    best_periods = []\n",
    "    fltrs=[]\n",
    "    initpars = []\n",
    "    for f in forder:\n",
    "        selfltr = (df['filter'] == f)\n",
    "        selfwhm = (df['fwhm'] <= 999990.0)\n",
    "        sel = selfltr & selfwhm\n",
    "        if sum(sel) < 25:\n",
    "            continue\n",
    "        t = df['mjd'][sel].values\n",
    "        y = df['mag_auto'][sel].values\n",
    "        dy = df['magerr_auto'][sel].values\n",
    "        \n",
    "        # get estimated period\n",
    "        pout = get_ls_period(t,y,objname=objname+'_'+f,outdir='results\\plots')\n",
    "        best_periods.append(pout)\n",
    "        # save light curve data and initialize parameter estimate\n",
    "        crvi = np.vstack((t,y,dy)).T\n",
    "        crv.append(crvi[np.argsort(crvi[:,0])])\n",
    "        initpars.append([0.0,max(y)-min(y),min(y)])\n",
    "        # record which filter was used\n",
    "        fltrs.append(f)\n",
    "    \n",
    "    # Find mean period and return results\n",
    "    period = np.mean(best_periods)\n",
    "    return crv, period, fltrs, np.array(initpars)\n",
    "\n",
    "def get_ls_period(t,y,min_freq=1./1.,max_freq=1./0.1,objname='',outdir='results/plots'):\n",
    "    \"\"\"Use Lomb-Scargle periodogram to get an estimate on period\"\"\"\n",
    "    \n",
    "    ls = stats.LombScargle(t, y)\n",
    "    frequency, power = ls.autopower(minimum_frequency=min_freq,maximum_frequency=max_freq)\n",
    "    period = 1./frequency # period is the inverse of frequency\n",
    "    \n",
    "    best_period = period[np.argmax(power)]\n",
    "    \n",
    "    plot_periodogram(period,power,best_period,objname=objname,outdir=outdir)\n",
    "    return best_period\n",
    "\n",
    "def plot_periodogram(period,power,best_period=None,objname='',ax=None,outdir='results/plots'):\n",
    "   \n",
    "    if ax is None:\n",
    "        fig, ax = plt.subplots(figsize=(10,7))\n",
    "        \n",
    "    ax.plot(period,power,lw=0.1)\n",
    "    ax.set_xlabel('period (days)')\n",
    "    ax.set_ylabel('relative power')\n",
    "    ax.set_title(objname)\n",
    "    \n",
    "    if best_period is not None:\n",
    "        ax.axvline(best_period,color='r');\n",
    "        ax.text(0.03,0.93,'period = {:.3f} days'.format(best_period),transform=ax.transAxes,color='r')\n",
    "    fig.savefig(outdir+'/{}_periodogram.png'.format(objname))\n",
    "    plt.close(fig)\n",
    "    return\n",
    "\n",
    "def RemoveOutliers(crv,tmps,pars,period,Ns):\n",
    "    crv_in = []\n",
    "    for i in range(len(crv)):\n",
    "        fn = interp1d(tmps[i][:,0],tmps[i][:,Ns[i]]*pars[i,1]+pars[i,2])\n",
    "        phase = (crv[i][:,0]/period-pars[i,0]) %1\n",
    "        dif = abs(crv[i][:,1]-fn(phase))\n",
    "        crv_in.append(crv[i][dif<utils.mad(dif)*5])\n",
    "    return crv_in"
   ]
  },
  {
   "cell_type": "code",
   "execution_count": null,
   "metadata": {
    "ExecuteTime": {
     "end_time": "2021-07-03T02:24:35.088575Z",
     "start_time": "2021-07-03T02:24:32.062Z"
    },
    "code_folding": [
     1,
     7
    ]
   },
   "outputs": [],
   "source": [
    "class tmpfitter:\n",
    "    def __init__ (self, tmps, allfs= ['u','g','r','i','z']):\n",
    "        self.tmps  = tmps\n",
    "        self.allfs = allfs # list of filters of all templates\n",
    "        self.f     = 0 # index of filter\n",
    "        self.n     = 1 # index of template\n",
    "\n",
    "    def model(self, t, t0, amplitude, yoffset):\n",
    "        \"\"\"modify the template using peak-to-peak amplitude and yoffset\n",
    "        input times t should be epoch folded, phase shift to match template\"\"\"\n",
    "        xtemp = self.tmps[self.f][:,0]\n",
    "        ytemp = self.tmps[self.f][:,self.n]*amplitude + yoffset\n",
    "        ph = (t - t0) %1\n",
    "        # interpolate the modified template to the phase we want\n",
    "        return interp1d(xtemp,ytemp)(ph)\n",
    "\n",
    "    def tmpfit(self,crv,p,fltrs,initpars,w=.1,steps=21):\n",
    "        plist = np.linspace(p-w,p+w,steps)\n",
    "        minsumx2 = 2**99\n",
    "        besttmps = np.zeros(len(fltrs),dtype='int8')\n",
    "        bestpars = np.zeros((len(fltrs),3))\n",
    "        bestperr = np.zeros((len(fltrs),3))\n",
    "        bestp    = 0\n",
    "        for p in plist:\n",
    "            sumx2 = 0\n",
    "            bestn = np.zeros(len(fltrs),dtype='int8')\n",
    "            ppars = np.zeros((len(fltrs),3))\n",
    "            pperr = np.zeros((len(fltrs),3))\n",
    "            for fi,ft in enumerate([self.allfs.index(j) for j in fltrs]):\n",
    "                self.f = ft\n",
    "                phase = crv[fi][:,0] /p %1 #converts dates to a phase between 0 and 1\n",
    "                \n",
    "                minx2 = 2**99\n",
    "                for n in range(1,len(self.tmps[ft][0])):\n",
    "                    self.n = n\n",
    "                    try:\n",
    "                        pars, cov = curve_fit(self.model, phase, crv[fi][:,1], \n",
    "                                              bounds = ((-.5,0,-50),(.5,10,50)),\n",
    "                                              sigma=crv[fi][:,2], p0=initpars[fi])\n",
    "                    except RuntimeError:\n",
    "                        #print('error')\n",
    "                        continue\n",
    "                    \n",
    "                    x2 = sum((self.model(phase,pars[0],pars[1],pars[2])-crv[fi][:,1])**2/crv[fi][:,2]**2)\n",
    "                    if x2 < minx2:\n",
    "                        minx2 = x2\n",
    "                        bestn[fi] = n\n",
    "                        ppars[fi] = pars\n",
    "                        pperr[fi] = np.sqrt(np.diag(cov))\n",
    "                sumx2 += minx2\n",
    "                if sumx2 > minsumx2:\n",
    "                    break\n",
    "            if sumx2 < minsumx2:\n",
    "                minsumx2 = sumx2\n",
    "                besttmps = bestn\n",
    "                bestpars = ppars\n",
    "                bestperr = pperr\n",
    "                bestp    = p\n",
    "        Npnts = 0\n",
    "        for j in range(len(crv)):\n",
    "            Npnts += len(crv[j])\n",
    "        return bestpars, bestperr, bestp, besttmps, minsumx2/(Npnts-3) #reduced chi square"
   ]
  },
  {
   "cell_type": "code",
   "execution_count": null,
   "metadata": {
    "ExecuteTime": {
     "end_time": "2021-07-02T23:28:41.964590Z",
     "start_time": "2021-07-02T23:28:41.944682Z"
    }
   },
   "outputs": [],
   "source": []
  },
  {
   "cell_type": "code",
   "execution_count": null,
   "metadata": {
    "ExecuteTime": {
     "end_time": "2021-07-03T02:24:35.090569Z",
     "start_time": "2021-07-03T02:24:32.068Z"
    }
   },
   "outputs": [],
   "source": [
    "with open(\"templets/LaydenTemplates.txt\") as myfile:\n",
    "    head = [next(myfile) for x in range(2)]\n",
    "tmpcols = head[0].replace(' ','').replace('\\n','').split(',')\n",
    "tmptyps = head[1].replace(' ','').replace('\\n','').split(',')\n",
    "\n",
    "tmps = np.genfromtxt(\"templets/LaydenTemplates.txt\",delimiter=',',skip_header=2)\n",
    "tmps = [tmps]*5\n",
    "fitter = tmpfitter(tmps,['u','g','r','i','z'])\n",
    "def fit_plot(objname):\n",
    "    crv, p ,fltrs, initpars = get_data(objname)\n",
    "    if len(fltrs) == 0:\n",
    "        return\n",
    "    pars,perr,p,Ns,redchi = fitter.tmpfit(crv,p,fltrs,initpars,w=.15,steps=61)\n",
    "    crv_in = RemoveOutliers(crv,tmps,pars,p,Ns)\n",
    "    pars,perr,p,Ns,redchi = fitter.tmpfit(crv_in,p,fltrs,pars,w=.01,steps=81)\n",
    "    \n",
    "    # double crv and tmps\n",
    "    crv2 = []\n",
    "    tmp2 = []\n",
    "    for i in range(len(crv)):\n",
    "        crv2.append(crv[i].copy())\n",
    "        crv2[i][:,0] = (crv2[i][:,0]/p-pars[i,0])%1\n",
    "        crv2[i] = crv2[i][crv2[i][:,0].argsort()]\n",
    "        crv2[i] = np.tile(crv2[i].T,2).T\n",
    "        crv2[i][int(len(crv2[i])/2):,0] += 1\n",
    "        \n",
    "        tmp2.append(np.tile(tmps[i].T,2).T)\n",
    "        tmp2[i][int(len(tmp2[i])/2):,0] += 1\n",
    "    #---#\n",
    "    \n",
    "    fig, ax = plt.subplots(len(fltrs), figsize=(10,10), sharex=True)\n",
    "    if len(fltrs) == 1:\n",
    "        ax = [ax]\n",
    "    colors = ['b','g','r','y','k']\n",
    "    \n",
    "    for i in range(len(fltrs)):\n",
    "        ax[i].scatter(crv2[i][:,0],crv2[i][:,1],c=colors[i])\n",
    "        ax[i].plot(tmp2[i][:,0],tmp2[i][:,Ns[i]]*pars[i,1]+pars[i,2],c='black')\n",
    "        ax[i].invert_yaxis()\n",
    "        ax[i].set_ylabel(fltrs[i], fontsize=18)\n",
    "\n",
    "    ax[-1].set_xlabel('Phase', fontsize=16)\n",
    "    ax[0].set_title(\"Object: {}    Period: {:.3f} d    Type: {}\".format(objname,p,'typ'), fontsize=20)\n",
    "    fig.savefig('results/plots/{}.png'.format(objname))\n",
    "    \n",
    "    file = open('results/{}_parameters.csv'.format(objname),'w')\n",
    "    file.write(\"{},{:.3f},{:.3f},\\n\".format(objname,p,redchi))\n",
    "    for i in range(len(fltrs)):\n",
    "        file.write(\"{:.3f},{:.3f},{:.3f},{}\\n\".format(pars[i,0],pars[i,1],pars[i,2],tmpcols[Ns[i]]))\n",
    "    plt.close(fig)"
   ]
  },
  {
   "cell_type": "code",
   "execution_count": null,
   "metadata": {
    "ExecuteTime": {
     "end_time": "2021-07-03T02:24:35.091567Z",
     "start_time": "2021-07-03T02:24:32.070Z"
    },
    "scrolled": true
   },
   "outputs": [],
   "source": [
    "fit_plot(interesting[1])"
   ]
  },
  {
   "cell_type": "code",
   "execution_count": null,
   "metadata": {},
   "outputs": [],
   "source": []
  },
  {
   "cell_type": "code",
   "execution_count": null,
   "metadata": {},
   "outputs": [],
   "source": []
  },
  {
   "cell_type": "code",
   "execution_count": null,
   "metadata": {},
   "outputs": [],
   "source": []
  },
  {
   "cell_type": "code",
   "execution_count": null,
   "metadata": {
    "ExecuteTime": {
     "end_time": "2021-07-03T02:24:35.093562Z",
     "start_time": "2021-07-03T02:24:32.076Z"
    }
   },
   "outputs": [],
   "source": [
    "def"
   ]
  },
  {
   "cell_type": "code",
   "execution_count": null,
   "metadata": {
    "ExecuteTime": {
     "end_time": "2021-07-03T02:24:35.094559Z",
     "start_time": "2021-07-03T02:24:32.079Z"
    }
   },
   "outputs": [],
   "source": [
    "from astropy.table import Table\n",
    "fig, ax = plt.subplots(1,2,figsize=(12,4))\n",
    "amps = Table.read(\"amp_rrab.fits\",format='fits')\n",
    "amps1g = amps['gamp']\n",
    "amps1r = amps['ramp']\n",
    "inds1a, = np.where(amps1g != -99.99) and np.where(amps1r != -99.99)\n",
    "ax[0].scatter(amps1g[inds1a],amps1r[inds1a],s=1)\n",
    "ax[0].set_xlim(0,1)\n",
    "ax[0].set_ylim(0,1)\n",
    "amps   = Table.read(\"amp_else.fits\",format='fits')\n",
    "amps2g = amps['gamp']\n",
    "amps2r = amps['ramp']\n",
    "inds2a, = np.where(amps2g != -99.99) and np.where(amps2r != -99.99)\n",
    "ax[1].scatter(amps2g[inds2a],amps2r[inds2a],s=1)\n",
    "ax[1].set_xlim(0,1)\n",
    "ax[1].set_ylim(0,1)"
   ]
  },
  {
   "cell_type": "code",
   "execution_count": null,
   "metadata": {
    "ExecuteTime": {
     "end_time": "2021-07-03T02:24:35.098549Z",
     "start_time": "2021-07-03T02:24:32.081Z"
    }
   },
   "outputs": [],
   "source": [
    "plt.scatter(amps1g[inds1a],amps1r[inds1a],s=1,label='RRab')\n",
    "plt.scatter(amps2g[inds2a],amps2r[inds2a],s=1,label='Other')\n",
    "plt.xlim(0,1)\n",
    "plt.ylim(0,1)\n",
    "plt.plot([0,1],[0,1],c='gray')\n",
    "plt.plot([0,1],[0,.668],c='gray')\n",
    "plt.title('r Amp vs g Amp')\n",
    "plt.xlabel('g')\n",
    "plt.ylabel('r')\n",
    "plt.legend()"
   ]
  },
  {
   "cell_type": "code",
   "execution_count": null,
   "metadata": {
    "ExecuteTime": {
     "end_time": "2021-07-03T02:24:35.100542Z",
     "start_time": "2021-07-03T02:24:32.083Z"
    }
   },
   "outputs": [],
   "source": [
    "fig, ax = plt.subplots(1,2,figsize=(12,4))\n",
    "ax[0].hist(amps1r[inds1a]/amps1g[inds1a],range=(0.5,1.1))\n",
    "ax[0].set_title('R Amp/G Amp Histogram (RRab Sample)')\n",
    "ampsallr = np.concatenate((amps1r[inds1a],amps2r[inds2a]))\n",
    "ampsallg = np.concatenate((amps1g[inds1a],amps2g[inds2a]))\n",
    "ax[1].hist(ampsallr/ampsallg,range=(0.5,1.1))\n",
    "ax[1].set_title('R Amp/G Amp Histogram (Gold Sample)')"
   ]
  },
  {
   "cell_type": "code",
   "execution_count": null,
   "metadata": {
    "ExecuteTime": {
     "end_time": "2021-07-03T02:24:35.101541Z",
     "start_time": "2021-07-03T02:24:32.085Z"
    }
   },
   "outputs": [],
   "source": [
    "plt.hist(amps2r[inds2a]/amps2g[inds2a],range=(0.5,1.1))\n",
    "plt.title('R Amp/G Amp Histogram (not in RRab Sample)')"
   ]
  },
  {
   "cell_type": "code",
   "execution_count": null,
   "metadata": {
    "ExecuteTime": {
     "end_time": "2021-06-29T22:14:06.347408Z",
     "start_time": "2021-06-29T22:13:59.890Z"
    }
   },
   "outputs": [],
   "source": []
  },
  {
   "cell_type": "code",
   "execution_count": null,
   "metadata": {
    "ExecuteTime": {
     "end_time": "2021-07-03T02:24:35.103535Z",
     "start_time": "2021-07-03T02:24:32.088Z"
    }
   },
   "outputs": [],
   "source": [
    "fig, ax = plt.subplots(1,2,figsize=(12,4))\n",
    "amps = Table.read(\"amp_rrab.fits\",format='fits')\n",
    "amps1r = amps['ramp']\n",
    "amps1i = amps['iamp']\n",
    "inds1b, = np.where(amps1r != -99.99) and np.where(amps1i != -99.99)\n",
    "ax[0].scatter(amps1r[inds1b],amps1i[inds1b],s=1)\n",
    "ax[0].set_xlim(0,.7)\n",
    "ax[0].set_ylim(0,.7)\n",
    "amps   = Table.read(\"amp_else.fits\",format='fits')\n",
    "amps2r = amps['ramp']\n",
    "amps2i = amps['iamp']\n",
    "inds2b, = np.where(amps2r != -99.99) and np.where(amps2i != -99.99)\n",
    "ax[1].scatter(amps2r[inds2b],amps2i[inds2b],s=1)\n",
    "ax[1].set_xlim(0,.7)\n",
    "ax[1].set_ylim(0,.7)"
   ]
  },
  {
   "cell_type": "code",
   "execution_count": null,
   "metadata": {
    "ExecuteTime": {
     "end_time": "2021-07-03T02:24:35.105530Z",
     "start_time": "2021-07-03T02:24:32.090Z"
    }
   },
   "outputs": [],
   "source": [
    "plt.scatter(amps2r[inds2b],amps2i[inds2b],s=1,label='Other')\n",
    "plt.scatter(amps1r[inds1b],amps1i[inds1b],s=1,label='RRab')\n",
    "plt.xlim(0,.7)\n",
    "plt.ylim(0,.7)\n",
    "plt.plot([0,1],[0,.95],c='gray')\n",
    "plt.plot([0,1],[0,.75],c='gray')\n",
    "plt.title('i Amp vs r Amp')\n",
    "plt.xlabel('r')\n",
    "plt.ylabel('i')\n",
    "plt.legend()"
   ]
  },
  {
   "cell_type": "code",
   "execution_count": null,
   "metadata": {
    "ExecuteTime": {
     "end_time": "2021-07-03T02:24:35.106527Z",
     "start_time": "2021-07-03T02:24:32.092Z"
    }
   },
   "outputs": [],
   "source": [
    "fig, ax = plt.subplots(1,2,figsize=(12,4))\n",
    "ax[0].hist(amps1i[inds1b]/amps1r[inds1b],range=(0.5,1.1))\n",
    "ax[0].set_title('i Amp/r Amp Histogram (RRab Sample)')\n",
    "ampsallr = np.concatenate((amps1i[inds1b],amps2i[inds2b]))\n",
    "ampsallg = np.concatenate((amps1r[inds1b],amps2r[inds2b]))\n",
    "ax[1].hist(ampsallr/ampsallg,range=(0.5,1.1))\n",
    "ax[1].set_title('i Amp/r Amp Histogram (Gold Sample)')"
   ]
  },
  {
   "cell_type": "code",
   "execution_count": null,
   "metadata": {
    "ExecuteTime": {
     "end_time": "2021-07-03T02:24:35.108522Z",
     "start_time": "2021-07-03T02:24:32.093Z"
    }
   },
   "outputs": [],
   "source": [
    "plt.hist(amps2i[inds2b]/amps2r[inds2b],range=(0.5,1.1))\n",
    "plt.title('i Amp/r Amp Histogram (not in RRab Sample)')"
   ]
  },
  {
   "cell_type": "code",
   "execution_count": null,
   "metadata": {},
   "outputs": [],
   "source": []
  },
  {
   "cell_type": "code",
   "execution_count": null,
   "metadata": {
    "ExecuteTime": {
     "end_time": "2021-07-03T02:24:35.110516Z",
     "start_time": "2021-07-03T02:24:32.097Z"
    }
   },
   "outputs": [],
   "source": [
    "fig, ax = plt.subplots(1,2,figsize=(12,4))\n",
    "amps = Table.read(\"amp_rrab.fits\",format='fits')\n",
    "amps1u = amps['uamp']\n",
    "amps1g = amps['gamp']\n",
    "inds1c, = np.where(amps1u != -99.99) and np.where(amps1g != -99.99)\n",
    "ax[0].scatter(amps1u[inds1c],amps1g[inds1c],s=1)\n",
    "ax[0].set_xlim(0,1)\n",
    "ax[0].set_ylim(0,1)\n",
    "amps   = Table.read(\"amp_else.fits\",format='fits')\n",
    "amps2u = amps['uamp']\n",
    "amps2g = amps['gamp']\n",
    "inds2c, = np.where(amps2u != -99.99) and np.where(amps2g != -99.99)\n",
    "ax[1].scatter(amps2u[inds2c],amps2g[inds2c],s=1)\n",
    "ax[1].set_xlim(0,1)\n",
    "ax[1].set_ylim(0,1)"
   ]
  },
  {
   "cell_type": "code",
   "execution_count": null,
   "metadata": {
    "ExecuteTime": {
     "end_time": "2021-07-03T02:24:35.111514Z",
     "start_time": "2021-07-03T02:24:32.099Z"
    }
   },
   "outputs": [],
   "source": [
    "plt.scatter(amps1u[inds1c],amps1g[inds1c],s=1,label='RRab')\n",
    "plt.scatter(amps2u[inds2c],amps2g[inds2c],s=1,label='Other')\n",
    "plt.xlim(0,1)\n",
    "plt.ylim(0,1)\n",
    "plt.title('g Amp vs u Amp')\n",
    "plt.xlabel('u')\n",
    "plt.ylabel('g')\n",
    "plt.legend()"
   ]
  },
  {
   "cell_type": "code",
   "execution_count": null,
   "metadata": {
    "ExecuteTime": {
     "end_time": "2021-07-03T02:24:35.113508Z",
     "start_time": "2021-07-03T02:24:32.100Z"
    }
   },
   "outputs": [],
   "source": [
    "fig, ax = plt.subplots(1,2,figsize=(12,4))\n",
    "ax[0].hist(amps1g[inds1c]/amps1u[inds1c],range=(0.5,1.1))\n",
    "ax[0].set_title('g Amp/u Amp Histogram (RRab Sample)')\n",
    "ampsallg = np.concatenate((amps1g[inds1c],amps2g[inds2c]))\n",
    "ampsallu = np.concatenate((amps1u[inds1c],amps2u[inds2c]))\n",
    "ax[1].hist(ampsallg/ampsallu,range=(0.5,1.1))\n",
    "ax[1].set_title('g Amp/u Amp Histogram (Gold Sample)')"
   ]
  },
  {
   "cell_type": "code",
   "execution_count": null,
   "metadata": {
    "ExecuteTime": {
     "end_time": "2021-07-03T02:24:35.115505Z",
     "start_time": "2021-07-03T02:24:32.102Z"
    }
   },
   "outputs": [],
   "source": [
    "plt.hist(amps2g[inds2c]/amps2u[inds2c],range=(0.5,1.1))\n",
    "plt.title('g Amp/u Amp Histogram (not in RRab Sample)')"
   ]
  },
  {
   "cell_type": "code",
   "execution_count": null,
   "metadata": {
    "ExecuteTime": {
     "end_time": "2021-06-29T22:14:06.347408Z",
     "start_time": "2021-06-29T22:13:59.890Z"
    }
   },
   "outputs": [],
   "source": []
  },
  {
   "cell_type": "code",
   "execution_count": null,
   "metadata": {},
   "outputs": [],
   "source": []
  },
  {
   "cell_type": "code",
   "execution_count": null,
   "metadata": {},
   "outputs": [],
   "source": []
  },
  {
   "cell_type": "code",
   "execution_count": null,
   "metadata": {},
   "outputs": [],
   "source": []
  },
  {
   "cell_type": "code",
   "execution_count": null,
   "metadata": {},
   "outputs": [],
   "source": []
  },
  {
   "cell_type": "code",
   "execution_count": null,
   "metadata": {},
   "outputs": [],
   "source": []
  },
  {
   "cell_type": "code",
   "execution_count": null,
   "metadata": {},
   "outputs": [],
   "source": []
  },
  {
   "cell_type": "code",
   "execution_count": null,
   "metadata": {
    "ExecuteTime": {
     "end_time": "2021-07-03T02:24:35.117498Z",
     "start_time": "2021-07-03T02:24:32.112Z"
    }
   },
   "outputs": [],
   "source": [
    "fig, ax = plt.subplots(1,2,figsize=(12,4))\n",
    "amps = Table.read(\"amp_rrab.fits\",format='fits')\n",
    "amps1u = amps['gamp']\n",
    "amps1g = amps['zamp']\n",
    "inds1c, = np.where(amps1u != -99.99) and np.where(amps1g != -99.99)\n",
    "ax[0].scatter(amps1u[inds1c],amps1g[inds1c],s=1)\n",
    "ax[0].set_xlim(0,1)\n",
    "ax[0].set_ylim(0,1)\n",
    "amps   = Table.read(\"amp_else.fits\",format='fits')\n",
    "amps2u = amps['gamp']\n",
    "amps2g = amps['zamp']\n",
    "inds2c, = np.where(amps2u != -99.99) and np.where(amps2g != -99.99)\n",
    "ax[1].scatter(amps2u[inds2c],amps2g[inds2c],s=1)\n",
    "ax[1].set_xlim(0,1)\n",
    "ax[1].set_ylim(0,1)"
   ]
  },
  {
   "cell_type": "code",
   "execution_count": null,
   "metadata": {
    "ExecuteTime": {
     "end_time": "2021-07-03T02:24:35.119492Z",
     "start_time": "2021-07-03T02:24:32.114Z"
    }
   },
   "outputs": [],
   "source": [
    "plt.scatter(amps1u[inds1c],amps1g[inds1c],s=1,label='RRab')\n",
    "plt.scatter(amps2u[inds2c],amps2g[inds2c],s=1,label='Other')\n",
    "plt.xlim(0,1)\n",
    "plt.ylim(0,1)\n",
    "plt.title('g Amp vs u Amp')\n",
    "plt.plot([0,1],[0,1])\n",
    "plt.xlabel('u')\n",
    "plt.ylabel('g')\n",
    "plt.legend()"
   ]
  },
  {
   "cell_type": "code",
   "execution_count": null,
   "metadata": {
    "ExecuteTime": {
     "end_time": "2021-07-03T02:24:35.120492Z",
     "start_time": "2021-07-03T02:24:32.116Z"
    }
   },
   "outputs": [],
   "source": [
    "fig, ax = plt.subplots(1,2,figsize=(12,4))\n",
    "ax[0].hist(amps1g[inds1c]/amps1u[inds1c],range=(0,1.1))\n",
    "ax[0].set_title('g Amp/u Amp Histogram (RRab Sample)')\n",
    "ampsallg = np.concatenate((amps1g[inds1c],amps2g[inds2c]))\n",
    "ampsallu = np.concatenate((amps1u[inds1c],amps2u[inds2c]))\n",
    "ax[1].hist(ampsallg/ampsallu,range=(0,1.1))\n",
    "ax[1].set_title('g Amp/u Amp Histogram (Gold Sample)')"
   ]
  },
  {
   "cell_type": "code",
   "execution_count": null,
   "metadata": {
    "ExecuteTime": {
     "end_time": "2021-07-03T02:24:35.122489Z",
     "start_time": "2021-07-03T02:24:32.118Z"
    }
   },
   "outputs": [],
   "source": [
    "plt.hist(amps2g[inds2c]/amps2u[inds2c],range=(0,1.1))\n",
    "plt.title('g Amp/u Amp Histogram (not in RRab Sample)')"
   ]
  },
  {
   "cell_type": "code",
   "execution_count": null,
   "metadata": {},
   "outputs": [],
   "source": []
  },
  {
   "cell_type": "code",
   "execution_count": null,
   "metadata": {},
   "outputs": [],
   "source": []
  },
  {
   "cell_type": "code",
   "execution_count": null,
   "metadata": {},
   "outputs": [],
   "source": []
  },
  {
   "cell_type": "code",
   "execution_count": null,
   "metadata": {},
   "outputs": [],
   "source": []
  },
  {
   "cell_type": "code",
   "execution_count": null,
   "metadata": {},
   "outputs": [],
   "source": []
  },
  {
   "cell_type": "code",
   "execution_count": null,
   "metadata": {},
   "outputs": [],
   "source": []
  },
  {
   "cell_type": "code",
   "execution_count": null,
   "metadata": {},
   "outputs": [],
   "source": []
  },
  {
   "cell_type": "code",
   "execution_count": null,
   "metadata": {
    "ExecuteTime": {
     "end_time": "2021-07-03T02:24:35.123482Z",
     "start_time": "2021-07-03T02:24:32.130Z"
    }
   },
   "outputs": [],
   "source": [
    "fig, ax = plt.subplots(1,2,figsize=(12,4))\n",
    "amps = Table.read(\"amp_rrab.fits\",format='fits')\n",
    "amps1u = amps['uamp']\n",
    "amps1g = amps['gamp']\n",
    "inds1c, = np.where(amps1u != -99.99) and np.where(amps1g != -99.99)\n",
    "ax[0].scatter(amps1u[inds1c],amps1g[inds1c],s=1)\n",
    "ax[0].set_xlim(0,1)\n",
    "ax[0].set_ylim(0,1)\n",
    "amps   = Table.read(\"amp_else.fits\",format='fits')\n",
    "amps2u = amps['uamp']\n",
    "amps2g = amps['gamp']\n",
    "inds2c, = np.where(amps2u != -99.99) and np.where(amps2g != -99.99)\n",
    "ax[1].scatter(amps2u[inds2c],amps2g[inds2c],s=1)\n",
    "ax[1].set_xlim(0,1)\n",
    "ax[1].set_ylim(0,1)"
   ]
  },
  {
   "cell_type": "code",
   "execution_count": null,
   "metadata": {
    "ExecuteTime": {
     "end_time": "2021-07-03T02:24:35.125477Z",
     "start_time": "2021-07-03T02:24:32.132Z"
    }
   },
   "outputs": [],
   "source": [
    "plt.scatter(amps1u[inds1c],amps1g[inds1c],s=1,label='RRab')\n",
    "plt.scatter(amps2u[inds2c],amps2g[inds2c],s=1,label='Other')\n",
    "plt.xlim(0,1)\n",
    "plt.ylim(0,1)\n",
    "plt.title('g Amp vs u Amp')\n",
    "plt.xlabel('u')\n",
    "plt.ylabel('g')\n",
    "plt.legend()"
   ]
  },
  {
   "cell_type": "code",
   "execution_count": null,
   "metadata": {
    "ExecuteTime": {
     "end_time": "2021-07-03T02:24:35.126478Z",
     "start_time": "2021-07-03T02:24:32.134Z"
    }
   },
   "outputs": [],
   "source": [
    "fig, ax = plt.subplots(1,2,figsize=(12,4))\n",
    "ax[0].hist(amps1g[inds1c]/amps1u[inds1c],range=(0.5,1.1))\n",
    "ax[0].set_title('g Amp/u Amp Histogram (RRab Sample)')\n",
    "ampsallg = np.concatenate((amps1g[inds1c],amps2g[inds2c]))\n",
    "ampsallu = np.concatenate((amps1u[inds1c],amps2u[inds2c]))\n",
    "ax[1].hist(ampsallg/ampsallu,range=(0.5,1.1))\n",
    "ax[1].set_title('g Amp/u Amp Histogram (Gold Sample)')"
   ]
  },
  {
   "cell_type": "code",
   "execution_count": null,
   "metadata": {
    "ExecuteTime": {
     "end_time": "2021-07-03T02:24:35.127471Z",
     "start_time": "2021-07-03T02:24:32.137Z"
    }
   },
   "outputs": [],
   "source": [
    "plt.hist(amps2g[inds2c]/amps2u[inds2c],range=(0.5,1.1))\n",
    "plt.title('g Amp/u Amp Histogram (not in RRab Sample)')"
   ]
  },
  {
   "cell_type": "code",
   "execution_count": null,
   "metadata": {},
   "outputs": [],
   "source": []
  },
  {
   "cell_type": "code",
   "execution_count": null,
   "metadata": {},
   "outputs": [],
   "source": []
  }
 ],
 "metadata": {
  "kernelspec": {
   "display_name": "Python 3",
   "language": "python",
   "name": "python3"
  },
  "language_info": {
   "codemirror_mode": {
    "name": "ipython",
    "version": 3
   },
   "file_extension": ".py",
   "mimetype": "text/x-python",
   "name": "python",
   "nbconvert_exporter": "python",
   "pygments_lexer": "ipython3",
   "version": "3.7.4"
  }
 },
 "nbformat": 4,
 "nbformat_minor": 2
}
