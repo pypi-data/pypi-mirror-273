{
 "cells": [
  {
   "cell_type": "code",
   "execution_count": 1,
   "metadata": {},
   "outputs": [],
   "source": [
    "from getpass import getpass\n",
    "from glob import glob\n",
    "\n",
    "import numpy as np\n",
    "import pylab as plt\n",
    "from astropy import stats, units as u\n",
    "from mpl_toolkits.axes_grid1.inset_locator import inset_axes, mark_inset\n",
    "from matplotlib.ticker import MaxNLocator\n",
    "%matplotlib inline\n",
    "\n",
    "import pandas as pd\n",
    "from scipy.interpolate import interp1d\n",
    "from scipy.signal import gaussian, convolve\n",
    "from statistics import median\n",
    "\n",
    "from scipy.optimize import curve_fit, least_squares\n",
    "\n",
    "import utils\n",
    "\n",
    "# Data Lab\n",
    "from dl import authClient as ac, queryClient as qc, storeClient as sc\n",
    "from dl.helpers.utils import convert\n",
    "\n",
    "# plotting setup\n",
    "fontsize = 14\n",
    "plt.rcParams['font.size'] = fontsize\n",
    "plt.rcParams['axes.titlesize'] = fontsize"
   ]
  },
  {
   "cell_type": "code",
   "execution_count": 2,
   "metadata": {},
   "outputs": [],
   "source": [
    "import var\n",
    "from astropy.io import fits"
   ]
  },
  {
   "cell_type": "code",
   "execution_count": 3,
   "metadata": {},
   "outputs": [
    {
     "data": {
      "text/html": [
       "<div>\n",
       "<style scoped>\n",
       "    .dataframe tbody tr th:only-of-type {\n",
       "        vertical-align: middle;\n",
       "    }\n",
       "\n",
       "    .dataframe tbody tr th {\n",
       "        vertical-align: top;\n",
       "    }\n",
       "\n",
       "    .dataframe thead th {\n",
       "        text-align: right;\n",
       "    }\n",
       "</style>\n",
       "<table border=\"1\" class=\"dataframe\">\n",
       "  <thead>\n",
       "    <tr style=\"text-align: right;\">\n",
       "      <th></th>\n",
       "      <th>mjd</th>\n",
       "      <th>ra</th>\n",
       "      <th>dec</th>\n",
       "      <th>x</th>\n",
       "      <th>y</th>\n",
       "      <th>raerr</th>\n",
       "      <th>decerr</th>\n",
       "      <th>mag_auto</th>\n",
       "      <th>magerr_auto</th>\n",
       "      <th>mag_aper1</th>\n",
       "      <th>...</th>\n",
       "      <th>theta</th>\n",
       "      <th>thetaerr</th>\n",
       "      <th>fwhm</th>\n",
       "      <th>class_star</th>\n",
       "      <th>ccdnum</th>\n",
       "      <th>flags</th>\n",
       "      <th>measid</th>\n",
       "      <th>objectid</th>\n",
       "      <th>exposure</th>\n",
       "      <th>filter</th>\n",
       "    </tr>\n",
       "  </thead>\n",
       "  <tbody>\n",
       "    <tr>\n",
       "      <th>0</th>\n",
       "      <td>57113.103622</td>\n",
       "      <td>184.660012</td>\n",
       "      <td>-31.714284</td>\n",
       "      <td>1925.4500</td>\n",
       "      <td>3753.07</td>\n",
       "      <td>0.013498</td>\n",
       "      <td>0.012326</td>\n",
       "      <td>16.4367</td>\n",
       "      <td>0.002352</td>\n",
       "      <td>17.5287</td>\n",
       "      <td>...</td>\n",
       "      <td>102.5060</td>\n",
       "      <td>16.88590</td>\n",
       "      <td>1.015290</td>\n",
       "      <td>0.988802</td>\n",
       "      <td>19</td>\n",
       "      <td>0</td>\n",
       "      <td>c4d.426837.19.111</td>\n",
       "      <td>150023_1179</td>\n",
       "      <td>c4d_150401_023233_ooi_r_v1</td>\n",
       "      <td>r</td>\n",
       "    </tr>\n",
       "    <tr>\n",
       "      <th>1</th>\n",
       "      <td>57113.056146</td>\n",
       "      <td>184.660014</td>\n",
       "      <td>-31.714282</td>\n",
       "      <td>1916.1600</td>\n",
       "      <td>3738.60</td>\n",
       "      <td>0.017272</td>\n",
       "      <td>0.014770</td>\n",
       "      <td>16.6075</td>\n",
       "      <td>0.002451</td>\n",
       "      <td>17.7974</td>\n",
       "      <td>...</td>\n",
       "      <td>94.8063</td>\n",
       "      <td>-2.10764</td>\n",
       "      <td>1.093830</td>\n",
       "      <td>0.983845</td>\n",
       "      <td>19</td>\n",
       "      <td>0</td>\n",
       "      <td>c4d.426814.19.143</td>\n",
       "      <td>150023_1179</td>\n",
       "      <td>c4d_150401_012411_ooi_i_v1</td>\n",
       "      <td>i</td>\n",
       "    </tr>\n",
       "    <tr>\n",
       "      <th>2</th>\n",
       "      <td>57112.054908</td>\n",
       "      <td>184.660013</td>\n",
       "      <td>-31.714283</td>\n",
       "      <td>1910.2000</td>\n",
       "      <td>3754.76</td>\n",
       "      <td>0.014560</td>\n",
       "      <td>0.011941</td>\n",
       "      <td>16.6778</td>\n",
       "      <td>0.002346</td>\n",
       "      <td>17.9072</td>\n",
       "      <td>...</td>\n",
       "      <td>82.5395</td>\n",
       "      <td>-81.96120</td>\n",
       "      <td>1.143730</td>\n",
       "      <td>0.988209</td>\n",
       "      <td>19</td>\n",
       "      <td>0</td>\n",
       "      <td>c4d.426474.19.118</td>\n",
       "      <td>150023_1179</td>\n",
       "      <td>c4d_150331_012224_ooi_r_v1</td>\n",
       "      <td>r</td>\n",
       "    </tr>\n",
       "    <tr>\n",
       "      <th>3</th>\n",
       "      <td>56736.267460</td>\n",
       "      <td>184.660019</td>\n",
       "      <td>-31.714281</td>\n",
       "      <td>561.9940</td>\n",
       "      <td>1717.94</td>\n",
       "      <td>0.018848</td>\n",
       "      <td>0.017301</td>\n",
       "      <td>16.7528</td>\n",
       "      <td>0.013090</td>\n",
       "      <td>17.7609</td>\n",
       "      <td>...</td>\n",
       "      <td>149.2020</td>\n",
       "      <td>-55.76460</td>\n",
       "      <td>0.960298</td>\n",
       "      <td>0.983257</td>\n",
       "      <td>19</td>\n",
       "      <td>0</td>\n",
       "      <td>c4d.294386.19.444</td>\n",
       "      <td>150023_1179</td>\n",
       "      <td>c4d_140320_062622_ooi_Y_v1</td>\n",
       "      <td>Y</td>\n",
       "    </tr>\n",
       "    <tr>\n",
       "      <th>4</th>\n",
       "      <td>57100.221888</td>\n",
       "      <td>184.660015</td>\n",
       "      <td>-31.714279</td>\n",
       "      <td>38.7759</td>\n",
       "      <td>2497.93</td>\n",
       "      <td>0.013784</td>\n",
       "      <td>0.014180</td>\n",
       "      <td>16.9189</td>\n",
       "      <td>0.007564</td>\n",
       "      <td>17.9516</td>\n",
       "      <td>...</td>\n",
       "      <td>165.4620</td>\n",
       "      <td>-61.81470</td>\n",
       "      <td>0.998975</td>\n",
       "      <td>0.990544</td>\n",
       "      <td>46</td>\n",
       "      <td>0</td>\n",
       "      <td>c4d.423324.46.763</td>\n",
       "      <td>150023_1179</td>\n",
       "      <td>c4d_150319_052119_ooi_r_v1</td>\n",
       "      <td>r</td>\n",
       "    </tr>\n",
       "  </tbody>\n",
       "</table>\n",
       "<p>5 rows × 32 columns</p>\n",
       "</div>"
      ],
      "text/plain": [
       "            mjd          ra        dec          x        y     raerr  \\\n",
       "0  57113.103622  184.660012 -31.714284  1925.4500  3753.07  0.013498   \n",
       "1  57113.056146  184.660014 -31.714282  1916.1600  3738.60  0.017272   \n",
       "2  57112.054908  184.660013 -31.714283  1910.2000  3754.76  0.014560   \n",
       "3  56736.267460  184.660019 -31.714281   561.9940  1717.94  0.018848   \n",
       "4  57100.221888  184.660015 -31.714279    38.7759  2497.93  0.013784   \n",
       "\n",
       "     decerr  mag_auto  magerr_auto  mag_aper1  ...     theta  thetaerr  \\\n",
       "0  0.012326   16.4367     0.002352    17.5287  ...  102.5060  16.88590   \n",
       "1  0.014770   16.6075     0.002451    17.7974  ...   94.8063  -2.10764   \n",
       "2  0.011941   16.6778     0.002346    17.9072  ...   82.5395 -81.96120   \n",
       "3  0.017301   16.7528     0.013090    17.7609  ...  149.2020 -55.76460   \n",
       "4  0.014180   16.9189     0.007564    17.9516  ...  165.4620 -61.81470   \n",
       "\n",
       "       fwhm  class_star  ccdnum  flags             measid     objectid  \\\n",
       "0  1.015290    0.988802      19      0  c4d.426837.19.111  150023_1179   \n",
       "1  1.093830    0.983845      19      0  c4d.426814.19.143  150023_1179   \n",
       "2  1.143730    0.988209      19      0  c4d.426474.19.118  150023_1179   \n",
       "3  0.960298    0.983257      19      0  c4d.294386.19.444  150023_1179   \n",
       "4  0.998975    0.990544      46      0  c4d.423324.46.763  150023_1179   \n",
       "\n",
       "                     exposure  filter  \n",
       "0  c4d_150401_023233_ooi_r_v1       r  \n",
       "1  c4d_150401_012411_ooi_i_v1       i  \n",
       "2  c4d_150331_012224_ooi_r_v1       r  \n",
       "3  c4d_140320_062622_ooi_Y_v1       Y  \n",
       "4  c4d_150319_052119_ooi_r_v1       r  \n",
       "\n",
       "[5 rows x 32 columns]"
      ]
     },
     "execution_count": 3,
     "metadata": {},
     "output_type": "execute_result"
    }
   ],
   "source": [
    "objname = '150023_1179'\n",
    "res=qc.query(sql=\"\"\"SELECT meas.* \n",
    "                    FROM nsc_dr2.meas\n",
    "                    WHERE objectid='{:s}'\"\"\".format(objname),\n",
    "             fmt='pandas',\n",
    "             profile='db01')\n",
    "res[:5]"
   ]
  },
  {
   "cell_type": "code",
   "execution_count": 4,
   "metadata": {},
   "outputs": [],
   "source": [
    "def get_data(df,band='r ',aper=1):\n",
    "    fltr = (df['filter'] == band)\n",
    "    fwhm = (df['fwhm'] <= 4.0)\n",
    "    sel = fltr & fwhm\n",
    "    #sel = (df['filter'] == band)\n",
    "    t = df['mjd'][sel].values\n",
    "    y = df['mag_auto'][sel].values\n",
    "    dy = df['magerr_auto'][sel].values\n",
    "    return t,y,dy # return time, magnitudes in one band, uncertainties\n",
    "\n",
    "def get_folded_phase(t,best_period,offset=0):\n",
    "    \n",
    "    \"\"\"Fold the observation times with the best period of the variable signal.\"\"\"\n",
    "    \n",
    "    # light curve over period, take the remainder (i.e. the \"phase\" of one period)\n",
    "    phase = (t / best_period - offset) % 1\n",
    "    \n",
    "    return phase\n",
    "\n",
    "def smooth(x,y,s=80):\n",
    "    \"\"\"\n",
    "    Convolves with a gaussian to create a smoothe line.\n",
    "    \"\"\"\n",
    "    f = interp1d(x,y)\n",
    "    xx = np.linspace(min(x),max(x),2000)\n",
    "    yy = f(xx)\n",
    "    window = gaussian(200,s)\n",
    "    smoothed = convolve(yy, window/window.sum(), mode='same')\n",
    "    return xx,smoothed"
   ]
  },
  {
   "cell_type": "code",
   "execution_count": 5,
   "metadata": {},
   "outputs": [
    {
     "data": {
      "text/plain": [
       "Counter({'r': 64, 'i': 61, 'Y': 3, 'g': 73, 'z': 10, 'u': 10})"
      ]
     },
     "execution_count": 5,
     "metadata": {},
     "output_type": "execute_result"
    }
   ],
   "source": [
    "import collections\n",
    "collections.Counter(res['filter'])"
   ]
  },
  {
   "cell_type": "code",
   "execution_count": 6,
   "metadata": {},
   "outputs": [],
   "source": [
    "tr,yr,dyr = get_data(res,'r')\n",
    "tg,yg,dyg = get_data(res,'g')\n",
    "ti,yi,dyi = get_data(res,'i')\n",
    "\n",
    "period = 0.5982\n",
    "\n",
    "gcrv = np.vstack((tg,yg-min(yg),dyg)).T\n",
    "gcrv = gcrv[gcrv[:,0].argsort()]\n",
    "\n",
    "rcrv = np.vstack((tr,yr-min(yr),dyr)).T\n",
    "rcrv = rcrv[rcrv[:,0].argsort()]\n",
    "\n",
    "icrv = np.vstack((ti,yi-min(yi),dyi)).T\n",
    "icrv = icrv[icrv[:,0].argsort()]"
   ]
  },
  {
   "cell_type": "code",
   "execution_count": 7,
   "metadata": {},
   "outputs": [],
   "source": [
    "gtmps = glob('templets/*g.dat')\n",
    "gtemplets = np.zeros((len(gtmps),501,2))\n",
    "for i in range(len(gtmps)):\n",
    "    gtemplets[i] = np.concatenate((np.array([[0,0]]),\n",
    "                                   np.array(pd.read_csv(gtmps[i],sep=' ')),\n",
    "                                   np.array([[1,0]])))"
   ]
  },
  {
   "cell_type": "code",
   "execution_count": 8,
   "metadata": {},
   "outputs": [],
   "source": [
    "rtmps = glob('templets/*r.dat')\n",
    "rtemplets = np.zeros((len(rtmps),501,2))\n",
    "for i in range(len(rtmps)):\n",
    "    rtemplets[i] = np.concatenate((np.array([[0,0]]),\n",
    "                                   np.array(pd.read_csv(rtmps[i],sep=' ')),\n",
    "                                   np.array([[1,0]])))"
   ]
  },
  {
   "cell_type": "code",
   "execution_count": 9,
   "metadata": {},
   "outputs": [],
   "source": [
    "itmps = glob('templets/*i.dat')\n",
    "itemplets = np.zeros((len(itmps),501,2))\n",
    "for i in range(len(itmps)):\n",
    "    itemplets[i] = np.concatenate((np.array([[0,0]]),\n",
    "                                   np.array(pd.read_csv(itmps[i],sep=' ')),\n",
    "                                   np.array([[1,0]])))"
   ]
  },
  {
   "cell_type": "code",
   "execution_count": null,
   "metadata": {},
   "outputs": [],
   "source": []
  },
  {
   "cell_type": "code",
   "execution_count": 128,
   "metadata": {},
   "outputs": [],
   "source": [
    "class tmpfitter:\n",
    "    def __init__ (self, tmps):\n",
    "        self.n=0\n",
    "        self.tmps=tmps\n",
    "    \n",
    "    def model(self, t, period, phase, amplitude, yoffset):\n",
    "        # modify the template using peak-to-peak amplitude, yoffset\n",
    "        # fold input times t by period, phase shift to match template\n",
    "        xtemp = self.tmps[self.n,:,0]\n",
    "        ytemp = self.tmps[self.n,:,1]*amplitude + yoffset\n",
    "        ph = (t / period - phase)%1\n",
    "        # interpolate the modified template to the phase we want\n",
    "        return interp1d(xtemp,ytemp)(ph)\n",
    "    \n",
    "def tmpfit(tmps,crv,pinit):\n",
    "    datfit = []\n",
    "    npars = []\n",
    "    fitter = tmpfitter(tmps)\n",
    "    for i in range(len(tmps)):\n",
    "        fitter.n = i\n",
    "        pars, cov = curve_fit(fitter.model, crv[:,0], crv[:,1],sigma=crv[:,2],p0=pinit)\n",
    "        datfit.append(median(abs(fitter.model(crv[:,0],pars[0],pars[1],pars[2],pars[3])-crv[:,1])))\n",
    "        npars.append(pars)\n",
    "    n = np.argmin(datfit)\n",
    "    return n, npars[n]"
   ]
  },
  {
   "cell_type": "code",
   "execution_count": 131,
   "metadata": {},
   "outputs": [
    {
     "data": {
      "text/plain": [
       "17"
      ]
     },
     "metadata": {},
     "output_type": "display_data"
    },
    {
     "data": {
      "text/plain": [
       "array([0.59820011, 0.92566437, 0.74577755, 0.06828474])"
      ]
     },
     "execution_count": 131,
     "metadata": {},
     "output_type": "execute_result"
    }
   ],
   "source": [
    "y0=min(gcrv[:,1])\n",
    "y1=max(gcrv[:,1])\n",
    "t0=gcrv[np.argmin(gcrv[:,1]),0]/period%1\n",
    "pinit = (period,t0,y1-y0,y0)\n",
    "gn,gpars = tmpfit(gtemplets,gcrv,pinit)\n",
    "display(gn)\n",
    "gpars\n",
    "#Period, Phase, peak-to-peak Amplitude, yoffset"
   ]
  },
  {
   "cell_type": "code",
   "execution_count": 132,
   "metadata": {},
   "outputs": [
    {
     "data": {
      "text/plain": [
       "<matplotlib.collections.PathCollection at 0x7f2025f60610>"
      ]
     },
     "execution_count": 132,
     "metadata": {},
     "output_type": "execute_result"
    },
    {
     "data": {
      "image/png": "[encoded data removed]",
      "text/plain": [
       "<Figure size 432x288 with 1 Axes>"
      ]
     },
     "metadata": {
      "needs_background": "light"
     },
     "output_type": "display_data"
    }
   ],
   "source": [
    "f = interp1d(gtemplets[gn,:,0],gtemplets[gn,:,1]*gpars[2]+gpars[3])\n",
    "phase_g = (gcrv[:,0]/gpars[0]-gpars[1])%1\n",
    "dif = abs(gcrv[:,1]-f(phase_g))\n",
    "plt.scatter(phase_g,dif,c=dif>utils.mad(dif)*4)"
   ]
  },
  {
   "cell_type": "code",
   "execution_count": 133,
   "metadata": {},
   "outputs": [
    {
     "data": {
      "text/plain": [
       "[<matplotlib.lines.Line2D at 0x7f2025f067d0>]"
      ]
     },
     "execution_count": 133,
     "metadata": {},
     "output_type": "execute_result"
    },
    {
     "data": {
      "image/png": "[encoded data removed]",
      "text/plain": [
       "<Figure size 432x288 with 1 Axes>"
      ]
     },
     "metadata": {
      "needs_background": "light"
     },
     "output_type": "display_data"
    }
   ],
   "source": [
    "plt.scatter(phase_g,gcrv[:,1],c=dif>utils.mad(dif)*4)\n",
    "plt.plot(gtemplets[gn,:,0],gtemplets[gn,:,1]*gpars[2]+gpars[3])"
   ]
  },
  {
   "cell_type": "code",
   "execution_count": null,
   "metadata": {},
   "outputs": [],
   "source": []
  },
  {
   "cell_type": "code",
   "execution_count": null,
   "metadata": {},
   "outputs": [],
   "source": []
  },
  {
   "cell_type": "code",
   "execution_count": null,
   "metadata": {},
   "outputs": [],
   "source": []
  },
  {
   "cell_type": "code",
   "execution_count": null,
   "metadata": {},
   "outputs": [],
   "source": []
  },
  {
   "cell_type": "code",
   "execution_count": null,
   "metadata": {},
   "outputs": [],
   "source": []
  },
  {
   "cell_type": "code",
   "execution_count": 14,
   "metadata": {},
   "outputs": [],
   "source": [
    "#res = least_squares(poly_resid, initpar, loss=loss, f_scale=0.1, args=(x,y,sigma), max_nfev=max_nfev)"
   ]
  },
  {
   "cell_type": "code",
   "execution_count": 134,
   "metadata": {},
   "outputs": [
    {
     "data": {
      "text/plain": [
       "array([ 0.98619154, 10.55799234,  0.51026709])"
      ]
     },
     "execution_count": 134,
     "metadata": {},
     "output_type": "execute_result"
    }
   ],
   "source": [
    "def y(theta, t):\n",
    "    return theta[0] / (1 + np.exp(-theta[1] * (t - theta[2])))\n",
    "\n",
    "ts = np.linspace(0,1)\n",
    "K = 1; r = 10; t0 = 0.5\n",
    "ys = y([K,r,t0],ts) + np.random.normal(0,.05,len(ts))\n",
    "\n",
    "def func(theta):\n",
    "    return y(theta, ts) - ys\n",
    "\n",
    "theta0 = [1,2,3]\n",
    "res = least_squares(func, theta0, loss='soft_l1', f_scale=0.1)\n",
    "res.x"
   ]
  },
  {
   "cell_type": "code",
   "execution_count": 135,
   "metadata": {},
   "outputs": [
    {
     "data": {
      "text/plain": [
       "[<matplotlib.lines.Line2D at 0x7f2025edd7d0>]"
      ]
     },
     "execution_count": 135,
     "metadata": {},
     "output_type": "execute_result"
    },
    {
     "data": {
      "image/png": "[encoded data removed]",
      "text/plain": [
       "<Figure size 432x288 with 1 Axes>"
      ]
     },
     "metadata": {
      "needs_background": "light"
     },
     "output_type": "display_data"
    }
   ],
   "source": [
    "plt.scatter(ts,ys)\n",
    "plt.plot(ts,y(res.x,ts))"
   ]
  },
  {
   "cell_type": "code",
   "execution_count": 136,
   "metadata": {},
   "outputs": [],
   "source": [
    "class tmpfitter2:\n",
    "    def __init__ (self, tmps, crv):\n",
    "        self.n=0\n",
    "        self.tmps=tmps\n",
    "        self.crv = crv\n",
    "    \n",
    "    def model(self, args, t):\n",
    "        # args are Period, Phase, Peak-to-Peak Amplitude, Y-offset\n",
    "        xtemp = self.tmps[self.n,:,0]\n",
    "        ytemp = self.tmps[self.n,:,1]*args[2] + args[3]\n",
    "        ph = (t / args[0] - args[1])%1\n",
    "        # interpolate the modified template to the phase we want\n",
    "        return interp1d(xtemp,ytemp)(ph)\n",
    "    \n",
    "    def func(self,args):\n",
    "        return self.model(args,self.crv[:,0])-self.crv[:,1]\n",
    "    \n",
    "def tmpfit2(tmps,crv,pinit):\n",
    "    datfit = []\n",
    "    npars = []\n",
    "    fitter = tmpfitter2(tmps, crv)\n",
    "    for i in range(len(tmps)):\n",
    "        fitter.n = i\n",
    "        res = least_squares(fitter.func, pinit, loss='soft_l1', f_scale=0.1)\n",
    "        datfit.append(median(abs(fitter.model(res.x,crv[:,0])-crv[:,1])))\n",
    "        npars.append(res.x)\n",
    "    n = np.argmin(datfit)\n",
    "    return n, npars[n]"
   ]
  },
  {
   "cell_type": "code",
   "execution_count": 142,
   "metadata": {},
   "outputs": [
    {
     "data": {
      "text/plain": [
       "(15, array([0.59820034, 0.90282293, 0.58495356, 0.19428469]))"
      ]
     },
     "execution_count": 142,
     "metadata": {},
     "output_type": "execute_result"
    }
   ],
   "source": [
    "gn2,gpars2 = tmpfit2(gtemplets,gcrv,pinit)\n",
    "(gn2,gpars2)"
   ]
  },
  {
   "cell_type": "code",
   "execution_count": 140,
   "metadata": {},
   "outputs": [
    {
     "data": {
      "text/plain": [
       "(17, array([0.59820011, 0.92566437, 0.74577755, 0.06828474]))"
      ]
     },
     "execution_count": 140,
     "metadata": {},
     "output_type": "execute_result"
    }
   ],
   "source": [
    "(gn,gpars)"
   ]
  },
  {
   "cell_type": "code",
   "execution_count": 158,
   "metadata": {},
   "outputs": [
    {
     "data": {
      "text/plain": [
       "<matplotlib.collections.PathCollection at 0x7f20257f8e10>"
      ]
     },
     "execution_count": 158,
     "metadata": {},
     "output_type": "execute_result"
    },
    {
     "data": {
      "image/png": "[encoded data removed]",
      "text/plain": [
       "<Figure size 432x288 with 1 Axes>"
      ]
     },
     "metadata": {
      "needs_background": "light"
     },
     "output_type": "display_data"
    }
   ],
   "source": [
    "f2 = interp1d(gtemplets[gn2,:,0],gtemplets[gn2,:,1]*gpars2[2]+gpars2[3])\n",
    "phase_g2 = (gcrv[:,0]/gpars2[0]-gpars2[1])%1\n",
    "dif2 = abs(gcrv[:,1]-f2(phase_g2))\n",
    "plt.scatter(phase_g2,dif2,c=dif2>utils.mad(dif2)*5)"
   ]
  },
  {
   "cell_type": "code",
   "execution_count": 157,
   "metadata": {},
   "outputs": [
    {
     "data": {
      "text/plain": [
       "[<matplotlib.lines.Line2D at 0x7f20258e0d50>]"
      ]
     },
     "execution_count": 157,
     "metadata": {},
     "output_type": "execute_result"
    },
    {
     "data": {
      "image/png": "[encoded data removed]",
      "text/plain": [
       "<Figure size 432x288 with 1 Axes>"
      ]
     },
     "metadata": {
      "needs_background": "light"
     },
     "output_type": "display_data"
    }
   ],
   "source": [
    "plt.scatter(phase_g2,gcrv[:,1],c=dif2>utils.mad(dif2)*5)\n",
    "plt.plot(gtemplets[gn2,:,0],gtemplets[gn2,:,1]*gpars2[2]+gpars2[3])"
   ]
  },
  {
   "cell_type": "code",
   "execution_count": 16,
   "metadata": {},
   "outputs": [
    {
     "data": {
      "text/plain": [
       "'\\ngcrv = np.tile(gcrv.T,2).T\\ngcrv[int(len(gcrv)/2):,0] += 1\\nrcrv = np.tile(rcrv.T,2).T\\nrcrv[int(len(rcrv)/2):,0] += 1\\nicrv = np.tile(icrv.T,2).T\\nicrv[int(len(icrv)/2):,0] += 1\\n\\ngtemplets = np.tile(gtemplets,(2,1))\\ngtemplets[:,int(len(gtemplets[0])/2):,0] += 1\\nrtemplets = np.tile(rtemplets,(2,1))\\nrtemplets[:,int(len(rtemplets[0])/2):,0] += 1\\nitemplets = np.tile(itemplets,(2,1))\\nitemplets[:,int(len(itemplets[0])/2):,0] += 1\\n'"
      ]
     },
     "execution_count": 16,
     "metadata": {},
     "output_type": "execute_result"
    }
   ],
   "source": [
    "\"\"\"\n",
    "gcrv = np.tile(gcrv.T,2).T\n",
    "gcrv[int(len(gcrv)/2):,0] += 1\n",
    "rcrv = np.tile(rcrv.T,2).T\n",
    "rcrv[int(len(rcrv)/2):,0] += 1\n",
    "icrv = np.tile(icrv.T,2).T\n",
    "icrv[int(len(icrv)/2):,0] += 1\n",
    "\n",
    "gtemplets = np.tile(gtemplets,(2,1))\n",
    "gtemplets[:,int(len(gtemplets[0])/2):,0] += 1\n",
    "rtemplets = np.tile(rtemplets,(2,1))\n",
    "rtemplets[:,int(len(rtemplets[0])/2):,0] += 1\n",
    "itemplets = np.tile(itemplets,(2,1))\n",
    "itemplets[:,int(len(itemplets[0])/2):,0] += 1\n",
    "\"\"\""
   ]
  },
  {
   "cell_type": "code",
   "execution_count": 159,
   "metadata": {},
   "outputs": [
    {
     "data": {
      "text/plain": [
       "<matplotlib.collections.PathCollection at 0x7f20257dded0>"
      ]
     },
     "execution_count": 159,
     "metadata": {},
     "output_type": "execute_result"
    },
    {
     "data": {
      "image/png": "[encoded data removed]",
      "text/plain": [
       "<Figure size 432x288 with 1 Axes>"
      ]
     },
     "metadata": {
      "needs_background": "light"
     },
     "output_type": "display_data"
    }
   ],
   "source": [
    "f = interp1d(gtemplets[gn,:,0],gtemplets[gn,:,1]*gpars[2]+gpars[3])\n",
    "phase_g = (gcrv[:,0]/gpars[0]-gpars[1])%1\n",
    "dif = abs(gcrv[:,1]-f(phase_g))\n",
    "plt.scatter(phase_g,dif,c=dif>utils.mad(dif)*5)"
   ]
  },
  {
   "cell_type": "code",
   "execution_count": 156,
   "metadata": {},
   "outputs": [
    {
     "data": {
      "text/plain": [
       "[<matplotlib.lines.Line2D at 0x7f202590c990>]"
      ]
     },
     "execution_count": 156,
     "metadata": {},
     "output_type": "execute_result"
    },
    {
     "data": {
      "image/png": "[encoded data removed]",
      "text/plain": [
       "<Figure size 432x288 with 1 Axes>"
      ]
     },
     "metadata": {
      "needs_background": "light"
     },
     "output_type": "display_data"
    }
   ],
   "source": [
    "plt.scatter(phase_g,gcrv[:,1],c=dif>utils.mad(dif)*5)\n",
    "plt.plot(gtemplets[gn,:,0],gtemplets[gn,:,1]*gpars[2]+gpars[3])"
   ]
  },
  {
   "cell_type": "code",
   "execution_count": null,
   "metadata": {},
   "outputs": [],
   "source": []
  }
 ],
 "metadata": {
  "kernelspec": {
   "display_name": "Python 3",
   "language": "python",
   "name": "python3"
  },
  "language_info": {
   "codemirror_mode": {
    "name": "ipython",
    "version": 3
   },
   "file_extension": ".py",
   "mimetype": "text/x-python",
   "name": "python",
   "nbconvert_exporter": "python",
   "pygments_lexer": "ipython3",
   "version": "3.7.4"
  }
 },
 "nbformat": 4,
 "nbformat_minor": 4
}
