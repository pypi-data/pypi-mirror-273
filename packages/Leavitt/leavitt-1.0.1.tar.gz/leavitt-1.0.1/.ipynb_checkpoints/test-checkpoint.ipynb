{
 "cells": [
  {
   "cell_type": "code",
   "execution_count": 1,
   "metadata": {
    "ExecuteTime": {
     "end_time": "2021-07-27T16:00:08.207425Z",
     "start_time": "2021-07-27T16:00:07.213018Z"
    }
   },
   "outputs": [
    {
     "name": "stderr",
     "output_type": "stream",
     "text": [
      "C:\\Users\\kylem\\Anaconda3\\lib\\site-packages\\numpy\\_distributor_init.py:32: UserWarning: loaded more than 1 DLL from .libs:\n",
      "C:\\Users\\kylem\\Anaconda3\\lib\\site-packages\\numpy\\.libs\\libopenblas.GK7GX5KEQ4F6UYO3P26ULGBQYHGQO7J4.gfortran-win_amd64.dll\n",
      "C:\\Users\\kylem\\Anaconda3\\lib\\site-packages\\numpy\\.libs\\libopenblas.IPBC74C7KURV7CB2PKT5Z5FNR3SIBV4J.gfortran-win_amd64.dll\n",
      "  stacklevel=1)\n"
     ]
    }
   ],
   "source": [
    "from astropy.io import fits\n",
    "from astropy.table import Table\n",
    "import pylab as pl"
   ]
  },
  {
   "cell_type": "code",
   "execution_count": 33,
   "metadata": {
    "ExecuteTime": {
     "end_time": "2021-07-27T17:21:24.912341Z",
     "start_time": "2021-07-27T17:21:24.894391Z"
    }
   },
   "outputs": [],
   "source": [
    "#ugriz\n",
    "ampratio = [1.3049814, 1.3937762, 1.000, 0.79186123, 0.70997517]"
   ]
  },
  {
   "cell_type": "code",
   "execution_count": 2,
   "metadata": {
    "ExecuteTime": {
     "end_time": "2021-07-27T16:00:08.253996Z",
     "start_time": "2021-07-27T16:00:08.207425Z"
    }
   },
   "outputs": [
    {
     "data": {
      "text/html": [
       "<i>Table length=483</i>\n",
       "<table id=\"table2156344048328\" class=\"table-striped table-bordered table-condensed\">\n",
       "<thead><tr><th>ID</th><th>TYPE</th><th>PERIOD</th><th>UAMP</th><th>UMAG1</th><th>T0U</th><th>UTEMP</th><th>GAMP</th><th>GMAG1</th><th>T0G</th><th>GTEMP</th><th>RAMP</th><th>RMAG1</th><th>T0R</th><th>RTEMP</th><th>IAMP</th><th>IMAG1</th><th>T0I</th><th>ITEMP</th><th>ZAMP</th><th>ZMAG1</th><th>T0Z</th><th>ZTEMP</th></tr></thead>\n",
       "<thead><tr><th>int32</th><th>bytes2</th><th>float64</th><th>float64</th><th>float64</th><th>float64</th><th>int32</th><th>float64</th><th>float64</th><th>float64</th><th>int32</th><th>float64</th><th>float64</th><th>float64</th><th>int32</th><th>float64</th><th>float64</th><th>float64</th><th>int32</th><th>float64</th><th>float64</th><th>float64</th><th>int32</th></tr></thead>\n",
       "<tr><td>4099</td><td>ab</td><td>0.641754351271</td><td>0.534608250965</td><td>17.823475565699</td><td>51075.27471380083</td><td>101</td><td>0.563838731121</td><td>16.663740063633</td><td>51075.28890210263</td><td>101</td><td>0.398325831838</td><td>16.562859658339</td><td>51075.29511177273</td><td>103</td><td>0.317851244504</td><td>16.54863269327</td><td>51075.29508408161</td><td>102</td><td>0.302557183974</td><td>16.539893235126</td><td>51075.2882349586</td><td>100</td></tr>\n",
       "<tr><td>13350</td><td>ab</td><td>0.547987422171</td><td>1.029444977151</td><td>18.242763790824</td><td>54025.33011167444</td><td>107</td><td>1.093322207702</td><td>16.988613486063</td><td>54025.32685608078</td><td>120</td><td>0.801719568295</td><td>17.092508950163</td><td>54025.3264743325</td><td>112</td><td>0.642110975157</td><td>17.147569570853</td><td>54025.326184734266</td><td>116</td><td>0.583436573653</td><td>17.190782343956</td><td>54025.327901498524</td><td>114</td></tr>\n",
       "<tr><td>15927</td><td>ab</td><td>0.612262983773</td><td>0.651579373794</td><td>18.916868699265</td><td>53680.22248492027</td><td>102</td><td>0.697438996319</td><td>17.653491612718</td><td>53680.22943889688</td><td>106</td><td>0.486554026661</td><td>17.595966318204</td><td>53680.22621397451</td><td>108</td><td>0.368674017647</td><td>17.610786707684</td><td>53680.243421438034</td><td>104</td><td>0.34542192485</td><td>17.615747060041</td><td>53680.2471012296</td><td>100</td></tr>\n",
       "<tr><td>20406</td><td>ab</td><td>0.631853138777</td><td>0.553247302385</td><td>16.380758497165</td><td>54000.280527775816</td><td>100</td><td>0.58678380143</td><td>15.205906203545</td><td>54000.29210903749</td><td>101</td><td>0.42684628121</td><td>15.11724791914</td><td>54000.27663061351</td><td>108</td><td>0.342734431072</td><td>15.118909480461</td><td>54000.29377980865</td><td>102</td><td>0.303788388098</td><td>15.132053024454</td><td>54000.29641206961</td><td>100</td></tr>\n",
       "<tr><td>21992</td><td>ab</td><td>0.625880355362</td><td>1.109321960273</td><td>15.533572143193</td><td>53698.245218406875</td><td>106</td><td>1.139929559759</td><td>14.376995585543</td><td>53698.24525562909</td><td>112</td><td>0.849550762373</td><td>14.418441610516</td><td>53698.24353427108</td><td>114</td><td>0.661144139558</td><td>14.523218474953</td><td>53698.24994136541</td><td>111</td><td>0.619123373011</td><td>14.524696953247</td><td>53698.24586110389</td><td>114</td></tr>\n",
       "<tr><td>27887</td><td>c</td><td>0.31149403602</td><td>0.361128484424</td><td>17.809503399073</td><td>54011.32770565258</td><td>0</td><td>0.429519518458</td><td>16.55487322632</td><td>54011.32900495179</td><td>0</td><td>0.298374341043</td><td>16.647612215532</td><td>54011.32990165306</td><td>1</td><td>0.242346512846</td><td>16.722270736141</td><td>54011.326903571025</td><td>1</td><td>0.204643612628</td><td>16.797719568062</td><td>54011.339673244045</td><td>0</td></tr>\n",
       "<tr><td>46988</td><td>ab</td><td>0.572961748738</td><td>0.964272363821</td><td>15.83309367805</td><td>52253.17726625803</td><td>109</td><td>1.043711697847</td><td>14.544481861599</td><td>52253.181753353805</td><td>117</td><td>0.762692677674</td><td>14.620976817168</td><td>52253.18835608697</td><td>109</td><td>0.602270728808</td><td>14.680601053093</td><td>52253.18606621042</td><td>112</td><td>0.540124677895</td><td>14.715372825327</td><td>52253.18897035669</td><td>108</td></tr>\n",
       "<tr><td>74260</td><td>ab</td><td>0.612522626959</td><td>1.082651310006</td><td>19.792589418916</td><td>54358.267375641524</td><td>109</td><td>1.243162359202</td><td>18.53759762818</td><td>54358.27171326728</td><td>120</td><td>0.905452563936</td><td>18.68472404738</td><td>54358.271169130196</td><td>114</td><td>0.725941614864</td><td>18.812496320136</td><td>54358.277012505794</td><td>111</td><td>0.672143963265</td><td>18.802623233215</td><td>54358.27397452221</td><td>108</td></tr>\n",
       "<tr><td>75433</td><td>ab</td><td>0.555702765029</td><td>1.04129649751</td><td>15.302044095794</td><td>53313.21536812482</td><td>108</td><td>1.191709429623</td><td>14.040193189977</td><td>53313.21723483379</td><td>108</td><td>0.809981404291</td><td>14.169880748342</td><td>53313.213517547345</td><td>107</td><td>0.589519421758</td><td>14.302100053009</td><td>53313.217186637725</td><td>108</td><td>0.510225823184</td><td>14.341955147284</td><td>53313.220055090445</td><td>110</td></tr>\n",
       "<tr><td>75486</td><td>ab</td><td>0.562574562809</td><td>0.981696534645</td><td>17.257460323484</td><td>54357.273842514616</td><td>103</td><td>1.006013600923</td><td>16.056510445671</td><td>54357.274065755875</td><td>112</td><td>0.732314023877</td><td>16.093004788307</td><td>54357.27360261018</td><td>110</td><td>0.582873763689</td><td>16.158921373595</td><td>54357.277699464634</td><td>111</td><td>0.524561548785</td><td>16.200030507529</td><td>54357.28493060264</td><td>104</td></tr>\n",
       "<tr><td>...</td><td>...</td><td>...</td><td>...</td><td>...</td><td>...</td><td>...</td><td>...</td><td>...</td><td>...</td><td>...</td><td>...</td><td>...</td><td>...</td><td>...</td><td>...</td><td>...</td><td>...</td><td>...</td><td>...</td><td>...</td><td>...</td><td>...</td></tr>\n",
       "<tr><td>4947744</td><td>ab</td><td>0.611822155451</td><td>0.659681429608</td><td>18.811649913428</td><td>52225.329209911055</td><td>100</td><td>0.729495389901</td><td>17.643770601191</td><td>52225.31796925108</td><td>112</td><td>0.51669934765</td><td>17.631445897983</td><td>52225.31926070793</td><td>108</td><td>0.406879261086</td><td>17.652926925132</td><td>52225.33651453228</td><td>107</td><td>0.362986505326</td><td>17.673712920913</td><td>52225.34239098652</td><td>101</td></tr>\n",
       "<tr><td>4948742</td><td>c</td><td>0.359679937456</td><td>0.428446767716</td><td>15.703175961988</td><td>52173.3757611782</td><td>0</td><td>0.500946450859</td><td>14.703723541202</td><td>52173.37945118883</td><td>0</td><td>0.354439617118</td><td>14.758287991743</td><td>52173.385282894815</td><td>0</td><td>0.272074218205</td><td>14.832767252314</td><td>52173.37945420657</td><td>1</td><td>0.240257173388</td><td>14.936331756407</td><td>52173.39255478398</td><td>0</td></tr>\n",
       "<tr><td>4950238</td><td>ab</td><td>0.614429845684</td><td>0.73806242576</td><td>19.196581415741</td><td>52224.35214787423</td><td>108</td><td>0.742019378754</td><td>18.069287385068</td><td>52224.35689445551</td><td>106</td><td>0.49034046077</td><td>18.037225204377</td><td>52224.3755293833</td><td>103</td><td>0.395932641159</td><td>18.040039157274</td><td>52224.371801547044</td><td>106</td><td>0.395507999897</td><td>18.035591965098</td><td>52224.348492412566</td><td>111</td></tr>\n",
       "<tr><td>4954954</td><td>ab</td><td>0.553683239879</td><td>1.246013297921</td><td>14.815686698319</td><td>53704.30375543279</td><td>109</td><td>1.298978452586</td><td>13.66782005685</td><td>53704.309395391014</td><td>112</td><td>0.981449785321</td><td>13.739151133692</td><td>53704.30754192437</td><td>116</td><td>0.616741727327</td><td>14.072100245156</td><td>53704.32816755878</td><td>106</td><td>0.746937638598</td><td>13.980490309968</td><td>53704.31075811985</td><td>109</td></tr>\n",
       "<tr><td>4956438</td><td>ab</td><td>0.608054165715</td><td>0.645986070004</td><td>16.026418056592</td><td>54061.35852544586</td><td>102</td><td>0.590490939716</td><td>14.9842761914</td><td>54061.38589860619</td><td>100</td><td>0.44580514099</td><td>14.864635601972</td><td>54061.387490993</td><td>101</td><td>0.365324212372</td><td>14.855716618575</td><td>54061.37881147732</td><td>105</td><td>0.328275245225</td><td>14.884268397488</td><td>54061.37226636909</td><td>100</td></tr>\n",
       "<tr><td>4956681</td><td>ab</td><td>0.499544271999</td><td>1.07909841981</td><td>18.851308668709</td><td>53272.48630241423</td><td>103</td><td>1.304107845195</td><td>17.812918310979</td><td>53272.501030642765</td><td>101</td><td>0.971932199133</td><td>17.959697529724</td><td>53272.49520410855</td><td>105</td><td>0.730200523119</td><td>18.060216679345</td><td>53272.48593197774</td><td>113</td><td>0.583450135242</td><td>18.176326565172</td><td>53272.48844902724</td><td>117</td></tr>\n",
       "<tr><td>4983075</td><td>ab</td><td>0.646699776606</td><td>0.443980069284</td><td>18.857248792082</td><td>54064.37635972821</td><td>101</td><td>0.487078798376</td><td>17.770519574841</td><td>54064.399462626716</td><td>101</td><td>0.339135261121</td><td>17.692689259458</td><td>54064.41516611135</td><td>101</td><td>0.278196401794</td><td>17.676564368622</td><td>54064.408404843736</td><td>101</td><td>0.247064562217</td><td>17.722054758882</td><td>54064.40496937103</td><td>100</td></tr>\n",
       "<tr><td>4984662</td><td>ab</td><td>0.636862677328</td><td>0.565908985095</td><td>19.41250960957</td><td>53994.452734623366</td><td>102</td><td>0.599289202266</td><td>18.356904844245</td><td>53994.47068339434</td><td>101</td><td>0.464574245565</td><td>18.244548927198</td><td>53994.472021593785</td><td>104</td><td>0.359036620672</td><td>18.272158638604</td><td>53994.465667817654</td><td>108</td><td>0.309688336957</td><td>18.303266952266</td><td>53994.47533039022</td><td>100</td></tr>\n",
       "<tr><td>4992418</td><td>ab</td><td>0.580370636475</td><td>0.9307735482</td><td>18.705511708218</td><td>53681.401696007604</td><td>110</td><td>0.984270421768</td><td>17.615334468844</td><td>53681.40867101573</td><td>114</td><td>0.722729044756</td><td>17.641732919698</td><td>53681.41603842453</td><td>109</td><td>0.56000550043</td><td>17.708949205809</td><td>53681.42507116923</td><td>107</td><td>0.512214959539</td><td>17.718539886763</td><td>53681.40650854926</td><td>115</td></tr>\n",
       "<tr><td>5011634</td><td>c</td><td>0.357840485746</td><td>0.450743812938</td><td>19.00844332493</td><td>52934.35268503525</td><td>0</td><td>0.504340459499</td><td>17.867089957652</td><td>52934.35508303935</td><td>0</td><td>0.368359986502</td><td>17.865016303805</td><td>52934.36405643714</td><td>0</td><td>0.281035190136</td><td>17.916158001441</td><td>52934.35601592993</td><td>1</td><td>0.255750644449</td><td>17.9873328245</td><td>52934.36994415576</td><td>0</td></tr>\n",
       "</table>"
      ],
      "text/plain": [
       "<Table length=483>\n",
       "   ID    TYPE      PERIOD     ...      ZMAG1             T0Z         ZTEMP\n",
       " int32  bytes2    float64     ...     float64          float64       int32\n",
       "------- ------ -------------- ... --------------- ------------------ -----\n",
       "   4099     ab 0.641754351271 ... 16.539893235126   51075.2882349586   100\n",
       "  13350     ab 0.547987422171 ... 17.190782343956 54025.327901498524   114\n",
       "  15927     ab 0.612262983773 ... 17.615747060041   53680.2471012296   100\n",
       "  20406     ab 0.631853138777 ... 15.132053024454  54000.29641206961   100\n",
       "  21992     ab 0.625880355362 ... 14.524696953247  53698.24586110389   114\n",
       "  27887     c   0.31149403602 ... 16.797719568062 54011.339673244045     0\n",
       "  46988     ab 0.572961748738 ... 14.715372825327  52253.18897035669   108\n",
       "  74260     ab 0.612522626959 ... 18.802623233215  54358.27397452221   108\n",
       "  75433     ab 0.555702765029 ... 14.341955147284 53313.220055090445   110\n",
       "  75486     ab 0.562574562809 ... 16.200030507529  54357.28493060264   104\n",
       "    ...    ...            ... ...             ...                ...   ...\n",
       "4947744     ab 0.611822155451 ... 17.673712920913  52225.34239098652   101\n",
       "4948742     c  0.359679937456 ... 14.936331756407  52173.39255478398     0\n",
       "4950238     ab 0.614429845684 ... 18.035591965098 52224.348492412566   111\n",
       "4954954     ab 0.553683239879 ... 13.980490309968  53704.31075811985   109\n",
       "4956438     ab 0.608054165715 ... 14.884268397488  54061.37226636909   100\n",
       "4956681     ab 0.499544271999 ... 18.176326565172  53272.48844902724   117\n",
       "4983075     ab 0.646699776606 ... 17.722054758882  54064.40496937103   100\n",
       "4984662     ab 0.636862677328 ... 18.303266952266  53994.47533039022   100\n",
       "4992418     ab 0.580370636475 ... 17.718539886763  53681.40650854926   115\n",
       "5011634     c  0.357840485746 ...   17.9873328245  52934.36994415576     0"
      ]
     },
     "execution_count": 2,
     "metadata": {},
     "output_type": "execute_result"
    }
   ],
   "source": [
    "tabl = Table.read('table2.fits',format='fits')\n",
    "tabl"
   ]
  },
  {
   "cell_type": "code",
   "execution_count": 34,
   "metadata": {
    "ExecuteTime": {
     "end_time": "2021-07-27T17:21:42.908644Z",
     "start_time": "2021-07-27T17:21:42.889658Z"
    }
   },
   "outputs": [
    {
     "data": {
      "text/plain": [
       "[1.3049814, 1.3937762, 1.0, 0.79186123, 0.70997517]"
      ]
     },
     "execution_count": 34,
     "metadata": {},
     "output_type": "execute_result"
    }
   ],
   "source": [
    "#ugriz\n",
    "ampratio"
   ]
  },
  {
   "cell_type": "code",
   "execution_count": 110,
   "metadata": {
    "ExecuteTime": {
     "end_time": "2021-07-27T21:54:14.119854Z",
     "start_time": "2021-07-27T21:54:13.169397Z"
    }
   },
   "outputs": [
    {
     "data": {
      "text/plain": [
       "1.3937762175925403"
      ]
     },
     "metadata": {},
     "output_type": "display_data"
    },
    {
     "data": {
      "text/plain": [
       "-0.03937093356099908"
      ]
     },
     "metadata": {},
     "output_type": "display_data"
    },
    {
     "data": {
      "text/plain": [
       "1.0003182838319038"
      ]
     },
     "metadata": {},
     "output_type": "display_data"
    },
    {
     "data": {
      "image/png": "[encoded data removed]",
      "text/plain": [
       "<Figure size 576x720 with 6 Axes>"
      ]
     },
     "metadata": {
      "needs_background": "light"
     },
     "output_type": "display_data"
    }
   ],
   "source": [
    "flt = 'G'\n",
    "fig, ax = pl.subplots(3,2,figsize=(8,10))\n",
    "ax[0,0].scatter(tabl['{}AMP'.format(flt)],tabl['RAMP'])\n",
    "ax[0,1].hist(tabl['{}AMP'.format(flt)]/tabl['RAMP'],range=(0,2),bins=20)\n",
    "display(pl.median(tabl['{}AMP'.format(flt)]/tabl['RAMP']))\n",
    "ax[1,0].scatter(tabl['{}MAG1'.format(flt)]-tabl['RMAG1'],range(len(tabl)))\n",
    "ax[1,1].hist(tabl['{}MAG1'.format(flt)]-tabl['RMAG1'])\n",
    "display(pl.median(tabl['{}MAG1'.format(flt)]-tabl['RMAG1']))\n",
    "ax[2,0].scatter(tabl['T0{}'.format(flt)]/tabl['PERIOD']%1,tabl['T0R']/tabl['PERIOD']%1)\n",
    "ax[2,1].hist((tabl['T0{}'.format(flt)]/tabl['PERIOD']%1)/(tabl['T0R']/tabl['PERIOD']%1),range=(0,2),bins=20)\n",
    "display(pl.median((tabl['T0{}'.format(flt)]/tabl['PERIOD']%1)/(tabl['T0R']/tabl['PERIOD']%1)))"
   ]
  },
  {
   "cell_type": "code",
   "execution_count": null,
   "metadata": {},
   "outputs": [],
   "source": []
  },
  {
   "cell_type": "code",
   "execution_count": 107,
   "metadata": {
    "ExecuteTime": {
     "end_time": "2021-07-27T21:20:14.544394Z",
     "start_time": "2021-07-27T21:20:14.522370Z"
    }
   },
   "outputs": [
    {
     "data": {
      "text/html": [
       "<i>Table length=483</i>\n",
       "<table id=\"table2156455509512\" class=\"table-striped table-bordered table-condensed\">\n",
       "<thead><tr><th>T0U</th><th>T0G</th><th>T0R</th><th>T0I</th><th>T0Z</th></tr></thead>\n",
       "<thead><tr><th>float64</th><th>float64</th><th>float64</th><th>float64</th><th>float64</th></tr></thead>\n",
       "<tr><td>0.04635747675875179</td><td>0.10003889137351885</td><td>0.12353316714145168</td><td>0.12342839784896276</td><td>0.09751475311341795</td></tr>\n",
       "<tr><td>0.7143900467674724</td><td>0.6946058499367649</td><td>0.6922859710462669</td><td>0.6905260866591263</td><td>0.7009588388153928</td></tr>\n",
       "<tr><td>0.7256944193645408</td><td>0.7559927858851503</td><td>0.7419418499184273</td><td>0.8169144973608131</td><td>0.8329472912295642</td></tr>\n",
       "<tr><td>0.37465626975064253</td><td>0.42056628454273204</td><td>0.35920728119972184</td><td>0.4271894946074664</td><td>0.4376242074366668</td></tr>\n",
       "<tr><td>0.09528102075558349</td><td>0.09543284047452628</td><td>0.08841186844976168</td><td>0.11454474135902133</td><td>0.09790241487323872</td></tr>\n",
       "<tr><td>0.1943975012163803</td><td>0.23738676090537508</td><td>0.2670554650132651</td><td>0.16785943210661683</td><td>0.5903631834515249</td></tr>\n",
       "<tr><td>0.146048299730651</td><td>0.1699037957749174</td><td>0.20500700797894883</td><td>0.1928329551681786</td><td>0.20827275261299905</td></tr>\n",
       "<tr><td>0.4929237979655651</td><td>0.5117987418849982</td><td>0.5094309588155435</td><td>0.534858091703852</td><td>0.521638470466058</td></tr>\n",
       "<tr><td>0.5626007948341119</td><td>0.5734787920590108</td><td>0.5518168018329933</td><td>0.573197935888635</td><td>0.5899134609268584</td></tr>\n",
       "<tr><td>0.519616752055193</td><td>0.5208705691186688</td><td>0.5182693475124346</td><td>0.5412790106598416</td><td>0.5818921326784338</td></tr>\n",
       "<tr><td>...</td><td>...</td><td>...</td><td>...</td><td>...</td></tr>\n",
       "<tr><td>0.28610660154553835</td><td>0.23702528408111986</td><td>0.24266431274735434</td><td>0.3180015644947021</td><td>0.34366056643829795</td></tr>\n",
       "<tr><td>0.3437362378941864</td><td>0.4230372949963807</td><td>0.5483649686459708</td><td>0.4231021482913344</td><td>0.7046432435383342</td></tr>\n",
       "<tr><td>0.37857580078316544</td><td>0.39903855143115985</td><td>0.4793746625341291</td><td>0.4633037728974587</td><td>0.3628169216900641</td></tr>\n",
       "<tr><td>0.3212002814794752</td><td>0.3544273291566993</td><td>0.34350788223399853</td><td>0.4650210053097359</td><td>0.36245566101436855</td></tr>\n",
       "<tr><td>0.8745889105244203</td><td>0.9963470874319766</td><td>0.0034301612551772553</td><td>0.9648229272539123</td><td>0.935709721637873</td></tr>\n",
       "<tr><td>0.8439798494119468</td><td>0.9621284450776557</td><td>0.915388483544989</td><td>0.8410082393846559</td><td>0.8611997962418565</td></tr>\n",
       "<tr><td>0.602001409002589</td><td>0.6874211671516324</td><td>0.7454826202976345</td><td>0.7204837724879722</td><td>0.7077815893673884</td></tr>\n",
       "<tr><td>0.5721474676627819</td><td>0.6416334691123853</td><td>0.6468141095739641</td><td>0.6222164087808709</td><td>0.6596236236153775</td></tr>\n",
       "<tr><td>0.6080956137155596</td><td>0.6437759076523016</td><td>0.6814635069773837</td><td>0.727670046141134</td><td>0.6327139221068282</td></tr>\n",
       "<tr><td>0.10578034714097972</td><td>0.15811405383007537</td><td>0.35394823495907346</td><td>0.1784733277543702</td><td>0.48244098466333707</td></tr>\n",
       "</table>"
      ],
      "text/plain": [
       "<Table length=483>\n",
       "        T0U                 T0G         ...         T0Z        \n",
       "      float64             float64       ...       float64      \n",
       "------------------- ------------------- ... -------------------\n",
       "0.04635747675875179 0.10003889137351885 ... 0.09751475311341795\n",
       " 0.7143900467674724  0.6946058499367649 ...  0.7009588388153928\n",
       " 0.7256944193645408  0.7559927858851503 ...  0.8329472912295642\n",
       "0.37465626975064253 0.42056628454273204 ...  0.4376242074366668\n",
       "0.09528102075558349 0.09543284047452628 ... 0.09790241487323872\n",
       " 0.1943975012163803 0.23738676090537508 ...  0.5903631834515249\n",
       "  0.146048299730651  0.1699037957749174 ... 0.20827275261299905\n",
       " 0.4929237979655651  0.5117987418849982 ...   0.521638470466058\n",
       " 0.5626007948341119  0.5734787920590108 ...  0.5899134609268584\n",
       "  0.519616752055193  0.5208705691186688 ...  0.5818921326784338\n",
       "                ...                 ... ...                 ...\n",
       "0.28610660154553835 0.23702528408111986 ... 0.34366056643829795\n",
       " 0.3437362378941864  0.4230372949963807 ...  0.7046432435383342\n",
       "0.37857580078316544 0.39903855143115985 ...  0.3628169216900641\n",
       " 0.3212002814794752  0.3544273291566993 ... 0.36245566101436855\n",
       " 0.8745889105244203  0.9963470874319766 ...   0.935709721637873\n",
       " 0.8439798494119468  0.9621284450776557 ...  0.8611997962418565\n",
       "  0.602001409002589  0.6874211671516324 ...  0.7077815893673884\n",
       " 0.5721474676627819  0.6416334691123853 ...  0.6596236236153775\n",
       " 0.6080956137155596  0.6437759076523016 ...  0.6327139221068282\n",
       "0.10578034714097972 0.15811405383007537 ... 0.48244098466333707"
      ]
     },
     "execution_count": 107,
     "metadata": {},
     "output_type": "execute_result"
    }
   ],
   "source": [
    "tabl2 = tabl['T0U','T0G','T0R','T0I','T0Z'].copy()\n",
    "for col in ['T0U','T0G','T0R','T0I','T0Z']:\n",
    "    tabl2[col] = tabl2[col]/tabl['PERIOD']%1\n",
    "tabl2"
   ]
  },
  {
   "cell_type": "code",
   "execution_count": 109,
   "metadata": {
    "ExecuteTime": {
     "end_time": "2021-07-27T21:21:41.868245Z",
     "start_time": "2021-07-27T21:21:41.853284Z"
    }
   },
   "outputs": [
    {
     "data": {
      "text/html": [
       "<i>Table length=483</i>\n",
       "<table id=\"table2156455478408\" class=\"table-striped table-bordered table-condensed\">\n",
       "<thead><tr><th>UAMP</th><th>GAMP</th><th>RAMP</th><th>IAMP</th><th>ZAMP</th></tr></thead>\n",
       "<thead><tr><th>float64</th><th>float64</th><th>float64</th><th>float64</th><th>float64</th></tr></thead>\n",
       "<tr><td>0.8330418795076399</td><td>0.8785896503924167</td><td>0.6206827130180143</td><td>0.49528490749535686</td><td>0.47145326459381676</td></tr>\n",
       "<tr><td>0.8785923462852046</td><td>0.995159311085114</td><td>0.4630254926632651</td><td>0.17176225069747786</td><td>0.0646897174054808</td></tr>\n",
       "<tr><td>0.06421487344983245</td><td>0.13911671096154232</td><td>0.7946814351941823</td><td>0.6021497745545368</td><td>0.5641724781749458</td></tr>\n",
       "<tr><td>0.8755947678852278</td><td>0.9286711823031611</td><td>0.6755466658537039</td><td>0.5424273617369199</td><td>0.48078955291099074</td></tr>\n",
       "<tr><td>0.7724185633392893</td><td>0.8213218388995154</td><td>0.35736927208976277</td><td>0.05634269216774501</td><td>0.9892040350953467</td></tr>\n",
       "<tr><td>0.15934317407224174</td><td>0.37890125906109495</td><td>0.957881392707764</td><td>0.7780133319484799</td><td>0.6569744167264265</td></tr>\n",
       "<tr><td>0.6829611504518356</td><td>0.8216079871751811</td><td>0.331140655294877</td><td>0.05115346728565351</td><td>0.9426888951743696</td></tr>\n",
       "<tr><td>0.7675286795216933</td><td>0.02957785473811203</td><td>0.47823529137415477</td><td>0.18516701736896302</td><td>0.09733736140002369</td></tr>\n",
       "<tr><td>0.8738371716679489</td><td>0.14450872772031165</td><td>0.4575803023919274</td><td>0.0608538572364945</td><td>0.918163189555793</td></tr>\n",
       "<tr><td>0.7450069724860566</td><td>0.7882315828498494</td><td>0.3017190471969995</td><td>0.036082685250900415</td><td>0.9324302651826337</td></tr>\n",
       "<tr><td>...</td><td>...</td><td>...</td><td>...</td><td>...</td></tr>\n",
       "<tr><td>0.0782241599631528</td><td>0.19233241784658506</td><td>0.8445253952418886</td><td>0.6650286483758864</td><td>0.5932876115910305</td></tr>\n",
       "<tr><td>0.19118895189535645</td><td>0.3927561665022845</td><td>0.9854306015090399</td><td>0.756434234640299</td><td>0.6679749087128077</td></tr>\n",
       "<tr><td>0.20121512804829456</td><td>0.20765516839105347</td><td>0.7980414106091146</td><td>0.6443903139474565</td><td>0.6436991996323188</td></tr>\n",
       "<tr><td>0.25040819041822404</td><td>0.3460678579865881</td><td>0.7725835182142817</td><td>0.11388910284114906</td><td>0.3490342217352165</td></tr>\n",
       "<tr><td>0.06238244292660422</td><td>0.9711156883888004</td><td>0.7331668231658042</td><td>0.6008086663503437</td><td>0.539878293307944</td></tr>\n",
       "<tr><td>0.16016573564506853</td><td>0.6105951329927581</td><td>0.9456377614814202</td><td>0.46173335187488984</td><td>0.1679648190284282</td></tr>\n",
       "<tr><td>0.6865319663694481</td><td>0.753176073343151</td><td>0.5244091205672663</td><td>0.4301785957836976</td><td>0.3820390406096017</td></tr>\n",
       "<tr><td>0.8885887103155566</td><td>0.941002234234165</td><td>0.7294731848852446</td><td>0.5637583005780181</td><td>0.4862717631001995</td></tr>\n",
       "<tr><td>0.6037571332920011</td><td>0.6959342184266386</td><td>0.24528878501786888</td><td>0.9649101199042532</td><td>0.8825652563162784</td></tr>\n",
       "<tr><td>0.2596221805319814</td><td>0.4094002204574123</td><td>0.02939717884092885</td><td>0.7853644328425222</td><td>0.7147057268152023</td></tr>\n",
       "</table>"
      ],
      "text/plain": [
       "<Table length=483>\n",
       "        UAMP                GAMP        ...         ZAMP       \n",
       "      float64             float64       ...       float64      \n",
       "------------------- ------------------- ... -------------------\n",
       " 0.8330418795076399  0.8785896503924167 ... 0.47145326459381676\n",
       " 0.8785923462852046   0.995159311085114 ...  0.0646897174054808\n",
       "0.06421487344983245 0.13911671096154232 ...  0.5641724781749458\n",
       " 0.8755947678852278  0.9286711823031611 ... 0.48078955291099074\n",
       " 0.7724185633392893  0.8213218388995154 ...  0.9892040350953467\n",
       "0.15934317407224174 0.37890125906109495 ...  0.6569744167264265\n",
       " 0.6829611504518356  0.8216079871751811 ...  0.9426888951743696\n",
       " 0.7675286795216933 0.02957785473811203 ... 0.09733736140002369\n",
       " 0.8738371716679489 0.14450872772031165 ...   0.918163189555793\n",
       " 0.7450069724860566  0.7882315828498494 ...  0.9324302651826337\n",
       "                ...                 ... ...                 ...\n",
       " 0.0782241599631528 0.19233241784658506 ...  0.5932876115910305\n",
       "0.19118895189535645  0.3927561665022845 ...  0.6679749087128077\n",
       "0.20121512804829456 0.20765516839105347 ...  0.6436991996323188\n",
       "0.25040819041822404  0.3460678579865881 ...  0.3490342217352165\n",
       "0.06238244292660422  0.9711156883888004 ...   0.539878293307944\n",
       "0.16016573564506853  0.6105951329927581 ...  0.1679648190284282\n",
       " 0.6865319663694481   0.753176073343151 ...  0.3820390406096017\n",
       " 0.8885887103155566   0.941002234234165 ...  0.4862717631001995\n",
       " 0.6037571332920011  0.6959342184266386 ...  0.8825652563162784\n",
       " 0.2596221805319814  0.4094002204574123 ...  0.7147057268152023"
      ]
     },
     "execution_count": 109,
     "metadata": {},
     "output_type": "execute_result"
    }
   ],
   "source": [
    "tabl2 = tabl['UAMP','GAMP','RAMP','IAMP','ZAMP'].copy()\n",
    "for i,col in enumerate(['UAMP','GAMP','RAMP','IAMP','ZAMP']):\n",
    "    tabl2[col] = tabl2[col]/tabl['PERIOD']%1\n",
    "tabl2"
   ]
  },
  {
   "cell_type": "code",
   "execution_count": 73,
   "metadata": {
    "ExecuteTime": {
     "end_time": "2021-07-27T21:03:40.278438Z",
     "start_time": "2021-07-27T21:03:40.060692Z"
    }
   },
   "outputs": [],
   "source": [
    "from scipy.optimize import curve_fit, least_squares"
   ]
  },
  {
   "cell_type": "code",
   "execution_count": null,
   "metadata": {},
   "outputs": [],
   "source": [
    "def model(a,b,c):\n",
    "    return"
   ]
  }
 ],
 "metadata": {
  "kernelspec": {
   "display_name": "Python 3",
   "language": "python",
   "name": "python3"
  },
  "language_info": {
   "codemirror_mode": {
    "name": "ipython",
    "version": 3
   },
   "file_extension": ".py",
   "mimetype": "text/x-python",
   "name": "python",
   "nbconvert_exporter": "python",
   "pygments_lexer": "ipython3",
   "version": "3.7.4"
  }
 },
 "nbformat": 4,
 "nbformat_minor": 2
}
