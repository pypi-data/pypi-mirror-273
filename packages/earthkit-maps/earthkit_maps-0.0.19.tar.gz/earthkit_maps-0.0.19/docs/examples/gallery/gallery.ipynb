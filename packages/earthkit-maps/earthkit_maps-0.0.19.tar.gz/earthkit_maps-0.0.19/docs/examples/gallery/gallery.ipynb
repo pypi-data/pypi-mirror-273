{
 "cells": [
  {
   "cell_type": "markdown",
   "id": "5d081df8",
   "metadata": {},
   "source": [
    "## Gallery"
   ]
  },
  {
   "cell_type": "markdown",
   "id": "f92efd09",
   "metadata": {
    "tags": [
     "nbsphinx-gallery"
    ]
   },
   "source": [
    "### Domains and projections\n",
    "* [Built-in named domains](projections-domains/builtin-domains.ipynb)\n",
    "* [Polar stereographic projection](projections-domains/polar-stereographic-projection.ipynb)\n",
    "* [Nearside perspective projection](projections-domains/nearside-perspective-projection.ipynb)\n",
    "* [User-defined domain](projections-domains/user-defined-domain.ipynb)"
   ]
  },
  {
   "cell_type": "markdown",
   "id": "2f707877",
   "metadata": {
    "tags": [
     "nbsphinx-gallery"
    ]
   },
   "source": [
    "### Ancillary map layers\n",
    "* [Cities in Japan](ancillary-data/japan-cities.ipynb)\n",
    "* [*Blue marble* JPEG over the Arctic](ancillary-data/blue-marble.ipynb)\n",
    "* [Country labels over Europe](ancillary-data/country-labels-europe.ipynb)\n",
    "* [Customising ancillary layers](ancillary-data/customised-ancillary-layers.ipynb)\n",
    "* [Customising gridlines](ancillary-data/customising-gridlines.ipynb)\n",
    "* [Adding custom shapefiles](ancillary-data/shapefiles.ipynb)"
   ]
  },
  {
   "cell_type": "markdown",
   "id": "3bc2bb07",
   "metadata": {
    "tags": [
     "nbsphinx-gallery"
    ]
   },
   "source": [
    "### Visualising gridded data\n",
    "* [Temperature and pressure](gridded-data/temperature-and-pressure.ipynb)\n",
    "* [Hatched shading](gridded-data/hatched-shading.ipynb)\n",
    "* [Ozone - 2x2 grid layout](gridded-data/ozone-2x2-layout.ipynb)\n",
    "* [El Niño-La Niña comparison](gridded-data/el-nino.ipynb)\n",
    "* [Wave direction - categorical](gridded-data/wave-direction.ipynb)\n",
    "* [Forecast steps](gridded-data/forecast-steps.ipynb)"
   ]
  }
 ],
 "metadata": {
  "celltoolbar": "Tags",
  "kernelspec": {
   "display_name": "DEVELOP",
   "language": "python",
   "name": "develop"
  },
  "language_info": {
   "codemirror_mode": {
    "name": "ipython",
    "version": 3
   },
   "file_extension": ".py",
   "mimetype": "text/x-python",
   "name": "python",
   "nbconvert_exporter": "python",
   "pygments_lexer": "ipython3",
   "version": "3.10.6"
  }
 },
 "nbformat": 4,
 "nbformat_minor": 5
}
