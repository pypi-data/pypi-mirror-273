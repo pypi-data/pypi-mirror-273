{
 "cells": [
  {
   "cell_type": "code",
   "execution_count": 1,
   "metadata": {},
   "outputs": [],
   "source": [
    "import cv2\n",
    "import os\n",
    "import numpy as np\n",
    "import pandas as pd\n",
    "import matplotlib.pyplot as plt\n",
    "from patchify import patchify, unpatchify\n",
    "\n",
    "import tensorflow as tf\n",
    "import keras.backend as K\n",
    "from keras.models import load_model\n",
    "\n",
    "from skimage.morphology import skeletonize\n",
    "from skan import Skeleton, summarize\n",
    "from skan.csr import skeleton_to_csgraph\n",
    "from skan import draw\n",
    "import skan\n",
    "from skimage.morphology import skeletonize\n",
    "import networkx as nx\n",
    "\n",
    "from data.data_processing import *\n",
    "from utils.helpers import *\n",
    "from utils.metrics import *\n",
    "from features.features import *"
   ]
  },
  {
   "cell_type": "code",
   "execution_count": 2,
   "metadata": {},
   "outputs": [],
   "source": [
    "# Change if more/less then 5 plants in petri dish\n",
    "# number_of_plants = int(input('Enter the number of plants in the petri dish: '))\n",
    "number_of_plants = 5"
   ]
  },
  {
   "cell_type": "code",
   "execution_count": 3,
   "metadata": {},
   "outputs": [
    {
     "name": "stdout",
     "output_type": "stream",
     "text": [
      "Folder 'plants' already exists.\n",
      "Folder 'input' already exists.\n"
     ]
    }
   ],
   "source": [
    "# Create all required folders if not existent\n",
    "create_folder('plants')\n",
    "create_folder('input')"
   ]
  },
  {
   "cell_type": "code",
   "execution_count": 4,
   "metadata": {},
   "outputs": [],
   "source": [
    "# Load the models\n",
    "root_segmentation_model = tf.keras.models.load_model(\n",
    "    'model_refrence/root_4_ss.h5', custom_objects={'f1': f1, 'iou': iou})\n",
    "occlusion_inpainter = tf.keras.models.load_model(\n",
    "    'model_refrence/occlusion_rs_1_256.h5', custom_objects={'f1': f1, 'iou': iou}, compile=False)\n",
    "occlusion_inpainter.compile(\n",
    "    optimizer='adam', loss='binary_crossentropy', metrics=[f1, iou])\n",
    "shoot_segmentation_model = tf.keras.models.load_model(\n",
    "    'model_refrence/shoot_exp_1.h5', custom_objects={'f1': f1, 'iou': iou})"
   ]
  },
  {
   "cell_type": "code",
   "execution_count": 5,
   "metadata": {},
   "outputs": [
    {
     "name": "stderr",
     "output_type": "stream",
     "text": [
      "2024-05-15 11:15:52,245 - features.features - INFO - Saving predictions for images in the input...\n",
      "2024-05-15 11:15:52,793 - features.features - INFO - Loaded image: 006_43-17-ROOT1-2023-08-08_mock_pH5_f6h1_02-Fish Eye Corrected.png with shape: (3006, 4202)\n",
      "2024-05-15 11:15:52,793 - features.features - INFO - Creating masks...\n",
      "2024-05-15 11:16:08,100 - features.features - INFO - Created root mask...\n",
      "2024-05-15 11:16:11,227 - features.features - INFO - Created shoot mask...\n",
      "2024-05-15 11:16:11,227 - features.features - INFO - Fixing occlusion in the mask...\n",
      "2024-05-15 11:16:11,684 - features.features - INFO - Refinement step: 0 / 10\n",
      "2024-05-15 11:16:13,463 - features.features - INFO - Refinement step: 1 / 10\n",
      "2024-05-15 11:16:14,934 - features.features - INFO - Refinement step: 2 / 10\n",
      "2024-05-15 11:16:16,367 - features.features - INFO - Refinement step: 3 / 10\n",
      "2024-05-15 11:16:17,800 - features.features - INFO - Refinement step: 4 / 10\n",
      "2024-05-15 11:16:19,251 - features.features - INFO - Refinement step: 5 / 10\n",
      "2024-05-15 11:16:20,741 - features.features - INFO - Refinement step: 6 / 10\n",
      "2024-05-15 11:16:22,185 - features.features - INFO - Refinement step: 7 / 10\n",
      "2024-05-15 11:16:23,714 - features.features - INFO - Refinement step: 8 / 10\n",
      "2024-05-15 11:16:25,333 - features.features - INFO - Refinement step: 9 / 10\n",
      "2024-05-15 11:16:26,843 - features.features - INFO - Refinement step: 10 / 10\n",
      "2024-05-15 11:16:28,421 - features.features - INFO - Occlusion fixed...\n",
      "2024-05-15 11:16:28,421 - features.features - INFO - Created occlusion mask...\n"
     ]
    },
    {
     "name": "stdout",
     "output_type": "stream",
     "text": [
      "Folder 'plants\\006_43-17-ROOT1-2023-08-08_mock_pH5_f6h1_02-Fish Eye Corrected' already exists.\n"
     ]
    },
    {
     "name": "stderr",
     "output_type": "stream",
     "text": [
      "2024-05-15 11:16:28,687 - features.features - INFO - Original image saved for: 006_43-17-ROOT1-2023-08-08_mock_pH5_f6h1_02-Fish Eye Corrected.png\n",
      "2024-05-15 11:16:28,755 - features.features - INFO - Root mask saved for: 006_43-17-ROOT1-2023-08-08_mock_pH5_f6h1_02-Fish Eye Corrected.png\n",
      "2024-05-15 11:16:28,810 - features.features - INFO - Shoot mask saved for: 006_43-17-ROOT1-2023-08-08_mock_pH5_f6h1_02-Fish Eye Corrected.png\n",
      "2024-05-15 11:16:28,872 - features.features - INFO - Occlusion mask saved for: 006_43-17-ROOT1-2023-08-08_mock_pH5_f6h1_02-Fish Eye Corrected.png\n",
      "2024-05-15 11:16:28,944 - features.features - INFO - Full root mask saved for: 006_43-17-ROOT1-2023-08-08_mock_pH5_f6h1_02-Fish Eye Corrected.png\n"
     ]
    }
   ],
   "source": [
    "# Save the model predictions (each image has its own sub-folder)\n",
    "save_prediction_for_folder('input', root_segmentation_model, occlusion_inpainter,\n",
    "                           shoot_segmentation_model, padder, 'plants', verbose=True)"
   ]
  },
  {
   "cell_type": "code",
   "execution_count": 6,
   "metadata": {},
   "outputs": [
    {
     "name": "stderr",
     "output_type": "stream",
     "text": [
      "2024-05-15 11:16:28,977 - features.features - INFO - Overlaying masks on images in the plants...\n"
     ]
    }
   ],
   "source": [
    "# Create an image to overlay the root and shoot masks (saves the image in the same folder)\n",
    "overlay_masks_on_image('plants')"
   ]
  },
  {
   "cell_type": "markdown",
   "metadata": {},
   "source": [
    "This has to be changed either way so no reason to reformat!"
   ]
  },
  {
   "cell_type": "code",
   "execution_count": 7,
   "metadata": {},
   "outputs": [],
   "source": [
    "# Iterate through each subfolder in the 'plants' folder\n",
    "for subdir, dirs, files in os.walk('plants'):\n",
    "    for file in files:\n",
    "        # Check if the file is a root mask image\n",
    "        if file.endswith(\"_root_mask.png\"):\n",
    "            root_mask_path = os.path.join(subdir, file)\n",
    "            # Read the mask image in grayscale\n",
    "            root_mask = cv2.imread(root_mask_path, cv2.IMREAD_GRAYSCALE)\n",
    "\n",
    "            # Connected components labeling on the root mask\n",
    "            retval, labels, stats, centroids = cv2.connectedComponentsWithStats(\n",
    "                root_mask)\n",
    "\n",
    "            # Create a mask to retain only regions with area above the threshold\n",
    "            mask_values = [255 if (stats[label, cv2.CC_STAT_TOP] < 800 and\n",
    "                                   stats[label, cv2.CC_STAT_TOP] > 300) else 0\n",
    "                           for label in range(1, retval)]\n",
    "\n",
    "            # Apply the mask values to create a new mask\n",
    "            mask = np.zeros_like(root_mask)\n",
    "            for label, value in zip(range(1, retval), mask_values):\n",
    "                mask[labels == label] = value\n",
    "\n",
    "            # Apply the mask to the original root mask to get the final image\n",
    "            final_image = cv2.bitwise_and(root_mask, root_mask, mask=mask)\n",
    "            final_image = final_image[:, 850:3500]\n",
    "            # Extract and save ROIs based on the final image\n",
    "            for i in range(number_of_plants):\n",
    "                start_col = i * final_image.shape[1] // number_of_plants\n",
    "                end_col = (i + 1) * final_image.shape[1] // number_of_plants\n",
    "                roi = final_image[:, start_col:end_col]\n",
    "                # Save each ROI with a sequential number\n",
    "                roi_filename = f\"roi_{i+1}.png\"  # Naming each ROI sequentially\n",
    "                roi_path = os.path.join(subdir, roi_filename)\n",
    "                if np.count_nonzero(roi) != 0:\n",
    "                    skeletonized_roi = skeletonize(roi)\n",
    "                    skeleton_graph = skan.summarize(Skeleton(skeletonized_roi))\n",
    "                    num_skeletons = len(skeleton_graph['skeleton-id'].unique())\n",
    "                    cv2.imwrite(roi_path, roi)\n",
    "                else:\n",
    "                    empty_roi = np.zeros_like(roi)\n",
    "                    cv2.imwrite(roi_path, empty_roi)"
   ]
  },
  {
   "cell_type": "code",
   "execution_count": 8,
   "metadata": {},
   "outputs": [
    {
     "name": "stderr",
     "output_type": "stream",
     "text": [
      "2024-05-15 11:16:37,143 - features.features - INFO - Measuring images in the plants/006_43-17-ROOT1-2023-08-08_mock_pH5_f6h1_02-Fish Eye Corrected...\n",
      "2024-05-15 11:16:37,156 - features.features - INFO - Processing image: 006_43-17-ROOT1-2023-08-08_mock_pH5_f6h1_02-Fish Eye Corrected_occlusion_mask.png...\n",
      "2024-05-15 11:16:37,157 - features.features - INFO - Processing image: 006_43-17-ROOT1-2023-08-08_mock_pH5_f6h1_02-Fish Eye Corrected_original_padded.png...\n",
      "2024-05-15 11:16:37,157 - features.features - INFO - Processing image: 006_43-17-ROOT1-2023-08-08_mock_pH5_f6h1_02-Fish Eye Corrected_overlayed.png...\n",
      "2024-05-15 11:16:37,157 - features.features - INFO - Processing image: 006_43-17-ROOT1-2023-08-08_mock_pH5_f6h1_02-Fish Eye Corrected_root_mask.png...\n",
      "2024-05-15 11:16:37,157 - features.features - INFO - Processing image: 006_43-17-ROOT1-2023-08-08_mock_pH5_f6h1_02-Fish Eye Corrected_root_mask_inpainted.png...\n",
      "2024-05-15 11:16:37,165 - features.features - INFO - Processing image: 006_43-17-ROOT1-2023-08-08_mock_pH5_f6h1_02-Fish Eye Corrected_shoot_mask.png...\n",
      "2024-05-15 11:16:37,165 - features.features - INFO - Processing image: measurements.csv...\n",
      "2024-05-15 11:16:37,165 - features.features - INFO - Processing image: roi_1.png...\n",
      "2024-05-15 11:16:37,430 - features.features - INFO - Primary root length = 2356.4528855298863\n",
      "2024-05-15 11:16:37,430 - features.features - INFO - Processing image: roi_2.png...\n",
      "2024-05-15 11:16:37,641 - features.features - INFO - Primary root length = 1808.562625309266\n",
      "2024-05-15 11:16:37,641 - features.features - INFO - Processing image: roi_3.png...\n",
      "2024-05-15 11:16:37,871 - features.features - INFO - Primary root length = 2276.548339959391\n",
      "2024-05-15 11:16:37,871 - features.features - INFO - Processing image: roi_4.png...\n",
      "2024-05-15 11:16:38,041 - features.features - INFO - Primary root length = 1914.168614282425\n",
      "2024-05-15 11:16:38,041 - features.features - INFO - Processing image: roi_5.png...\n",
      "2024-05-15 11:16:38,208 - features.features - INFO - Primary root length = 2325.264068711929\n"
     ]
    },
    {
     "ename": "",
     "evalue": "",
     "output_type": "error",
     "traceback": [
      "\u001b[1;31mThe Kernel crashed while executing code in the current cell or a previous cell. \n",
      "\u001b[1;31mPlease review the code in the cell(s) to identify a possible cause of the failure. \n",
      "\u001b[1;31mClick <a href='https://aka.ms/vscodeJupyterKernelCrash'>here</a> for more info. \n",
      "\u001b[1;31mView Jupyter <a href='command:jupyter.viewOutput'>log</a> for further details."
     ]
    }
   ],
   "source": [
    "for folder in os.listdir('plants'):\n",
    "    measure_images_in_folder('plants/' + folder)"
   ]
  }
 ],
 "metadata": {
  "kernelspec": {
   "display_name": "tf",
   "language": "python",
   "name": "python3"
  },
  "language_info": {
   "codemirror_mode": {
    "name": "ipython",
    "version": 3
   },
   "file_extension": ".py",
   "mimetype": "text/x-python",
   "name": "python",
   "nbconvert_exporter": "python",
   "pygments_lexer": "ipython3",
   "version": "3.9.18"
  }
 },
 "nbformat": 4,
 "nbformat_minor": 2
}
