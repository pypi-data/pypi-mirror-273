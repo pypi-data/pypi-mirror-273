{
 "cells": [
  {
   "cell_type": "code",
   "execution_count": 1,
   "id": "bcdaf56f-c860-430b-937d-ea072cae88b6",
   "metadata": {
    "tags": []
   },
   "outputs": [],
   "source": [
    "import json\n",
    "from pathlib import Path\n",
    "from docile.dataset import Dataset\n",
    "from docile.dataset import Field\n",
    "from docile.tools.dataset_browser import DatasetBrowser"
   ]
  },
  {
   "cell_type": "code",
   "execution_count": 3,
   "id": "b367b0d2-5397-4910-b592-15079933deb5",
   "metadata": {
    "tags": []
   },
   "outputs": [],
   "source": [
    "DATASET_PATH = Path(\"/app/data/docile/\")\n",
    "# dataset = Dataset(\"trainval\", DATASET_PATH, load_annotations=True, load_ocr=True)"
   ]
  },
  {
   "cell_type": "code",
   "execution_count": 7,
   "id": "d9afe4bd-b183-4929-b674-0af18a56440f",
   "metadata": {
    "tags": []
   },
   "outputs": [
    {
     "name": "stderr",
     "output_type": "stream",
     "text": [
      "Loading documents for docile:trainval: 100%|██████████| 5680/5680 [00:41<00:00, 137.19it/s]\n"
     ]
    }
   ],
   "source": [
    "docile_trainval = Dataset(\"trainval\", DATASET_PATH)"
   ]
  },
  {
   "cell_type": "code",
   "execution_count": 10,
   "id": "b8ce25e1-445e-4eda-837c-9aa723afa5e6",
   "metadata": {
    "tags": []
   },
   "outputs": [],
   "source": [
    "from collections import Counter\n",
    "\n",
    "f_newlines = Counter()\n",
    "f_all = Counter()\n",
    "for doc in docile_trainval:\n",
    "    for f in doc.annotation.fields + doc.annotation.li_fields:\n",
    "        f_all[f.fieldtype] += 1\n",
    "        if \"\\n\" in f.text:\n",
    "            f_newlines[f.fieldtype] += 1"
   ]
  },
  {
   "cell_type": "code",
   "execution_count": 18,
   "id": "691a5084-f1d2-4472-8e52-bab7e611780e",
   "metadata": {
    "tags": []
   },
   "outputs": [
    {
     "name": "stdout",
     "output_type": "stream",
     "text": [
      "vendor_address: 5612/6634 (84.59451311425987)\n",
      "customer_billing_address: 5174/5249 (98.5711564107449)\n",
      "line_item_description: 2151/28617 (7.516511164692316)\n",
      "customer_billing_name: 1468/6142 (23.90100944317812)\n",
      "vendor_name: 823/7354 (11.191188468860485)\n",
      "customer_delivery_address: 340/350 (97.14285714285714)\n",
      "customer_other_address: 328/344 (95.34883720930233)\n",
      "line_item_code: 278/8904 (3.1221922731356693)\n",
      "customer_delivery_name: 127/378 (33.5978835978836)\n",
      "customer_other_name: 84/1463 (5.741626794258373)\n",
      "payment_terms: 17/2295 (0.7407407407407408)\n",
      "line_item_person_name: 7/496 (1.411290322580645)\n"
     ]
    }
   ],
   "source": [
    "multiline_fields = []\n",
    "for ft, cn in f_newlines.most_common(None):\n",
    "    ca = f_all[ft]\n",
    "    percent = cn/ca*100\n",
    "    if percent > 0.5:\n",
    "        print(f\"{ft}: {cn}/{ca} ({percent})\")\n",
    "        multiline_fields.append(ft)"
   ]
  },
  {
   "cell_type": "code",
   "execution_count": 19,
   "id": "a141ea54-e5c9-4ee1-972f-04103e7cd54f",
   "metadata": {
    "tags": []
   },
   "outputs": [],
   "source": [
    "from docile.dataset import KILE_FIELDTYPES, LIR_FIELDTYPES\n",
    "\n",
    "for f in KILE_FIELDTYPES + LIR_FIELDTYPES:\n",
    "    if f.endswith(\"address\") or f.endswith(\"name\") or f.endswith(\"description\"):\n",
    "        if f not in multiline_fields:\n",
    "            print(f\"Error, fieldtype {f} missing in multiline fields!\")"
   ]
  },
  {
   "cell_type": "code",
   "execution_count": 4,
   "id": "e0319f51-ed4e-449e-be28-80df6bb3c0aa",
   "metadata": {
    "tags": []
   },
   "outputs": [
    {
     "name": "stderr",
     "output_type": "stream",
     "text": [
      "Loading documents for docile:test: 100%|██████████| 1000/1000 [00:05<00:00, 190.30it/s]\n"
     ]
    }
   ],
   "source": [
    "docile_test = Dataset(\"test\", DATASET_PATH)"
   ]
  },
  {
   "cell_type": "code",
   "execution_count": null,
   "id": "16bd14bc-d6e4-4313-8954-35de6973bc6f",
   "metadata": {
    "tags": []
   },
   "outputs": [],
   "source": [
    "cnt_pages_all = 0\n",
    "cnt_pages_wrong = 0\n",
    "for doc in dataset:\n",
    "    for page in range(doc.page_count):\n",
    "        ok = any(f.page == page for f in doc.annotation.li_fields)\n",
    "        header_ok = any(f.page == page for f in doc.annotation.li_headers)\n",
    "        cnt_pages_all += 1\n",
    "        if ok and not header_ok:\n",
    "            cnt_pages_wrong += 1\n",
    "            # print(doc)\n",
    "            # print(page)\n",
    "            # print(ok, header_ok)"
   ]
  },
  {
   "cell_type": "code",
   "execution_count": null,
   "id": "362647ef-4ca2-420c-a11a-f9093b9b3452",
   "metadata": {
    "tags": []
   },
   "outputs": [],
   "source": [
    "print(cnt_pages_wrong)\n",
    "print(cnt_pages_all)"
   ]
  },
  {
   "cell_type": "markdown",
   "id": "025ba00e",
   "metadata": {},
   "source": [
    "# Display dataset annotations"
   ]
  },
  {
   "cell_type": "code",
   "execution_count": null,
   "id": "bb4d7fd6-a7ca-4513-86f8-15b6d1ab8115",
   "metadata": {},
   "outputs": [],
   "source": []
  },
  {
   "cell_type": "code",
   "execution_count": null,
   "id": "53119948",
   "metadata": {
    "tags": []
   },
   "outputs": [],
   "source": [
    "DatasetBrowser([dataset[\"00aa98164d264f4e924f55a9\"]])"
   ]
  },
  {
   "cell_type": "markdown",
   "id": "92c42de6",
   "metadata": {},
   "source": [
    "# Display with predictions"
   ]
  },
  {
   "cell_type": "code",
   "execution_count": null,
   "id": "2009e26f-9518-4c9c-ada7-a7c23da83a3e",
   "metadata": {
    "tags": []
   },
   "outputs": [],
   "source": [
    "from docile.dataset import load_predictions\n",
    "\n",
    "# KILE_PREDICTION_PATH=Path(\"/app/data/baselines/predictions_test_only_docile/layoutlmv3_base_315750/test_predictions_KILE.json\")\n",
    "# LIR_PREDICTION_PATH=Path(\"/app/data/baselines/predictions_test_only_docile/layoutlmv3_base_315750/test_predictions_LIR.json\")\n",
    "KILE_PREDICTION_PATH=Path(\"/app/data/test_rir_format_conversion/test_predictions_KILE_perfect.json\")\n",
    "LIR_PREDICTION_PATH=Path(\"/app/data/test_rir_format_conversion/test_predictions_LIR_perfect.json\")\n",
    "\n",
    "kile_predictions = load_predictions(KILE_PREDICTION_PATH)\n",
    "lir_predictions = load_predictions(LIR_PREDICTION_PATH)"
   ]
  },
  {
   "cell_type": "code",
   "execution_count": null,
   "id": "f0ba6af9-2ed2-4021-98b3-49571bef458c",
   "metadata": {
    "tags": []
   },
   "outputs": [],
   "source": [
    "DatasetBrowser(dataset, kile_predictions=kile_predictions, lir_predictions=lir_predictions);\n",
    "# you can also display just single task predictions, e.g.:\n",
    "# DatasetBrowser(dataset, lir_predictions=lir_predictions);"
   ]
  },
  {
   "cell_type": "markdown",
   "id": "2a480145",
   "metadata": {},
   "source": [
    "# Display with matching from evaluation"
   ]
  },
  {
   "cell_type": "code",
   "execution_count": 20,
   "id": "a2290afa",
   "metadata": {
    "tags": []
   },
   "outputs": [],
   "source": [
    "from docile.evaluation.evaluate import EvaluationResult\n",
    "\n",
    "# KILE_EVALUATION_PATH=Path(\"example_val_results_KILE.json\")\n",
    "# LIR_EVALUATION_PATH=Path(\"example_val_results_LIR.json\")\n",
    "\n",
    "# EVALUATION_PATH=Path(\"/app/data/rir-predictions/stack_predict_v4_no_collectors/test_results.json\")\n",
    "EVALUATION_PATH=Path(\"/app/data/rir-predictions/dag-230629T114502-1c449bbf-loving-carson/test_results.json\")\n",
    "\n",
    "\n",
    "evaluation_result = EvaluationResult.from_file(EVALUATION_PATH)\n",
    "kile_matching = evaluation_result.task_to_docid_to_matching[\"kile\"]\n",
    "lir_matching = evaluation_result.task_to_docid_to_matching[\"lir\"]"
   ]
  },
  {
   "cell_type": "code",
   "execution_count": 26,
   "id": "c612fb67-79b3-4615-883d-e8408480582e",
   "metadata": {
    "tags": []
   },
   "outputs": [
    {
     "data": {
      "application/vnd.jupyter.widget-view+json": {
       "model_id": "adcfc03b405f4222a368fbc71ce6f6bc",
       "version_major": 2,
       "version_minor": 0
      },
      "text/plain": [
       "VBox(children=(HBox(children=(Button(description='Previous document', style=ButtonStyle()), Button(description…"
      ]
     },
     "metadata": {},
     "output_type": "display_data"
    },
    {
     "data": {
      "text/plain": [
       "<docile.tools.dataset_browser.DatasetBrowser at 0x7f3cc3ef9810>"
      ]
     },
     "execution_count": 26,
     "metadata": {},
     "output_type": "execute_result"
    }
   ],
   "source": [
    "from docile.dataset import Document\n",
    "DatasetBrowser([Document(\"synthetic-4d85703835b14d0c9cf006be-000\", DATASET_PATH)])#, kile_matching=kile_matching, lir_matching=lir_matching)"
   ]
  },
  {
   "cell_type": "code",
   "execution_count": null,
   "id": "9b9380d8-35d4-4f4e-bfd5-6866a6da736a",
   "metadata": {},
   "outputs": [],
   "source": []
  }
 ],
 "metadata": {
  "kernelspec": {
   "display_name": "Python 3 (ipykernel)",
   "language": "python",
   "name": "python3"
  },
  "language_info": {
   "codemirror_mode": {
    "name": "ipython",
    "version": 3
   },
   "file_extension": ".py",
   "mimetype": "text/x-python",
   "name": "python",
   "nbconvert_exporter": "python",
   "pygments_lexer": "ipython3",
   "version": "3.10.11"
  }
 },
 "nbformat": 4,
 "nbformat_minor": 5
}
