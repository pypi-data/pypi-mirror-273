{
 "cells": [
  {
   "cell_type": "code",
   "execution_count": 1,
   "id": "2437f10b-252e-41c3-8835-bacf4fd2e378",
   "metadata": {},
   "outputs": [],
   "source": [
    "%load_ext autoreload\n",
    "%autoreload 2"
   ]
  },
  {
   "cell_type": "code",
   "execution_count": 2,
   "id": "b969d109-35de-4b69-bbe4-e8064445d234",
   "metadata": {},
   "outputs": [],
   "source": [
    "import concurrent.futures\n",
    "import json\n",
    "from pathlib import Path\n",
    "\n",
    "from tqdm.notebook import tqdm\n",
    "\n",
    "from docile.dataset import Dataset\n",
    "\n",
    "\n",
    "def get_page_sizes(dataset: Dataset):\n",
    "    docid_to_page_sizes = {}\n",
    "    with tqdm(total=dataset.total_page_count(), desc=f\"Generating images for {dataset}\", disable=True) as pbar:\n",
    "        for doc in dataset:\n",
    "            docid_to_page_sizes[doc.docid] = []\n",
    "            for page in range(doc.page_count):\n",
    "                docid_to_page_sizes[doc.docid].append(doc.page_image(page).size)\n",
    "                pbar.update()\n",
    "    return docid_to_page_sizes\n",
    "\n",
    "def store_page_sizes(dataset: Dataset):\n",
    "    page_sizes_path = (dataset.data_paths.dataset_path.full_path / \"additional_resources\" / \"page_sizes\" / dataset.split_name).with_suffix(\".json\")\n",
    "    if page_sizes_path.exists():\n",
    "        return\n",
    "    page_sizes = get_page_sizes(dataset)\n",
    "    page_sizes_path.parent.mkdir(exist_ok=True)\n",
    "    page_sizes_path.write_text(json.dumps(page_sizes, indent=2))\n",
    "    \n",
    "def store_page_sizes_parallel(dataset: Dataset, pages_per_chunk: int, processes: int) -> None:\n",
    "    chunks_num = sum(1 for _ in tqdm(dataset.chunk(max_pages_per_chunk=pages_per_chunk), desc=\"Counting chunks\"))\n",
    "    with concurrent.futures.ProcessPoolExecutor(processes) as executor:\n",
    "        \n",
    "        def submit_new_job(dataset_chunks_it):\n",
    "            try:\n",
    "                return {executor.submit(store_page_sizes, next(dataset_chunks_it))}\n",
    "            except StopIteration:\n",
    "                return {}\n",
    "        \n",
    "        dataset_chunks_it = iter(\n",
    "            tqdm(\n",
    "                dataset.chunk(max_pages_per_chunk=pages_per_chunk),\n",
    "                total=chunks_num,\n",
    "                desc=\"Chunks submitted\",\n",
    "                position=0,\n",
    "            )\n",
    "        )\n",
    "        with tqdm(total=chunks_num, desc=\"Page sizes computed for chunks\", position=1) as pbar:\n",
    "            not_done = set()\n",
    "            for _ in range(2 * processes):\n",
    "                not_done.update(submit_new_job(dataset_chunks_it))\n",
    "            while not_done:\n",
    "                done, not_done = concurrent.futures.wait(\n",
    "                    not_done,\n",
    "                    return_when=concurrent.futures.FIRST_COMPLETED,\n",
    "                )\n",
    "                for future in done:\n",
    "                    try:\n",
    "                        future.result()\n",
    "                    except Exception as e:\n",
    "                        for not_done_future in not_done:\n",
    "                            not_done_future.cancel()\n",
    "                        raise e\n",
    "                    not_done.update(submit_new_job(dataset_chunks_it))\n",
    "                pbar.update(len(done))"
   ]
  },
  {
   "cell_type": "code",
   "execution_count": 3,
   "id": "90222cf3-d18b-46ec-9fb6-0fee92687fba",
   "metadata": {},
   "outputs": [],
   "source": [
    "from docile.dataset import CachingConfig, Dataset\n",
    "\n",
    "docile_final = Dataset(\"all\", \"/datasets/docile221221-0\", load_annotations=False, load_ocr=False, cache_images=CachingConfig.OFF)"
   ]
  },
  {
   "cell_type": "code",
   "execution_count": 4,
   "id": "51ead2ad-b246-48fa-aaa3-718be8e4f758",
   "metadata": {},
   "outputs": [
    {
     "data": {
      "application/vnd.jupyter.widget-view+json": {
       "model_id": "b709e6a1145e4ce182bcc3ea9c549385",
       "version_major": 2,
       "version_minor": 0
      },
      "text/plain": [
       "Counting chunks: 0it [00:00, ?it/s]"
      ]
     },
     "metadata": {},
     "output_type": "display_data"
    },
    {
     "data": {
      "application/vnd.jupyter.widget-view+json": {
       "model_id": "578e558beebc4f00b0654f1119557418",
       "version_major": 2,
       "version_minor": 0
      },
      "text/plain": [
       "Chunks submitted:   0%|          | 0/9 [00:00<?, ?it/s]"
      ]
     },
     "metadata": {},
     "output_type": "display_data"
    },
    {
     "data": {
      "application/vnd.jupyter.widget-view+json": {
       "model_id": "06be2066e3d94a42b9094a153a4c5e41",
       "version_major": 2,
       "version_minor": 0
      },
      "text/plain": [
       "Page sizes computed for chunks:   0%|          | 0/9 [00:00<?, ?it/s]"
      ]
     },
     "metadata": {},
     "output_type": "display_data"
    }
   ],
   "source": [
    "store_page_sizes_parallel(docile_final, pages_per_chunk=1000, processes=10)"
   ]
  },
  {
   "cell_type": "code",
   "execution_count": 3,
   "id": "efb797a0-2f28-4d12-9afd-ba7b57efb599",
   "metadata": {},
   "outputs": [
    {
     "name": "stderr",
     "output_type": "stream",
     "text": [
      "Loading documents for docile221221-0:synthetic: 100%|██████████| 100000/100000 [00:04<00:00, 24257.27it/s]\n"
     ]
    }
   ],
   "source": [
    "from docile.dataset import CachingConfig, Dataset\n",
    "\n",
    "docile_synthetic = Dataset(\"synthetic\", \"/datasets/docile221221-0\", load_annotations=False, load_ocr=False, cache_images=CachingConfig.OFF)"
   ]
  },
  {
   "cell_type": "code",
   "execution_count": 4,
   "id": "47ad4909-5e54-4f46-ae4f-411515f2d5fe",
   "metadata": {},
   "outputs": [
    {
     "data": {
      "application/vnd.jupyter.widget-view+json": {
       "model_id": "",
       "version_major": 2,
       "version_minor": 0
      },
      "text/plain": [
       "Counting chunks: 0it [00:00, ?it/s]"
      ]
     },
     "metadata": {},
     "output_type": "display_data"
    },
    {
     "data": {
      "application/vnd.jupyter.widget-view+json": {
       "model_id": "",
       "version_major": 2,
       "version_minor": 0
      },
      "text/plain": [
       "Chunks submitted:   0%|          | 0/100 [00:00<?, ?it/s]"
      ]
     },
     "metadata": {},
     "output_type": "display_data"
    },
    {
     "data": {
      "application/vnd.jupyter.widget-view+json": {
       "model_id": "",
       "version_major": 2,
       "version_minor": 0
      },
      "text/plain": [
       "Page sizes computed for chunks:   0%|          | 0/100 [00:00<?, ?it/s]"
      ]
     },
     "metadata": {},
     "output_type": "display_data"
    }
   ],
   "source": [
    "store_page_sizes_parallel(docile_synthetic, pages_per_chunk=1000, processes=10)"
   ]
  },
  {
   "cell_type": "code",
   "execution_count": 5,
   "id": "4ef91b06-d5cd-4c48-ae04-031ee2e09dea",
   "metadata": {},
   "outputs": [
    {
     "name": "stderr",
     "output_type": "stream",
     "text": [
      "Loading documents for docile_pretraining_v1_2022_12_22:pretraining-all: 100%|██████████| 932467/932467 [00:34<00:00, 26656.33it/s]\n"
     ]
    }
   ],
   "source": [
    "from docile.dataset import CachingConfig, Dataset\n",
    "\n",
    "docile_pretraining = Dataset(\"pretraining-all\", \"/datasets/docile_pretraining_v1_2022_12_22\", load_annotations=False, load_ocr=False, cache_images=CachingConfig.OFF)"
   ]
  },
  {
   "cell_type": "code",
   "execution_count": 6,
   "id": "2290ec07-f925-4351-9922-a243ccae2169",
   "metadata": {},
   "outputs": [
    {
     "data": {
      "application/vnd.jupyter.widget-view+json": {
       "model_id": "81338c1804734f97a1f261e28c983efa",
       "version_major": 2,
       "version_minor": 0
      },
      "text/plain": [
       "Counting chunks: 0it [00:00, ?it/s]"
      ]
     },
     "metadata": {},
     "output_type": "display_data"
    },
    {
     "data": {
      "application/vnd.jupyter.widget-view+json": {
       "model_id": "a911e55fd77743c588f92626951072d5",
       "version_major": 2,
       "version_minor": 0
      },
      "text/plain": [
       "Chunks submitted:   0%|          | 0/3431 [00:00<?, ?it/s]"
      ]
     },
     "metadata": {},
     "output_type": "display_data"
    },
    {
     "data": {
      "application/vnd.jupyter.widget-view+json": {
       "model_id": "ea3227aa18ed457eaf5eb90a5c6ce4bc",
       "version_major": 2,
       "version_minor": 0
      },
      "text/plain": [
       "Page sizes computed for chunks:   0%|          | 0/3431 [00:00<?, ?it/s]"
      ]
     },
     "metadata": {},
     "output_type": "display_data"
    },
    {
     "name": "stderr",
     "output_type": "stream",
     "text": [
      "/root/.cache/pypoetry/virtualenvs/docile-9TtSrW0h-py3.10/lib/python3.10/site-packages/PIL/Image.py:3074: DecompressionBombWarning: Image size (122474800 pixels) exceeds limit of 89478485 pixels, could be decompression bomb DOS attack.\n",
      "  warnings.warn(\n",
      "/root/.cache/pypoetry/virtualenvs/docile-9TtSrW0h-py3.10/lib/python3.10/site-packages/PIL/Image.py:3074: DecompressionBombWarning: Image size (122474800 pixels) exceeds limit of 89478485 pixels, could be decompression bomb DOS attack.\n",
      "  warnings.warn(\n",
      "/root/.cache/pypoetry/virtualenvs/docile-9TtSrW0h-py3.10/lib/python3.10/site-packages/PIL/Image.py:3074: DecompressionBombWarning: Image size (94080000 pixels) exceeds limit of 89478485 pixels, could be decompression bomb DOS attack.\n",
      "  warnings.warn(\n",
      "/root/.cache/pypoetry/virtualenvs/docile-9TtSrW0h-py3.10/lib/python3.10/site-packages/PIL/Image.py:3074: DecompressionBombWarning: Image size (94080000 pixels) exceeds limit of 89478485 pixels, could be decompression bomb DOS attack.\n",
      "  warnings.warn(\n",
      "/root/.cache/pypoetry/virtualenvs/docile-9TtSrW0h-py3.10/lib/python3.10/site-packages/PIL/Image.py:3074: DecompressionBombWarning: Image size (94080000 pixels) exceeds limit of 89478485 pixels, could be decompression bomb DOS attack.\n",
      "  warnings.warn(\n",
      "/root/.cache/pypoetry/virtualenvs/docile-9TtSrW0h-py3.10/lib/python3.10/site-packages/PIL/Image.py:3074: DecompressionBombWarning: Image size (92607408 pixels) exceeds limit of 89478485 pixels, could be decompression bomb DOS attack.\n",
      "  warnings.warn(\n",
      "/root/.cache/pypoetry/virtualenvs/docile-9TtSrW0h-py3.10/lib/python3.10/site-packages/PIL/Image.py:3074: DecompressionBombWarning: Image size (94080000 pixels) exceeds limit of 89478485 pixels, could be decompression bomb DOS attack.\n",
      "  warnings.warn(\n",
      "/root/.cache/pypoetry/virtualenvs/docile-9TtSrW0h-py3.10/lib/python3.10/site-packages/PIL/Image.py:3074: DecompressionBombWarning: Image size (92607408 pixels) exceeds limit of 89478485 pixels, could be decompression bomb DOS attack.\n",
      "  warnings.warn(\n",
      "/root/.cache/pypoetry/virtualenvs/docile-9TtSrW0h-py3.10/lib/python3.10/site-packages/PIL/Image.py:3074: DecompressionBombWarning: Image size (93059691 pixels) exceeds limit of 89478485 pixels, could be decompression bomb DOS attack.\n",
      "  warnings.warn(\n",
      "/root/.cache/pypoetry/virtualenvs/docile-9TtSrW0h-py3.10/lib/python3.10/site-packages/PIL/Image.py:3074: DecompressionBombWarning: Image size (98827260 pixels) exceeds limit of 89478485 pixels, could be decompression bomb DOS attack.\n",
      "  warnings.warn(\n",
      "/root/.cache/pypoetry/virtualenvs/docile-9TtSrW0h-py3.10/lib/python3.10/site-packages/PIL/Image.py:3074: DecompressionBombWarning: Image size (98827260 pixels) exceeds limit of 89478485 pixels, could be decompression bomb DOS attack.\n",
      "  warnings.warn(\n",
      "/root/.cache/pypoetry/virtualenvs/docile-9TtSrW0h-py3.10/lib/python3.10/site-packages/PIL/Image.py:3074: DecompressionBombWarning: Image size (94080000 pixels) exceeds limit of 89478485 pixels, could be decompression bomb DOS attack.\n",
      "  warnings.warn(\n",
      "/root/.cache/pypoetry/virtualenvs/docile-9TtSrW0h-py3.10/lib/python3.10/site-packages/PIL/Image.py:3074: DecompressionBombWarning: Image size (94080000 pixels) exceeds limit of 89478485 pixels, could be decompression bomb DOS attack.\n",
      "  warnings.warn(\n",
      "/root/.cache/pypoetry/virtualenvs/docile-9TtSrW0h-py3.10/lib/python3.10/site-packages/PIL/Image.py:3074: DecompressionBombWarning: Image size (94080000 pixels) exceeds limit of 89478485 pixels, could be decompression bomb DOS attack.\n",
      "  warnings.warn(\n",
      "/root/.cache/pypoetry/virtualenvs/docile-9TtSrW0h-py3.10/lib/python3.10/site-packages/PIL/Image.py:3074: DecompressionBombWarning: Image size (94080000 pixels) exceeds limit of 89478485 pixels, could be decompression bomb DOS attack.\n",
      "  warnings.warn(\n",
      "/root/.cache/pypoetry/virtualenvs/docile-9TtSrW0h-py3.10/lib/python3.10/site-packages/PIL/Image.py:3074: DecompressionBombWarning: Image size (94080000 pixels) exceeds limit of 89478485 pixels, could be decompression bomb DOS attack.\n",
      "  warnings.warn(\n",
      "/root/.cache/pypoetry/virtualenvs/docile-9TtSrW0h-py3.10/lib/python3.10/site-packages/PIL/Image.py:3074: DecompressionBombWarning: Image size (94080000 pixels) exceeds limit of 89478485 pixels, could be decompression bomb DOS attack.\n",
      "  warnings.warn(\n",
      "/root/.cache/pypoetry/virtualenvs/docile-9TtSrW0h-py3.10/lib/python3.10/site-packages/PIL/Image.py:3074: DecompressionBombWarning: Image size (94080000 pixels) exceeds limit of 89478485 pixels, could be decompression bomb DOS attack.\n",
      "  warnings.warn(\n",
      "/root/.cache/pypoetry/virtualenvs/docile-9TtSrW0h-py3.10/lib/python3.10/site-packages/PIL/Image.py:3074: DecompressionBombWarning: Image size (94080000 pixels) exceeds limit of 89478485 pixels, could be decompression bomb DOS attack.\n",
      "  warnings.warn(\n",
      "/root/.cache/pypoetry/virtualenvs/docile-9TtSrW0h-py3.10/lib/python3.10/site-packages/PIL/Image.py:3074: DecompressionBombWarning: Image size (94080000 pixels) exceeds limit of 89478485 pixels, could be decompression bomb DOS attack.\n",
      "  warnings.warn(\n",
      "/root/.cache/pypoetry/virtualenvs/docile-9TtSrW0h-py3.10/lib/python3.10/site-packages/PIL/Image.py:3074: DecompressionBombWarning: Image size (94080000 pixels) exceeds limit of 89478485 pixels, could be decompression bomb DOS attack.\n",
      "  warnings.warn(\n",
      "/root/.cache/pypoetry/virtualenvs/docile-9TtSrW0h-py3.10/lib/python3.10/site-packages/PIL/Image.py:3074: DecompressionBombWarning: Image size (94080000 pixels) exceeds limit of 89478485 pixels, could be decompression bomb DOS attack.\n",
      "  warnings.warn(\n",
      "/root/.cache/pypoetry/virtualenvs/docile-9TtSrW0h-py3.10/lib/python3.10/site-packages/PIL/Image.py:3074: DecompressionBombWarning: Image size (94080000 pixels) exceeds limit of 89478485 pixels, could be decompression bomb DOS attack.\n",
      "  warnings.warn(\n",
      "/root/.cache/pypoetry/virtualenvs/docile-9TtSrW0h-py3.10/lib/python3.10/site-packages/PIL/Image.py:3074: DecompressionBombWarning: Image size (94080000 pixels) exceeds limit of 89478485 pixels, could be decompression bomb DOS attack.\n",
      "  warnings.warn(\n",
      "/root/.cache/pypoetry/virtualenvs/docile-9TtSrW0h-py3.10/lib/python3.10/site-packages/PIL/Image.py:3074: DecompressionBombWarning: Image size (122474800 pixels) exceeds limit of 89478485 pixels, could be decompression bomb DOS attack.\n",
      "  warnings.warn(\n",
      "/root/.cache/pypoetry/virtualenvs/docile-9TtSrW0h-py3.10/lib/python3.10/site-packages/PIL/Image.py:3074: DecompressionBombWarning: Image size (94080000 pixels) exceeds limit of 89478485 pixels, could be decompression bomb DOS attack.\n",
      "  warnings.warn(\n",
      "IOPub message rate exceeded.\n",
      "The Jupyter server will temporarily stop sending output\n",
      "to the client in order to avoid crashing it.\n",
      "To change this limit, set the config variable\n",
      "`--ServerApp.iopub_msg_rate_limit`.\n",
      "\n",
      "Current values:\n",
      "ServerApp.iopub_msg_rate_limit=1000.0 (msgs/sec)\n",
      "ServerApp.rate_limit_window=3.0 (secs)\n",
      "\n",
      "/root/.cache/pypoetry/virtualenvs/docile-9TtSrW0h-py3.10/lib/python3.10/site-packages/PIL/Image.py:3074: DecompressionBombWarning: Image size (94080000 pixels) exceeds limit of 89478485 pixels, could be decompression bomb DOS attack.\n",
      "  warnings.warn(\n",
      "/root/.cache/pypoetry/virtualenvs/docile-9TtSrW0h-py3.10/lib/python3.10/site-packages/PIL/Image.py:3074: DecompressionBombWarning: Image size (94080000 pixels) exceeds limit of 89478485 pixels, could be decompression bomb DOS attack.\n",
      "  warnings.warn(\n",
      "/root/.cache/pypoetry/virtualenvs/docile-9TtSrW0h-py3.10/lib/python3.10/site-packages/PIL/Image.py:3074: DecompressionBombWarning: Image size (94080000 pixels) exceeds limit of 89478485 pixels, could be decompression bomb DOS attack.\n",
      "  warnings.warn(\n",
      "/root/.cache/pypoetry/virtualenvs/docile-9TtSrW0h-py3.10/lib/python3.10/site-packages/PIL/Image.py:3074: DecompressionBombWarning: Image size (94080000 pixels) exceeds limit of 89478485 pixels, could be decompression bomb DOS attack.\n",
      "  warnings.warn(\n",
      "/root/.cache/pypoetry/virtualenvs/docile-9TtSrW0h-py3.10/lib/python3.10/site-packages/PIL/Image.py:3074: DecompressionBombWarning: Image size (94080000 pixels) exceeds limit of 89478485 pixels, could be decompression bomb DOS attack.\n",
      "  warnings.warn(\n",
      "/root/.cache/pypoetry/virtualenvs/docile-9TtSrW0h-py3.10/lib/python3.10/site-packages/PIL/Image.py:3074: DecompressionBombWarning: Image size (94080000 pixels) exceeds limit of 89478485 pixels, could be decompression bomb DOS attack.\n",
      "  warnings.warn(\n",
      "/root/.cache/pypoetry/virtualenvs/docile-9TtSrW0h-py3.10/lib/python3.10/site-packages/PIL/Image.py:3074: DecompressionBombWarning: Image size (94080000 pixels) exceeds limit of 89478485 pixels, could be decompression bomb DOS attack.\n",
      "  warnings.warn(\n",
      "/root/.cache/pypoetry/virtualenvs/docile-9TtSrW0h-py3.10/lib/python3.10/site-packages/PIL/Image.py:3074: DecompressionBombWarning: Image size (94080000 pixels) exceeds limit of 89478485 pixels, could be decompression bomb DOS attack.\n",
      "  warnings.warn(\n",
      "/root/.cache/pypoetry/virtualenvs/docile-9TtSrW0h-py3.10/lib/python3.10/site-packages/PIL/Image.py:3074: DecompressionBombWarning: Image size (94080000 pixels) exceeds limit of 89478485 pixels, could be decompression bomb DOS attack.\n",
      "  warnings.warn(\n",
      "/root/.cache/pypoetry/virtualenvs/docile-9TtSrW0h-py3.10/lib/python3.10/site-packages/PIL/Image.py:3074: DecompressionBombWarning: Image size (94080000 pixels) exceeds limit of 89478485 pixels, could be decompression bomb DOS attack.\n",
      "  warnings.warn(\n",
      "/root/.cache/pypoetry/virtualenvs/docile-9TtSrW0h-py3.10/lib/python3.10/site-packages/PIL/Image.py:3074: DecompressionBombWarning: Image size (94080000 pixels) exceeds limit of 89478485 pixels, could be decompression bomb DOS attack.\n",
      "  warnings.warn(\n",
      "/root/.cache/pypoetry/virtualenvs/docile-9TtSrW0h-py3.10/lib/python3.10/site-packages/PIL/Image.py:3074: DecompressionBombWarning: Image size (94080000 pixels) exceeds limit of 89478485 pixels, could be decompression bomb DOS attack.\n",
      "  warnings.warn(\n",
      "/root/.cache/pypoetry/virtualenvs/docile-9TtSrW0h-py3.10/lib/python3.10/site-packages/PIL/Image.py:3074: DecompressionBombWarning: Image size (94080000 pixels) exceeds limit of 89478485 pixels, could be decompression bomb DOS attack.\n",
      "  warnings.warn(\n",
      "/root/.cache/pypoetry/virtualenvs/docile-9TtSrW0h-py3.10/lib/python3.10/site-packages/PIL/Image.py:3074: DecompressionBombWarning: Image size (94080000 pixels) exceeds limit of 89478485 pixels, could be decompression bomb DOS attack.\n",
      "  warnings.warn(\n",
      "/root/.cache/pypoetry/virtualenvs/docile-9TtSrW0h-py3.10/lib/python3.10/site-packages/PIL/Image.py:3074: DecompressionBombWarning: Image size (94080000 pixels) exceeds limit of 89478485 pixels, could be decompression bomb DOS attack.\n",
      "  warnings.warn(\n",
      "/root/.cache/pypoetry/virtualenvs/docile-9TtSrW0h-py3.10/lib/python3.10/site-packages/PIL/Image.py:3074: DecompressionBombWarning: Image size (94080000 pixels) exceeds limit of 89478485 pixels, could be decompression bomb DOS attack.\n",
      "  warnings.warn(\n",
      "/root/.cache/pypoetry/virtualenvs/docile-9TtSrW0h-py3.10/lib/python3.10/site-packages/PIL/Image.py:3074: DecompressionBombWarning: Image size (94080000 pixels) exceeds limit of 89478485 pixels, could be decompression bomb DOS attack.\n",
      "  warnings.warn(\n",
      "/root/.cache/pypoetry/virtualenvs/docile-9TtSrW0h-py3.10/lib/python3.10/site-packages/PIL/Image.py:3074: DecompressionBombWarning: Image size (94080000 pixels) exceeds limit of 89478485 pixels, could be decompression bomb DOS attack.\n",
      "  warnings.warn(\n",
      "/root/.cache/pypoetry/virtualenvs/docile-9TtSrW0h-py3.10/lib/python3.10/site-packages/PIL/Image.py:3074: DecompressionBombWarning: Image size (94080000 pixels) exceeds limit of 89478485 pixels, could be decompression bomb DOS attack.\n",
      "  warnings.warn(\n",
      "/root/.cache/pypoetry/virtualenvs/docile-9TtSrW0h-py3.10/lib/python3.10/site-packages/PIL/Image.py:3074: DecompressionBombWarning: Image size (94080000 pixels) exceeds limit of 89478485 pixels, could be decompression bomb DOS attack.\n",
      "  warnings.warn(\n",
      "/root/.cache/pypoetry/virtualenvs/docile-9TtSrW0h-py3.10/lib/python3.10/site-packages/PIL/Image.py:3074: DecompressionBombWarning: Image size (94080000 pixels) exceeds limit of 89478485 pixels, could be decompression bomb DOS attack.\n",
      "  warnings.warn(\n",
      "/root/.cache/pypoetry/virtualenvs/docile-9TtSrW0h-py3.10/lib/python3.10/site-packages/PIL/Image.py:3074: DecompressionBombWarning: Image size (94080000 pixels) exceeds limit of 89478485 pixels, could be decompression bomb DOS attack.\n",
      "  warnings.warn(\n",
      "/root/.cache/pypoetry/virtualenvs/docile-9TtSrW0h-py3.10/lib/python3.10/site-packages/PIL/Image.py:3074: DecompressionBombWarning: Image size (94080000 pixels) exceeds limit of 89478485 pixels, could be decompression bomb DOS attack.\n",
      "  warnings.warn(\n",
      "/root/.cache/pypoetry/virtualenvs/docile-9TtSrW0h-py3.10/lib/python3.10/site-packages/PIL/Image.py:3074: DecompressionBombWarning: Image size (94080000 pixels) exceeds limit of 89478485 pixels, could be decompression bomb DOS attack.\n",
      "  warnings.warn(\n",
      "/root/.cache/pypoetry/virtualenvs/docile-9TtSrW0h-py3.10/lib/python3.10/site-packages/PIL/Image.py:3074: DecompressionBombWarning: Image size (94080000 pixels) exceeds limit of 89478485 pixels, could be decompression bomb DOS attack.\n",
      "  warnings.warn(\n",
      "/root/.cache/pypoetry/virtualenvs/docile-9TtSrW0h-py3.10/lib/python3.10/site-packages/PIL/Image.py:3074: DecompressionBombWarning: Image size (94080000 pixels) exceeds limit of 89478485 pixels, could be decompression bomb DOS attack.\n",
      "  warnings.warn(\n",
      "/root/.cache/pypoetry/virtualenvs/docile-9TtSrW0h-py3.10/lib/python3.10/site-packages/PIL/Image.py:3074: DecompressionBombWarning: Image size (94080000 pixels) exceeds limit of 89478485 pixels, could be decompression bomb DOS attack.\n",
      "  warnings.warn(\n",
      "/root/.cache/pypoetry/virtualenvs/docile-9TtSrW0h-py3.10/lib/python3.10/site-packages/PIL/Image.py:3074: DecompressionBombWarning: Image size (94080000 pixels) exceeds limit of 89478485 pixels, could be decompression bomb DOS attack.\n",
      "  warnings.warn(\n",
      "/root/.cache/pypoetry/virtualenvs/docile-9TtSrW0h-py3.10/lib/python3.10/site-packages/PIL/Image.py:3074: DecompressionBombWarning: Image size (94080000 pixels) exceeds limit of 89478485 pixels, could be decompression bomb DOS attack.\n",
      "  warnings.warn(\n",
      "/root/.cache/pypoetry/virtualenvs/docile-9TtSrW0h-py3.10/lib/python3.10/site-packages/PIL/Image.py:3074: DecompressionBombWarning: Image size (94080000 pixels) exceeds limit of 89478485 pixels, could be decompression bomb DOS attack.\n",
      "  warnings.warn(\n",
      "/root/.cache/pypoetry/virtualenvs/docile-9TtSrW0h-py3.10/lib/python3.10/site-packages/PIL/Image.py:3074: DecompressionBombWarning: Image size (94080000 pixels) exceeds limit of 89478485 pixels, could be decompression bomb DOS attack.\n",
      "  warnings.warn(\n",
      "/root/.cache/pypoetry/virtualenvs/docile-9TtSrW0h-py3.10/lib/python3.10/site-packages/PIL/Image.py:3074: DecompressionBombWarning: Image size (94080000 pixels) exceeds limit of 89478485 pixels, could be decompression bomb DOS attack.\n",
      "  warnings.warn(\n",
      "/root/.cache/pypoetry/virtualenvs/docile-9TtSrW0h-py3.10/lib/python3.10/site-packages/PIL/Image.py:3074: DecompressionBombWarning: Image size (94080000 pixels) exceeds limit of 89478485 pixels, could be decompression bomb DOS attack.\n",
      "  warnings.warn(\n",
      "/root/.cache/pypoetry/virtualenvs/docile-9TtSrW0h-py3.10/lib/python3.10/site-packages/PIL/Image.py:3074: DecompressionBombWarning: Image size (94080000 pixels) exceeds limit of 89478485 pixels, could be decompression bomb DOS attack.\n",
      "  warnings.warn(\n",
      "/root/.cache/pypoetry/virtualenvs/docile-9TtSrW0h-py3.10/lib/python3.10/site-packages/PIL/Image.py:3074: DecompressionBombWarning: Image size (94080000 pixels) exceeds limit of 89478485 pixels, could be decompression bomb DOS attack.\n",
      "  warnings.warn(\n",
      "/root/.cache/pypoetry/virtualenvs/docile-9TtSrW0h-py3.10/lib/python3.10/site-packages/PIL/Image.py:3074: DecompressionBombWarning: Image size (94080000 pixels) exceeds limit of 89478485 pixels, could be decompression bomb DOS attack.\n",
      "  warnings.warn(\n",
      "/root/.cache/pypoetry/virtualenvs/docile-9TtSrW0h-py3.10/lib/python3.10/site-packages/PIL/Image.py:3074: DecompressionBombWarning: Image size (94080000 pixels) exceeds limit of 89478485 pixels, could be decompression bomb DOS attack.\n",
      "  warnings.warn(\n",
      "/root/.cache/pypoetry/virtualenvs/docile-9TtSrW0h-py3.10/lib/python3.10/site-packages/PIL/Image.py:3074: DecompressionBombWarning: Image size (94080000 pixels) exceeds limit of 89478485 pixels, could be decompression bomb DOS attack.\n",
      "  warnings.warn(\n",
      "/root/.cache/pypoetry/virtualenvs/docile-9TtSrW0h-py3.10/lib/python3.10/site-packages/PIL/Image.py:3074: DecompressionBombWarning: Image size (94080000 pixels) exceeds limit of 89478485 pixels, could be decompression bomb DOS attack.\n",
      "  warnings.warn(\n",
      "/root/.cache/pypoetry/virtualenvs/docile-9TtSrW0h-py3.10/lib/python3.10/site-packages/PIL/Image.py:3074: DecompressionBombWarning: Image size (94080000 pixels) exceeds limit of 89478485 pixels, could be decompression bomb DOS attack.\n",
      "  warnings.warn(\n",
      "/root/.cache/pypoetry/virtualenvs/docile-9TtSrW0h-py3.10/lib/python3.10/site-packages/PIL/Image.py:3074: DecompressionBombWarning: Image size (94080000 pixels) exceeds limit of 89478485 pixels, could be decompression bomb DOS attack.\n",
      "  warnings.warn(\n",
      "/root/.cache/pypoetry/virtualenvs/docile-9TtSrW0h-py3.10/lib/python3.10/site-packages/PIL/Image.py:3074: DecompressionBombWarning: Image size (94080000 pixels) exceeds limit of 89478485 pixels, could be decompression bomb DOS attack.\n",
      "  warnings.warn(\n",
      "/root/.cache/pypoetry/virtualenvs/docile-9TtSrW0h-py3.10/lib/python3.10/site-packages/PIL/Image.py:3074: DecompressionBombWarning: Image size (94080000 pixels) exceeds limit of 89478485 pixels, could be decompression bomb DOS attack.\n",
      "  warnings.warn(\n",
      "/root/.cache/pypoetry/virtualenvs/docile-9TtSrW0h-py3.10/lib/python3.10/site-packages/PIL/Image.py:3074: DecompressionBombWarning: Image size (94080000 pixels) exceeds limit of 89478485 pixels, could be decompression bomb DOS attack.\n",
      "  warnings.warn(\n",
      "/root/.cache/pypoetry/virtualenvs/docile-9TtSrW0h-py3.10/lib/python3.10/site-packages/PIL/Image.py:3074: DecompressionBombWarning: Image size (94080000 pixels) exceeds limit of 89478485 pixels, could be decompression bomb DOS attack.\n",
      "  warnings.warn(\n",
      "/root/.cache/pypoetry/virtualenvs/docile-9TtSrW0h-py3.10/lib/python3.10/site-packages/PIL/Image.py:3074: DecompressionBombWarning: Image size (94080000 pixels) exceeds limit of 89478485 pixels, could be decompression bomb DOS attack.\n",
      "  warnings.warn(\n",
      "/root/.cache/pypoetry/virtualenvs/docile-9TtSrW0h-py3.10/lib/python3.10/site-packages/PIL/Image.py:3074: DecompressionBombWarning: Image size (94080000 pixels) exceeds limit of 89478485 pixels, could be decompression bomb DOS attack.\n",
      "  warnings.warn(\n",
      "/root/.cache/pypoetry/virtualenvs/docile-9TtSrW0h-py3.10/lib/python3.10/site-packages/PIL/Image.py:3074: DecompressionBombWarning: Image size (94080000 pixels) exceeds limit of 89478485 pixels, could be decompression bomb DOS attack.\n",
      "  warnings.warn(\n",
      "/root/.cache/pypoetry/virtualenvs/docile-9TtSrW0h-py3.10/lib/python3.10/site-packages/PIL/Image.py:3074: DecompressionBombWarning: Image size (94080000 pixels) exceeds limit of 89478485 pixels, could be decompression bomb DOS attack.\n",
      "  warnings.warn(\n",
      "/root/.cache/pypoetry/virtualenvs/docile-9TtSrW0h-py3.10/lib/python3.10/site-packages/PIL/Image.py:3074: DecompressionBombWarning: Image size (94080000 pixels) exceeds limit of 89478485 pixels, could be decompression bomb DOS attack.\n",
      "  warnings.warn(\n",
      "/root/.cache/pypoetry/virtualenvs/docile-9TtSrW0h-py3.10/lib/python3.10/site-packages/PIL/Image.py:3074: DecompressionBombWarning: Image size (94080000 pixels) exceeds limit of 89478485 pixels, could be decompression bomb DOS attack.\n",
      "  warnings.warn(\n",
      "/root/.cache/pypoetry/virtualenvs/docile-9TtSrW0h-py3.10/lib/python3.10/site-packages/PIL/Image.py:3074: DecompressionBombWarning: Image size (94080000 pixels) exceeds limit of 89478485 pixels, could be decompression bomb DOS attack.\n",
      "  warnings.warn(\n",
      "/root/.cache/pypoetry/virtualenvs/docile-9TtSrW0h-py3.10/lib/python3.10/site-packages/PIL/Image.py:3074: DecompressionBombWarning: Image size (94080000 pixels) exceeds limit of 89478485 pixels, could be decompression bomb DOS attack.\n",
      "  warnings.warn(\n",
      "/root/.cache/pypoetry/virtualenvs/docile-9TtSrW0h-py3.10/lib/python3.10/site-packages/PIL/Image.py:3074: DecompressionBombWarning: Image size (94080000 pixels) exceeds limit of 89478485 pixels, could be decompression bomb DOS attack.\n",
      "  warnings.warn(\n",
      "/root/.cache/pypoetry/virtualenvs/docile-9TtSrW0h-py3.10/lib/python3.10/site-packages/PIL/Image.py:3074: DecompressionBombWarning: Image size (94080000 pixels) exceeds limit of 89478485 pixels, could be decompression bomb DOS attack.\n",
      "  warnings.warn(\n",
      "/root/.cache/pypoetry/virtualenvs/docile-9TtSrW0h-py3.10/lib/python3.10/site-packages/PIL/Image.py:3074: DecompressionBombWarning: Image size (94080000 pixels) exceeds limit of 89478485 pixels, could be decompression bomb DOS attack.\n",
      "  warnings.warn(\n",
      "/root/.cache/pypoetry/virtualenvs/docile-9TtSrW0h-py3.10/lib/python3.10/site-packages/PIL/Image.py:3074: DecompressionBombWarning: Image size (94080000 pixels) exceeds limit of 89478485 pixels, could be decompression bomb DOS attack.\n",
      "  warnings.warn(\n",
      "/root/.cache/pypoetry/virtualenvs/docile-9TtSrW0h-py3.10/lib/python3.10/site-packages/PIL/Image.py:3074: DecompressionBombWarning: Image size (94080000 pixels) exceeds limit of 89478485 pixels, could be decompression bomb DOS attack.\n",
      "  warnings.warn(\n",
      "/root/.cache/pypoetry/virtualenvs/docile-9TtSrW0h-py3.10/lib/python3.10/site-packages/PIL/Image.py:3074: DecompressionBombWarning: Image size (94080000 pixels) exceeds limit of 89478485 pixels, could be decompression bomb DOS attack.\n",
      "  warnings.warn(\n",
      "/root/.cache/pypoetry/virtualenvs/docile-9TtSrW0h-py3.10/lib/python3.10/site-packages/PIL/Image.py:3074: DecompressionBombWarning: Image size (94080000 pixels) exceeds limit of 89478485 pixels, could be decompression bomb DOS attack.\n",
      "  warnings.warn(\n",
      "/root/.cache/pypoetry/virtualenvs/docile-9TtSrW0h-py3.10/lib/python3.10/site-packages/PIL/Image.py:3074: DecompressionBombWarning: Image size (94080000 pixels) exceeds limit of 89478485 pixels, could be decompression bomb DOS attack.\n",
      "  warnings.warn(\n",
      "/root/.cache/pypoetry/virtualenvs/docile-9TtSrW0h-py3.10/lib/python3.10/site-packages/PIL/Image.py:3074: DecompressionBombWarning: Image size (94080000 pixels) exceeds limit of 89478485 pixels, could be decompression bomb DOS attack.\n",
      "  warnings.warn(\n",
      "/root/.cache/pypoetry/virtualenvs/docile-9TtSrW0h-py3.10/lib/python3.10/site-packages/PIL/Image.py:3074: DecompressionBombWarning: Image size (94080000 pixels) exceeds limit of 89478485 pixels, could be decompression bomb DOS attack.\n",
      "  warnings.warn(\n",
      "/root/.cache/pypoetry/virtualenvs/docile-9TtSrW0h-py3.10/lib/python3.10/site-packages/PIL/Image.py:3074: DecompressionBombWarning: Image size (94080000 pixels) exceeds limit of 89478485 pixels, could be decompression bomb DOS attack.\n",
      "  warnings.warn(\n",
      "/root/.cache/pypoetry/virtualenvs/docile-9TtSrW0h-py3.10/lib/python3.10/site-packages/PIL/Image.py:3074: DecompressionBombWarning: Image size (94080000 pixels) exceeds limit of 89478485 pixels, could be decompression bomb DOS attack.\n",
      "  warnings.warn(\n",
      "/root/.cache/pypoetry/virtualenvs/docile-9TtSrW0h-py3.10/lib/python3.10/site-packages/PIL/Image.py:3074: DecompressionBombWarning: Image size (94080000 pixels) exceeds limit of 89478485 pixels, could be decompression bomb DOS attack.\n",
      "  warnings.warn(\n",
      "/root/.cache/pypoetry/virtualenvs/docile-9TtSrW0h-py3.10/lib/python3.10/site-packages/PIL/Image.py:3074: DecompressionBombWarning: Image size (94080000 pixels) exceeds limit of 89478485 pixels, could be decompression bomb DOS attack.\n",
      "  warnings.warn(\n",
      "/root/.cache/pypoetry/virtualenvs/docile-9TtSrW0h-py3.10/lib/python3.10/site-packages/PIL/Image.py:3074: DecompressionBombWarning: Image size (94080000 pixels) exceeds limit of 89478485 pixels, could be decompression bomb DOS attack.\n",
      "  warnings.warn(\n",
      "/root/.cache/pypoetry/virtualenvs/docile-9TtSrW0h-py3.10/lib/python3.10/site-packages/PIL/Image.py:3074: DecompressionBombWarning: Image size (94080000 pixels) exceeds limit of 89478485 pixels, could be decompression bomb DOS attack.\n",
      "  warnings.warn(\n",
      "/root/.cache/pypoetry/virtualenvs/docile-9TtSrW0h-py3.10/lib/python3.10/site-packages/PIL/Image.py:3074: DecompressionBombWarning: Image size (94080000 pixels) exceeds limit of 89478485 pixels, could be decompression bomb DOS attack.\n",
      "  warnings.warn(\n",
      "/root/.cache/pypoetry/virtualenvs/docile-9TtSrW0h-py3.10/lib/python3.10/site-packages/PIL/Image.py:3074: DecompressionBombWarning: Image size (94080000 pixels) exceeds limit of 89478485 pixels, could be decompression bomb DOS attack.\n",
      "  warnings.warn(\n",
      "/root/.cache/pypoetry/virtualenvs/docile-9TtSrW0h-py3.10/lib/python3.10/site-packages/PIL/Image.py:3074: DecompressionBombWarning: Image size (94080000 pixels) exceeds limit of 89478485 pixels, could be decompression bomb DOS attack.\n",
      "  warnings.warn(\n",
      "/root/.cache/pypoetry/virtualenvs/docile-9TtSrW0h-py3.10/lib/python3.10/site-packages/PIL/Image.py:3074: DecompressionBombWarning: Image size (94080000 pixels) exceeds limit of 89478485 pixels, could be decompression bomb DOS attack.\n",
      "  warnings.warn(\n",
      "/root/.cache/pypoetry/virtualenvs/docile-9TtSrW0h-py3.10/lib/python3.10/site-packages/PIL/Image.py:3074: DecompressionBombWarning: Image size (94080000 pixels) exceeds limit of 89478485 pixels, could be decompression bomb DOS attack.\n",
      "  warnings.warn(\n",
      "/root/.cache/pypoetry/virtualenvs/docile-9TtSrW0h-py3.10/lib/python3.10/site-packages/PIL/Image.py:3074: DecompressionBombWarning: Image size (94080000 pixels) exceeds limit of 89478485 pixels, could be decompression bomb DOS attack.\n",
      "  warnings.warn(\n",
      "/root/.cache/pypoetry/virtualenvs/docile-9TtSrW0h-py3.10/lib/python3.10/site-packages/PIL/Image.py:3074: DecompressionBombWarning: Image size (94080000 pixels) exceeds limit of 89478485 pixels, could be decompression bomb DOS attack.\n",
      "  warnings.warn(\n",
      "/root/.cache/pypoetry/virtualenvs/docile-9TtSrW0h-py3.10/lib/python3.10/site-packages/PIL/Image.py:3074: DecompressionBombWarning: Image size (94080000 pixels) exceeds limit of 89478485 pixels, could be decompression bomb DOS attack.\n",
      "  warnings.warn(\n",
      "/root/.cache/pypoetry/virtualenvs/docile-9TtSrW0h-py3.10/lib/python3.10/site-packages/PIL/Image.py:3074: DecompressionBombWarning: Image size (94080000 pixels) exceeds limit of 89478485 pixels, could be decompression bomb DOS attack.\n",
      "  warnings.warn(\n",
      "/root/.cache/pypoetry/virtualenvs/docile-9TtSrW0h-py3.10/lib/python3.10/site-packages/PIL/Image.py:3074: DecompressionBombWarning: Image size (94080000 pixels) exceeds limit of 89478485 pixels, could be decompression bomb DOS attack.\n",
      "  warnings.warn(\n",
      "/root/.cache/pypoetry/virtualenvs/docile-9TtSrW0h-py3.10/lib/python3.10/site-packages/PIL/Image.py:3074: DecompressionBombWarning: Image size (94080000 pixels) exceeds limit of 89478485 pixels, could be decompression bomb DOS attack.\n",
      "  warnings.warn(\n",
      "/root/.cache/pypoetry/virtualenvs/docile-9TtSrW0h-py3.10/lib/python3.10/site-packages/PIL/Image.py:3074: DecompressionBombWarning: Image size (94080000 pixels) exceeds limit of 89478485 pixels, could be decompression bomb DOS attack.\n",
      "  warnings.warn(\n",
      "/root/.cache/pypoetry/virtualenvs/docile-9TtSrW0h-py3.10/lib/python3.10/site-packages/PIL/Image.py:3074: DecompressionBombWarning: Image size (94080000 pixels) exceeds limit of 89478485 pixels, could be decompression bomb DOS attack.\n",
      "  warnings.warn(\n",
      "/root/.cache/pypoetry/virtualenvs/docile-9TtSrW0h-py3.10/lib/python3.10/site-packages/PIL/Image.py:3074: DecompressionBombWarning: Image size (94080000 pixels) exceeds limit of 89478485 pixels, could be decompression bomb DOS attack.\n",
      "  warnings.warn(\n",
      "/root/.cache/pypoetry/virtualenvs/docile-9TtSrW0h-py3.10/lib/python3.10/site-packages/PIL/Image.py:3074: DecompressionBombWarning: Image size (94080000 pixels) exceeds limit of 89478485 pixels, could be decompression bomb DOS attack.\n",
      "  warnings.warn(\n",
      "/root/.cache/pypoetry/virtualenvs/docile-9TtSrW0h-py3.10/lib/python3.10/site-packages/PIL/Image.py:3074: DecompressionBombWarning: Image size (94080000 pixels) exceeds limit of 89478485 pixels, could be decompression bomb DOS attack.\n",
      "  warnings.warn(\n",
      "/root/.cache/pypoetry/virtualenvs/docile-9TtSrW0h-py3.10/lib/python3.10/site-packages/PIL/Image.py:3074: DecompressionBombWarning: Image size (94080000 pixels) exceeds limit of 89478485 pixels, could be decompression bomb DOS attack.\n",
      "  warnings.warn(\n",
      "/root/.cache/pypoetry/virtualenvs/docile-9TtSrW0h-py3.10/lib/python3.10/site-packages/PIL/Image.py:3074: DecompressionBombWarning: Image size (94080000 pixels) exceeds limit of 89478485 pixels, could be decompression bomb DOS attack.\n",
      "  warnings.warn(\n",
      "/root/.cache/pypoetry/virtualenvs/docile-9TtSrW0h-py3.10/lib/python3.10/site-packages/PIL/Image.py:3074: DecompressionBombWarning: Image size (94080000 pixels) exceeds limit of 89478485 pixels, could be decompression bomb DOS attack.\n",
      "  warnings.warn(\n",
      "/root/.cache/pypoetry/virtualenvs/docile-9TtSrW0h-py3.10/lib/python3.10/site-packages/PIL/Image.py:3074: DecompressionBombWarning: Image size (94080000 pixels) exceeds limit of 89478485 pixels, could be decompression bomb DOS attack.\n",
      "  warnings.warn(\n",
      "/root/.cache/pypoetry/virtualenvs/docile-9TtSrW0h-py3.10/lib/python3.10/site-packages/PIL/Image.py:3074: DecompressionBombWarning: Image size (94080000 pixels) exceeds limit of 89478485 pixels, could be decompression bomb DOS attack.\n",
      "  warnings.warn(\n",
      "/root/.cache/pypoetry/virtualenvs/docile-9TtSrW0h-py3.10/lib/python3.10/site-packages/PIL/Image.py:3074: DecompressionBombWarning: Image size (94080000 pixels) exceeds limit of 89478485 pixels, could be decompression bomb DOS attack.\n",
      "  warnings.warn(\n",
      "/root/.cache/pypoetry/virtualenvs/docile-9TtSrW0h-py3.10/lib/python3.10/site-packages/PIL/Image.py:3074: DecompressionBombWarning: Image size (94080000 pixels) exceeds limit of 89478485 pixels, could be decompression bomb DOS attack.\n",
      "  warnings.warn(\n",
      "/root/.cache/pypoetry/virtualenvs/docile-9TtSrW0h-py3.10/lib/python3.10/site-packages/PIL/Image.py:3074: DecompressionBombWarning: Image size (94080000 pixels) exceeds limit of 89478485 pixels, could be decompression bomb DOS attack.\n",
      "  warnings.warn(\n",
      "/root/.cache/pypoetry/virtualenvs/docile-9TtSrW0h-py3.10/lib/python3.10/site-packages/PIL/Image.py:3074: DecompressionBombWarning: Image size (94080000 pixels) exceeds limit of 89478485 pixels, could be decompression bomb DOS attack.\n",
      "  warnings.warn(\n",
      "/root/.cache/pypoetry/virtualenvs/docile-9TtSrW0h-py3.10/lib/python3.10/site-packages/PIL/Image.py:3074: DecompressionBombWarning: Image size (94080000 pixels) exceeds limit of 89478485 pixels, could be decompression bomb DOS attack.\n",
      "  warnings.warn(\n",
      "/root/.cache/pypoetry/virtualenvs/docile-9TtSrW0h-py3.10/lib/python3.10/site-packages/PIL/Image.py:3074: DecompressionBombWarning: Image size (94080000 pixels) exceeds limit of 89478485 pixels, could be decompression bomb DOS attack.\n",
      "  warnings.warn(\n",
      "/root/.cache/pypoetry/virtualenvs/docile-9TtSrW0h-py3.10/lib/python3.10/site-packages/PIL/Image.py:3074: DecompressionBombWarning: Image size (94080000 pixels) exceeds limit of 89478485 pixels, could be decompression bomb DOS attack.\n",
      "  warnings.warn(\n",
      "/root/.cache/pypoetry/virtualenvs/docile-9TtSrW0h-py3.10/lib/python3.10/site-packages/PIL/Image.py:3074: DecompressionBombWarning: Image size (94080000 pixels) exceeds limit of 89478485 pixels, could be decompression bomb DOS attack.\n",
      "  warnings.warn(\n",
      "/root/.cache/pypoetry/virtualenvs/docile-9TtSrW0h-py3.10/lib/python3.10/site-packages/PIL/Image.py:3074: DecompressionBombWarning: Image size (94080000 pixels) exceeds limit of 89478485 pixels, could be decompression bomb DOS attack.\n",
      "  warnings.warn(\n",
      "/root/.cache/pypoetry/virtualenvs/docile-9TtSrW0h-py3.10/lib/python3.10/site-packages/PIL/Image.py:3074: DecompressionBombWarning: Image size (94080000 pixels) exceeds limit of 89478485 pixels, could be decompression bomb DOS attack.\n",
      "  warnings.warn(\n",
      "/root/.cache/pypoetry/virtualenvs/docile-9TtSrW0h-py3.10/lib/python3.10/site-packages/PIL/Image.py:3074: DecompressionBombWarning: Image size (94080000 pixels) exceeds limit of 89478485 pixels, could be decompression bomb DOS attack.\n",
      "  warnings.warn(\n",
      "/root/.cache/pypoetry/virtualenvs/docile-9TtSrW0h-py3.10/lib/python3.10/site-packages/PIL/Image.py:3074: DecompressionBombWarning: Image size (94080000 pixels) exceeds limit of 89478485 pixels, could be decompression bomb DOS attack.\n",
      "  warnings.warn(\n",
      "/root/.cache/pypoetry/virtualenvs/docile-9TtSrW0h-py3.10/lib/python3.10/site-packages/PIL/Image.py:3074: DecompressionBombWarning: Image size (94080000 pixels) exceeds limit of 89478485 pixels, could be decompression bomb DOS attack.\n",
      "  warnings.warn(\n",
      "/root/.cache/pypoetry/virtualenvs/docile-9TtSrW0h-py3.10/lib/python3.10/site-packages/PIL/Image.py:3074: DecompressionBombWarning: Image size (94080000 pixels) exceeds limit of 89478485 pixels, could be decompression bomb DOS attack.\n",
      "  warnings.warn(\n",
      "/root/.cache/pypoetry/virtualenvs/docile-9TtSrW0h-py3.10/lib/python3.10/site-packages/PIL/Image.py:3074: DecompressionBombWarning: Image size (94080000 pixels) exceeds limit of 89478485 pixels, could be decompression bomb DOS attack.\n",
      "  warnings.warn(\n",
      "/root/.cache/pypoetry/virtualenvs/docile-9TtSrW0h-py3.10/lib/python3.10/site-packages/PIL/Image.py:3074: DecompressionBombWarning: Image size (94080000 pixels) exceeds limit of 89478485 pixels, could be decompression bomb DOS attack.\n",
      "  warnings.warn(\n",
      "/root/.cache/pypoetry/virtualenvs/docile-9TtSrW0h-py3.10/lib/python3.10/site-packages/PIL/Image.py:3074: DecompressionBombWarning: Image size (94080000 pixels) exceeds limit of 89478485 pixels, could be decompression bomb DOS attack.\n",
      "  warnings.warn(\n",
      "/root/.cache/pypoetry/virtualenvs/docile-9TtSrW0h-py3.10/lib/python3.10/site-packages/PIL/Image.py:3074: DecompressionBombWarning: Image size (94080000 pixels) exceeds limit of 89478485 pixels, could be decompression bomb DOS attack.\n",
      "  warnings.warn(\n",
      "/root/.cache/pypoetry/virtualenvs/docile-9TtSrW0h-py3.10/lib/python3.10/site-packages/PIL/Image.py:3074: DecompressionBombWarning: Image size (94080000 pixels) exceeds limit of 89478485 pixels, could be decompression bomb DOS attack.\n",
      "  warnings.warn(\n",
      "/root/.cache/pypoetry/virtualenvs/docile-9TtSrW0h-py3.10/lib/python3.10/site-packages/PIL/Image.py:3074: DecompressionBombWarning: Image size (94080000 pixels) exceeds limit of 89478485 pixels, could be decompression bomb DOS attack.\n",
      "  warnings.warn(\n",
      "/root/.cache/pypoetry/virtualenvs/docile-9TtSrW0h-py3.10/lib/python3.10/site-packages/PIL/Image.py:3074: DecompressionBombWarning: Image size (94080000 pixels) exceeds limit of 89478485 pixels, could be decompression bomb DOS attack.\n",
      "  warnings.warn(\n",
      "/root/.cache/pypoetry/virtualenvs/docile-9TtSrW0h-py3.10/lib/python3.10/site-packages/PIL/Image.py:3074: DecompressionBombWarning: Image size (94080000 pixels) exceeds limit of 89478485 pixels, could be decompression bomb DOS attack.\n",
      "  warnings.warn(\n",
      "/root/.cache/pypoetry/virtualenvs/docile-9TtSrW0h-py3.10/lib/python3.10/site-packages/PIL/Image.py:3074: DecompressionBombWarning: Image size (94080000 pixels) exceeds limit of 89478485 pixels, could be decompression bomb DOS attack.\n",
      "  warnings.warn(\n",
      "/root/.cache/pypoetry/virtualenvs/docile-9TtSrW0h-py3.10/lib/python3.10/site-packages/PIL/Image.py:3074: DecompressionBombWarning: Image size (94080000 pixels) exceeds limit of 89478485 pixels, could be decompression bomb DOS attack.\n",
      "  warnings.warn(\n",
      "/root/.cache/pypoetry/virtualenvs/docile-9TtSrW0h-py3.10/lib/python3.10/site-packages/PIL/Image.py:3074: DecompressionBombWarning: Image size (94080000 pixels) exceeds limit of 89478485 pixels, could be decompression bomb DOS attack.\n",
      "  warnings.warn(\n",
      "/root/.cache/pypoetry/virtualenvs/docile-9TtSrW0h-py3.10/lib/python3.10/site-packages/PIL/Image.py:3074: DecompressionBombWarning: Image size (94080000 pixels) exceeds limit of 89478485 pixels, could be decompression bomb DOS attack.\n",
      "  warnings.warn(\n",
      "/root/.cache/pypoetry/virtualenvs/docile-9TtSrW0h-py3.10/lib/python3.10/site-packages/PIL/Image.py:3074: DecompressionBombWarning: Image size (94080000 pixels) exceeds limit of 89478485 pixels, could be decompression bomb DOS attack.\n",
      "  warnings.warn(\n",
      "/root/.cache/pypoetry/virtualenvs/docile-9TtSrW0h-py3.10/lib/python3.10/site-packages/PIL/Image.py:3074: DecompressionBombWarning: Image size (94080000 pixels) exceeds limit of 89478485 pixels, could be decompression bomb DOS attack.\n",
      "  warnings.warn(\n",
      "/root/.cache/pypoetry/virtualenvs/docile-9TtSrW0h-py3.10/lib/python3.10/site-packages/PIL/Image.py:3074: DecompressionBombWarning: Image size (94080000 pixels) exceeds limit of 89478485 pixels, could be decompression bomb DOS attack.\n",
      "  warnings.warn(\n",
      "/root/.cache/pypoetry/virtualenvs/docile-9TtSrW0h-py3.10/lib/python3.10/site-packages/PIL/Image.py:3074: DecompressionBombWarning: Image size (94080000 pixels) exceeds limit of 89478485 pixels, could be decompression bomb DOS attack.\n",
      "  warnings.warn(\n",
      "/root/.cache/pypoetry/virtualenvs/docile-9TtSrW0h-py3.10/lib/python3.10/site-packages/PIL/Image.py:3074: DecompressionBombWarning: Image size (94080000 pixels) exceeds limit of 89478485 pixels, could be decompression bomb DOS attack.\n",
      "  warnings.warn(\n",
      "/root/.cache/pypoetry/virtualenvs/docile-9TtSrW0h-py3.10/lib/python3.10/site-packages/PIL/Image.py:3074: DecompressionBombWarning: Image size (94080000 pixels) exceeds limit of 89478485 pixels, could be decompression bomb DOS attack.\n",
      "  warnings.warn(\n",
      "/root/.cache/pypoetry/virtualenvs/docile-9TtSrW0h-py3.10/lib/python3.10/site-packages/PIL/Image.py:3074: DecompressionBombWarning: Image size (94080000 pixels) exceeds limit of 89478485 pixels, could be decompression bomb DOS attack.\n",
      "  warnings.warn(\n",
      "/root/.cache/pypoetry/virtualenvs/docile-9TtSrW0h-py3.10/lib/python3.10/site-packages/PIL/Image.py:3074: DecompressionBombWarning: Image size (94080000 pixels) exceeds limit of 89478485 pixels, could be decompression bomb DOS attack.\n",
      "  warnings.warn(\n",
      "/root/.cache/pypoetry/virtualenvs/docile-9TtSrW0h-py3.10/lib/python3.10/site-packages/PIL/Image.py:3074: DecompressionBombWarning: Image size (94080000 pixels) exceeds limit of 89478485 pixels, could be decompression bomb DOS attack.\n",
      "  warnings.warn(\n",
      "/root/.cache/pypoetry/virtualenvs/docile-9TtSrW0h-py3.10/lib/python3.10/site-packages/PIL/Image.py:3074: DecompressionBombWarning: Image size (94080000 pixels) exceeds limit of 89478485 pixels, could be decompression bomb DOS attack.\n",
      "  warnings.warn(\n",
      "/root/.cache/pypoetry/virtualenvs/docile-9TtSrW0h-py3.10/lib/python3.10/site-packages/PIL/Image.py:3074: DecompressionBombWarning: Image size (94080000 pixels) exceeds limit of 89478485 pixels, could be decompression bomb DOS attack.\n",
      "  warnings.warn(\n",
      "/root/.cache/pypoetry/virtualenvs/docile-9TtSrW0h-py3.10/lib/python3.10/site-packages/PIL/Image.py:3074: DecompressionBombWarning: Image size (94080000 pixels) exceeds limit of 89478485 pixels, could be decompression bomb DOS attack.\n",
      "  warnings.warn(\n",
      "/root/.cache/pypoetry/virtualenvs/docile-9TtSrW0h-py3.10/lib/python3.10/site-packages/PIL/Image.py:3074: DecompressionBombWarning: Image size (94080000 pixels) exceeds limit of 89478485 pixels, could be decompression bomb DOS attack.\n",
      "  warnings.warn(\n",
      "/root/.cache/pypoetry/virtualenvs/docile-9TtSrW0h-py3.10/lib/python3.10/site-packages/PIL/Image.py:3074: DecompressionBombWarning: Image size (94080000 pixels) exceeds limit of 89478485 pixels, could be decompression bomb DOS attack.\n",
      "  warnings.warn(\n",
      "/root/.cache/pypoetry/virtualenvs/docile-9TtSrW0h-py3.10/lib/python3.10/site-packages/PIL/Image.py:3074: DecompressionBombWarning: Image size (94080000 pixels) exceeds limit of 89478485 pixels, could be decompression bomb DOS attack.\n",
      "  warnings.warn(\n",
      "/root/.cache/pypoetry/virtualenvs/docile-9TtSrW0h-py3.10/lib/python3.10/site-packages/PIL/Image.py:3074: DecompressionBombWarning: Image size (94080000 pixels) exceeds limit of 89478485 pixels, could be decompression bomb DOS attack.\n",
      "  warnings.warn(\n",
      "/root/.cache/pypoetry/virtualenvs/docile-9TtSrW0h-py3.10/lib/python3.10/site-packages/PIL/Image.py:3074: DecompressionBombWarning: Image size (94080000 pixels) exceeds limit of 89478485 pixels, could be decompression bomb DOS attack.\n",
      "  warnings.warn(\n",
      "/root/.cache/pypoetry/virtualenvs/docile-9TtSrW0h-py3.10/lib/python3.10/site-packages/PIL/Image.py:3074: DecompressionBombWarning: Image size (94080000 pixels) exceeds limit of 89478485 pixels, could be decompression bomb DOS attack.\n",
      "  warnings.warn(\n",
      "/root/.cache/pypoetry/virtualenvs/docile-9TtSrW0h-py3.10/lib/python3.10/site-packages/PIL/Image.py:3074: DecompressionBombWarning: Image size (94080000 pixels) exceeds limit of 89478485 pixels, could be decompression bomb DOS attack.\n",
      "  warnings.warn(\n",
      "/root/.cache/pypoetry/virtualenvs/docile-9TtSrW0h-py3.10/lib/python3.10/site-packages/PIL/Image.py:3074: DecompressionBombWarning: Image size (94080000 pixels) exceeds limit of 89478485 pixels, could be decompression bomb DOS attack.\n",
      "  warnings.warn(\n",
      "/root/.cache/pypoetry/virtualenvs/docile-9TtSrW0h-py3.10/lib/python3.10/site-packages/PIL/Image.py:3074: DecompressionBombWarning: Image size (94080000 pixels) exceeds limit of 89478485 pixels, could be decompression bomb DOS attack.\n",
      "  warnings.warn(\n",
      "/root/.cache/pypoetry/virtualenvs/docile-9TtSrW0h-py3.10/lib/python3.10/site-packages/PIL/Image.py:3074: DecompressionBombWarning: Image size (94080000 pixels) exceeds limit of 89478485 pixels, could be decompression bomb DOS attack.\n",
      "  warnings.warn(\n",
      "/root/.cache/pypoetry/virtualenvs/docile-9TtSrW0h-py3.10/lib/python3.10/site-packages/PIL/Image.py:3074: DecompressionBombWarning: Image size (94080000 pixels) exceeds limit of 89478485 pixels, could be decompression bomb DOS attack.\n",
      "  warnings.warn(\n",
      "/root/.cache/pypoetry/virtualenvs/docile-9TtSrW0h-py3.10/lib/python3.10/site-packages/PIL/Image.py:3074: DecompressionBombWarning: Image size (94080000 pixels) exceeds limit of 89478485 pixels, could be decompression bomb DOS attack.\n",
      "  warnings.warn(\n",
      "/root/.cache/pypoetry/virtualenvs/docile-9TtSrW0h-py3.10/lib/python3.10/site-packages/PIL/Image.py:3074: DecompressionBombWarning: Image size (94080000 pixels) exceeds limit of 89478485 pixels, could be decompression bomb DOS attack.\n",
      "  warnings.warn(\n",
      "/root/.cache/pypoetry/virtualenvs/docile-9TtSrW0h-py3.10/lib/python3.10/site-packages/PIL/Image.py:3074: DecompressionBombWarning: Image size (94080000 pixels) exceeds limit of 89478485 pixels, could be decompression bomb DOS attack.\n",
      "  warnings.warn(\n",
      "/root/.cache/pypoetry/virtualenvs/docile-9TtSrW0h-py3.10/lib/python3.10/site-packages/PIL/Image.py:3074: DecompressionBombWarning: Image size (94080000 pixels) exceeds limit of 89478485 pixels, could be decompression bomb DOS attack.\n",
      "  warnings.warn(\n",
      "/root/.cache/pypoetry/virtualenvs/docile-9TtSrW0h-py3.10/lib/python3.10/site-packages/PIL/Image.py:3074: DecompressionBombWarning: Image size (94080000 pixels) exceeds limit of 89478485 pixels, could be decompression bomb DOS attack.\n",
      "  warnings.warn(\n",
      "/root/.cache/pypoetry/virtualenvs/docile-9TtSrW0h-py3.10/lib/python3.10/site-packages/PIL/Image.py:3074: DecompressionBombWarning: Image size (94080000 pixels) exceeds limit of 89478485 pixels, could be decompression bomb DOS attack.\n",
      "  warnings.warn(\n",
      "/root/.cache/pypoetry/virtualenvs/docile-9TtSrW0h-py3.10/lib/python3.10/site-packages/PIL/Image.py:3074: DecompressionBombWarning: Image size (94080000 pixels) exceeds limit of 89478485 pixels, could be decompression bomb DOS attack.\n",
      "  warnings.warn(\n",
      "/root/.cache/pypoetry/virtualenvs/docile-9TtSrW0h-py3.10/lib/python3.10/site-packages/PIL/Image.py:3074: DecompressionBombWarning: Image size (94080000 pixels) exceeds limit of 89478485 pixels, could be decompression bomb DOS attack.\n",
      "  warnings.warn(\n",
      "/root/.cache/pypoetry/virtualenvs/docile-9TtSrW0h-py3.10/lib/python3.10/site-packages/PIL/Image.py:3074: DecompressionBombWarning: Image size (94080000 pixels) exceeds limit of 89478485 pixels, could be decompression bomb DOS attack.\n",
      "  warnings.warn(\n",
      "/root/.cache/pypoetry/virtualenvs/docile-9TtSrW0h-py3.10/lib/python3.10/site-packages/PIL/Image.py:3074: DecompressionBombWarning: Image size (94080000 pixels) exceeds limit of 89478485 pixels, could be decompression bomb DOS attack.\n",
      "  warnings.warn(\n",
      "/root/.cache/pypoetry/virtualenvs/docile-9TtSrW0h-py3.10/lib/python3.10/site-packages/PIL/Image.py:3074: DecompressionBombWarning: Image size (94080000 pixels) exceeds limit of 89478485 pixels, could be decompression bomb DOS attack.\n",
      "  warnings.warn(\n",
      "/root/.cache/pypoetry/virtualenvs/docile-9TtSrW0h-py3.10/lib/python3.10/site-packages/PIL/Image.py:3074: DecompressionBombWarning: Image size (94080000 pixels) exceeds limit of 89478485 pixels, could be decompression bomb DOS attack.\n",
      "  warnings.warn(\n",
      "/root/.cache/pypoetry/virtualenvs/docile-9TtSrW0h-py3.10/lib/python3.10/site-packages/PIL/Image.py:3074: DecompressionBombWarning: Image size (94080000 pixels) exceeds limit of 89478485 pixels, could be decompression bomb DOS attack.\n",
      "  warnings.warn(\n",
      "/root/.cache/pypoetry/virtualenvs/docile-9TtSrW0h-py3.10/lib/python3.10/site-packages/PIL/Image.py:3074: DecompressionBombWarning: Image size (94080000 pixels) exceeds limit of 89478485 pixels, could be decompression bomb DOS attack.\n",
      "  warnings.warn(\n",
      "/root/.cache/pypoetry/virtualenvs/docile-9TtSrW0h-py3.10/lib/python3.10/site-packages/PIL/Image.py:3074: DecompressionBombWarning: Image size (94080000 pixels) exceeds limit of 89478485 pixels, could be decompression bomb DOS attack.\n",
      "  warnings.warn(\n",
      "/root/.cache/pypoetry/virtualenvs/docile-9TtSrW0h-py3.10/lib/python3.10/site-packages/PIL/Image.py:3074: DecompressionBombWarning: Image size (117587877 pixels) exceeds limit of 89478485 pixels, could be decompression bomb DOS attack.\n",
      "  warnings.warn(\n",
      "/root/.cache/pypoetry/virtualenvs/docile-9TtSrW0h-py3.10/lib/python3.10/site-packages/PIL/Image.py:3074: DecompressionBombWarning: Image size (115526250 pixels) exceeds limit of 89478485 pixels, could be decompression bomb DOS attack.\n",
      "  warnings.warn(\n",
      "/root/.cache/pypoetry/virtualenvs/docile-9TtSrW0h-py3.10/lib/python3.10/site-packages/PIL/Image.py:3074: DecompressionBombWarning: Image size (115656336 pixels) exceeds limit of 89478485 pixels, could be decompression bomb DOS attack.\n",
      "  warnings.warn(\n"
     ]
    }
   ],
   "source": [
    "store_page_sizes_parallel(docile_pretraining, pages_per_chunk=1000, processes=10)"
   ]
  },
  {
   "cell_type": "markdown",
   "id": "7bd228b3-a165-4a13-8688-7b4f0a2143d9",
   "metadata": {},
   "source": [
    "# Profile dataset creation (when loading annotations and ocr is off)"
   ]
  },
  {
   "cell_type": "code",
   "execution_count": 7,
   "id": "e72d229e-dfab-415f-a066-38e44987e382",
   "metadata": {},
   "outputs": [
    {
     "ename": "AssertionError",
     "evalue": "do not run automatically under here",
     "output_type": "error",
     "traceback": [
      "\u001b[0;31m---------------------------------------------------------------------------\u001b[0m",
      "\u001b[0;31mAssertionError\u001b[0m                            Traceback (most recent call last)",
      "Cell \u001b[0;32mIn [7], line 1\u001b[0m\n\u001b[0;32m----> 1\u001b[0m \u001b[38;5;28;01massert\u001b[39;00m \u001b[38;5;28;01mFalse\u001b[39;00m, \u001b[38;5;124m\"\u001b[39m\u001b[38;5;124mdo not run automatically under here\u001b[39m\u001b[38;5;124m\"\u001b[39m\n",
      "\u001b[0;31mAssertionError\u001b[0m: do not run automatically under here"
     ]
    }
   ],
   "source": [
    "assert False, \"do not run automatically under here\""
   ]
  },
  {
   "cell_type": "code",
   "execution_count": null,
   "id": "69fe0d62-d2d9-4131-90a7-6bbc7ede3c77",
   "metadata": {},
   "outputs": [],
   "source": [
    "import cProfile"
   ]
  },
  {
   "cell_type": "code",
   "execution_count": null,
   "id": "b36bcb91-5ad2-4a1c-9fca-4fbd6c31b82d",
   "metadata": {},
   "outputs": [],
   "source": [
    "from docile.dataset import CachingConfig, Dataset\n",
    "\n",
    "cProfile.run('Dataset(\"synthetic\", \"/datasets/docile221221-0\", load_annotations=False, load_ocr=False, cache_images=CachingConfig.OFF)')"
   ]
  },
  {
   "cell_type": "code",
   "execution_count": null,
   "id": "359c8fb4-749a-4895-bf5d-09f510aa32f0",
   "metadata": {},
   "outputs": [],
   "source": [
    "from docile.dataset import CachingConfig, Dataset\n",
    "\n",
    "cProfile.run('Dataset(\"synthetic\", \"/datasets/docile221221-0\", load_annotations=False, load_ocr=False, cache_images=CachingConfig.OFF)')"
   ]
  },
  {
   "cell_type": "code",
   "execution_count": null,
   "id": "66e3d39e-83f4-4b6d-a40d-f4b4e6d614ba",
   "metadata": {},
   "outputs": [],
   "source": [
    "cProfile.run('Dataset(\"synthetic\", \"/datasets/docile221221-0\", load_annotations=False, load_ocr=False, cache_images=CachingConfig.OFF)')"
   ]
  },
  {
   "cell_type": "code",
   "execution_count": null,
   "id": "857fdd43-7153-4875-95c8-4fc717ff77c9",
   "metadata": {},
   "outputs": [],
   "source": [
    "cProfile.run('Dataset(\"pretraining-chunk-00\", \"/datasets/docile_pretraining_v1_2022_12_22\", load_annotations=False, load_ocr=False, cache_images=CachingConfig.OFF)')"
   ]
  },
  {
   "cell_type": "code",
   "execution_count": null,
   "id": "0952982a-cbdd-415e-af7b-c6ad3a2c89c7",
   "metadata": {},
   "outputs": [],
   "source": [
    "chunks_num = sum(1 for _ in tqdm(docile_pretraining.chunk(max_pages_per_chunk=1000)))"
   ]
  },
  {
   "cell_type": "code",
   "execution_count": null,
   "id": "fb019b19-22de-4623-9f7d-da04cba17a1e",
   "metadata": {},
   "outputs": [],
   "source": [
    "def get_page_sizes_parallel(dataset: Dataset, pages_per_chunk: int, processes: int) -> None:\n",
    "    chunks_num"
   ]
  },
  {
   "cell_type": "code",
   "execution_count": null,
   "id": "196dd385-f142-4573-82d3-41aefea9b05f",
   "metadata": {},
   "outputs": [],
   "source": [
    "get_page_sizes_for_chunk(next(docile_pretraining.chunk(max_pages_per_chunk=1000)))"
   ]
  },
  {
   "cell_type": "code",
   "execution_count": null,
   "id": "ed9a04cf-3c06-4682-9448-712d53baeb2f",
   "metadata": {},
   "outputs": [],
   "source": [
    "from tqdm.notebook import tqdm\n",
    "\n",
    "sum(1 for _ in tqdm(docile_pretraining.chunk(max_pages_per_chunk=100000)))"
   ]
  },
  {
   "cell_type": "code",
   "execution_count": null,
   "id": "a2a9685b-f2af-47e2-af95-54b6682199d3",
   "metadata": {},
   "outputs": [],
   "source": []
  },
  {
   "cell_type": "code",
   "execution_count": null,
   "id": "d304703b-07f8-4f1e-87af-2a4bb2bea654",
   "metadata": {},
   "outputs": [],
   "source": [
    "docile_final_sample = docile_final.sample(15, seed=47).load()"
   ]
  },
  {
   "cell_type": "code",
   "execution_count": null,
   "id": "d6fba950-f359-4c6c-989f-472ba792697e",
   "metadata": {},
   "outputs": [],
   "source": [
    "[doc._open for doc in docile_final[:5]]"
   ]
  },
  {
   "cell_type": "code",
   "execution_count": null,
   "id": "cc9abe9e-cebf-49e1-b964-96c967d88ecb",
   "metadata": {},
   "outputs": [],
   "source": [
    "[doc._open for doc in list(docile_final[:5])]"
   ]
  },
  {
   "cell_type": "code",
   "execution_count": null,
   "id": "268c3f30-7f70-40a0-8ecd-4168e3237a80",
   "metadata": {},
   "outputs": [],
   "source": [
    "from docile.dataset.document_images import DocumentImages\n",
    "\n",
    "for doc in docile_final_sample:\n",
    "    img_original_images = DocumentImages(path=Path(\"/datasets/docile221221-0\") / \"cached_images\" / doc.docid, pdf_path=doc.data_paths.pdf_path(doc.docid), page_count = doc.page_count, dpi=200)\n",
    "    old_sizes = [img.size for img in img_original_images.content]\n",
    "    new_sizes = []\n",
    "    for page in range(doc.page_count):\n",
    "        new_sizes.append(doc.page_image(page, dpi=200).size)\n",
    "    assert old_sizes == new_sizes"
   ]
  },
  {
   "cell_type": "code",
   "execution_count": null,
   "id": "9c28d4e1-8b8c-4c05-9c97-887070cffffa",
   "metadata": {},
   "outputs": [],
   "source": [
    "docid_to_page_to_img_size_pretraining = {}\n",
    "sample = docile_pretraining.sample(200, seed=32580)\n",
    "with tqdm(total=sample.total_page_count()) as pbar:\n",
    "    for doc in sample:\n",
    "        docid_to_page_to_img_size_pretraining[doc.docid] = {}\n",
    "        for page in range(doc.page_count):\n",
    "            docid_to_page_to_img_size_pretraining[doc.docid][page] = doc.page_image(page).size\n",
    "            pbar.update()\n",
    "        # if any(docid_to_page_to_img_size_pretraining[doc.docid][page] != docid_to_page_to_img_size_pretraining[doc.docid][0] for page in range(doc.page_count)):\n",
    "        #     print(docid_to_page_to_img_size_pretraining[doc.docid])"
   ]
  },
  {
   "cell_type": "code",
   "execution_count": null,
   "id": "db3f39f0-fb9a-41c9-ac78-369ba3e1e38b",
   "metadata": {},
   "outputs": [],
   "source": [
    "from pathlib import Path\n",
    "\n",
    "from PIL import Image\n",
    "from tqdm import tqdm\n",
    "\n",
    "cached_images = Path(\"/datasets/docile221221-0/cached_images\")\n",
    "docid_to_page_to_img_size = {}\n",
    "for docid in tqdm(list(cached_images.iterdir())):\n",
    "    docid_to_page_to_img_size[docid.stem] = {}\n",
    "    for page in docid.iterdir():\n",
    "        docid_to_page_to_img_size[docid.stem][page.stem] = Image.open(page).size\n",
    "    if len(list(docid.iterdir())) == 0:\n",
    "        print(list(docid.iterdir()))\n",
    "    if any(docid_to_page_to_img_size[docid.stem][page.stem] != docid_to_page_to_img_size[docid.stem][\"0\"] for page in docid.iterdir()):\n",
    "        print(docid_to_page_to_img_size[docid.stem])"
   ]
  },
  {
   "cell_type": "code",
   "execution_count": null,
   "id": "0d4d7bbe-af99-4f1d-99aa-c45cafe5ebe1",
   "metadata": {},
   "outputs": [],
   "source": [
    "docid_to_page_to_img_size"
   ]
  },
  {
   "cell_type": "code",
   "execution_count": null,
   "id": "b3d1b76d-18f4-435f-b0a4-b09ef2524720",
   "metadata": {},
   "outputs": [],
   "source": [
    "dpi / 200 * image_size_at_200"
   ]
  },
  {
   "cell_type": "code",
   "execution_count": null,
   "id": "8bb215de-33e5-4dc7-8632-8c79afa52591",
   "metadata": {},
   "outputs": [],
   "source": [
    "doc = docile_final_sample[0]"
   ]
  },
  {
   "cell_type": "code",
   "execution_count": null,
   "id": "35db5e1b-5036-4742-817e-3c6657eca3bd",
   "metadata": {},
   "outputs": [],
   "source": [
    "doc.page_image(0).size"
   ]
  },
  {
   "cell_type": "code",
   "execution_count": null,
   "id": "ab1059fd-53ac-4081-86e5-e57048d91bc1",
   "metadata": {},
   "outputs": [],
   "source": [
    "from docile.dataset.document_images import DocumentImages\n",
    "\n",
    "img_original_images = DocumentImages(path=Path(\"/datasets/docile221221-0\") / \"cached_images\" / doc.docid, pdf_path=doc.data_paths.pdf_path(doc.docid), page_count = doc.page_count, size=(None, None))"
   ]
  },
  {
   "cell_type": "code",
   "execution_count": null,
   "id": "a188fb9c-3317-4867-8a87-40c0ee307d79",
   "metadata": {},
   "outputs": [],
   "source": [
    "img_200dpi = doc.page_image(0)"
   ]
  },
  {
   "cell_type": "code",
   "execution_count": null,
   "id": "7dfa6cc6-55a4-45fa-90a3-8d661aa891cb",
   "metadata": {},
   "outputs": [],
   "source": [
    "img_200dpi == img_original_images.content[0]"
   ]
  },
  {
   "cell_type": "code",
   "execution_count": null,
   "id": "27a3b8c0-578d-40d5-9216-2675218faaac",
   "metadata": {},
   "outputs": [],
   "source": [
    "img_144dpi = doc.page_image(0, dpi=144)"
   ]
  },
  {
   "cell_type": "code",
   "execution_count": null,
   "id": "28bc7209-af0b-4565-a5ac-02c580f70d6d",
   "metadata": {},
   "outputs": [],
   "source": [
    "img_144dpi.size"
   ]
  },
  {
   "cell_type": "code",
   "execution_count": null,
   "id": "e4a62992-b1b3-4026-8812-49ff3af2220f",
   "metadata": {},
   "outputs": [],
   "source": [
    "img_200dpi_1218x1616 = doc.page_image(0, dpi=200, image_size=(1218,1616))"
   ]
  },
  {
   "cell_type": "code",
   "execution_count": null,
   "id": "34319214-ae02-400a-a0e0-4efa98bbed5e",
   "metadata": {},
   "outputs": [],
   "source": [
    "img_144dpi == img_200dpi_1218x1616"
   ]
  },
  {
   "cell_type": "code",
   "execution_count": null,
   "id": "ee0cc077-0e16-4936-8cc3-6064d4b42ee6",
   "metadata": {},
   "outputs": [],
   "source": [
    "img_1000dpi_1218x1616 = doc.page_image(0, dpi=1000, image_size=(1218,1616))"
   ]
  },
  {
   "cell_type": "code",
   "execution_count": null,
   "id": "0e23e0ed-0640-4e71-96db-99616d8f8a5f",
   "metadata": {},
   "outputs": [],
   "source": [
    "img_144dpi == img_1000dpi_1218x1616"
   ]
  },
  {
   "cell_type": "code",
   "execution_count": null,
   "id": "dc707dac-52e6-4367-970e-49ec6709c28a",
   "metadata": {},
   "outputs": [],
   "source": [
    "img_100dpi_1218x1616 = doc.page_image(0, dpi=100, image_size=(1218,1616))"
   ]
  },
  {
   "cell_type": "code",
   "execution_count": null,
   "id": "71c3f41e-d45f-42ef-adcd-2e7a5bdf4fbc",
   "metadata": {},
   "outputs": [],
   "source": [
    "img_144dpi == img_100dpi_1218x1616"
   ]
  },
  {
   "cell_type": "code",
   "execution_count": null,
   "id": "c13693b4-97e7-41d2-be28-86fc52a6b917",
   "metadata": {},
   "outputs": [],
   "source": [
    "img_10dpi_1218x1616 = doc.page_image(0, dpi=10, image_size=(1218,1616))"
   ]
  },
  {
   "cell_type": "code",
   "execution_count": null,
   "id": "dfdce93f-4983-4ac1-92e0-8ad2d869ba0a",
   "metadata": {},
   "outputs": [],
   "source": [
    "img_144dpi == img_10dpi_1218x1616"
   ]
  },
  {
   "cell_type": "code",
   "execution_count": null,
   "id": "6b8c0d9b-324c-462a-b9c6-3d1055950912",
   "metadata": {},
   "outputs": [],
   "source": [
    "doc.page_image(0, dpi=50).size"
   ]
  },
  {
   "cell_type": "code",
   "execution_count": null,
   "id": "2a17067e-7adb-4fc9-afb3-f4681115f4d8",
   "metadata": {},
   "outputs": [],
   "source": [
    "doc.page_image(0, dpi=50).size"
   ]
  },
  {
   "cell_type": "code",
   "execution_count": null,
   "id": "60f0bee7-1072-4ade-848c-7f5f7ee2d4e8",
   "metadata": {},
   "outputs": [],
   "source": [
    "doc.page_image(0, image_size=(423, 562)).size"
   ]
  },
  {
   "cell_type": "code",
   "execution_count": null,
   "id": "33151688-42fe-40f1-877f-a711e86ced2a",
   "metadata": {},
   "outputs": [],
   "source": [
    "doc.page_image(0, dpi=50) == doc.page_image(0, image_size=(423, 562))"
   ]
  },
  {
   "cell_type": "code",
   "execution_count": null,
   "id": "34f45db1-f8e4-44cd-afd0-c092d14ab34b",
   "metadata": {},
   "outputs": [],
   "source": [
    "doc.page_image(0, dpi=144) == doc.page_image(0, dpi=50, image_size=(1218,1616))"
   ]
  },
  {
   "cell_type": "code",
   "execution_count": null,
   "id": "3275d2c0-9bfe-4f7d-82ff-9072b3ec1f5e",
   "metadata": {},
   "outputs": [],
   "source": [
    "import numpy as np\n",
    "\n",
    "(np.array(doc.page_image(0, dpi=10)) == np.array(doc.page_image(0, image_size=(85, 113)))).all(axis=2).sum()"
   ]
  },
  {
   "cell_type": "code",
   "execution_count": null,
   "id": "8b4e12c6-d8b6-48bd-b407-d2f598c0be08",
   "metadata": {},
   "outputs": [],
   "source": [
    "85*113"
   ]
  },
  {
   "cell_type": "code",
   "execution_count": null,
   "id": "cdc15e9e-39e1-41f0-8f22-3f1bca6696a0",
   "metadata": {},
   "outputs": [],
   "source": [
    "from PIL import Image\n",
    "\n",
    "doc.page_image(0, dpi=10).resize((85*10, 113*10), resample=Image.NEAREST)"
   ]
  },
  {
   "cell_type": "code",
   "execution_count": null,
   "id": "46c3bc16-7d81-4bff-a864-b650ef6db164",
   "metadata": {},
   "outputs": [],
   "source": [
    "from PIL import Image\n",
    "\n",
    "doc.page_image(0, image_size=(85, 113)).resize((85*10, 113*10), resample=Image.NEAREST)"
   ]
  },
  {
   "cell_type": "code",
   "execution_count": null,
   "id": "b595b34a-4f7b-4bab-a7fd-dadcc93070a0",
   "metadata": {},
   "outputs": [],
   "source": [
    "doc.page_image(0, image_size=(85, 113))"
   ]
  },
  {
   "cell_type": "code",
   "execution_count": null,
   "id": "8dfe2989-8d73-45cb-bb89-5d6cf3b09889",
   "metadata": {},
   "outputs": [],
   "source": [
    "img_200 = docile_final[0].page_image(0, dpi=200, size=(1653, 2339))"
   ]
  },
  {
   "cell_type": "code",
   "execution_count": null,
   "id": "cce8c633-8ebd-4140-a988-236d4065b14e",
   "metadata": {},
   "outputs": [],
   "source": [
    "img_default = docile_final[0].page_image(0, size=(1653, 2339))i"
   ]
  },
  {
   "cell_type": "code",
   "execution_count": null,
   "id": "c361738a-977a-4653-bbda-9ec098789eef",
   "metadata": {},
   "outputs": [],
   "source": [
    "docile_final[0].page_image_size(0)"
   ]
  },
  {
   "cell_type": "code",
   "execution_count": null,
   "id": "6e616735-8fbf-4694-914f-90e1417573cb",
   "metadata": {},
   "outputs": [],
   "source": [
    "docile_final[0]"
   ]
  },
  {
   "cell_type": "code",
   "execution_count": null,
   "id": "758eaf60-e629-49db-895c-9a780c647bfc",
   "metadata": {},
   "outputs": [],
   "source": [
    "for doc in docile_final[:10]:\n",
    "    print(doc)\n",
    "    sz = doc.page_image(0).size\n",
    "    assert abs(sz[0] / sz[1] - doc.annotation.page_aspect_ratio(0)) < 1e-6\n",
    "    print(f\"200 DPI: {sz}\")\n",
    "    sz_72 = (sz[0] * 72/200, sz[1] * 72/200)\n",
    "    print(f\"72 DPI: {sz_72}\")\n",
    "    print(doc.data_paths.pdf_path(doc.docid).full_path)\n",
    "    !pdfinfo {doc.data_paths.pdf_path(doc.docid).full_path}"
   ]
  },
  {
   "cell_type": "code",
   "execution_count": null,
   "id": "9edbfcf6-f23a-44dd-8185-2252aab9cd12",
   "metadata": {},
   "outputs": [],
   "source": [
    "%debug"
   ]
  },
  {
   "cell_type": "code",
   "execution_count": null,
   "id": "87931f2b-3c82-4444-94f5-a3169735610e",
   "metadata": {},
   "outputs": [],
   "source": [
    "634.699 * 200/72"
   ]
  },
  {
   "cell_type": "code",
   "execution_count": null,
   "id": "e067bda4-997a-49db-8c2d-bd5262346ded",
   "metadata": {},
   "outputs": [],
   "source": [
    "842 * 200/72"
   ]
  },
  {
   "cell_type": "code",
   "execution_count": null,
   "id": "ff8d596c-be24-4fcf-97fc-79c22e950d91",
   "metadata": {},
   "outputs": [],
   "source": []
  }
 ],
 "metadata": {
  "kernelspec": {
   "display_name": "Python 3 (ipykernel)",
   "language": "python",
   "name": "python3"
  },
  "language_info": {
   "codemirror_mode": {
    "name": "ipython",
    "version": 3
   },
   "file_extension": ".py",
   "mimetype": "text/x-python",
   "name": "python",
   "nbconvert_exporter": "python",
   "pygments_lexer": "ipython3",
   "version": "3.10.9"
  }
 },
 "nbformat": 4,
 "nbformat_minor": 5
}
