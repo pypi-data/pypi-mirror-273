{
 "cells": [
  {
   "cell_type": "markdown",
   "id": "b022b905-d8f7-4062-ac13-f1caa54ba16f",
   "metadata": {},
   "source": [
    "# Zip OCR"
   ]
  },
  {
   "cell_type": "code",
   "execution_count": 1,
   "id": "549ed181-b4bf-4238-82f8-395ab506f20f",
   "metadata": {},
   "outputs": [],
   "source": [
    "%load_ext autoreload\n",
    "%autoreload 2"
   ]
  },
  {
   "cell_type": "code",
   "execution_count": 2,
   "id": "fac1f88f-0666-43c2-9286-8f59ca67b22c",
   "metadata": {},
   "outputs": [
    {
     "name": "stderr",
     "output_type": "stream",
     "text": [
      "Loading documents for all: 100%|██████████| 5902/5902 [00:00<00:00, 64167.30it/s]\n"
     ]
    }
   ],
   "source": [
    "from pathlib import Path\n",
    "\n",
    "from docile.dataset import Dataset\n",
    "\n",
    "\n",
    "docile_dataset=\"docile221124-3\"\n",
    "\n",
    "DATASET_EXPORTS_DEFAULT_PATH = Path(\"/datasets\")\n",
    "dataset_path = DATASET_EXPORTS_DEFAULT_PATH / docile_dataset\n",
    "\n",
    "docile_prefinal = Dataset.load(dataset_path, \"all\")"
   ]
  },
  {
   "cell_type": "code",
   "execution_count": 17,
   "id": "fd14b41f-f3e8-43b2-a3fc-edb24d76d3f0",
   "metadata": {},
   "outputs": [],
   "source": [
    "import zipfile\n",
    "from docile.dataset.paths import DataPaths\n",
    "\n",
    "with zipfile.ZipFile(\"docile221124-3-ocr-snapped.zip\", \"w\", zipfile.ZIP_DEFLATED) as ocr_zip:\n",
    "    dataset_path = docile_prefinal.dataset_path\n",
    "    for document in docile_prefinal:\n",
    "        ocr_path = document.ocr.path\n",
    "        ocr_zip.write(ocr_path, ocr_path.relative_to(dataset_path))"
   ]
  }
 ],
 "metadata": {
  "kernelspec": {
   "display_name": "Python 3 (ipykernel)",
   "language": "python",
   "name": "python3"
  },
  "language_info": {
   "codemirror_mode": {
    "name": "ipython",
    "version": 3
   },
   "file_extension": ".py",
   "mimetype": "text/x-python",
   "name": "python",
   "nbconvert_exporter": "python",
   "pygments_lexer": "ipython3",
   "version": "3.10.9"
  }
 },
 "nbformat": 4,
 "nbformat_minor": 5
}
