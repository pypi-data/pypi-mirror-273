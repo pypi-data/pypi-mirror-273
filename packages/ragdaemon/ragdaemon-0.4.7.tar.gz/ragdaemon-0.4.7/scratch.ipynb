{
 "cells": [
  {
   "cell_type": "code",
   "execution_count": 10,
   "metadata": {},
   "outputs": [
    {
     "name": "stdout",
     "output_type": "stream",
     "text": [
      "Initialized empty graph.\n",
      "Initializing annotators: ['hierarchy', 'chunker_llm', 'call_graph', 'summarizer']...\n",
      "No Chroma HTTP client environment variables found. Defaulting to PersistentClient.\n",
      "Truncated tests/data/pull_request_review.json by 3.98%\n",
      "Truncated tests/data/pull_request_comment.json by 8.67%\n"
     ]
    },
    {
     "name": "stderr",
     "output_type": "stream",
     "text": [
      "Chunking files...: 100%|██████████| 51/51 [00:42<00:00,  1.19it/s]\n",
      "Generating call graph: 100%|██████████| 51/51 [00:17<00:00,  2.87it/s]\n",
      "Summarizing code...: 100%|██████████| 398/398 [01:06<00:00,  5.98it/s]"
     ]
    },
    {
     "name": "stdout",
     "output_type": "stream",
     "text": [
      "Saved updated graph to /Users/granthawkins/.mentat/ragdaemon/ragdaemon-butler.json\n"
     ]
    },
    {
     "name": "stderr",
     "output_type": "stream",
     "text": [
      "\n"
     ]
    }
   ],
   "source": [
    "from pathlib import Path\n",
    "from ragdaemon.daemon import Daemon\n",
    "\n",
    "annotators = {\n",
    "    \"hierarchy\": {},\n",
    "    \"chunker_llm\": {},\n",
    "    \"call_graph\": {},\n",
    "    \"summarizer\": {},\n",
    "}\n",
    "\n",
    "sample_dir = Path.home() / \"butler\"\n",
    "daemon = Daemon(sample_dir, annotators=annotators, verbose=True)\n",
    "await daemon.update(refresh=True)"
   ]
  },
  {
   "cell_type": "code",
   "execution_count": 12,
   "metadata": {},
   "outputs": [
    {
     "data": {
      "text/plain": [
       "['butler/web/app.py:handle_webhook',\n",
       " 'butler/web/app.py:assert_valid_github_signature']"
      ]
     },
     "execution_count": 12,
     "metadata": {},
     "output_type": "execute_result"
    }
   ],
   "source": [
    "await daemon.locate(\"What type authentication is required to get pull request?\")"
   ]
  },
  {
   "cell_type": "code",
   "execution_count": 9,
   "metadata": {},
   "outputs": [
    {
     "data": {
      "text/plain": [
       "['benchmarks/benchmark_run.py:BenchmarkRun',\n",
       " 'benchmarks/benchmark_runner.py:Benchmark',\n",
       " 'benchmarks/benchmark_run_summary.py:BenchmarkRunSummary',\n",
       " 'benchmarks/benchmark_result.py:BenchmarkResult',\n",
       " 'benchmarks/context_benchmark.py:<module>',\n",
       " 'tests/benchmark_test.py:BASE',\n",
       " 'benchmarks/context_benchmark.py:BASE',\n",
       " 'benchmarks/exercism_practice.py:BASE',\n",
       " 'benchmarks/run_sample.py:BASE',\n",
       " 'benchmarks/edit_rubric_benchmark.py:BASE']"
      ]
     },
     "execution_count": 9,
     "metadata": {},
     "output_type": "execute_result"
    }
   ],
   "source": [
    "results = daemon.search(\"What different benchmarks do I use\", n=10, node_types=[\"chunk\"])\n",
    "[r[\"id\"] for r in results]"
   ]
  },
  {
   "cell_type": "code",
   "execution_count": 11,
   "metadata": {},
   "outputs": [
    {
     "data": {
      "text/plain": [
       "'Manage and orchestrate the development, deployment, testing, and operations of the \"Butler\" GitHub bot application, focusing heavily on handling GitHub workflow integrations, database schema management, environment configurations, and benchmarking. Provide essential configurations for AWS Elastic Beanstalk and GitHub Actions, alongside specifying project setup requirements and handling database migrations with Alembic.'"
      ]
     },
     "execution_count": 11,
     "metadata": {},
     "output_type": "execute_result"
    }
   ],
   "source": [
    "daemon.graph.nodes[\"ROOT\"][\"summary\"]"
   ]
  },
  {
   "cell_type": "code",
   "execution_count": null,
   "metadata": {},
   "outputs": [],
   "source": []
  }
 ],
 "metadata": {
  "kernelspec": {
   "display_name": ".venv",
   "language": "python",
   "name": "python3"
  },
  "language_info": {
   "codemirror_mode": {
    "name": "ipython",
    "version": 3
   },
   "file_extension": ".py",
   "mimetype": "text/x-python",
   "name": "python",
   "nbconvert_exporter": "python",
   "pygments_lexer": "ipython3",
   "version": "3.11.7"
  }
 },
 "nbformat": 4,
 "nbformat_minor": 2
}
