{
 "cells": [
  {
   "cell_type": "markdown",
   "id": "f1f294058b0ba776",
   "metadata": {
    "collapsed": false
   },
   "source": [
    "# 1. Get data from sheets\n",
    "\n",
    "- examples: https://docs.google.com/spreadsheets/d/1Qz-DNNlg6lo3q3AZ8JXyZ4Uxto0STFeJADoBaunigo0/edit?pli=1#gid=610649912\n",
    "- sheet id would be: '1Qz-DNNlg6lo3q3AZ8JXyZ4Uxto0STFeJADoBaunigo0'"
   ]
  },
  {
   "cell_type": "code",
   "execution_count": 1,
   "id": "initial_id",
   "metadata": {
    "ExecuteTime": {
     "end_time": "2023-09-13T10:50:22.412671300Z",
     "start_time": "2023-09-13T10:50:21.204514700Z"
    },
    "collapsed": true
   },
   "outputs": [
    {
     "name": "stdout",
     "output_type": "stream",
     "text": [
      "Please visit this URL to authorize this application: https://accounts.google.com/o/oauth2/auth?response_type=code&client_id=478044570571-s3daiv65mhhbh9unlt19iamjjuso5q9q.apps.googleusercontent.com&redirect_uri=http%3A%2F%2Flocalhost%3A59882%2F&scope=https%3A%2F%2Fwww.googleapis.com%2Fauth%2Fspreadsheets&state=5ntXDgwep9CKaJkdeUeL6NVginqid9&access_type=offline\n",
      "\u001b[92m🐶 Sheet:\u001b[39m Loaded at report_prm!A:C, Polar: True\n"
     ]
    },
    {
     "data": {
      "text/html": [
       "<div><style>\n",
       ".dataframe > thead > tr > th,\n",
       ".dataframe > tbody > tr > td {\n",
       "  text-align: right;\n",
       "  white-space: pre-wrap;\n",
       "}\n",
       "</style>\n",
       "<small>shape: (5, 3)</small><table border=\"1\" class=\"dataframe\"><thead><tr><th>scheme_id</th><th>total_order</th><th>gmv_usd</th></tr><tr><td>str</td><td>str</td><td>str</td></tr></thead><tbody><tr><td>&quot;fsv &gt; 0 &gt; 0 &gt; …</td><td>&quot;477,623,146&quot;</td><td>&quot;2,799,069,415&quot;</td></tr><tr><td>&quot;fsv &gt; pv &gt; 0 &gt;…</td><td>&quot;221,245,734&quot;</td><td>&quot;2,001,585,607&quot;</td></tr><tr><td>&quot;0 &gt; 0 &gt; 0 &gt; 0&quot;</td><td>&quot;173,254,146&quot;</td><td>&quot;1,668,218,492&quot;</td></tr><tr><td>&quot;fsv &gt; 0 &gt; sv &gt;…</td><td>&quot;134,834,277&quot;</td><td>&quot;1,171,440,176&quot;</td></tr><tr><td>&quot;fsv &gt; pv &gt; sv …</td><td>&quot;112,329,187&quot;</td><td>&quot;1,353,904,583&quot;</td></tr></tbody></table></div>"
      ],
      "text/plain": [
       "shape: (5, 3)\n",
       "┌───────────────────┬─────────────┬───────────────┐\n",
       "│ scheme_id         ┆ total_order ┆ gmv_usd       │\n",
       "│ ---               ┆ ---         ┆ ---           │\n",
       "│ str               ┆ str         ┆ str           │\n",
       "╞═══════════════════╪═════════════╪═══════════════╡\n",
       "│ fsv > 0 > 0 > 0   ┆ 477,623,146 ┆ 2,799,069,415 │\n",
       "│ fsv > pv > 0 > 0  ┆ 221,245,734 ┆ 2,001,585,607 │\n",
       "│ 0 > 0 > 0 > 0     ┆ 173,254,146 ┆ 1,668,218,492 │\n",
       "│ fsv > 0 > sv > 0  ┆ 134,834,277 ┆ 1,171,440,176 │\n",
       "│ fsv > pv > sv > 0 ┆ 112,329,187 ┆ 1,353,904,583 │\n",
       "└───────────────────┴─────────────┴───────────────┘"
      ]
     },
     "execution_count": 1,
     "metadata": {},
     "output_type": "execute_result"
    }
   ],
   "source": [
    "from core_pro import Sheet\n",
    "\n",
    "sheet_id = '1Qz-DNNlg6lo3q3AZ8JXyZ4Uxto0STFeJADoBaunigo0'\n",
    "sheet_name = 'report_prm'\n",
    "df = Sheet(sheet_id).google_sheet_into_df(sheet_name, 'A:C')\n",
    "df.head()"
   ]
  },
  {
   "cell_type": "markdown",
   "id": "43a30e72",
   "metadata": {},
   "source": [
    "# 2. Upload dataframe to google sheet"
   ]
  },
  {
   "cell_type": "code",
   "execution_count": null,
   "id": "4910cae1189ab877",
   "metadata": {
    "collapsed": false
   },
   "outputs": [],
   "source": [
    "from core_pro.ultilities import update_df\n",
    "\n",
    "update_df(df, 'sheet_name', sheet_id, start='A1')"
   ]
  }
 ],
 "metadata": {
  "kernelspec": {
   "display_name": "Python 3",
   "language": "python",
   "name": "python3"
  },
  "language_info": {
   "codemirror_mode": {
    "name": "ipython",
    "version": 3
   },
   "file_extension": ".py",
   "mimetype": "text/x-python",
   "name": "python",
   "nbconvert_exporter": "python",
   "pygments_lexer": "ipython3",
   "version": "3.11.5"
  }
 },
 "nbformat": 4,
 "nbformat_minor": 5
}
