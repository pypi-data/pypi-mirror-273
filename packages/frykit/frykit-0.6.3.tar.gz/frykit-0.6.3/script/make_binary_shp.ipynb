{
 "cells": [
  {
   "cell_type": "markdown",
   "metadata": {},
   "source": [
    "制作二进制版的 shapefile 文件"
   ]
  },
  {
   "cell_type": "code",
   "execution_count": null,
   "metadata": {},
   "outputs": [],
   "source": [
    "from pathlib import Path\n",
    "\n",
    "import shapely.geometry as sgeom\n",
    "from shapely.ops import unary_union\n",
    "from cartopy.feature import LAND, OCEAN\n",
    "from frykit._shp import BinaryPacker\n",
    "from frykit.help import new_dir"
   ]
  },
  {
   "cell_type": "code",
   "execution_count": null,
   "metadata": {},
   "outputs": [],
   "source": [
    "shp_dirpath = Path('../shp')\n",
    "bin_dirpath = Path('../bin')\n",
    "new_dir(bin_dirpath)"
   ]
  },
  {
   "cell_type": "code",
   "execution_count": null,
   "metadata": {},
   "outputs": [],
   "source": [
    "packer = BinaryPacker()\n",
    "for filepath in shp_dirpath.glob('*.shp'):\n",
    "    new_filepath = bin_dirpath / f'{filepath.stem}.bin'\n",
    "    with open(new_filepath, 'wb') as f:\n",
    "        f.write(packer.pack_shapefile(filepath))"
   ]
  },
  {
   "cell_type": "code",
   "execution_count": null,
   "metadata": {},
   "outputs": [],
   "source": [
    "for name, feature in zip(['land', 'ocean'], [LAND, OCEAN]):\n",
    "    geoms = list(feature.with_scale('50m').geometries())\n",
    "    geom = unary_union(geoms)\n",
    "    geoj = {'features': [{'geometry': sgeom.mapping(geom)}]}\n",
    "    filepath = bin_dirpath / f'{name}.bin'\n",
    "    with open(filepath, 'wb') as f:\n",
    "        f.write(packer.pack_geojson(geoj))"
   ]
  }
 ],
 "metadata": {
  "language_info": {
   "name": "python"
  }
 },
 "nbformat": 4,
 "nbformat_minor": 2
}
