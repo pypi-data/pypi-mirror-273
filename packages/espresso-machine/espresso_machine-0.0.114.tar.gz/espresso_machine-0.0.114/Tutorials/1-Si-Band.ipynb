{
 "cells": [
  {
   "cell_type": "code",
   "execution_count": null,
   "metadata": {},
   "outputs": [],
   "source": [
    "import src as esma #Import library"
   ]
  },
  {
   "cell_type": "code",
   "execution_count": null,
   "metadata": {},
   "outputs": [],
   "source": [
    "#Step 1 - Initialize model\n",
    "model = esma.project(project_id=\"Si\") #Define project\n",
    "model.set_cores(8) #Define number of prcessing cores\n",
    "model.get_structure(format='poscar') #Load structure\n",
    "model.get_primitive() #Get primitive cell\n",
    "model.ecutwfc(80) #Set wavefunction cutoff\n",
    "model.k_points(12) #Set number of k points\n",
    "model.set_pseudo(\"US\")"
   ]
  },
  {
   "cell_type": "code",
   "execution_count": null,
   "metadata": {},
   "outputs": [],
   "source": [
    "#Step 2 - Crystal optimization\n",
    "model.calculate('vc-relax')"
   ]
  },
  {
   "cell_type": "code",
   "execution_count": null,
   "metadata": {},
   "outputs": [],
   "source": [
    "#Step 3 - Scf calculation\n",
    "model.get_structure('vc-relax') #Get vc-relaxed strucutre\n",
    "model.calculate('scf')"
   ]
  },
  {
   "cell_type": "code",
   "execution_count": null,
   "metadata": {},
   "outputs": [],
   "source": [
    "#Step 4 - Bands calculation\n",
    "path = ['L','GAMMA','X','K','GAMMA'] #define corners\n",
    "num_points = 100 #number of points\n",
    "model.band_points(path,num_points) #define path\n",
    "model.calculate('bands')"
   ]
  },
  {
   "cell_type": "code",
   "execution_count": null,
   "metadata": {},
   "outputs": [],
   "source": [
    "#Step 5 - Plotting\n",
    "model.plot('electron',ylim=[-13,12]) #plot electron bands"
   ]
  },
  {
   "cell_type": "code",
   "execution_count": null,
   "metadata": {},
   "outputs": [],
   "source": []
  }
 ],
 "metadata": {
  "kernelspec": {
   "display_name": "Python 3",
   "language": "python",
   "name": "python3"
  },
  "language_info": {
   "codemirror_mode": {
    "name": "ipython",
    "version": 3
   },
   "file_extension": ".py",
   "mimetype": "text/x-python",
   "name": "python",
   "nbconvert_exporter": "python",
   "pygments_lexer": "ipython3",
   "version": "3.10.12"
  }
 },
 "nbformat": 4,
 "nbformat_minor": 2
}
