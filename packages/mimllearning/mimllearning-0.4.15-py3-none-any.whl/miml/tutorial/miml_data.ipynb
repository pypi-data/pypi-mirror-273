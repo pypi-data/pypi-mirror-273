{
  "nbformat": 4,
  "nbformat_minor": 0,
  "metadata": {
    "colab": {
      "provenance": []
    },
    "kernelspec": {
      "name": "python3",
      "display_name": "Python 3"
    },
    "language_info": {
      "name": "python"
    }
  },
  "cells": [
    {
      "cell_type": "code",
      "execution_count": 3,
      "metadata": {
        "id": "L-_qkpnOxj_V",
        "colab": {
          "base_uri": "https://localhost:8080/"
        },
        "outputId": "b1c17b05-cebb-4b53-a0bb-e7500adb3922"
      },
      "outputs": [
        {
          "output_type": "stream",
          "name": "stdout",
          "text": [
            "Number of bags: 2\n",
            "Number of Instances: 6\n",
            "Number of Features: 3\n",
            "Number of Labels: 4\n",
            "Number of Attributes: 7\n"
          ]
        }
      ],
      "source": [
        "import pkg_resources\n",
        "from miml.data.load_datasets import load_dataset\n",
        "\n",
        "dataset = load_dataset(pkg_resources.resource_filename('miml', 'datasets/toy.arff'),\n",
        "                             delimiter=\"\\\"\")\n",
        "print(\"Number of bags:\", dataset.get_number_bags())\n",
        "print(\"Number of Instances:\", dataset.get_number_instances())\n",
        "print(\"Number of Features:\", dataset.get_number_features())\n",
        "print(\"Number of Labels:\", dataset.get_number_labels())\n",
        "print(\"Number of Attributes:\", dataset.get_number_attributes())\n"
      ]
    },
    {
      "cell_type": "code",
      "source": [
        "# Shows all bags in the dataset\n",
        "for key in dataset.data.keys():\n",
        "\n",
        "    # Recover a bag\n",
        "    bag = dataset.get_bag(key)\n",
        "    print(\"Bag:\", key)\n",
        "    print(\"\\tNumInstances:\", bag.get_number_instances())\n",
        "    print(\"\\tNumFeatures:\", bag.get_number_features())\n",
        "    print(\"\\tNumLabels:\", bag.get_number_labels())\n",
        "    print(\"\\tNumAttributes:\", bag.get_number_attributes())\n",
        "\n",
        "    # Shows all instances in the bag\n",
        "    for j in range(bag.get_number_instances()):\n",
        "        # Recovers an instance\n",
        "        instance = dataset.get_instance(key, j)\n",
        "        print(\"\\t\\tInstance:\", j, \"NumAttributes:\", instance.get_number_attributes())\n",
        "        for k in range(instance.get_number_attributes()):\n",
        "            print(\"\\t\\t\\tAttribute\", k, \":\", instance.get_attribute(k))\n",
        "\n"
      ],
      "metadata": {
        "id": "c1OvYWW9Eyhw",
        "colab": {
          "base_uri": "https://localhost:8080/"
        },
        "outputId": "78cf00b9-a0d6-48ad-beab-b752e4fc4b9a"
      },
      "execution_count": 4,
      "outputs": [
        {
          "output_type": "stream",
          "name": "stdout",
          "text": [
            "Bag: bag1\n",
            "\tNumInstances: 3\n",
            "\tNumFeatures: 3\n",
            "\tNumLabels: 4\n",
            "\tNumAttributes: 7\n",
            "\t\tInstance: 0 NumAttributes: 7\n",
            "\t\t\tAttribute 0 : 42.0\n",
            "\t\t\tAttribute 1 : -198.0\n",
            "\t\t\tAttribute 2 : -109.0\n",
            "\t\t\tAttribute 3 : 1.0\n",
            "\t\t\tAttribute 4 : 0.0\n",
            "\t\t\tAttribute 5 : 0.0\n",
            "\t\t\tAttribute 6 : 1.0\n",
            "\t\tInstance: 1 NumAttributes: 7\n",
            "\t\t\tAttribute 0 : 42.0\n",
            "\t\t\tAttribute 1 : -191.0\n",
            "\t\t\tAttribute 2 : -142.0\n",
            "\t\t\tAttribute 3 : 1.0\n",
            "\t\t\tAttribute 4 : 0.0\n",
            "\t\t\tAttribute 5 : 0.0\n",
            "\t\t\tAttribute 6 : 1.0\n",
            "\t\tInstance: 2 NumAttributes: 7\n",
            "\t\t\tAttribute 0 : 3.0\n",
            "\t\t\tAttribute 1 : 4.0\n",
            "\t\t\tAttribute 2 : 6.0\n",
            "\t\t\tAttribute 3 : 1.0\n",
            "\t\t\tAttribute 4 : 0.0\n",
            "\t\t\tAttribute 5 : 0.0\n",
            "\t\t\tAttribute 6 : 1.0\n",
            "Bag: bag2\n",
            "\tNumInstances: 3\n",
            "\tNumFeatures: 3\n",
            "\tNumLabels: 4\n",
            "\tNumAttributes: 7\n",
            "\t\tInstance: 0 NumAttributes: 7\n",
            "\t\t\tAttribute 0 : 12.0\n",
            "\t\t\tAttribute 1 : -98.0\n",
            "\t\t\tAttribute 2 : 10.0\n",
            "\t\t\tAttribute 3 : 0.0\n",
            "\t\t\tAttribute 4 : 1.0\n",
            "\t\t\tAttribute 5 : 1.0\n",
            "\t\t\tAttribute 6 : 0.0\n",
            "\t\tInstance: 1 NumAttributes: 7\n",
            "\t\t\tAttribute 0 : 42.0\n",
            "\t\t\tAttribute 1 : -19.0\n",
            "\t\t\tAttribute 2 : -12.0\n",
            "\t\t\tAttribute 3 : 0.0\n",
            "\t\t\tAttribute 4 : 1.0\n",
            "\t\t\tAttribute 5 : 1.0\n",
            "\t\t\tAttribute 6 : 0.0\n",
            "\t\tInstance: 2 NumAttributes: 7\n",
            "\t\t\tAttribute 0 : 31.0\n",
            "\t\t\tAttribute 1 : 42.0\n",
            "\t\t\tAttribute 2 : 66.0\n",
            "\t\t\tAttribute 3 : 0.0\n",
            "\t\t\tAttribute 4 : 1.0\n",
            "\t\t\tAttribute 5 : 1.0\n",
            "\t\t\tAttribute 6 : 0.0\n"
          ]
        }
      ]
    },
    {
      "cell_type": "code",
      "source": [
        "# Shows dataset metrics\n",
        "dataset.describe()"
      ],
      "metadata": {
        "colab": {
          "base_uri": "https://localhost:8080/"
        },
        "id": "_bVd_RyLgqlG",
        "outputId": "12da0fae-5b6c-4b95-a166-6bb5bf6fc193"
      },
      "execution_count": 5,
      "outputs": [
        {
          "output_type": "stream",
          "name": "stdout",
          "text": [
            "-----MULTILABEL-----\n",
            "Cardinalidad:  2.0\n",
            "Densidad:  0.5\n",
            "Distinct:  0.125\n",
            "\n",
            "-----MULTIINSTANCE-----\n",
            "Nº of bags:  2\n",
            "Total instances:  6\n",
            "Average Instances per bag:  3.0\n",
            "Min Instances per bag:  3\n",
            "Max Instances per bag:  3\n",
            "Attributes per bag:  7\n",
            "\n",
            "Distribution of bags:\n",
            "\tBags with  3  instances:  2\n"
          ]
        }
      ]
    }
  ]
}