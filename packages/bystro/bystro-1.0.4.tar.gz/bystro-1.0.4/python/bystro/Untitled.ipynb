{
 "cells": [
  {
   "cell_type": "code",
   "execution_count": 2,
   "id": "d312b1f8-894a-400d-bee9-75842a93e2c6",
   "metadata": {},
   "outputs": [
    {
     "name": "stdout",
     "output_type": "stream",
     "text": [
      "Requirement already satisfied: pylance in /home/alexkotlar/miniconda3/envs/bystro/lib/python3.10/site-packages (0.5.10)\n",
      "Collecting vectordb\n",
      "  Downloading vectordb-0.0.18.tar.gz (27 kB)\n",
      "  Preparing metadata (setup.py) ... \u001b[?25ldone\n",
      "\u001b[?25hRequirement already satisfied: pyarrow>=10 in /home/alexkotlar/miniconda3/envs/bystro/lib/python3.10/site-packages (from pylance) (12.0.0)\n",
      "Requirement already satisfied: numpy>=1.22 in /home/alexkotlar/miniconda3/envs/bystro/lib/python3.10/site-packages (from pylance) (1.25.0)\n",
      "Collecting jina>=3.20.0\n",
      "  Downloading jina-3.20.1-cp310-cp310-manylinux_2_5_x86_64.manylinux1_x86_64.manylinux_2_17_x86_64.manylinux2014_x86_64.whl (7.7 MB)\n",
      "\u001b[2K     \u001b[38;2;114;156;31m━━━━━━━━━━━━━━━━━━━━━━━━━━━━━━━━━━━━━━━━\u001b[0m \u001b[32m7.7/7.7 MB\u001b[0m \u001b[31m4.7 MB/s\u001b[0m eta \u001b[36m0:00:00\u001b[0mm eta \u001b[36m0:00:01\u001b[0m[36m0:00:01\u001b[0mm\n",
      "\u001b[?25hCollecting docarray[hnswlib]>=0.34.0\n",
      "  Downloading docarray-0.37.1-py3-none-any.whl (263 kB)\n",
      "\u001b[2K     \u001b[38;2;114;156;31m━━━━━━━━━━━━━━━━━━━━━━━━━━━━━━━━━━━━━━\u001b[0m \u001b[32m263.7/263.7 kB\u001b[0m \u001b[31m13.8 MB/s\u001b[0m eta \u001b[36m0:00:00\u001b[0m\n",
      "\u001b[?25hCollecting pydantic<2.0.0,>=1.10.2\n",
      "  Downloading pydantic-1.10.12-cp310-cp310-manylinux_2_17_x86_64.manylinux2014_x86_64.whl (3.1 MB)\n",
      "\u001b[2K     \u001b[38;2;114;156;31m━━━━━━━━━━━━━━━━━━━━━━━━━━━━━━━━━━━━━━━━\u001b[0m \u001b[32m3.1/3.1 MB\u001b[0m \u001b[31m17.1 MB/s\u001b[0m eta \u001b[36m0:00:00\u001b[0mm eta \u001b[36m0:00:01\u001b[0m0:01\u001b[0m:01\u001b[0m\n",
      "\u001b[?25hRequirement already satisfied: orjson>=3.8.2 in /home/alexkotlar/miniconda3/envs/bystro/lib/python3.10/site-packages (from docarray[hnswlib]>=0.34.0->vectordb) (3.8.6)\n",
      "Collecting rich>=13.1.0\n",
      "  Downloading rich-13.5.2-py3-none-any.whl (239 kB)\n",
      "\u001b[2K     \u001b[38;2;114;156;31m━━━━━━━━━━━━━━━━━━━━━━━━━━━━━━━━━━━━━━\u001b[0m \u001b[32m239.7/239.7 kB\u001b[0m \u001b[31m16.4 MB/s\u001b[0m eta \u001b[36m0:00:00\u001b[0m\n",
      "\u001b[?25hRequirement already satisfied: typing-inspect>=0.8.0 in /home/alexkotlar/miniconda3/envs/bystro/lib/python3.10/site-packages (from docarray[hnswlib]>=0.34.0->vectordb) (0.9.0)\n",
      "Collecting types-requests>=2.28.11.6\n",
      "  Downloading types_requests-2.31.0.2-py3-none-any.whl (14 kB)\n",
      "Requirement already satisfied: protobuf>=3.20.0 in /home/alexkotlar/.local/lib/python3.10/site-packages (from docarray[hnswlib]>=0.34.0->vectordb) (4.22.0)\n",
      "Collecting hnswlib>=0.7.0\n",
      "  Downloading hnswlib-0.7.0.tar.gz (33 kB)\n",
      "  Installing build dependencies ... \u001b[?25ldone\n",
      "\u001b[?25h  Getting requirements to build wheel ... \u001b[?25ldone\n",
      "\u001b[?25h  Preparing metadata (pyproject.toml) ... \u001b[?25ldone\n",
      "\u001b[?25hCollecting opentelemetry-exporter-otlp-proto-grpc>=1.13.0\n",
      "  Downloading opentelemetry_exporter_otlp_proto_grpc-1.19.0-py3-none-any.whl (18 kB)\n",
      "Collecting opentelemetry-exporter-prometheus>=1.12.0rc1\n",
      "  Downloading opentelemetry_exporter_prometheus-1.12.0rc1-py3-none-any.whl (10 kB)\n",
      "Collecting jcloud>=0.0.35\n",
      "  Downloading jcloud-0.2.16.tar.gz (34 kB)\n",
      "  Installing build dependencies ... \u001b[?25ldone\n",
      "\u001b[?25h  Getting requirements to build wheel ... \u001b[?25ldone\n",
      "\u001b[?25h  Preparing metadata (pyproject.toml) ... \u001b[?25ldone\n",
      "\u001b[?25hCollecting aiofiles\n",
      "  Downloading aiofiles-23.2.1-py3-none-any.whl (15 kB)\n",
      "Collecting opentelemetry-exporter-otlp>=1.12.0\n",
      "  Downloading opentelemetry_exporter_otlp-1.19.0-py3-none-any.whl (7.0 kB)\n",
      "Collecting fastapi>=0.76.0\n",
      "  Downloading fastapi-0.103.0-py3-none-any.whl (66 kB)\n",
      "\u001b[2K     \u001b[38;2;114;156;31m━━━━━━━━━━━━━━━━━━━━━━━━━━━━━━━━━━━━━━━━\u001b[0m \u001b[32m66.2/66.2 kB\u001b[0m \u001b[31m7.5 MB/s\u001b[0m eta \u001b[36m0:00:00\u001b[0m\n",
      "\u001b[?25hCollecting grpcio-reflection<1.48.1,>=1.46.0\n",
      "  Downloading grpcio_reflection-1.47.5-py3-none-any.whl (11 kB)\n",
      "Collecting opentelemetry-instrumentation-fastapi>=0.33b0\n",
      "  Downloading opentelemetry_instrumentation_fastapi-0.40b0-py3-none-any.whl (11 kB)\n",
      "Collecting grpcio-health-checking<1.48.1,>=1.46.0\n",
      "  Downloading grpcio_health_checking-1.47.5-py3-none-any.whl (8.7 kB)\n",
      "Collecting uvloop\n",
      "  Downloading uvloop-0.17.0-cp310-cp310-manylinux_2_17_x86_64.manylinux2014_x86_64.whl (4.1 MB)\n",
      "\u001b[2K     \u001b[38;2;114;156;31m━━━━━━━━━━━━━━━━━━━━━━━━━━━━━━━━━━━━━━━━\u001b[0m \u001b[32m4.1/4.1 MB\u001b[0m \u001b[31m22.7 MB/s\u001b[0m eta \u001b[36m0:00:00\u001b[0mm eta \u001b[36m0:00:01\u001b[0m[36m0:00:01\u001b[0m\n",
      "\u001b[?25hCollecting python-multipart\n",
      "  Downloading python_multipart-0.0.6-py3-none-any.whl (45 kB)\n",
      "\u001b[2K     \u001b[38;2;114;156;31m━━━━━━━━━━━━━━━━━━━━━━━━━━━━━━━━━━━━━━━━\u001b[0m \u001b[32m45.7/45.7 kB\u001b[0m \u001b[31m5.4 MB/s\u001b[0m eta \u001b[36m0:00:00\u001b[0m\n",
      "\u001b[?25hRequirement already satisfied: aiohttp in /home/alexkotlar/miniconda3/envs/bystro/lib/python3.10/site-packages (from jina>=3.20.0->vectordb) (3.8.4)\n",
      "Requirement already satisfied: pyyaml>=5.3.1 in /home/alexkotlar/miniconda3/envs/bystro/lib/python3.10/site-packages (from jina>=3.20.0->vectordb) (6.0)\n",
      "Requirement already satisfied: requests in /home/alexkotlar/miniconda3/envs/bystro/lib/python3.10/site-packages (from jina>=3.20.0->vectordb) (2.28.2)\n",
      "Requirement already satisfied: urllib3<2.0.0,>=1.25.9 in /home/alexkotlar/miniconda3/envs/bystro/lib/python3.10/site-packages (from jina>=3.20.0->vectordb) (1.26.14)\n",
      "Collecting opentelemetry-instrumentation-grpc>=0.35b0\n",
      "  Downloading opentelemetry_instrumentation_grpc-0.40b0-py3-none-any.whl (26 kB)\n",
      "Collecting jina-hubble-sdk>=0.30.4\n",
      "  Downloading jina_hubble_sdk-0.39.0-py3-none-any.whl (68 kB)\n",
      "\u001b[2K     \u001b[38;2;114;156;31m━━━━━━━━━━━━━━━━━━━━━━━━━━━━━━━━━━━━━━━━\u001b[0m \u001b[32m68.3/68.3 kB\u001b[0m \u001b[31m8.7 MB/s\u001b[0m eta \u001b[36m0:00:00\u001b[0m\n",
      "\u001b[?25hCollecting opentelemetry-api>=1.12.0\n",
      "  Downloading opentelemetry_api-1.19.0-py3-none-any.whl (57 kB)\n",
      "\u001b[2K     \u001b[38;2;114;156;31m━━━━━━━━━━━━━━━━━━━━━━━━━━━━━━━━━━━━━━━━\u001b[0m \u001b[32m57.5/57.5 kB\u001b[0m \u001b[31m7.0 MB/s\u001b[0m eta \u001b[36m0:00:00\u001b[0m\n",
      "\u001b[?25hCollecting websockets\n",
      "  Downloading websockets-11.0.3-cp310-cp310-manylinux_2_5_x86_64.manylinux1_x86_64.manylinux_2_17_x86_64.manylinux2014_x86_64.whl (129 kB)\n",
      "\u001b[2K     \u001b[38;2;114;156;31m━━━━━━━━━━━━━━━━━━━━━━━━━━━━━━━━━━━━━━\u001b[0m \u001b[32m129.9/129.9 kB\u001b[0m \u001b[31m15.0 MB/s\u001b[0m eta \u001b[36m0:00:00\u001b[0m\n",
      "\u001b[?25hCollecting opentelemetry-instrumentation-aiohttp-client>=0.33b0\n",
      "  Downloading opentelemetry_instrumentation_aiohttp_client-0.40b0-py3-none-any.whl (11 kB)\n",
      "Requirement already satisfied: prometheus-client>=0.12.0 in /home/alexkotlar/miniconda3/envs/bystro/lib/python3.10/site-packages (from jina>=3.20.0->vectordb) (0.17.0)\n",
      "Collecting grpcio<1.48.1,>=1.46.0\n",
      "  Downloading grpcio-1.47.5-cp310-cp310-manylinux_2_17_x86_64.manylinux2014_x86_64.whl (4.5 MB)\n",
      "\u001b[2K     \u001b[38;2;114;156;31m━━━━━━━━━━━━━━━━━━━━━━━━━━━━━━━━━━━━━━━━\u001b[0m \u001b[32m4.5/4.5 MB\u001b[0m \u001b[31m22.1 MB/s\u001b[0m eta \u001b[36m0:00:00\u001b[0m MB/s\u001b[0m eta \u001b[36m0:00:01\u001b[0m:01\u001b[0m\n",
      "\u001b[?25hCollecting docker\n",
      "  Downloading docker-6.1.3-py3-none-any.whl (148 kB)\n",
      "\u001b[2K     \u001b[38;2;114;156;31m━━━━━━━━━━━━━━━━━━━━━━━━━━━━━━━━━━━━━━\u001b[0m \u001b[32m148.1/148.1 kB\u001b[0m \u001b[31m13.6 MB/s\u001b[0m eta \u001b[36m0:00:00\u001b[0m\n",
      "\u001b[?25hRequirement already satisfied: pathspec in /home/alexkotlar/miniconda3/envs/bystro/lib/python3.10/site-packages (from jina>=3.20.0->vectordb) (0.11.1)\n",
      "Requirement already satisfied: packaging>=20.0 in /home/alexkotlar/miniconda3/envs/bystro/lib/python3.10/site-packages (from jina>=3.20.0->vectordb) (23.1)\n",
      "Requirement already satisfied: filelock in /home/alexkotlar/.local/lib/python3.10/site-packages (from jina>=3.20.0->vectordb) (3.9.0)\n",
      "Collecting opentelemetry-sdk>=1.14.0\n",
      "  Downloading opentelemetry_sdk-1.19.0-py3-none-any.whl (103 kB)\n",
      "\u001b[2K     \u001b[38;2;114;156;31m━━━━━━━━━━━━━━━━━━━━━━━━━━━━━━━━━━━━━━\u001b[0m \u001b[32m103.9/103.9 kB\u001b[0m \u001b[31m10.5 MB/s\u001b[0m eta \u001b[36m0:00:00\u001b[0m\n",
      "\u001b[?25hCollecting uvicorn[standard]<=0.23.1\n",
      "  Downloading uvicorn-0.23.1-py3-none-any.whl (59 kB)\n",
      "\u001b[2K     \u001b[38;2;114;156;31m━━━━━━━━━━━━━━━━━━━━━━━━━━━━━━━━━━━━━━━━\u001b[0m \u001b[32m59.5/59.5 kB\u001b[0m \u001b[31m6.6 MB/s\u001b[0m eta \u001b[36m0:00:00\u001b[0m\n",
      "\u001b[?25hRequirement already satisfied: typing-extensions>=4.5.0 in /home/alexkotlar/miniconda3/envs/bystro/lib/python3.10/site-packages (from fastapi>=0.76.0->jina>=3.20.0->vectordb) (4.7.1)\n",
      "Collecting starlette<0.28.0,>=0.27.0\n",
      "  Downloading starlette-0.27.0-py3-none-any.whl (66 kB)\n",
      "\u001b[2K     \u001b[38;2;114;156;31m━━━━━━━━━━━━━━━━━━━━━━━━━━━━━━━━━━━━━━━━\u001b[0m \u001b[32m67.0/67.0 kB\u001b[0m \u001b[31m7.2 MB/s\u001b[0m eta \u001b[36m0:00:00\u001b[0m\n",
      "\u001b[?25hRequirement already satisfied: six>=1.5.2 in /home/alexkotlar/miniconda3/envs/bystro/lib/python3.10/site-packages (from grpcio<1.48.1,>=1.46.0->jina>=3.20.0->vectordb) (1.16.0)\n",
      "Collecting python-dotenv\n",
      "  Downloading python_dotenv-1.0.0-py3-none-any.whl (19 kB)\n",
      "Requirement already satisfied: python-dateutil in /home/alexkotlar/miniconda3/envs/bystro/lib/python3.10/site-packages (from jcloud>=0.0.35->jina>=3.20.0->vectordb) (2.8.2)\n",
      "Requirement already satisfied: attrs>=17.3.0 in /home/alexkotlar/miniconda3/envs/bystro/lib/python3.10/site-packages (from aiohttp->jina>=3.20.0->vectordb) (23.1.0)\n",
      "Requirement already satisfied: frozenlist>=1.1.1 in /home/alexkotlar/.local/lib/python3.10/site-packages (from aiohttp->jina>=3.20.0->vectordb) (1.3.3)\n",
      "Requirement already satisfied: charset-normalizer<4.0,>=2.0 in /home/alexkotlar/miniconda3/envs/bystro/lib/python3.10/site-packages (from aiohttp->jina>=3.20.0->vectordb) (3.0.1)\n",
      "Requirement already satisfied: async-timeout<5.0,>=4.0.0a3 in /home/alexkotlar/miniconda3/envs/bystro/lib/python3.10/site-packages (from aiohttp->jina>=3.20.0->vectordb) (4.0.2)\n",
      "Requirement already satisfied: yarl<2.0,>=1.0 in /home/alexkotlar/miniconda3/envs/bystro/lib/python3.10/site-packages (from aiohttp->jina>=3.20.0->vectordb) (1.9.2)\n",
      "Requirement already satisfied: multidict<7.0,>=4.5 in /home/alexkotlar/miniconda3/envs/bystro/lib/python3.10/site-packages (from aiohttp->jina>=3.20.0->vectordb) (6.0.4)\n",
      "Requirement already satisfied: aiosignal>=1.1.2 in /home/alexkotlar/.local/lib/python3.10/site-packages (from aiohttp->jina>=3.20.0->vectordb) (1.3.1)\n",
      "Requirement already satisfied: importlib-metadata in /home/alexkotlar/miniconda3/envs/bystro/lib/python3.10/site-packages (from jina-hubble-sdk>=0.30.4->jina>=3.20.0->vectordb) (6.7.0)\n",
      "Collecting python-jose\n",
      "  Downloading python_jose-3.3.0-py2.py3-none-any.whl (33 kB)\n",
      "Collecting deprecated>=1.2.6\n",
      "  Downloading Deprecated-1.2.14-py2.py3-none-any.whl (9.6 kB)\n",
      "Collecting opentelemetry-exporter-otlp-proto-http==1.19.0\n",
      "  Downloading opentelemetry_exporter_otlp_proto_http-1.19.0-py3-none-any.whl (17 kB)\n",
      "Collecting opentelemetry-proto==1.19.0\n",
      "  Downloading opentelemetry_proto-1.19.0-py3-none-any.whl (50 kB)\n",
      "\u001b[2K     \u001b[38;2;114;156;31m━━━━━━━━━━━━━━━━━━━━━━━━━━━━━━━━━━━━━━━━\u001b[0m \u001b[32m50.8/50.8 kB\u001b[0m \u001b[31m5.7 MB/s\u001b[0m eta \u001b[36m0:00:00\u001b[0m\n",
      "\u001b[?25hCollecting backoff<3.0.0,>=1.10.0\n",
      "  Downloading backoff-2.2.1-py3-none-any.whl (15 kB)\n",
      "Collecting opentelemetry-exporter-otlp-proto-common==1.19.0\n",
      "  Downloading opentelemetry_exporter_otlp_proto_common-1.19.0-py3-none-any.whl (17 kB)\n",
      "Collecting googleapis-common-protos~=1.52\n",
      "  Downloading googleapis_common_protos-1.60.0-py2.py3-none-any.whl (227 kB)\n",
      "\u001b[2K     \u001b[38;2;114;156;31m━━━━━━━━━━━━━━━━━━━━━━━━━━━━━━━━━━━━━━\u001b[0m \u001b[32m227.6/227.6 kB\u001b[0m \u001b[31m16.3 MB/s\u001b[0m eta \u001b[36m0:00:00\u001b[0m\n",
      "\u001b[?25hCollecting opentelemetry-semantic-conventions==0.40b0\n",
      "  Downloading opentelemetry_semantic_conventions-0.40b0-py3-none-any.whl (26 kB)\n",
      "Collecting opentelemetry-util-http==0.40b0\n",
      "  Downloading opentelemetry_util_http-0.40b0-py3-none-any.whl (6.7 kB)\n",
      "Requirement already satisfied: wrapt<2.0.0,>=1.0.0 in /home/alexkotlar/miniconda3/envs/bystro/lib/python3.10/site-packages (from opentelemetry-instrumentation-aiohttp-client>=0.33b0->jina>=3.20.0->vectordb) (1.15.0)\n",
      "Collecting opentelemetry-instrumentation==0.40b0\n",
      "  Downloading opentelemetry_instrumentation-0.40b0-py3-none-any.whl (25 kB)\n",
      "Requirement already satisfied: setuptools>=16.0 in /home/alexkotlar/miniconda3/envs/bystro/lib/python3.10/site-packages (from opentelemetry-instrumentation==0.40b0->opentelemetry-instrumentation-aiohttp-client>=0.33b0->jina>=3.20.0->vectordb) (66.0.0)\n",
      "Collecting opentelemetry-instrumentation-asgi==0.40b0\n",
      "  Downloading opentelemetry_instrumentation_asgi-0.40b0-py3-none-any.whl (13 kB)\n",
      "Collecting asgiref~=3.0\n",
      "  Downloading asgiref-3.7.2-py3-none-any.whl (24 kB)\n",
      "Requirement already satisfied: certifi>=2017.4.17 in /home/alexkotlar/miniconda3/envs/bystro/lib/python3.10/site-packages (from requests->jina>=3.20.0->vectordb) (2023.7.22)\n",
      "Requirement already satisfied: idna<4,>=2.5 in /home/alexkotlar/miniconda3/envs/bystro/lib/python3.10/site-packages (from requests->jina>=3.20.0->vectordb) (3.4)\n",
      "Collecting markdown-it-py>=2.2.0\n",
      "  Downloading markdown_it_py-3.0.0-py3-none-any.whl (87 kB)\n",
      "\u001b[2K     \u001b[38;2;114;156;31m━━━━━━━━━━━━━━━━━━━━━━━━━━━━━━━━━━━━━━━━\u001b[0m \u001b[32m87.5/87.5 kB\u001b[0m \u001b[31m11.6 MB/s\u001b[0m eta \u001b[36m0:00:00\u001b[0m\n",
      "\u001b[?25hRequirement already satisfied: pygments<3.0.0,>=2.13.0 in /home/alexkotlar/miniconda3/envs/bystro/lib/python3.10/site-packages (from rich>=13.1.0->docarray[hnswlib]>=0.34.0->vectordb) (2.14.0)\n",
      "Collecting types-urllib3\n",
      "  Downloading types_urllib3-1.26.25.14-py3-none-any.whl (15 kB)\n",
      "Requirement already satisfied: mypy-extensions>=0.3.0 in /home/alexkotlar/miniconda3/envs/bystro/lib/python3.10/site-packages (from typing-inspect>=0.8.0->docarray[hnswlib]>=0.34.0->vectordb) (1.0.0)\n",
      "Requirement already satisfied: click>=7.0 in /home/alexkotlar/miniconda3/envs/bystro/lib/python3.10/site-packages (from uvicorn[standard]<=0.23.1->jina>=3.20.0->vectordb) (8.1.3)\n",
      "Collecting h11>=0.8\n",
      "  Downloading h11-0.14.0-py3-none-any.whl (58 kB)\n",
      "\u001b[2K     \u001b[38;2;114;156;31m━━━━━━━━━━━━━━━━━━━━━━━━━━━━━━━━━━━━━━━━\u001b[0m \u001b[32m58.3/58.3 kB\u001b[0m \u001b[31m6.7 MB/s\u001b[0m eta \u001b[36m0:00:00\u001b[0m\n",
      "\u001b[?25hCollecting watchfiles>=0.13\n",
      "  Downloading watchfiles-0.20.0-cp37-abi3-manylinux_2_17_x86_64.manylinux2014_x86_64.whl (1.3 MB)\n",
      "\u001b[2K     \u001b[38;2;114;156;31m━━━━━━━━━━━━━━━━━━━━━━━━━━━━━━━━━━━━━━━━\u001b[0m \u001b[32m1.3/1.3 MB\u001b[0m \u001b[31m26.3 MB/s\u001b[0m eta \u001b[36m0:00:00\u001b[0m MB/s\u001b[0m eta \u001b[36m0:00:01\u001b[0m\n",
      "\u001b[?25hCollecting httptools>=0.5.0\n",
      "  Downloading httptools-0.6.0-cp310-cp310-manylinux_2_5_x86_64.manylinux1_x86_64.manylinux_2_17_x86_64.manylinux2014_x86_64.whl (428 kB)\n",
      "\u001b[2K     \u001b[38;2;114;156;31m━━━━━━━━━━━━━━━━━━━━━━━━━━━━━━━━━━━━━━\u001b[0m \u001b[32m428.8/428.8 kB\u001b[0m \u001b[31m22.5 MB/s\u001b[0m eta \u001b[36m0:00:00\u001b[0m\n",
      "\u001b[?25hRequirement already satisfied: websocket-client>=0.32.0 in /home/alexkotlar/miniconda3/envs/bystro/lib/python3.10/site-packages (from docker->jina>=3.20.0->vectordb) (1.5.2)\n",
      "Requirement already satisfied: zipp>=0.5 in /home/alexkotlar/miniconda3/envs/bystro/lib/python3.10/site-packages (from importlib-metadata->jina-hubble-sdk>=0.30.4->jina>=3.20.0->vectordb) (3.15.0)\n",
      "Collecting mdurl~=0.1\n",
      "  Downloading mdurl-0.1.2-py3-none-any.whl (10.0 kB)\n",
      "Requirement already satisfied: anyio<5,>=3.4.0 in /home/alexkotlar/miniconda3/envs/bystro/lib/python3.10/site-packages (from starlette<0.28.0,>=0.27.0->fastapi>=0.76.0->jina>=3.20.0->vectordb) (3.7.0)\n",
      "Collecting ecdsa!=0.15\n",
      "  Downloading ecdsa-0.18.0-py2.py3-none-any.whl (142 kB)\n",
      "\u001b[2K     \u001b[38;2;114;156;31m━━━━━━━━━━━━━━━━━━━━━━━━━━━━━━━━━━━━━━\u001b[0m \u001b[32m142.9/142.9 kB\u001b[0m \u001b[31m18.9 MB/s\u001b[0m eta \u001b[36m0:00:00\u001b[0m\n",
      "\u001b[?25hCollecting rsa\n",
      "  Downloading rsa-4.9-py3-none-any.whl (34 kB)\n",
      "Collecting pyasn1\n",
      "  Downloading pyasn1-0.5.0-py2.py3-none-any.whl (83 kB)\n",
      "\u001b[2K     \u001b[38;2;114;156;31m━━━━━━━━━━━━━━━━━━━━━━━━━━━━━━━━━━━━━━━━\u001b[0m \u001b[32m83.9/83.9 kB\u001b[0m \u001b[31m11.0 MB/s\u001b[0m eta \u001b[36m0:00:00\u001b[0m\n",
      "\u001b[?25hRequirement already satisfied: exceptiongroup in /home/alexkotlar/miniconda3/envs/bystro/lib/python3.10/site-packages (from anyio<5,>=3.4.0->starlette<0.28.0,>=0.27.0->fastapi>=0.76.0->jina>=3.20.0->vectordb) (1.1.1)\n",
      "Requirement already satisfied: sniffio>=1.1 in /home/alexkotlar/miniconda3/envs/bystro/lib/python3.10/site-packages (from anyio<5,>=3.4.0->starlette<0.28.0,>=0.27.0->fastapi>=0.76.0->jina>=3.20.0->vectordb) (1.3.0)\n",
      "Building wheels for collected packages: vectordb, hnswlib, jcloud\n",
      "  Building wheel for vectordb (setup.py) ... \u001b[?25ldone\n",
      "\u001b[?25h  Created wheel for vectordb: filename=vectordb-0.0.18-py3-none-any.whl size=27208 sha256=f9bca8c1706c6d5447f263de2bde65981d9d90c55460d3f567b8700f8734a6fa\n",
      "  Stored in directory: /home/alexkotlar/.cache/pip/wheels/b2/d5/4e/282e14d193bc92187f955c4672175a1787c2a9076c753cf527\n",
      "  Building wheel for hnswlib (pyproject.toml) ... \u001b[?25ldone\n",
      "\u001b[?25h  Created wheel for hnswlib: filename=hnswlib-0.7.0-cp310-cp310-linux_x86_64.whl size=192219 sha256=465877ca1255ebb0a6da966392e632cab565b284e9bdd2f6900e069cf64fe5b4\n",
      "  Stored in directory: /home/alexkotlar/.cache/pip/wheels/8a/ae/ec/235a682e0041fbaeee389843670581ec6c66872db856dfa9a4\n",
      "  Building wheel for jcloud (pyproject.toml) ... \u001b[?25ldone\n",
      "\u001b[?25h  Created wheel for jcloud: filename=jcloud-0.2.16-py3-none-any.whl size=40278 sha256=b5ea7355c24f22aa2e2b294d8b43b18f184a6d137c675057a1423096a870ef6c\n",
      "  Stored in directory: /home/alexkotlar/.cache/pip/wheels/3d/cf/6e/855378e683df947fc2b3ce60d03ed7d748814d75b8653f9a03\n",
      "Successfully built vectordb hnswlib jcloud\n",
      "Installing collected packages: types-urllib3, websockets, uvloop, types-requests, python-multipart, python-dotenv, pydantic, pyasn1, opentelemetry-util-http, opentelemetry-semantic-conventions, opentelemetry-proto, mdurl, httptools, hnswlib, h11, grpcio, googleapis-common-protos, ecdsa, deprecated, backoff, asgiref, aiofiles, watchfiles, uvicorn, starlette, rsa, opentelemetry-exporter-otlp-proto-common, opentelemetry-api, markdown-it-py, grpcio-reflection, grpcio-health-checking, docker, rich, python-jose, opentelemetry-sdk, opentelemetry-instrumentation, fastapi, opentelemetry-instrumentation-grpc, opentelemetry-instrumentation-asgi, opentelemetry-instrumentation-aiohttp-client, opentelemetry-exporter-prometheus, opentelemetry-exporter-otlp-proto-http, opentelemetry-exporter-otlp-proto-grpc, jina-hubble-sdk, docarray, opentelemetry-instrumentation-fastapi, opentelemetry-exporter-otlp, jcloud, jina, vectordb\n",
      "  Attempting uninstall: pydantic\n",
      "    Found existing installation: pydantic 2.1.1\n",
      "    Uninstalling pydantic-2.1.1:\n",
      "      Successfully uninstalled pydantic-2.1.1\n",
      "  Attempting uninstall: grpcio\n",
      "    Found existing installation: grpcio 1.51.1\n",
      "    Uninstalling grpcio-1.51.1:\n",
      "      Successfully uninstalled grpcio-1.51.1\n",
      "Successfully installed aiofiles-23.2.1 asgiref-3.7.2 backoff-2.2.1 deprecated-1.2.14 docarray-0.37.1 docker-6.1.3 ecdsa-0.18.0 fastapi-0.103.0 googleapis-common-protos-1.60.0 grpcio-1.47.5 grpcio-health-checking-1.47.5 grpcio-reflection-1.47.5 h11-0.14.0 hnswlib-0.7.0 httptools-0.6.0 jcloud-0.2.16 jina-3.20.1 jina-hubble-sdk-0.39.0 markdown-it-py-3.0.0 mdurl-0.1.2 opentelemetry-api-1.19.0 opentelemetry-exporter-otlp-1.19.0 opentelemetry-exporter-otlp-proto-common-1.19.0 opentelemetry-exporter-otlp-proto-grpc-1.19.0 opentelemetry-exporter-otlp-proto-http-1.19.0 opentelemetry-exporter-prometheus-1.12.0rc1 opentelemetry-instrumentation-0.40b0 opentelemetry-instrumentation-aiohttp-client-0.40b0 opentelemetry-instrumentation-asgi-0.40b0 opentelemetry-instrumentation-fastapi-0.40b0 opentelemetry-instrumentation-grpc-0.40b0 opentelemetry-proto-1.19.0 opentelemetry-sdk-1.19.0 opentelemetry-semantic-conventions-0.40b0 opentelemetry-util-http-0.40b0 pyasn1-0.5.0 pydantic-1.10.12 python-dotenv-1.0.0 python-jose-3.3.0 python-multipart-0.0.6 rich-13.5.2 rsa-4.9 starlette-0.27.0 types-requests-2.31.0.2 types-urllib3-1.26.25.14 uvicorn-0.23.1 uvloop-0.17.0 vectordb-0.0.18 watchfiles-0.20.0 websockets-11.0.3\n"
     ]
    }
   ],
   "source": [
    "!pip install pylance vectordb"
   ]
  },
  {
   "cell_type": "code",
   "execution_count": 3,
   "id": "61fcf864-edea-4340-b3c5-6187b55b9274",
   "metadata": {},
   "outputs": [],
   "source": [
    "import lancedb\n",
    "uri = \"data/sample-lancedb\"\n",
    "db = lancedb.connect(uri)\n"
   ]
  },
  {
   "cell_type": "code",
   "execution_count": 4,
   "id": "dc44b657-7189-42ed-998a-2ded49521b5e",
   "metadata": {},
   "outputs": [
    {
     "name": "stdout",
     "output_type": "stream",
     "text": [
      "Schema: variants: struct<chrom: string, pos: int32, alt: string, ref: string, refSeq: struct<name: string, name2: string, exonicAlleleFunction: string>>\n",
      "  child 0, chrom: string\n",
      "  child 1, pos: int32\n",
      "  child 2, alt: string\n",
      "  child 3, ref: string\n",
      "  child 4, refSeq: struct<name: string, name2: string, exonicAlleleFunction: string>\n",
      "      child 0, name: string\n",
      "      child 1, name2: string\n",
      "      child 2, exonicAlleleFunction: string\n",
      "Data:                                             variants\n",
      "0  {'chrom': 'chr1', 'pos': 12345, 'alt': 'A', 'r...\n",
      "1  {'chrom': 'chr2', 'pos': 67890, 'alt': 'G', 'r...\n"
     ]
    }
   ],
   "source": [
    "import pyarrow as pa\n",
    "\n",
    "# Define schema for RefSeq\n",
    "ref_seq_schema = pa.struct([\n",
    "    ('name', pa.string()),\n",
    "    ('name2', pa.string()),\n",
    "    ('exonicAlleleFunction', pa.string())\n",
    "])\n",
    "\n",
    "# Define schema for Variant\n",
    "variant_schema = pa.struct([\n",
    "    ('chrom', pa.string()),\n",
    "    ('pos', pa.int32()),\n",
    "    ('alt', pa.string()),\n",
    "    ('ref', pa.string()),\n",
    "    ('refSeq', ref_seq_schema)\n",
    "    ('refSeq', ref_seq_schema)\n",
    "])\n",
    "\n",
    "# Create sample data for RefSeq\n",
    "sample_ref_seq = pa.array([\n",
    "    {'name': 'seq1', 'name2': 'name2_1', 'exonicAlleleFunction': 'func1'},\n",
    "    {'name': 'seq2', 'name2': 'name2_2', 'exonicAlleleFunction': 'func2'},\n",
    "], type=ref_seq_schema)\n",
    "\n",
    "# Create sample data for Variant\n",
    "sample_variant = pa.array([\n",
    "    {'chrom': 'chr1', 'pos': 12345, 'alt': 'A', 'ref': 'T', 'refSeq': {'name': 'seq1', 'name2': 'name2_1', 'exonicAlleleFunction': 'func1'}},\n",
    "    {'chrom': 'chr2', 'pos': 67890, 'alt': 'G', 'ref': 'C', 'refSeq': {'name': 'seq2', 'name2': 'name2_2', 'exonicAlleleFunction': 'func2'}},\n",
    "], type=variant_schema)\n",
    "\n",
    "# Optionally, you can create an Arrow Table to store this data\n",
    "arrow_table = pa.table({'variants': sample_variant})\n",
    "\n",
    "print(\"Schema:\", arrow_table.schema)\n",
    "print(\"Data:\", arrow_table.to_pandas())"
   ]
  },
  {
   "cell_type": "code",
   "execution_count": 5,
   "id": "dc3b6958-73e4-4e0b-a296-4aeaba485ae3",
   "metadata": {},
   "outputs": [],
   "source": [
    "table = db.create_table(\"iterable_table\", data=arrow_table, schema=variant_schema)"
   ]
  },
  {
   "cell_type": "code",
   "execution_count": 6,
   "id": "a0191ef5-9fcf-4f0b-9836-6d3233e76b18",
   "metadata": {},
   "outputs": [
    {
     "data": {
      "text/plain": [
       "LanceTable(iterable_table)"
      ]
     },
     "execution_count": 6,
     "metadata": {},
     "output_type": "execute_result"
    }
   ],
   "source": [
    "table"
   ]
  },
  {
   "cell_type": "code",
   "execution_count": 8,
   "id": "03ee1d64-5a54-4706-af3e-71771859ce44",
   "metadata": {},
   "outputs": [],
   "source": [
    "table2 = db.open_table(\"iterable_table\")"
   ]
  },
  {
   "cell_type": "code",
   "execution_count": 9,
   "id": "2ff40c53-081d-43a5-8c7d-b4643aa2fe78",
   "metadata": {},
   "outputs": [
    {
     "ename": "AttributeError",
     "evalue": "'LanceTable' object has no attribute 'where'",
     "output_type": "error",
     "traceback": [
      "\u001b[0;31m---------------------------------------------------------------------------\u001b[0m",
      "\u001b[0;31mAttributeError\u001b[0m                            Traceback (most recent call last)",
      "Cell \u001b[0;32mIn[9], line 1\u001b[0m\n\u001b[0;32m----> 1\u001b[0m \u001b[43mtable2\u001b[49m\u001b[38;5;241;43m.\u001b[39;49m\u001b[43mwhere\u001b[49m(\u001b[38;5;124m\"\u001b[39m\u001b[38;5;124mchrom == \u001b[39m\u001b[38;5;124m'\u001b[39m\u001b[38;5;124mchr1\u001b[39m\u001b[38;5;124m'\u001b[39m\u001b[38;5;124m\"\u001b[39m) \n",
      "\u001b[0;31mAttributeError\u001b[0m: 'LanceTable' object has no attribute 'where'"
     ]
    }
   ],
   "source": [
    "table2.where(\"chrom == 'chr1'\") "
   ]
  },
  {
   "cell_type": "code",
   "execution_count": 10,
   "id": "cdb4ad4d-f2f1-46b2-b2d2-ba6a036a8eeb",
   "metadata": {},
   "outputs": [
    {
     "name": "stdout",
     "output_type": "stream",
     "text": [
      "Collecting duckdb\n",
      "  Downloading duckdb-0.8.1-cp310-cp310-manylinux_2_17_x86_64.manylinux2014_x86_64.whl (15.9 MB)\n",
      "\u001b[2K     \u001b[38;2;114;156;31m━━━━━━━━━━━━━━━━━━━━━━━━━━━━━━━━━━━━━━━━\u001b[0m \u001b[32m15.9/15.9 MB\u001b[0m \u001b[31m6.7 MB/s\u001b[0m eta \u001b[36m0:00:00\u001b[0mm eta \u001b[36m0:00:01\u001b[0m[36m0:00:01\u001b[0m\n",
      "\u001b[?25hInstalling collected packages: duckdb\n",
      "Successfully installed duckdb-0.8.1\n"
     ]
    }
   ],
   "source": [
    "!pip install duckdb"
   ]
  },
  {
   "cell_type": "code",
   "execution_count": null,
   "id": "9d526959-3a9b-4497-afd6-b63e9393a703",
   "metadata": {},
   "outputs": [],
   "source": []
  }
 ],
 "metadata": {
  "kernelspec": {
   "display_name": "Python 3 (ipykernel)",
   "language": "python",
   "name": "python3"
  },
  "language_info": {
   "codemirror_mode": {
    "name": "ipython",
    "version": 3
   },
   "file_extension": ".py",
   "mimetype": "text/x-python",
   "name": "python",
   "nbconvert_exporter": "python",
   "pygments_lexer": "ipython3",
   "version": "3.10.11"
  }
 },
 "nbformat": 4,
 "nbformat_minor": 5
}
