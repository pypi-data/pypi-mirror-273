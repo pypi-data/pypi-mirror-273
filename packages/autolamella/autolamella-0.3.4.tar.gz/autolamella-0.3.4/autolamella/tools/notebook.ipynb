{
 "cells": [
  {
   "cell_type": "code",
   "execution_count": null,
   "metadata": {},
   "outputs": [],
   "source": [
    "%load_ext autoreload\n",
    "%autoreload 2\n",
    "\n",
    "import os\n",
    "import sys\n",
    "import data\n",
    "import plotly.express as px\n",
    "import pandas   as pd\n"
   ]
  },
  {
   "cell_type": "code",
   "execution_count": null,
   "metadata": {},
   "outputs": [],
   "source": [
    "path = r\"C:\\Users\\lnae0002\\Desktop\\autolamella\\autolamella\\log\\3\"\n",
    "\n",
    "df_sample, df_history, df_shift, df_steps  = data.calculate_statistics_dataframe(path)\n",
    "display(df_shift)"
   ]
  },
  {
   "cell_type": "code",
   "execution_count": null,
   "metadata": {},
   "outputs": [],
   "source": [
    "points = pd.DataFrame(df_shift[\"shift\"].tolist(), columns=[\"x\", \"y\"])\n",
    "points[\"lamella\"] = df_shift[\"lamella\"]\n",
    "fig = px.scatter(points, x=\"x\", y='y', color=\"lamella\")\n",
    "fig.show()"
   ]
  },
  {
   "cell_type": "code",
   "execution_count": null,
   "metadata": {},
   "outputs": [],
   "source": [
    "display(df_steps)\n",
    "fig = px.scatter(df_steps, x=\"step_n\", y=\"timestamp\", color=\"stage\", symbol='lamella')\n",
    "fig.show()\n",
    "\n"
   ]
  },
  {
   "cell_type": "code",
   "execution_count": null,
   "metadata": {},
   "outputs": [],
   "source": [
    "# calculate difference in timestamp between rows\n",
    "df_steps['delta'] = df_steps['timestamp'].diff()\n",
    "\n",
    "display(df_steps)\n",
    "\n",
    "px.bar(df_steps, x=\"lamella\", y=\"delta\", color=\"step\", facet_col=\"stage\")"
   ]
  },
  {
   "cell_type": "code",
   "execution_count": null,
   "metadata": {},
   "outputs": [],
   "source": [
    "fig = px.bar(df_history, x=\"stage\", y=\"duration\", color=\"petname\", barmode=\"group\")\n",
    "\n",
    "fig.show()"
   ]
  },
  {
   "cell_type": "code",
   "execution_count": null,
   "metadata": {},
   "outputs": [],
   "source": [
    "# display(df_history)\n",
    "df_history[\"duration\"].mean()\n",
    "\n",
    "df_sorted = df_history.groupby([\"stage\", \"petname\"]).mean()\n",
    "df_sorted.drop(columns=[\"start\", \"end\"], inplace=True)\n",
    "df_sorted.reset_index(inplace=True)\n",
    "display(df_sorted)\n"
   ]
  },
  {
   "cell_type": "code",
   "execution_count": null,
   "metadata": {},
   "outputs": [],
   "source": [
    "points = pd.DataFrame(df_sample[\"lamella.centre\"].tolist(), columns=[\"x\", \"y\"])\n",
    "points[\"petname\"] = df_history[\"petname\"].unique()\n",
    "display(points)\n",
    "fig = px.scatter(points, x=\"x\", y='y', color=\"petname\")\n",
    "fig.show()"
   ]
  },
  {
   "cell_type": "code",
   "execution_count": null,
   "metadata": {},
   "outputs": [],
   "source": [
    "df_sample[\"petname\"] = df_history[\"petname\"].unique()\n",
    "fig = px.scatter_3d(df_sample, x=\"lamella.x\", y='lamella.y', z='lamella.z', color=\"petname\")\n",
    "fig.show()"
   ]
  },
  {
   "cell_type": "markdown",
   "metadata": {},
   "source": [
    "### SpaceTOMO"
   ]
  },
  {
   "cell_type": "code",
   "execution_count": null,
   "metadata": {},
   "outputs": [],
   "source": [
    "\n",
    "from PIL import Image\n",
    "import tifffile as tff\n",
    "import glob\n",
    "\n",
    "\n",
    "\n",
    "PATH = \"../../../data/spacetomo/imagesTr/\"\n",
    "\n",
    "\n",
    "filenames = glob.glob(PATH + \"*.png\")\n",
    "\n",
    "from pprint import pprint\n",
    "\n",
    "# pprint(filenames)\n",
    "\n",
    "# convert to tiff, save in separate dir   \n",
    "for filename in filenames:\n",
    "    im = Image.open(filename)\n",
    "    im.save(filename.replace(\".png\", \".tif\"))\n"
   ]
  },
  {
   "cell_type": "code",
   "execution_count": null,
   "metadata": {},
   "outputs": [],
   "source": []
  },
  {
   "cell_type": "markdown",
   "metadata": {},
   "source": [
    "### Feature Detection Tools\n",
    "\n"
   ]
  },
  {
   "cell_type": "markdown",
   "metadata": {},
   "source": []
  },
  {
   "cell_type": "code",
   "execution_count": null,
   "metadata": {},
   "outputs": [],
   "source": [
    "%load_ext autoreload\n",
    "%autoreload 2\n",
    "\n",
    "import os\n",
    "import glob\n",
    "import pandas as pd\n",
    "\n",
    "\n",
    "\n",
    "path = \"../../../data/autolamella-paper/model-development/train/serial-liftout/test/\"\n",
    "\n",
    "filenames = sorted(glob.glob(os.path.join(path, \"*.tif*\")))\n",
    "\n",
    "\n",
    "print(df.head())"
   ]
  },
  {
   "cell_type": "code",
   "execution_count": null,
   "metadata": {},
   "outputs": [],
   "source": [
    "df = pd.read_csv(os.path.join(path, \"data.csv\"))\n",
    "\n",
    "display(df.head())\n",
    "\n",
    "filenames = []\n",
    "for fname in df[\"filename\"].values:\n",
    "    filenames += glob.glob(os.path.join(path, f\"*{fname}*\"))\n",
    "\n",
    "print(len(filenames))\n",
    "\n",
    "from pprint import pprint\n",
    "pprint(filenames)\n"
   ]
  },
  {
   "cell_type": "code",
   "execution_count": null,
   "metadata": {},
   "outputs": [],
   "source": [
    "df = pd.read_csv(os.path.join(path, \"data.csv\"))\n",
    "\n",
    "\n",
    "fname = df[\"filename\"].values[0]\n",
    "\n",
    "df_filt = df[df[\"filename\"] == fname]\n",
    "\n",
    "\n",
    "display(df)\n",
    "\n",
    "# drop rows with filename = fname\n",
    "df.drop(df[df[\"filename\"] == fname].index, inplace=True)\n",
    "\n",
    "display(df)"
   ]
  },
  {
   "cell_type": "code",
   "execution_count": null,
   "metadata": {},
   "outputs": [],
   "source": []
  },
  {
   "cell_type": "markdown",
   "metadata": {},
   "source": [
    "### Get / Set API"
   ]
  },
  {
   "cell_type": "code",
   "execution_count": null,
   "metadata": {},
   "outputs": [],
   "source": [
    "%load_ext autoreload\n",
    "%autoreload 2\n",
    "\n",
    "\n",
    "from fibsem import utils, acquire\n",
    "from fibsem.structures import BeamType\n",
    "import matplotlib.pyplot as plt\n",
    "\n",
    "import matplotlib\n",
    "%matplotlib inline\n",
    "\n",
    "microscope, settings = utils.setup_session(debug=True)\n",
    "\n",
    "print('--'*50)\n",
    "microscope.apply_configuration()\n",
    "\n",
    "print('--'*50)\n",
    "eb = microscope.get_beam_system_settings(BeamType.ELECTRON)\n",
    "ib = microscope.get_beam_system_settings(BeamType.ION)\n",
    "\n"
   ]
  },
  {
   "cell_type": "code",
   "execution_count": null,
   "metadata": {},
   "outputs": [],
   "source": []
  },
  {
   "cell_type": "markdown",
   "metadata": {},
   "source": [
    "### Export Milling Protocol"
   ]
  },
  {
   "cell_type": "code",
   "execution_count": null,
   "metadata": {},
   "outputs": [],
   "source": [
    "%load_ext autoreload\n",
    "%autoreload 2\n",
    "\n",
    "\n",
    "from fibsem.structures import BeamType\n",
    "from fibsem import utils, patterning\n",
    "\n",
    "microscope, settings = utils.setup_session(protocol_path=\"../../autolamella/protocol/protocol-serial-liftout.yaml\", debug=True)"
   ]
  },
  {
   "cell_type": "code",
   "execution_count": null,
   "metadata": {},
   "outputs": [],
   "source": [
    "stages = patterning.get_milling_stages(\"trench\", settings.protocol[\"milling\"])"
   ]
  },
  {
   "cell_type": "code",
   "execution_count": null,
   "metadata": {},
   "outputs": [],
   "source": [
    "\n",
    "from pprint import pprint\n",
    "\n",
    "protocol = patterning.get_protocol_from_stages(stages)\n",
    "pprint(protocol)\n",
    "\n",
    "\n",
    "# select file\n",
    "\n",
    "# load protocol\n",
    "\n",
    "# select key\n",
    "\n",
    "# load stages / save stages\n"
   ]
  },
  {
   "cell_type": "markdown",
   "metadata": {},
   "source": [
    "## Depth Anything\n",
    "\n"
   ]
  },
  {
   "cell_type": "code",
   "execution_count": null,
   "metadata": {},
   "outputs": [],
   "source": [
    "from transformers import pipeline\n",
    "from datasets import load_dataset\n",
    "from PIL import Image\n",
    "import requests\n",
    "import numpy as np\n",
    "\n",
    "# load pipe\n",
    "pipe = pipeline(task = \"depth-estimation\", model=\"nielsr/depth-anything-small\", device=0)\n",
    "\n",
    "# load image\n",
    "url = 'http://images.cocodataset.org/val2017/000000039769.jpg'\n",
    "image = Image.open(requests.get(url, stream=True).raw)\n",
    "\n",
    "ds = load_dataset(\"patrickcleeve/autolamella\", \"serial-liftout\", split=\"test\")\n",
    "\n",
    "import random\n",
    "idx = random.randint(0, len(ds)-1)\n",
    "image = Image.fromarray(np.asarray(ds[idx][\"image\"]))\n",
    "mask = np.asarray(ds[idx][\"annotation\"])\n",
    "\n",
    "from fibsem.segmentation.utils import decode_segmap_v2\n",
    "\n",
    "# inference\n",
    "depth = pipe(image)[\"depth\"]\n",
    "\n",
    "import matplotlib.pyplot as plt\n",
    "fig, ax = plt.subplots(1,2, figsize=(10,10))\n",
    "\n",
    "ax[0].imshow(image, cmap=\"gray\")\n",
    "ax[0].imshow(decode_segmap_v2(mask), alpha=0.3)\n",
    "ax[0].set_title(\"image + mask\")\n",
    "# ax[1].imshow(image, cmap=\"gray\")\n",
    "ax[1].imshow(depth, alpha=0.7, cmap=\"turbo\")\n",
    "ax[1].set_title(\"depth\")\n",
    "\n",
    "plt.show()\n",
    "\n",
    "prin"
   ]
  },
  {
   "cell_type": "code",
   "execution_count": null,
   "metadata": {},
   "outputs": [],
   "source": [
    "import numpy as np\n",
    "print(np.min(depth), np.max(depth))"
   ]
  },
  {
   "cell_type": "code",
   "execution_count": null,
   "metadata": {},
   "outputs": [],
   "source": []
  },
  {
   "cell_type": "markdown",
   "metadata": {},
   "source": [
    "## Wedge Milling\n",
    "\n",
    "- Tilt 1deg\n",
    "- mill top rect\n",
    "- Tilt back\n",
    "- Tilt -1deg\n",
    "- mill bottom rect\n",
    "\n"
   ]
  },
  {
   "cell_type": "code",
   "execution_count": null,
   "metadata": {},
   "outputs": [],
   "source": [
    "%load_ext autoreload\n",
    "%autoreload 2\n",
    "\n",
    "\n",
    "from fibsem import utils, acquire, alignment\n",
    "from fibsem.structures import BeamType\n",
    "import matplotlib.pyplot as plt\n",
    "from fibsem.patterning import get_milling_stages\n",
    "from fibsem.structures import FibsemStagePosition\n",
    "\n",
    "\n",
    "microscope, settings = utils.setup_session(protocol_path=\"/home/patrick/github/autolamella/autolamella/protocol/protocol-on-grid.yaml\", debug=True)\n",
    "\n",
    "\n",
    "\n"
   ]
  },
  {
   "cell_type": "code",
   "execution_count": null,
   "metadata": {},
   "outputs": [],
   "source": [
    "stages = get_milling_stages(\"lamella\", settings.protocol[\"milling\"])\n",
    "\n",
    "\n",
    "\n",
    "from pprint import pprint\n",
    "\n",
    "from fibsem.structures import ImageSettings, FibsemImage, FibsemRectangle\n",
    "from fibsem.patterning import FibsemMillingStage, TrenchPattern\n",
    "from fibsem import milling, patterning, alignment\n",
    "from fibsem.microscope import FibsemMicroscope\n",
    "\n",
    "# for stage in stages[:2]:\n",
    "\n",
    "settings.image.beam_type = BeamType.ION\n",
    "settings.image.reduced_area = FibsemRectangle(0.25, 0.25, 0.5, 0.5)\n",
    "ref_image = acquire.acquire_image(microscope, settings.image)\n"
   ]
  },
  {
   "cell_type": "code",
   "execution_count": null,
   "metadata": {},
   "outputs": [],
   "source": [
    "\n",
    "# milling.mill_stages_ui(microscope, stages)\n",
    "for stage in stages[:2]:\n",
    "    milling.mill_stage_with_overtilt(microscope, stage, ref_image, asynch=False)\n"
   ]
  },
  {
   "cell_type": "code",
   "execution_count": null,
   "metadata": {},
   "outputs": [],
   "source": []
  },
  {
   "cell_type": "code",
   "execution_count": null,
   "metadata": {},
   "outputs": [],
   "source": []
  },
  {
   "cell_type": "markdown",
   "metadata": {},
   "source": [
    "### Segmentation Quality\n",
    "\n",
    "Analysis of segmentation quality"
   ]
  },
  {
   "cell_type": "code",
   "execution_count": null,
   "metadata": {},
   "outputs": [],
   "source": [
    "%load_ext autoreload\n",
    "%autoreload 2\n",
    "from fibsem.segmentation.model import load_model\n",
    "from datasets import load_dataset\n",
    "\n",
    "model = load_model(\"autolamella-liftout-20240107.pt\")\n"
   ]
  },
  {
   "cell_type": "code",
   "execution_count": null,
   "metadata": {},
   "outputs": [],
   "source": [
    "ds = load_dataset(\"patrickcleeve/autolamella\", \"liftout\", split=\"test\")"
   ]
  },
  {
   "cell_type": "code",
   "execution_count": null,
   "metadata": {},
   "outputs": [],
   "source": [
    "\n",
    "import matplotlib.pyplot as plt\n",
    "from fibsem.segmentation.utils import decode_segmap_v2\n",
    "import numpy as np\n",
    "import random\n",
    "\n",
    "\n",
    "for i in range(1):\n",
    "    # idx = random.randint(0, len(ds)-1)\n",
    "    image = np.asarray(ds[idx][\"image\"])\n",
    "\n",
    "    mask = np.asarray(ds[idx][\"annotation\"])\n",
    "\n",
    "    # inference\n",
    "    pred, scores = model.inference_v2(image, rgb=False)\n",
    "\n",
    "    fig, ax = plt.subplots(1,2, figsize=(10,10))\n",
    "\n",
    "    ax[0].imshow(image, cmap=\"gray\")\n",
    "    ax[0].imshow(decode_segmap_v2(mask), alpha=0.3)\n",
    "    ax[0].set_title(\"image + mask\")\n",
    "    ax[1].imshow(image, cmap=\"gray\")\n",
    "    ax[1].imshow(decode_segmap_v2(pred[0]), alpha=0.3)\n",
    "    ax[1].set_title(\"image + pred\")\n",
    "\n",
    "    plt.show()\n",
    "\n",
    "    scores = scores.detach().cpu().numpy()\n",
    "\n",
    "    # # plot scores for each class\n",
    "    # fig, ax = plt.subplots(1,scores.shape[1], figsize=(20,5))\n",
    "\n",
    "    # for i in range(scores.shape[1]):\n",
    "    #     ax[i].imshow(scores[0,i], cmap=\"turbo\")\n",
    "    #     ax[i].set_title(f\"class {i}\")\n",
    "    #     # colorbar\n",
    "    #     cbar = plt.colorbar(ax[i].imshow(scores[0,i], cmap=\"turbo\"), ax=ax[i])\n",
    "    #     cbar.set_label('score')\n",
    "        \n",
    "\n",
    "    # plt.show()\n",
    "\n",
    "    # get the max\n",
    "    max_score = np.max(scores, axis=1)\n",
    "    plt.imshow(max_score[0], cmap=\"turbo\")\n",
    "    plt.colorbar(plt.imshow(max_score[0], cmap=\"viridis\"))\n",
    "    plt.show()\n",
    "\n",
    "\n",
    "    # get the unique values in the mask\n",
    "    unique = np.unique(mask)\n",
    "    print(unique)\n",
    "\n",
    "    for u in unique:\n",
    "        print(f\"class {u}:\", np.sum(mask == u))\n",
    "\n",
    "        # get hte mask for the class\n",
    "        labeled_mask = mask == u\n",
    "        predicted_mask = pred[0] == u\n",
    "\n",
    "        # calculate accuracy\n",
    "        accuracy = (predicted_mask == labeled_mask)\n",
    "        print(f\"accuracy: {accuracy}\")\n",
    "\n",
    "        fig, ax = plt.subplots(1,3, figsize=(10,10))\n",
    "        ax[0].imshow(labeled_mask, cmap=\"gray\")\n",
    "        ax[1].imshow(predicted_mask, cmap=\"gray\")\n",
    "        ax[2].imshow(accuracy, cmap=\"gray\")\n",
    "\n",
    "        plt.show()\n",
    "\n",
    "\n",
    "        # calculate iou\n",
    "\n",
    "\n",
    "        intersection = (predicted_mask & labeled_mask)\n",
    "        union = (predicted_mask | labeled_mask)\n",
    "        iou = (intersection / union)\n",
    "        # print(f\"iou: {iou}\")\n",
    "        plt.imshow(iou)\n",
    "        plt.show()\n",
    "        print(f\"iou: {np.mean(iou)}\")\n",
    "\n",
    "\n",
    "\n",
    "        # intersection = (predicted_mask & labeled_mask).float().sum()\n",
    "        # dice_coefficient = (2. * intersection) / (predicted_mask.sum() + labeled_mask.sum())\n",
    "\n",
    "        # print(f\"dice_coefficient: {dice_coefficient}\")\n",
    "\n",
    "        # import torch.nn.functional as F\n",
    "        # loss = F.binary_cross_entropy(predicted_mask, labeled_mask)\n",
    "        # print(f\"loss: {loss}\")\n",
    "\n",
    "\n",
    "\n",
    "    # plot, mask, pred\n",
    "    fig, ax = plt.subplots(1,3, figsize=(15,5))\n",
    "\n",
    "    ax[0].imshow(mask[0], cmap=\"gray\")\n",
    "    ax[0].set_title(\"mask\")\n",
    "    ax[1].imshow(pred[0], cmap=\"gray\")\n",
    "    ax[1].set_title(\"pred\")\n",
    "\n",
    "\n",
    "    plt.show()\n",
    "\n"
   ]
  },
  {
   "cell_type": "code",
   "execution_count": null,
   "metadata": {},
   "outputs": [],
   "source": []
  },
  {
   "cell_type": "markdown",
   "metadata": {},
   "source": [
    "## Serial Liftout - Landing "
   ]
  },
  {
   "cell_type": "code",
   "execution_count": null,
   "metadata": {},
   "outputs": [],
   "source": [
    "%load_ext autoreload\n",
    "%autoreload 2\n",
    "\n",
    "\n",
    "from fibsem import utils\n",
    "from autolamella.workflows import serial\n",
    "\n",
    "\n",
    "\n",
    "from fibsem.structures import BeamType, FibsemImage\n",
    "\n",
    "\n",
    "image1 = FibsemImage.load(\"data/00277.tif\")\n",
    "image2 = FibsemImage.load(\"data/00324.tif\")\n",
    "image3 = FibsemImage.load(\"data/00350.tif\")\n",
    "\n",
    "\n",
    "# rotate images by 180\n",
    "\n",
    "import numpy as np\n",
    "\n",
    "# image1.data = np.rot90(image1.data, 2)\n",
    "# image2.data = np.rot90(image2.data, 2)\n",
    "# image3.data = np.rot90(image3.data, 2)\n",
    "\n",
    "\n",
    "import matplotlib.pyplot as plt\n",
    "\n",
    "fig, ax = plt.subplots(1,3, figsize=(15,5))\n",
    "\n",
    "ax[0].imshow(image1.data, cmap=\"gray\")\n",
    "ax[1].imshow(image2.data, cmap=\"gray\")\n",
    "ax[2].imshow(image3.data, cmap=\"gray\")\n",
    "\n",
    "plt.show()\n",
    "\n"
   ]
  },
  {
   "cell_type": "code",
   "execution_count": null,
   "metadata": {},
   "outputs": [],
   "source": [
    "IMAGE_PATH = \"/home/patrick/github/data/autolamella-paper/model-development/train/serial-liftout/train\"\n",
    "LABEL_PATH = \"/home/patrick/github/data/autolamella-paper/model-development/train/serial-liftout/train/labels\"\n",
    "\n",
    "FNAME = \"00324.tif\"\n",
    "FNAME = \"00277.tif\"\n",
    "FNAME = \"00350.tif\"\n",
    "import os\n",
    "\n",
    "image = FibsemImage.load(os.path.join(IMAGE_PATH, FNAME))\n",
    "label = FibsemImage.load(os.path.join(LABEL_PATH, FNAME))\n",
    "\n",
    "import matplotlib.pyplot as plt\n",
    "from fibsem.segmentation.utils import decode_segmap_v2\n",
    "\n",
    "fig, ax = plt.subplots(1,2, figsize=(10,5))\n",
    "\n",
    "ax[0].imshow(image.data, cmap=\"gray\")\n",
    "ax[1].imshow(decode_segmap_v2(label.data), cmap=\"gray\")\n",
    "\n",
    "\n"
   ]
  },
  {
   "cell_type": "code",
   "execution_count": null,
   "metadata": {},
   "outputs": [],
   "source": [
    "# split the image into half, horizontally\n",
    "\n",
    "from fibsem.detection.detection import (detect_features, plot_detection, \n",
    "LandingGridLeftEdge, LandingGridRightEdge, \n",
    "VolumeBlockBottomLeftCorner, VolumeBlockBottomRightCorner, VolumeBlockTopRightCorner)\n",
    "from fibsem.structures import Point\n",
    "\n",
    "\n",
    "FNAMES  = [\"00324.tif\", \"00277.tif\", \"00350.tif\"]\n",
    "\n",
    "from fibsem.segmentation.model import load_model\n",
    "model = load_model(\"autolamella-serial-liftout-20240107.pt\")\n",
    "\n",
    "for fname in FNAMES:\n",
    "\n",
    "    image = FibsemImage.load(os.path.join(IMAGE_PATH, fname))\n",
    "    label = FibsemImage.load(os.path.join(LABEL_PATH, fname))\n",
    "    mask = label.data\n",
    "    # plt.imshow(decode_segmap_v2(mask))\n",
    "    # plt.show()\n",
    "\n",
    "    # inference\n",
    "    det = detect_features(\n",
    "        image=image,\n",
    "        model=model,\n",
    "        features=[\n",
    "            VolumeBlockBottomLeftCorner(), VolumeBlockBottomRightCorner(), \n",
    "            LandingGridLeftEdge(), LandingGridRightEdge()]\n",
    "    )\n",
    "\n",
    "    plot_detection(det)\n",
    "\n",
    "    # det = detect_features_v2(img = None, mask=mask, features=[LandingGridLeftEdge(), LandingGridRightEdge()])\n",
    "\n",
    "\n",
    "    # # plot\n",
    "    # plt.imshow(image.data, cmap=\"gray\")\n",
    "    # plt.imshow(decode_segmap_v2(mask), alpha=0.3)\n",
    "    # for d in det:\n",
    "    #     plt.plot(d.px.x, d.px.y, 'ro')\n",
    "    # plt.show()\n",
    "\n",
    "\n"
   ]
  },
  {
   "cell_type": "code",
   "execution_count": null,
   "metadata": {},
   "outputs": [],
   "source": []
  }
 ],
 "metadata": {
  "kernelspec": {
   "display_name": "Python 3",
   "language": "python",
   "name": "python3"
  },
  "language_info": {
   "codemirror_mode": {
    "name": "ipython",
    "version": 3
   },
   "file_extension": ".py",
   "mimetype": "text/x-python",
   "name": "python",
   "nbconvert_exporter": "python",
   "pygments_lexer": "ipython3",
   "version": "3.9.18"
  },
  "orig_nbformat": 4
 },
 "nbformat": 4,
 "nbformat_minor": 2
}
